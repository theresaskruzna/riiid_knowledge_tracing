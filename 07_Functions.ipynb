{
  "nbformat": 4,
  "nbformat_minor": 0,
  "metadata": {
    "colab": {
      "provenance": [],
      "toc_visible": true,
      "authorship_tag": "ABX9TyODID2hxth2M03xE3tXs6Kp",
      "include_colab_link": true
    },
    "kernelspec": {
      "name": "python3",
      "display_name": "Python 3"
    },
    "language_info": {
      "name": "python"
    }
  },
  "cells": [
    {
      "cell_type": "markdown",
      "metadata": {
        "id": "view-in-github",
        "colab_type": "text"
      },
      "source": [
        "<a href=\"https://colab.research.google.com/github/theresaskruzna/riiid_knowledge_tracing/blob/main/07_Functions.ipynb\" target=\"_parent\"><img src=\"https://colab.research.google.com/assets/colab-badge.svg\" alt=\"Open In Colab\"/></a>"
      ]
    },
    {
      "cell_type": "markdown",
      "source": [
        "# System"
      ],
      "metadata": {
        "id": "8MqbQPgT3LR6"
      }
    },
    {
      "cell_type": "markdown",
      "source": [
        "## Check memory usage"
      ],
      "metadata": {
        "id": "d2fYTnAg3pTw"
      }
    },
    {
      "cell_type": "code",
      "execution_count": null,
      "metadata": {
        "id": "jA3kVolu3Bqz"
      },
      "outputs": [],
      "source": [
        "def memory_usage(df):\n",
        "    return f\"{df.memory_usage(deep=True).sum() / 1024 ** 2:.2f} MB\""
      ]
    },
    {
      "cell_type": "markdown",
      "source": [
        "# Visualisations"
      ],
      "metadata": {
        "id": "8RzRGrtQ3b2l"
      }
    },
    {
      "cell_type": "markdown",
      "source": [
        "## Histogram"
      ],
      "metadata": {
        "id": "jEjRAn_j3hh2"
      }
    },
    {
      "cell_type": "code",
      "source": [
        "def plot_histogram(data, column, bins=None, hue=None, title=None):\n",
        "    \"\"\"\n",
        "    Creates a simple histogram for a specified column.\n",
        "\n",
        "    Parameters:\n",
        "    - data: Pandas DataFrame\n",
        "    - column: Column name to plot\n",
        "    - bins: Optional number of bins (none/default uses seaborn's auto bin selection)\n",
        "    - hue: Optional categorical column for grouping\n",
        "    - title: Optional plot title\n",
        "    \"\"\"\n",
        "    plt.figure(figsize=(8, 5)) # Create a 'canvas' to draw the plot onto\n",
        "    # plt.figure(figsize=figsize) - alternate code if parameter given in function call\n",
        "    sns.histplot(data=data, x=column, bins=bins, hue=hue, kde=True) # create histogram\n",
        "    # df, column, number of bins, split into categories if provided, line on top of the histogram bars\n",
        "\n",
        "    # Custom labels and title\n",
        "    plt.xlabel(column) # horizontal line label\n",
        "    # plt.xlabel(xlabel if xlabel else column) - alternate code to add label\n",
        "    plt.ylabel(\"Count\") # vertical line label\n",
        "    if title:\n",
        "        plt.title(title) # add title to plot if provided in function call\n",
        "\n",
        "    plt.show() # display plot\n",
        "\n",
        "# Example usage:\n",
        "# plot_histogram(df, 'column_name', bins=20, hue='category_column', title='Histogram')\n",
        "\n",
        "# additional parameters:\n",
        "# color='blue', xlabel=None, ylabel=\"Count\", figsize=(10, 6), kde=False)\n",
        "\"\"\"\n",
        "    Parameters:\n",
        "    - color: Optional color for the histogram bars.\n",
        "    - xlabel: Optional x-axis label (default uses column name).\n",
        "    - ylabel: Y-axis label (default=\"Count\").\n",
        "    - figsize: Tuple defining the figure size (default=(8,5)).\n",
        "    - kde: Boolean to include KDE curve overlay (default=True).\n",
        "    \"\"\""
      ],
      "metadata": {
        "id": "JTNhZZPtkaTI"
      },
      "execution_count": null,
      "outputs": []
    },
    {
      "cell_type": "markdown",
      "source": [
        "## KDE plot"
      ],
      "metadata": {
        "id": "q3-w9LXu3tbS"
      }
    },
    {
      "cell_type": "code",
      "source": [
        "def plot_kde(data, column, hue=None, title=None):\n",
        "    \"\"\"\n",
        "    Creates a simple KDE plot for a specified column.\n",
        "\n",
        "    Parameters:\n",
        "    - data: Pandas DataFrame\n",
        "    - column: Column name to plot\n",
        "    - hue: Optional categorical column for grouping\n",
        "    - title: Optional plot title\n",
        "    \"\"\"\n",
        "    plt.figure(figsize=(8, 5)) # Create a 'canvas' to draw the plot onto\n",
        "    # plt.figure(figsize=figsize) - alternate code if parameter given in function call\n",
        "    sns.kdeplot(data=data, x=column, hue=hue, fill=True) # create KDE plot\n",
        "    # df, column, split into categories if provided, fill area under line with colour\n",
        "\n",
        "    # Custom labels and title\n",
        "    plt.xlabel(column) # horizontal line label\n",
        "    # plt.xlabel(xlabel if xlabel else column) - alternate code to add label\n",
        "    plt.ylabel(\"Density\") # vertical line label\n",
        "    if title:\n",
        "        plt.title(title) # add title to plot if provided in function call\n",
        "\n",
        "    plt.show() # display plot\n",
        "\n",
        "# Example usage:\n",
        "# plot_kde(df, 'column_name', hue='category_column', title='KDE Plot')\n",
        "\n",
        "# additional parameters:\n",
        "# bw_adjust=1, color=None, xlabel=None, ylabel=\"Density\", figsize=(8, 5)\n",
        " \"\"\"\n",
        "    Parameters:\n",
        "    - bw_adjust: Bandwidth adjustment factor (default=1).\n",
        "    - color: Optional color for the KDE curve.\n",
        "    - xlabel: Optional x-axis label.\n",
        "    - ylabel: Y-axis label (default=\"Density\").\n",
        "    - figsize: Tuple defining the figure size (default=(8,5)).\n",
        "    \"\"\""
      ],
      "metadata": {
        "id": "_JrEzQ6VmwQL"
      },
      "execution_count": null,
      "outputs": []
    },
    {
      "cell_type": "markdown",
      "source": [
        "## Bar plot"
      ],
      "metadata": {
        "id": "1snoOT6-30zJ"
      }
    },
    {
      "cell_type": "code",
      "source": [
        "def plot_bar(data, x, y=None, title=None):\n",
        "    \"\"\"\n",
        "    Creates a customizable bar plot.\n",
        "\n",
        "    Parameters:\n",
        "    - data: Pandas DataFrame containing the data.\n",
        "    - x: Column name for the x-axis categories.\n",
        "    - y: Optional column name for the y-axis values (if None, counts are used).\n",
        "    - hue: Optional column for grouping (creates grouped bars).\n",
        "    - color: Optional color for the bars.\n",
        "    - title: Optional title for the plot.\n",
        "    - xlabel: Optional x-axis label (default uses x column name).\n",
        "    - ylabel: Optional y-axis label (default uses y column name or \"Count\").\n",
        "    - figsize: Tuple defining the figure size (default=(8,5)).\n",
        "    \"\"\"\n",
        "    plt.figure(figsize=(8, 5)) # Create a 'canvas' to draw the plot onto\n",
        "    # plt.figure(figsize=figsize) - alternate code if parameter given in function call\n",
        "\n",
        "    # Create either a value plot or count plot\n",
        "    # If y is provided, plot values; otherwise plot counts\n",
        "    if y:\n",
        "        sns.barplot(data=data, x=x, y=y, hue=hue, color=color)\n",
        "    else:\n",
        "        sns.countplot(data=data, x=x, hue=hue, color=color)\n",
        "\n",
        "    # Custom labels and title\n",
        "    plt.xlabel(x) # horizontal line label\n",
        "    # plt.xlabel(xlabel if xlabel else x) - alternate code to add label\n",
        "    plt.ylabel(y if y else \"Count\") # vertical line label\n",
        "    if title:\n",
        "        plt.title(title) # add title to plot if provided in function call\n",
        "\n",
        "    # Rotate x-axis labels if there are many categories to prevent label overlap\n",
        "    plt.xticks(rotation=45, ha='right')\n",
        "    plt.tight_layout() # adjusts the plot padding to ensure all labels fit within the figure without being cut off\n",
        "\n",
        "    plt.show() # display plot\n",
        "\n",
        "# Example usage:\n",
        "# plot_bar(df, x='category_column')                       # Simple count plot\n",
        "# plot_bar(df, x='category_column', y='value_column')     # Value-based bar plot\n",
        "# plot_bar(df, x='category_column', hue='group_column')   # Grouped bar plot\n",
        "\n",
        "# additional parameters:\n",
        "# hue=None, color=None, xlabel=None, ylabel=None, figsize=(8, 5)\n",
        "    \"\"\"\n",
        "    Parameters:\n",
        "    - hue: Optional column for grouping (creates grouped bars).\n",
        "    - color: Optional color for the bars.\n",
        "    - xlabel: Optional x-axis label (default uses x column name).\n",
        "    - ylabel: Optional y-axis label (default uses y column name or \"Count\").\n",
        "    - figsize: Tuple defining the figure size (default=(8,5)).\n",
        "    \"\"\""
      ],
      "metadata": {
        "id": "m4LwJag1ka4n"
      },
      "execution_count": null,
      "outputs": []
    },
    {
      "cell_type": "markdown",
      "source": [
        "## Box plot"
      ],
      "metadata": {
        "id": "Cig_qnRe35CP"
      }
    },
    {
      "cell_type": "code",
      "source": [
        "def plot_boxplot(data, x=None, y=None, hue=None, color=None, title=None, horizontal=False):\n",
        "    \"\"\"\n",
        "    Creates a customizable box plot.\n",
        "\n",
        "    Parameters:\n",
        "    - data: Pandas DataFrame containing the data.\n",
        "    - x: Column name for the x-axis (categorical).\n",
        "    - y: Column name for the y-axis (numeric).\n",
        "    - hue: Optional column for additional grouping.\n",
        "    - color: Optional color for the boxes.\n",
        "    - title: Optional title for the plot.\n",
        "    - horizontal: Boolean to plot horizontally (default is vertical).\n",
        "    \"\"\"\n",
        "    # Set orientation\n",
        "    orient = 'h' if horizontal else 'v'\n",
        "\n",
        "    plt.figure(figsize=(8, 5)) # Create a 'canvas' to draw the plot onto\n",
        "    # plt.figure(figsize=figsize) - alternate code if parameter given in function call\n",
        "    sns.boxplot(data=data, x=x, y=y, hue=hue, orient=orient) # Create the boxplot\n",
        "\n",
        "    # Custom labels and title\n",
        "    if horizontal:\n",
        "        plt.xlabel(y)  # In horizontal orientation, y values are on x-axis\n",
        "        plt.ylabel(x)  # In horizontal orientation, x values are on y-axis\n",
        "    else:\n",
        "        plt.xlabel(x)\n",
        "        plt.ylabel(y)\n",
        "        # In vertical orientation, x values are on x-axis, y values are on y-axis\n",
        "    if title:\n",
        "        plt.title(title) # add title to plot if provided in function call\n",
        "\n",
        "    # Handle label rotation for vertical plots with many categories\n",
        "    if orient == 'v' and x is not None:\n",
        "        plt.xticks(rotation=45, ha='right')\n",
        "\n",
        "    plt.tight_layout() # adjusts the plot padding to ensure all labels fit within the figure without being cut off\n",
        "    plt.show() # display plot\n",
        "\n",
        "# Example usage:\n",
        "# plot_boxplot(df, x='category', y='value')                  # Basic vertical boxplot\n",
        "# plot_boxplot(df, x='value', y='category', orient='h')      # Horizontal boxplot\n",
        "# plot_boxplot(df, x='category', y='value', hue='group')     # Grouped boxplot\n",
        "\n",
        "    # additional parameters\n",
        "    # xlabel=None, ylabel=None, figsize=(8, 5), orient='v', showfliers=True, palette=None\n",
        "    \"\"\"\n",
        "    Parameters:\n",
        "    - color: Optional color for the boxes.\n",
        "    - xlabel: Optional x-axis label.\n",
        "    - ylabel: Optional y-axis label.\n",
        "    - figsize: Tuple defining the figure size (default=(8,5)).\n",
        "    - orient: Orientation of the plot ('v' for vertical, 'h' for horizontal).\n",
        "    - showfliers: Whether to show outlier points (default=True).\n",
        "    - palette: Color palette for groups when hue is specified.\n",
        "    \"\"\""
      ],
      "metadata": {
        "id": "5j2ion8rS8T_"
      },
      "execution_count": null,
      "outputs": []
    },
    {
      "cell_type": "markdown",
      "source": [
        "## Scatter plot"
      ],
      "metadata": {
        "id": "fDWMPklt39uP"
      }
    },
    {
      "cell_type": "code",
      "source": [
        "def plot_scatterplot(data, x, y, hue=None, title=None):\n",
        "    \"\"\"\n",
        "    Creates a customizable scatter plot.\n",
        "\n",
        "    Parameters:\n",
        "    - data: Pandas DataFrame containing the data.\n",
        "    - x: Column name for the x-axis.\n",
        "    - y: Column name for the y-axis.\n",
        "    - hue: Optional column for color grouping.\n",
        "    - title: Optional title for the plot.\n",
        "    \"\"\"\n",
        "    plt.figure(figsize=(8, 5)) # Create a 'canvas' to draw the plot onto\n",
        "    # plt.figure(figsize=figsize) - alternate code if parameter given in function call\n",
        "\n",
        "    # Create the scatter plot\n",
        "    sns.scatterplot(data=data, x=x, y=y, hue=hue)\n",
        "\n",
        "    # Custom labels and title\n",
        "    plt.xlabel(x) # horizontal line label\n",
        "    # plt.xlabel(xlabel if xlabel else x) - alternate code to add label\n",
        "    plt.ylabel(y) # vertical line label\n",
        "    # plt.ylabel(ylabel if ylabel else y) - alternate code to add label\n",
        "    if title:\n",
        "        plt.title(title) # add title to plot if provided in function call\n",
        "\n",
        "    plt.tight_layout() # adjusts the plot padding to ensure all labels fit within the figure without being cut off\n",
        "    plt.show() # display plot\n",
        "\n",
        "# Example usage:\n",
        "# plot_scatterplot(df, x='age', y='salary')                      # Basic scatter plot\n",
        "# plot_scatterplot(df, x='age', y='salary', hue='department')    # Colored by group\n",
        "# plot_scatterplot(df, x='age', y='salary', size='experience')   # Sized by variable\n",
        "\n",
        "    # additional parameters\n",
        "    # size=None, style=None, color=None, alpha=0.7, xlabel=None, ylabel=None, figsize=(8, 6), legend='auto', palette=None\n",
        "    \"\"\"\n",
        "    Parameters:\n",
        "    - size: Optional column for point size variation.\n",
        "    - style: Optional column for point style variation.\n",
        "    - color: Optional fixed color for all points (ignored if hue is specified).\n",
        "    - alpha: Transparency level of points (0 to 1).\n",
        "    - xlabel: Optional x-axis label (default uses x column name).\n",
        "    - ylabel: Optional y-axis label (default uses y column name).\n",
        "    - figsize: Tuple defining the figure size (default=(8,6)).\n",
        "    - legend: Legend position ('auto', 'brief', 'full', or False).\n",
        "    - palette: Color palette for groups when hue is specified.\n",
        "    \"\"\""
      ],
      "metadata": {
        "id": "dfPANHQUS_5J"
      },
      "execution_count": null,
      "outputs": []
    },
    {
      "cell_type": "markdown",
      "source": [
        "## Heat map"
      ],
      "metadata": {
        "id": "RU8fWpaK4BQk"
      }
    },
    {
      "cell_type": "code",
      "source": [
        "def plot_heatmap(data, annot=True, cmap=\"viridis\", title=None, xlabel=None, ylabel=None):\n",
        "    \"\"\"\n",
        "    Creates a customizable heatmap.\n",
        "\n",
        "    Parameters:\n",
        "    - data: DataFrame or 2D array to visualize as heatmap.\n",
        "    - annot: Whether to annotate cells with values (default=True).\n",
        "    - cmap: Colormap name or object (default=\"viridis\").\n",
        "    - title: Optional title for the plot.\n",
        "    - xlabel: Optional x-axis label.\n",
        "    - ylabel: Optional y-axis label.\n",
        "    \"\"\"\n",
        "    plt.figure(figsize=(8, 5)) # Create a 'canvas' to draw the plot onto\n",
        "    # plt.figure(figsize=figsize) - alternate code if parameter given in function call\n",
        "\n",
        "    # Create the heatmap\n",
        "    heatmap = sns.heatmap(data, annot=annot, cmap=cmap)\n",
        "\n",
        "    # Custom labels and title\n",
        "    if xlabel:\n",
        "        plt.xlabel(xlabel) # horizontal line label\n",
        "    if ylabel:\n",
        "        plt.ylabel(ylabel) # vertical line label\n",
        "    if title:\n",
        "        plt.title(title) # add title to plot if provided in function call\n",
        "\n",
        "    plt.tight_layout() # adjusts the plot padding to ensure all labels fit within the figure without being cut off\n",
        "    plt.show() # display plot\n",
        "\n",
        "    return heatmap # return the heatmap object for further customization if needed\n",
        "\n",
        "# Example usage:\n",
        "# plot_heatmap(df.corr())                             # Correlation heatmap\n",
        "# plot_heatmap(pivot_table, cmap=\"YlOrRd\", fmt=\".0f\") # Custom colored heatmap\n",
        "# mask = np.triu(np.ones_like(df.corr(), dtype=bool)) # Upper triangle mask\n",
        "# plot_heatmap(df.corr(), mask=mask, cmap=\"coolwarm\") # Masked heatmap\n",
        "\n",
        "    # additional parameters\n",
        "    # center=None, robust=False, mask=None, figsize=(10, 8), vmin=None, vmax=None, fmt=\".2f\", linewidths=0, cbar=True\n",
        "    \"\"\"\n",
        "    Parameters:\n",
        "    - center: Value to center the colormap at (useful for diverging data).\n",
        "    - robust: If True, compute colormap bounds from robust percentiles.\n",
        "    - mask: Boolean array or DataFrame to mask cells (True = hidden).\n",
        "    - figsize: Tuple defining the figure size (default=(10,8)).\n",
        "    - vmin, vmax: Limits for the colormap.\n",
        "    - fmt: String formatting for annotations.\n",
        "    - linewidths: Width of lines between cells.\n",
        "    - cbar: Whether to draw a colorbar.\n",
        "    \"\"\""
      ],
      "metadata": {
        "id": "OiZJ-JVWScrb"
      },
      "execution_count": null,
      "outputs": []
    }
  ]
}