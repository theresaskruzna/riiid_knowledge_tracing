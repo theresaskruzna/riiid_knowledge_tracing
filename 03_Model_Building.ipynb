{
  "nbformat": 4,
  "nbformat_minor": 0,
  "metadata": {
    "colab": {
      "provenance": [],
      "authorship_tag": "ABX9TyP2yGuV3a/cfq7TqEUFvj6D",
      "include_colab_link": true
    },
    "kernelspec": {
      "name": "python3",
      "display_name": "Python 3"
    },
    "language_info": {
      "name": "python"
    }
  },
  "cells": [
    {
      "cell_type": "markdown",
      "metadata": {
        "id": "view-in-github",
        "colab_type": "text"
      },
      "source": [
        "<a href=\"https://colab.research.google.com/github/theresaskruzna/riiid_knowledge_tracing/blob/main/03_Model_Building.ipynb\" target=\"_parent\"><img src=\"https://colab.research.google.com/assets/colab-badge.svg\" alt=\"Open In Colab\"/></a>"
      ]
    },
    {
      "cell_type": "code",
      "execution_count": null,
      "metadata": {
        "id": "fNbTad_dHiz_"
      },
      "outputs": [],
      "source": [
        "import numpy as np\n",
        "import tensorflow as tf\n",
        "from tensorflow.keras.models import Sequential\n",
        "from tensorflow.keras.layers import LSTM, Dense"
      ]
    },
    {
      "cell_type": "code",
      "source": [
        "def sequential_lstm_model(input_shape, hidden_units=128):\n",
        "    model = Sequential([\n",
        "        # First LSTM layer with return sequences for stacking\n",
        "        LSTM(hidden_units, return_sequences=True, input_shape=input_shape),\n",
        "        Dropout(0.2),\n",
        "\n",
        "        # Second LSTM layer without return sequences for final output\n",
        "        LSTM(hidden_units),\n",
        "        Dropout(0.2),\n",
        "\n",
        "        # Output layer\n",
        "        Dense(1, activation='sigmoid', kernel_regularizer=tf.keras.regularizers.l2(0.01))\n",
        "    ])\n",
        "\n",
        "    model.compile(\n",
        "        optimizer='adam',\n",
        "        loss='binary_crossentropy',\n",
        "        metrics=['accuracy', tf.keras.metrics.AUC()]\n",
        "    )\n",
        "\n",
        "    return model"
      ],
      "metadata": {
        "id": "mv3cPf8fgF2Y"
      },
      "execution_count": null,
      "outputs": []
    }
  ]
}