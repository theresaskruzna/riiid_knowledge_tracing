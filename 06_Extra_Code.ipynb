{
  "nbformat": 4,
  "nbformat_minor": 0,
  "metadata": {
    "colab": {
      "provenance": [],
      "toc_visible": true,
      "authorship_tag": "ABX9TyO9+OSCy2/lLgT8QiHBdfmV",
      "include_colab_link": true
    },
    "kernelspec": {
      "name": "python3",
      "display_name": "Python 3"
    },
    "language_info": {
      "name": "python"
    }
  },
  "cells": [
    {
      "cell_type": "markdown",
      "metadata": {
        "id": "view-in-github",
        "colab_type": "text"
      },
      "source": [
        "<a href=\"https://colab.research.google.com/github/theresaskruzna/riiid_knowledge_tracing/blob/main/06_Extra_Code.ipynb\" target=\"_parent\"><img src=\"https://colab.research.google.com/assets/colab-badge.svg\" alt=\"Open In Colab\"/></a>"
      ]
    },
    {
      "cell_type": "markdown",
      "source": [
        "# Load original data"
      ],
      "metadata": {
        "id": "H5Q_pXMn5fxL"
      }
    },
    {
      "cell_type": "code",
      "execution_count": null,
      "metadata": {
        "id": "0EcstOpw5cBS"
      },
      "outputs": [],
      "source": [
        "%%time\n",
        "\n",
        "dtypes = {\n",
        "    \"row_id\": \"int32\",\n",
        "    \"timestamp\": \"int32\",\n",
        "    \"user_id\": \"int32\",\n",
        "    \"content_id\": \"int16\",\n",
        "    \"content_type_id\": \"boolean\",\n",
        "    \"task_container_id\": \"int16\",\n",
        "    \"user_answer\": \"int8\",\n",
        "    \"answered_correctly\": \"int8\",\n",
        "    \"prior_question_elapsed_time\": \"float32\",\n",
        "    \"prior_question_had_explanation\": \"boolean\"\n",
        "}\n",
        "\n",
        "data = pd.read_csv(\"riiid_data/train.csv\", dtype=dtypes)\n",
        "\n",
        "# Convert to boolean after loading\n",
        "data['user_answer'] = data['user_answer'] == 1\n",
        "data['answered_correctly'] = data['answered_correctly'] == 1\n",
        "\n",
        "print(\"Train size:\", data.shape)"
      ]
    },
    {
      "cell_type": "code",
      "source": [
        "!pip install datatable\n",
        "import datatable as dt"
      ],
      "metadata": {
        "id": "jX-u7mUe5p5Q"
      },
      "execution_count": null,
      "outputs": []
    },
    {
      "cell_type": "code",
      "source": [
        "# First time processing:\n",
        "data = dt.fread(\"riiid_data/train.csv\").to_pandas()\n",
        "data.to_pickle(\"riiid_train.pkl.gzip\")"
      ],
      "metadata": {
        "id": "QadMokpj5ui3"
      },
      "execution_count": null,
      "outputs": []
    },
    {
      "cell_type": "code",
      "source": [
        "# In subsequent sessions:\n",
        "data = pd.read_pickle(\"riiid_train.pkl.gzip\")  # Much faster loading"
      ],
      "metadata": {
        "id": "-zDf49Uy5w6u"
      },
      "execution_count": null,
      "outputs": []
    }
  ]
}