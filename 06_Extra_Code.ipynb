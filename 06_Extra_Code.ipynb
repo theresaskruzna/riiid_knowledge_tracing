{
  "nbformat": 4,
  "nbformat_minor": 0,
  "metadata": {
    "colab": {
      "provenance": [],
      "toc_visible": true,
      "authorship_tag": "ABX9TyMfVxEu3szVWFgO3h910tEp",
      "include_colab_link": true
    },
    "kernelspec": {
      "name": "python3",
      "display_name": "Python 3"
    },
    "language_info": {
      "name": "python"
    }
  },
  "cells": [
    {
      "cell_type": "markdown",
      "metadata": {
        "id": "view-in-github",
        "colab_type": "text"
      },
      "source": [
        "<a href=\"https://colab.research.google.com/github/theresaskruzna/riiid_knowledge_tracing/blob/main/06_Extra_Code.ipynb\" target=\"_parent\"><img src=\"https://colab.research.google.com/assets/colab-badge.svg\" alt=\"Open In Colab\"/></a>"
      ]
    },
    {
      "cell_type": "markdown",
      "source": [
        "# Load original data"
      ],
      "metadata": {
        "id": "H5Q_pXMn5fxL"
      }
    },
    {
      "cell_type": "code",
      "execution_count": null,
      "metadata": {
        "id": "0EcstOpw5cBS"
      },
      "outputs": [],
      "source": [
        "%%time\n",
        "\n",
        "dtypes = {\n",
        "    \"row_id\": \"int32\",\n",
        "    \"timestamp\": \"int32\",\n",
        "    \"user_id\": \"int32\",\n",
        "    \"content_id\": \"int16\",\n",
        "    \"content_type_id\": \"boolean\",\n",
        "    \"task_container_id\": \"int16\",\n",
        "    \"user_answer\": \"int8\",\n",
        "    \"answered_correctly\": \"int8\",\n",
        "    \"prior_question_elapsed_time\": \"float32\",\n",
        "    \"prior_question_had_explanation\": \"boolean\"\n",
        "}\n",
        "\n",
        "data = pd.read_csv(\"riiid_data/train.csv\", dtype=dtypes)\n",
        "\n",
        "# Convert to boolean after loading\n",
        "data['user_answer'] = data['user_answer'] == 1\n",
        "data['answered_correctly'] = data['answered_correctly'] == 1\n",
        "\n",
        "print(\"Train size:\", data.shape)"
      ]
    },
    {
      "cell_type": "code",
      "source": [
        "!pip install datatable\n",
        "import datatable as dt"
      ],
      "metadata": {
        "id": "jX-u7mUe5p5Q"
      },
      "execution_count": null,
      "outputs": []
    },
    {
      "cell_type": "code",
      "source": [
        "# First time processing:\n",
        "data = dt.fread(\"riiid_data/train.csv\").to_pandas()\n",
        "data.to_pickle(\"riiid_train.pkl.gzip\")"
      ],
      "metadata": {
        "id": "QadMokpj5ui3"
      },
      "execution_count": null,
      "outputs": []
    },
    {
      "cell_type": "code",
      "source": [
        "# In subsequent sessions:\n",
        "data = pd.read_pickle(\"riiid_train.pkl.gzip\")  # Much faster loading"
      ],
      "metadata": {
        "id": "-zDf49Uy5w6u"
      },
      "execution_count": null,
      "outputs": []
    },
    {
      "cell_type": "code",
      "source": [
        "import os\n",
        "import subprocess\n",
        "\n",
        "# Define the dataset and file you want\n",
        "dataset = \"rohanrao/riiid-train-data-multiple-formats\"\n",
        "filename = \"riiid_train.pkl.gzip\"\n",
        "\n",
        "# Create the directory to store the file if it doesn't exist\n",
        "os.makedirs(\"kaggle_data\", exist_ok=True)\n",
        "\n",
        "# Use the kaggle CLI to download just the specific file\n",
        "command = f\"kaggle datasets download {dataset} -f {filename} -p kaggle_data --unzip\"\n",
        "result = subprocess.run(command, shell=True, capture_output=True, text=True)\n",
        "\n",
        "if result.returncode == 0:\n",
        "    filepath = os.path.join(\"kaggle_data\", filename)\n",
        "    print(f\"Successfully downloaded: {filepath}\")\n",
        "    print(f\"File size: {os.path.getsize(filepath) / (1024 * 1024):.2f} MB\")\n",
        "else:\n",
        "    print(\"Error downloading the file:\")\n",
        "    print(result.stderr)"
      ],
      "metadata": {
        "id": "43cowcXnDeYY"
      },
      "execution_count": null,
      "outputs": []
    },
    {
      "cell_type": "code",
      "source": [
        "train_df[['row_id',\n",
        "    'timestamp',\n",
        "    'user_id',\n",
        "    'content_id',\n",
        "    'content_type_id',\n",
        "    'task_container_id',\n",
        "    'user_answer',\n",
        "    'answered_correctly',\n",
        "    'prior_question_elapsed_time',\n",
        "    'prior_question_had_explanation']].describe().T"
      ],
      "metadata": {
        "id": "aqjUnTcjxa51"
      },
      "execution_count": null,
      "outputs": []
    },
    {
      "cell_type": "markdown",
      "source": [
        "Load in batches (chunks)"
      ],
      "metadata": {
        "id": "sfQMPY1Sy7dw"
      }
    },
    {
      "cell_type": "code",
      "source": [
        "# Process the large dataset in chunks\n",
        "chunksize = 1_000_000 # Load 1 million rows at a time\n",
        "df_list = [] # List to store individual chunks\n",
        "\n",
        "for chunk in pd.read_csv(f\"{path}/riiid_train.csv\", chunksize=chunksize, dtype=dtype_mapping):\n",
        "    df_list.append(chunk)\n",
        "\n",
        "# Concatenate all chunks into a single DataFrame\n",
        "train_df = pd.concat(df_list, ignore_index=True)"
      ],
      "metadata": {
        "id": "C8CdmPOJy_oQ"
      },
      "execution_count": null,
      "outputs": []
    },
    {
      "cell_type": "markdown",
      "source": [
        "Drop row_id column"
      ],
      "metadata": {
        "id": "qkbBALRzyplO"
      }
    },
    {
      "cell_type": "code",
      "source": [
        "# Check mememory usage before optimisation\n",
        "def memory_usage(df):\n",
        "    return f\"{df.memory_usage(deep=True).sum() / 1024 ** 2:.2f} MB\"\n",
        "\n",
        "print(f\"Dataset shape: {train_df.shape}\")\n",
        "print(f\"Memory usage before optimisation: {memory_usage(train_df)}\")"
      ],
      "metadata": {
        "id": "9N26IlFtyvE3"
      },
      "execution_count": null,
      "outputs": []
    },
    {
      "cell_type": "code",
      "source": [
        "# Drop the row_id column to save memory\n",
        "train_df.drop('row_id', axis=1, inplace=True) # axis=1 for columns, axis=0 for rows, inplace=True  modifies original df\n",
        "\n",
        "# Check memory usage after dropping row_id\n",
        "print(f\"Memory usage after dropping row_id: {memory_usage(train_df)}\")"
      ],
      "metadata": {
        "id": "oquacwgJy1Y-"
      },
      "execution_count": null,
      "outputs": []
    },
    {
      "cell_type": "markdown",
      "source": [
        "Enable low_memory=True"
      ],
      "metadata": {
        "id": "tydnebH0zFD4"
      }
    },
    {
      "cell_type": "code",
      "source": [
        "train_df = pd.read_csv(f\"{path}/riiid_train.csv\", dtype=dtype_mapping, low_memory=True)"
      ],
      "metadata": {
        "id": "O2qvI8QKzJK3"
      },
      "execution_count": null,
      "outputs": []
    },
    {
      "cell_type": "markdown",
      "source": [
        "# Data exploration"
      ],
      "metadata": {
        "id": "cMWfGGlm4KxX"
      }
    },
    {
      "cell_type": "code",
      "source": [
        "duplicates = train_df.duplicated().sum()\n",
        "print(f'Duplicated values: {duplicates}')"
      ],
      "metadata": {
        "id": "ZRLgQfxBzvjS"
      },
      "execution_count": null,
      "outputs": []
    },
    {
      "cell_type": "code",
      "source": [
        "train['prior_question_had_explanation'] = train['prior_question_had_explanation'].astype('boolean')\n",
        "\n",
        "train.memory_usage(deep=True)"
      ],
      "metadata": {
        "id": "dzBu9XTl2TSt"
      },
      "execution_count": null,
      "outputs": []
    },
    {
      "cell_type": "code",
      "source": [
        "train_df.columns"
      ],
      "metadata": {
        "id": "fDrg0_KlMxGy"
      },
      "execution_count": null,
      "outputs": []
    },
    {
      "cell_type": "code",
      "source": [
        "print(train_df.content_type_id.value_counts())"
      ],
      "metadata": {
        "id": "u6kdQEeUcJ8Y"
      },
      "execution_count": null,
      "outputs": []
    },
    {
      "cell_type": "markdown",
      "source": [
        "# New section"
      ],
      "metadata": {
        "id": "_aKOnfwa4qdI"
      }
    }
  ]
}