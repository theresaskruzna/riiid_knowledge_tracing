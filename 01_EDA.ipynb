{
  "nbformat": 4,
  "nbformat_minor": 0,
  "metadata": {
    "colab": {
      "provenance": [],
      "toc_visible": true,
      "authorship_tag": "ABX9TyOk/b3hMv3qz8HONCr5Np8k",
      "include_colab_link": true
    },
    "kernelspec": {
      "name": "python3",
      "display_name": "Python 3"
    },
    "language_info": {
      "name": "python"
    }
  },
  "cells": [
    {
      "cell_type": "markdown",
      "metadata": {
        "id": "view-in-github",
        "colab_type": "text"
      },
      "source": [
        "<a href=\"https://colab.research.google.com/github/theresaskruzna/riiid_knowledge_tracing/blob/main/01_EDA.ipynb\" target=\"_parent\"><img src=\"https://colab.research.google.com/assets/colab-badge.svg\" alt=\"Open In Colab\"/></a>"
      ]
    },
    {
      "cell_type": "markdown",
      "source": [
        "# Import Libraries"
      ],
      "metadata": {
        "id": "81Q421pfWQO1"
      }
    },
    {
      "cell_type": "code",
      "execution_count": 2,
      "metadata": {
        "colab": {
          "base_uri": "https://localhost:8080/"
        },
        "outputId": "2cec0a6c-909e-4352-e338-84cc02fd6941",
        "id": "0czx2Jpz5zrd"
      },
      "outputs": [
        {
          "output_type": "stream",
          "name": "stdout",
          "text": [
            "TensorFlow version: 2.18.0\n"
          ]
        }
      ],
      "source": [
        "# Riiid Knowledge Tracing Project\n",
        "# Initial setup and data exploration\n",
        "\n",
        "# This installs the Kaggle API package. The -q flag makes the installation \"quiet\" (less verbose output).\n",
        "# This only needs to be run once per Colab session\n",
        "!pip install -q kaggle\n",
        "\n",
        "# This imports the files module from Google Colab and opens a file upload dialog where you select your Kaggle API credentials file (kaggle.json) from your local computer.\n",
        "# Upload your kaggle.json file (from your Kaggle account settings)\n",
        "from google.colab import files\n",
        "\n",
        "import kagglehub\n",
        "import os\n",
        "import pickle\n",
        "import gc # Import the garbage collector module\n",
        "\n",
        "import numpy as np\n",
        "import pandas as pd\n",
        "\n",
        "import matplotlib.pyplot as plt\n",
        "%matplotlib inline\n",
        "import seaborn as sns\n",
        "\n",
        "import tensorflow as tf\n",
        "from tensorflow.keras import layers, models\n",
        "\n",
        "print(\"TensorFlow version:\", tf.__version__)"
      ]
    },
    {
      "cell_type": "markdown",
      "source": [
        "# Load datasets"
      ],
      "metadata": {
        "id": "VMuMKmtHb4nw"
      }
    },
    {
      "cell_type": "markdown",
      "source": [
        "## Load original dataset"
      ],
      "metadata": {
        "id": "5AjTb_MLWquZ"
      }
    },
    {
      "cell_type": "code",
      "source": [
        "files.upload()  # Upload your kaggle.json here\n",
        "\n",
        "!mkdir -p ~/.kaggle # Creates a .kaggle directory in your home folder (~) if it doesn't already exist. The -p flag ensures no error is thrown if the directory already exists.\n",
        "!cp kaggle.json ~/.kaggle/ # Copies the uploaded kaggle.json file to the .kaggle directory where the Kaggle API expects to find it.\n",
        "!chmod 600 ~/.kaggle/kaggle.json # Sets permissions on the kaggle.json file to \"read/write for owner only\" (600). This is required by the Kaggle API for security reasons.\n",
        "\n",
        "# Download the dataset\n",
        "!kaggle competitions download -c riiid-test-answer-prediction # Downloads all files for the Riiid Test Answer Prediction competition. The -c flag specifies which competition.\n",
        "!unzip -q riiid-test-answer-prediction.zip -d riiid_data # Extracts the downloaded zip file into a directory called \"riiid_data\". The -q flag makes the unzip operation quiet (less verbose)."
      ],
      "metadata": {
        "colab": {
          "base_uri": "https://localhost:8080/",
          "height": 127
        },
        "id": "m0HWAoFC6WvP",
        "outputId": "48fd7c9d-1348-46a2-ecfd-05eab371c1e2"
      },
      "execution_count": 2,
      "outputs": [
        {
          "output_type": "display_data",
          "data": {
            "text/plain": [
              "<IPython.core.display.HTML object>"
            ],
            "text/html": [
              "\n",
              "     <input type=\"file\" id=\"files-e1d655bf-8792-4732-baa5-a1bb81c2a503\" name=\"files[]\" multiple disabled\n",
              "        style=\"border:none\" />\n",
              "     <output id=\"result-e1d655bf-8792-4732-baa5-a1bb81c2a503\">\n",
              "      Upload widget is only available when the cell has been executed in the\n",
              "      current browser session. Please rerun this cell to enable.\n",
              "      </output>\n",
              "      <script>// Copyright 2017 Google LLC\n",
              "//\n",
              "// Licensed under the Apache License, Version 2.0 (the \"License\");\n",
              "// you may not use this file except in compliance with the License.\n",
              "// You may obtain a copy of the License at\n",
              "//\n",
              "//      http://www.apache.org/licenses/LICENSE-2.0\n",
              "//\n",
              "// Unless required by applicable law or agreed to in writing, software\n",
              "// distributed under the License is distributed on an \"AS IS\" BASIS,\n",
              "// WITHOUT WARRANTIES OR CONDITIONS OF ANY KIND, either express or implied.\n",
              "// See the License for the specific language governing permissions and\n",
              "// limitations under the License.\n",
              "\n",
              "/**\n",
              " * @fileoverview Helpers for google.colab Python module.\n",
              " */\n",
              "(function(scope) {\n",
              "function span(text, styleAttributes = {}) {\n",
              "  const element = document.createElement('span');\n",
              "  element.textContent = text;\n",
              "  for (const key of Object.keys(styleAttributes)) {\n",
              "    element.style[key] = styleAttributes[key];\n",
              "  }\n",
              "  return element;\n",
              "}\n",
              "\n",
              "// Max number of bytes which will be uploaded at a time.\n",
              "const MAX_PAYLOAD_SIZE = 100 * 1024;\n",
              "\n",
              "function _uploadFiles(inputId, outputId) {\n",
              "  const steps = uploadFilesStep(inputId, outputId);\n",
              "  const outputElement = document.getElementById(outputId);\n",
              "  // Cache steps on the outputElement to make it available for the next call\n",
              "  // to uploadFilesContinue from Python.\n",
              "  outputElement.steps = steps;\n",
              "\n",
              "  return _uploadFilesContinue(outputId);\n",
              "}\n",
              "\n",
              "// This is roughly an async generator (not supported in the browser yet),\n",
              "// where there are multiple asynchronous steps and the Python side is going\n",
              "// to poll for completion of each step.\n",
              "// This uses a Promise to block the python side on completion of each step,\n",
              "// then passes the result of the previous step as the input to the next step.\n",
              "function _uploadFilesContinue(outputId) {\n",
              "  const outputElement = document.getElementById(outputId);\n",
              "  const steps = outputElement.steps;\n",
              "\n",
              "  const next = steps.next(outputElement.lastPromiseValue);\n",
              "  return Promise.resolve(next.value.promise).then((value) => {\n",
              "    // Cache the last promise value to make it available to the next\n",
              "    // step of the generator.\n",
              "    outputElement.lastPromiseValue = value;\n",
              "    return next.value.response;\n",
              "  });\n",
              "}\n",
              "\n",
              "/**\n",
              " * Generator function which is called between each async step of the upload\n",
              " * process.\n",
              " * @param {string} inputId Element ID of the input file picker element.\n",
              " * @param {string} outputId Element ID of the output display.\n",
              " * @return {!Iterable<!Object>} Iterable of next steps.\n",
              " */\n",
              "function* uploadFilesStep(inputId, outputId) {\n",
              "  const inputElement = document.getElementById(inputId);\n",
              "  inputElement.disabled = false;\n",
              "\n",
              "  const outputElement = document.getElementById(outputId);\n",
              "  outputElement.innerHTML = '';\n",
              "\n",
              "  const pickedPromise = new Promise((resolve) => {\n",
              "    inputElement.addEventListener('change', (e) => {\n",
              "      resolve(e.target.files);\n",
              "    });\n",
              "  });\n",
              "\n",
              "  const cancel = document.createElement('button');\n",
              "  inputElement.parentElement.appendChild(cancel);\n",
              "  cancel.textContent = 'Cancel upload';\n",
              "  const cancelPromise = new Promise((resolve) => {\n",
              "    cancel.onclick = () => {\n",
              "      resolve(null);\n",
              "    };\n",
              "  });\n",
              "\n",
              "  // Wait for the user to pick the files.\n",
              "  const files = yield {\n",
              "    promise: Promise.race([pickedPromise, cancelPromise]),\n",
              "    response: {\n",
              "      action: 'starting',\n",
              "    }\n",
              "  };\n",
              "\n",
              "  cancel.remove();\n",
              "\n",
              "  // Disable the input element since further picks are not allowed.\n",
              "  inputElement.disabled = true;\n",
              "\n",
              "  if (!files) {\n",
              "    return {\n",
              "      response: {\n",
              "        action: 'complete',\n",
              "      }\n",
              "    };\n",
              "  }\n",
              "\n",
              "  for (const file of files) {\n",
              "    const li = document.createElement('li');\n",
              "    li.append(span(file.name, {fontWeight: 'bold'}));\n",
              "    li.append(span(\n",
              "        `(${file.type || 'n/a'}) - ${file.size} bytes, ` +\n",
              "        `last modified: ${\n",
              "            file.lastModifiedDate ? file.lastModifiedDate.toLocaleDateString() :\n",
              "                                    'n/a'} - `));\n",
              "    const percent = span('0% done');\n",
              "    li.appendChild(percent);\n",
              "\n",
              "    outputElement.appendChild(li);\n",
              "\n",
              "    const fileDataPromise = new Promise((resolve) => {\n",
              "      const reader = new FileReader();\n",
              "      reader.onload = (e) => {\n",
              "        resolve(e.target.result);\n",
              "      };\n",
              "      reader.readAsArrayBuffer(file);\n",
              "    });\n",
              "    // Wait for the data to be ready.\n",
              "    let fileData = yield {\n",
              "      promise: fileDataPromise,\n",
              "      response: {\n",
              "        action: 'continue',\n",
              "      }\n",
              "    };\n",
              "\n",
              "    // Use a chunked sending to avoid message size limits. See b/62115660.\n",
              "    let position = 0;\n",
              "    do {\n",
              "      const length = Math.min(fileData.byteLength - position, MAX_PAYLOAD_SIZE);\n",
              "      const chunk = new Uint8Array(fileData, position, length);\n",
              "      position += length;\n",
              "\n",
              "      const base64 = btoa(String.fromCharCode.apply(null, chunk));\n",
              "      yield {\n",
              "        response: {\n",
              "          action: 'append',\n",
              "          file: file.name,\n",
              "          data: base64,\n",
              "        },\n",
              "      };\n",
              "\n",
              "      let percentDone = fileData.byteLength === 0 ?\n",
              "          100 :\n",
              "          Math.round((position / fileData.byteLength) * 100);\n",
              "      percent.textContent = `${percentDone}% done`;\n",
              "\n",
              "    } while (position < fileData.byteLength);\n",
              "  }\n",
              "\n",
              "  // All done.\n",
              "  yield {\n",
              "    response: {\n",
              "      action: 'complete',\n",
              "    }\n",
              "  };\n",
              "}\n",
              "\n",
              "scope.google = scope.google || {};\n",
              "scope.google.colab = scope.google.colab || {};\n",
              "scope.google.colab._files = {\n",
              "  _uploadFiles,\n",
              "  _uploadFilesContinue,\n",
              "};\n",
              "})(self);\n",
              "</script> "
            ]
          },
          "metadata": {}
        },
        {
          "output_type": "stream",
          "name": "stdout",
          "text": [
            "Saving kaggle.json to kaggle.json\n",
            "Downloading riiid-test-answer-prediction.zip to /content\n",
            " 99% 1.27G/1.29G [00:13<00:00, 72.6MB/s]\n",
            "100% 1.29G/1.29G [00:13<00:00, 102MB/s] \n"
          ]
        }
      ]
    },
    {
      "cell_type": "code",
      "source": [
        "# This command will list all files and directories within the \"riiid_data\" directory in a detailed format.\n",
        "!ls -la riiid_data/"
      ],
      "metadata": {
        "colab": {
          "base_uri": "https://localhost:8080/"
        },
        "id": "Ar5z3Dco72n5",
        "outputId": "84f0e62b-9b88-41dc-c148-6f566a89175c"
      },
      "execution_count": 3,
      "outputs": [
        {
          "output_type": "stream",
          "name": "stdout",
          "text": [
            "total 5710060\n",
            "drwxr-xr-x 3 root root       4096 Mar 16 12:33 .\n",
            "drwxr-xr-x 1 root root       4096 Mar 16 12:33 ..\n",
            "-rw-r--r-- 1 root root        971 Oct 14  2020 example_sample_submission.csv\n",
            "-rw-r--r-- 1 root root       6137 Oct 14  2020 example_test.csv\n",
            "-rw-r--r-- 1 root root       9703 Oct 14  2020 lectures.csv\n",
            "-rw-r--r-- 1 root root     296161 Oct 14  2020 questions.csv\n",
            "drwxr-xr-x 2 root root       4096 Mar 16 12:33 riiideducation\n",
            "-rw-r--r-- 1 root root 5846760913 Oct 14  2020 train.csv\n"
          ]
        }
      ]
    },
    {
      "cell_type": "code",
      "source": [
        "# This command lists detailed information about the specific file kaggle.json in the .kaggle directory in your home folder.\n",
        "!ls -la ~/.kaggle/kaggle.json"
      ],
      "metadata": {
        "colab": {
          "base_uri": "https://localhost:8080/"
        },
        "id": "ba2Fl3z8-Rtn",
        "outputId": "fa1e5741-f9eb-49aa-b087-03a82d40ca60"
      },
      "execution_count": 4,
      "outputs": [
        {
          "output_type": "stream",
          "name": "stdout",
          "text": [
            "-rw------- 1 root root 70 Mar 16 12:33 /root/.kaggle/kaggle.json\n"
          ]
        }
      ]
    },
    {
      "cell_type": "markdown",
      "source": [
        "Loading questions.csv and lectures.csv into the notebook."
      ],
      "metadata": {
        "id": "4oBi6-PD6gm4"
      }
    },
    {
      "cell_type": "code",
      "source": [
        "# Load the dataset with memory optimisations\n",
        "\n",
        "# Define column data types to reduce memory usage\n",
        "dtype_mapping_questions = {\n",
        "    \"question_id\": \"int16\",\n",
        "    \"bundle_id\": \"int16\",\n",
        "    \"correct_answer\": \"int8\",\n",
        "    \"part\": \"int8\",\n",
        "    \"tags\": \"object\"\n",
        "}\n",
        "\n",
        "dtype_mapping_lectures = {\n",
        "    \"lecture_id\": \"int16\",\n",
        "    \"part\": \"int8\",\n",
        "    \"tag\": \"int16\",\n",
        "    \"type_of\": \"object\",\n",
        "}"
      ],
      "metadata": {
        "id": "9I9ATtxi0Rn7"
      },
      "execution_count": 5,
      "outputs": []
    },
    {
      "cell_type": "code",
      "source": [
        "%%time\n",
        "\n",
        "questions_df = pd.read_csv('riiid_data/questions.csv', dtype=dtype_mapping_questions)"
      ],
      "metadata": {
        "id": "HCkTPY-46It5",
        "outputId": "cd11e9c4-00e8-4a1c-f937-d8b86bd0ec5e",
        "colab": {
          "base_uri": "https://localhost:8080/"
        }
      },
      "execution_count": 6,
      "outputs": [
        {
          "output_type": "stream",
          "name": "stdout",
          "text": [
            "CPU times: user 24.4 ms, sys: 5.07 ms, total: 29.5 ms\n",
            "Wall time: 37.2 ms\n"
          ]
        }
      ]
    },
    {
      "cell_type": "code",
      "source": [
        "%%time\n",
        "\n",
        "lectures_df = pd.read_csv('riiid_data/lectures.csv', dtype=dtype_mapping_lectures)"
      ],
      "metadata": {
        "id": "ysAe7q-Jpkp8",
        "outputId": "301f72f4-de33-46ee-88be-63d6fc079db9",
        "colab": {
          "base_uri": "https://localhost:8080/"
        }
      },
      "execution_count": 7,
      "outputs": [
        {
          "output_type": "stream",
          "name": "stdout",
          "text": [
            "CPU times: user 4.42 ms, sys: 70 µs, total: 4.49 ms\n",
            "Wall time: 4.09 ms\n"
          ]
        }
      ]
    },
    {
      "cell_type": "markdown",
      "source": [
        "## Load pickle dataset"
      ],
      "metadata": {
        "id": "5O-If23V6YdQ"
      }
    },
    {
      "cell_type": "markdown",
      "source": [
        "The original train.csv data set is too large (5.85GB) for processing in collab, thus, a more suitable data set that has been compressed and converted from .csv to .pkl.gzip will be used for the time series forecasting purposes.\n",
        "This approach downloads the whole dataset but I will look into ways to change it to dowloading just the single file I need."
      ],
      "metadata": {
        "id": "8QTkGD-Rrat0"
      }
    },
    {
      "cell_type": "code",
      "source": [
        "# Download latest version\n",
        "path = kagglehub.dataset_download(\"rohanrao/riiid-train-data-multiple-formats\")\n",
        "\n",
        "print(\"Path to dataset files:\", path)\n",
        "\n",
        "os.listdir(path)"
      ],
      "metadata": {
        "id": "-XOoVkN2r-TK",
        "outputId": "7ce92455-ea30-4bc1-bd4f-6661a06a7626",
        "colab": {
          "base_uri": "https://localhost:8080/"
        }
      },
      "execution_count": 3,
      "outputs": [
        {
          "output_type": "stream",
          "name": "stdout",
          "text": [
            "Path to dataset files: /root/.cache/kagglehub/datasets/rohanrao/riiid-train-data-multiple-formats/versions/3\n"
          ]
        },
        {
          "output_type": "execute_result",
          "data": {
            "text/plain": [
              "['riiid_train.parquet',\n",
              " 'riiid_train.feather',\n",
              " 'riiid_train.pkl.gzip',\n",
              " 'riiid_train.h5',\n",
              " 'riiid_train.jay']"
            ]
          },
          "metadata": {},
          "execution_count": 3
        }
      ]
    },
    {
      "cell_type": "markdown",
      "source": [
        "Ignore the code cell below for now"
      ],
      "metadata": {
        "id": "40POzbW_-XrZ"
      }
    },
    {
      "cell_type": "code",
      "source": [
        "# List all files in the directory\n",
        "all_files = os.listdir('riiid_data')\n",
        "\n",
        "# Loop through files and remove if not 'train.pkl.gzip'\n",
        "for file in all_files:\n",
        "    if file != 'train.pkl.gzip':\n",
        "        os.remove(os.path.join('riiid_data', file))"
      ],
      "metadata": {
        "colab": {
          "base_uri": "https://localhost:8080/",
          "height": 216
        },
        "id": "BSSW0ZgiaQ-A",
        "outputId": "f25eaa2d-4b26-4ffd-f898-5970d6cb29fd"
      },
      "execution_count": 9,
      "outputs": [
        {
          "output_type": "error",
          "ename": "IsADirectoryError",
          "evalue": "[Errno 21] Is a directory: 'riiid_data/riiideducation'",
          "traceback": [
            "\u001b[0;31m---------------------------------------------------------------------------\u001b[0m",
            "\u001b[0;31mIsADirectoryError\u001b[0m                         Traceback (most recent call last)",
            "\u001b[0;32m<ipython-input-9-6965c93561f5>\u001b[0m in \u001b[0;36m<cell line: 0>\u001b[0;34m()\u001b[0m\n\u001b[1;32m      5\u001b[0m \u001b[0;32mfor\u001b[0m \u001b[0mfile\u001b[0m \u001b[0;32min\u001b[0m \u001b[0mall_files\u001b[0m\u001b[0;34m:\u001b[0m\u001b[0;34m\u001b[0m\u001b[0;34m\u001b[0m\u001b[0m\n\u001b[1;32m      6\u001b[0m     \u001b[0;32mif\u001b[0m \u001b[0mfile\u001b[0m \u001b[0;34m!=\u001b[0m \u001b[0;34m'train.pkl.gzip'\u001b[0m\u001b[0;34m:\u001b[0m\u001b[0;34m\u001b[0m\u001b[0;34m\u001b[0m\u001b[0m\n\u001b[0;32m----> 7\u001b[0;31m         \u001b[0mos\u001b[0m\u001b[0;34m.\u001b[0m\u001b[0mremove\u001b[0m\u001b[0;34m(\u001b[0m\u001b[0mos\u001b[0m\u001b[0;34m.\u001b[0m\u001b[0mpath\u001b[0m\u001b[0;34m.\u001b[0m\u001b[0mjoin\u001b[0m\u001b[0;34m(\u001b[0m\u001b[0;34m'riiid_data'\u001b[0m\u001b[0;34m,\u001b[0m \u001b[0mfile\u001b[0m\u001b[0;34m)\u001b[0m\u001b[0;34m)\u001b[0m\u001b[0;34m\u001b[0m\u001b[0;34m\u001b[0m\u001b[0m\n\u001b[0m",
            "\u001b[0;31mIsADirectoryError\u001b[0m: [Errno 21] Is a directory: 'riiid_data/riiideducation'"
          ]
        }
      ]
    },
    {
      "cell_type": "code",
      "source": [
        "# Load the dataset with memory optimisations\n",
        "\n",
        "# Define column data types to reduce memory usage\n",
        "dtype_mapping_train = {\n",
        "    \"timestamp\": \"int64\",\n",
        "    \"user_id\": \"int32\",\n",
        "    \"content_id\": \"int16\",\n",
        "    \"content_type_id\": \"boolean\",\n",
        "    \"task_container_id\": \"int16\",\n",
        "    \"answered_correctly\": \"int8\",\n",
        "    \"prior_question_elapsed_time\": \"float32\",\n",
        "    \"prior_question_had_explanation\": \"boolean\"\n",
        "}\n",
        "\n",
        "# Define which colums to use\n",
        "usecols_train=[1, 2, 3, 4, 5, 7, 8, 9],"
      ],
      "metadata": {
        "id": "lQ3FknhwcahJ"
      },
      "execution_count": 4,
      "outputs": []
    },
    {
      "cell_type": "code",
      "source": [
        "%%time\n",
        "\n",
        "# Load the dataset\n",
        "train_df = pd.read_pickle(f\"{path}/riiid_train.pkl.gzip\")"
      ],
      "metadata": {
        "id": "HN_bieIUt60N",
        "outputId": "86c78e80-fa13-48bf-b478-c933e0b9a01a",
        "colab": {
          "base_uri": "https://localhost:8080/"
        }
      },
      "execution_count": 5,
      "outputs": [
        {
          "output_type": "stream",
          "name": "stdout",
          "text": [
            "CPU times: user 2.01 s, sys: 4.8 s, total: 6.81 s\n",
            "Wall time: 23.4 s\n"
          ]
        }
      ]
    },
    {
      "cell_type": "markdown",
      "source": [
        "# Data pre-processing"
      ],
      "metadata": {
        "id": "G1IbDDOaWcu3"
      }
    },
    {
      "cell_type": "markdown",
      "source": [
        "Drop row_id and user_answer columns"
      ],
      "metadata": {
        "id": "PELNY9O9e6CU"
      }
    },
    {
      "cell_type": "code",
      "source": [
        "# Check mememory usage before optimisation\n",
        "def memory_usage(df):\n",
        "    return f\"{df.memory_usage(deep=True).sum() / 1024 ** 2:.2f} MB\"\n",
        "\n",
        "print(f\"Dataset shape: {train_df.shape}\")\n",
        "print(f\"Memory usage before optimisation: {memory_usage(train_df)}\")"
      ],
      "metadata": {
        "id": "pSchVCjme5SL",
        "colab": {
          "base_uri": "https://localhost:8080/"
        },
        "outputId": "001f2c22-e811-4b74-d8a0-1e15e66a1dc6"
      },
      "execution_count": 7,
      "outputs": [
        {
          "output_type": "stream",
          "name": "stdout",
          "text": [
            "Dataset shape: (101230332, 10)\n",
            "Memory usage before optimisation: 6463.74 MB\n"
          ]
        }
      ]
    },
    {
      "cell_type": "code",
      "source": [
        "# Drop the row_id and user_answer columns to save memory\n",
        "train_df.drop(['row_id', 'user_answer'], axis=1, inplace=True) # axis=1 for columns, axis=0 for rows, inplace=True  modifies original df\n",
        "\n",
        "# Check memory usage after dropping columns\n",
        "print(f\"Memory usage after dropping columns: {memory_usage(train_df)}\")"
      ],
      "metadata": {
        "colab": {
          "base_uri": "https://localhost:8080/"
        },
        "id": "zCchgY5Is0fa",
        "outputId": "46700772-d0b5-4853-af5e-aeaaaad309df"
      },
      "execution_count": 8,
      "outputs": [
        {
          "output_type": "stream",
          "name": "stdout",
          "text": [
            "Memory usage after dropping columns: 5594.87 MB\n"
          ]
        }
      ]
    },
    {
      "cell_type": "code",
      "source": [
        "train_df.head()"
      ],
      "metadata": {
        "id": "nZmAtcUsSU0w",
        "outputId": "587e2fb7-1d4e-4fca-a409-1d4ac3d3bd21",
        "colab": {
          "base_uri": "https://localhost:8080/",
          "height": 226
        }
      },
      "execution_count": 9,
      "outputs": [
        {
          "output_type": "execute_result",
          "data": {
            "text/plain": [
              "   timestamp  user_id  content_id  content_type_id  task_container_id  \\\n",
              "0          0      115        5692            False                  1   \n",
              "1      56943      115        5716            False                  2   \n",
              "2     118363      115         128            False                  0   \n",
              "3     131167      115        7860            False                  3   \n",
              "4     137965      115        7922            False                  4   \n",
              "\n",
              "   answered_correctly  prior_question_elapsed_time  \\\n",
              "0                   1                          NaN   \n",
              "1                   1                      37000.0   \n",
              "2                   1                      55000.0   \n",
              "3                   1                      19000.0   \n",
              "4                   1                      11000.0   \n",
              "\n",
              "  prior_question_had_explanation  \n",
              "0                           None  \n",
              "1                          False  \n",
              "2                          False  \n",
              "3                          False  \n",
              "4                          False  "
            ],
            "text/html": [
              "\n",
              "  <div id=\"df-145267c7-198a-4236-a78e-e5a7f1c057ee\" class=\"colab-df-container\">\n",
              "    <div>\n",
              "<style scoped>\n",
              "    .dataframe tbody tr th:only-of-type {\n",
              "        vertical-align: middle;\n",
              "    }\n",
              "\n",
              "    .dataframe tbody tr th {\n",
              "        vertical-align: top;\n",
              "    }\n",
              "\n",
              "    .dataframe thead th {\n",
              "        text-align: right;\n",
              "    }\n",
              "</style>\n",
              "<table border=\"1\" class=\"dataframe\">\n",
              "  <thead>\n",
              "    <tr style=\"text-align: right;\">\n",
              "      <th></th>\n",
              "      <th>timestamp</th>\n",
              "      <th>user_id</th>\n",
              "      <th>content_id</th>\n",
              "      <th>content_type_id</th>\n",
              "      <th>task_container_id</th>\n",
              "      <th>answered_correctly</th>\n",
              "      <th>prior_question_elapsed_time</th>\n",
              "      <th>prior_question_had_explanation</th>\n",
              "    </tr>\n",
              "  </thead>\n",
              "  <tbody>\n",
              "    <tr>\n",
              "      <th>0</th>\n",
              "      <td>0</td>\n",
              "      <td>115</td>\n",
              "      <td>5692</td>\n",
              "      <td>False</td>\n",
              "      <td>1</td>\n",
              "      <td>1</td>\n",
              "      <td>NaN</td>\n",
              "      <td>None</td>\n",
              "    </tr>\n",
              "    <tr>\n",
              "      <th>1</th>\n",
              "      <td>56943</td>\n",
              "      <td>115</td>\n",
              "      <td>5716</td>\n",
              "      <td>False</td>\n",
              "      <td>2</td>\n",
              "      <td>1</td>\n",
              "      <td>37000.0</td>\n",
              "      <td>False</td>\n",
              "    </tr>\n",
              "    <tr>\n",
              "      <th>2</th>\n",
              "      <td>118363</td>\n",
              "      <td>115</td>\n",
              "      <td>128</td>\n",
              "      <td>False</td>\n",
              "      <td>0</td>\n",
              "      <td>1</td>\n",
              "      <td>55000.0</td>\n",
              "      <td>False</td>\n",
              "    </tr>\n",
              "    <tr>\n",
              "      <th>3</th>\n",
              "      <td>131167</td>\n",
              "      <td>115</td>\n",
              "      <td>7860</td>\n",
              "      <td>False</td>\n",
              "      <td>3</td>\n",
              "      <td>1</td>\n",
              "      <td>19000.0</td>\n",
              "      <td>False</td>\n",
              "    </tr>\n",
              "    <tr>\n",
              "      <th>4</th>\n",
              "      <td>137965</td>\n",
              "      <td>115</td>\n",
              "      <td>7922</td>\n",
              "      <td>False</td>\n",
              "      <td>4</td>\n",
              "      <td>1</td>\n",
              "      <td>11000.0</td>\n",
              "      <td>False</td>\n",
              "    </tr>\n",
              "  </tbody>\n",
              "</table>\n",
              "</div>\n",
              "    <div class=\"colab-df-buttons\">\n",
              "\n",
              "  <div class=\"colab-df-container\">\n",
              "    <button class=\"colab-df-convert\" onclick=\"convertToInteractive('df-145267c7-198a-4236-a78e-e5a7f1c057ee')\"\n",
              "            title=\"Convert this dataframe to an interactive table.\"\n",
              "            style=\"display:none;\">\n",
              "\n",
              "  <svg xmlns=\"http://www.w3.org/2000/svg\" height=\"24px\" viewBox=\"0 -960 960 960\">\n",
              "    <path d=\"M120-120v-720h720v720H120Zm60-500h600v-160H180v160Zm220 220h160v-160H400v160Zm0 220h160v-160H400v160ZM180-400h160v-160H180v160Zm440 0h160v-160H620v160ZM180-180h160v-160H180v160Zm440 0h160v-160H620v160Z\"/>\n",
              "  </svg>\n",
              "    </button>\n",
              "\n",
              "  <style>\n",
              "    .colab-df-container {\n",
              "      display:flex;\n",
              "      gap: 12px;\n",
              "    }\n",
              "\n",
              "    .colab-df-convert {\n",
              "      background-color: #E8F0FE;\n",
              "      border: none;\n",
              "      border-radius: 50%;\n",
              "      cursor: pointer;\n",
              "      display: none;\n",
              "      fill: #1967D2;\n",
              "      height: 32px;\n",
              "      padding: 0 0 0 0;\n",
              "      width: 32px;\n",
              "    }\n",
              "\n",
              "    .colab-df-convert:hover {\n",
              "      background-color: #E2EBFA;\n",
              "      box-shadow: 0px 1px 2px rgba(60, 64, 67, 0.3), 0px 1px 3px 1px rgba(60, 64, 67, 0.15);\n",
              "      fill: #174EA6;\n",
              "    }\n",
              "\n",
              "    .colab-df-buttons div {\n",
              "      margin-bottom: 4px;\n",
              "    }\n",
              "\n",
              "    [theme=dark] .colab-df-convert {\n",
              "      background-color: #3B4455;\n",
              "      fill: #D2E3FC;\n",
              "    }\n",
              "\n",
              "    [theme=dark] .colab-df-convert:hover {\n",
              "      background-color: #434B5C;\n",
              "      box-shadow: 0px 1px 3px 1px rgba(0, 0, 0, 0.15);\n",
              "      filter: drop-shadow(0px 1px 2px rgba(0, 0, 0, 0.3));\n",
              "      fill: #FFFFFF;\n",
              "    }\n",
              "  </style>\n",
              "\n",
              "    <script>\n",
              "      const buttonEl =\n",
              "        document.querySelector('#df-145267c7-198a-4236-a78e-e5a7f1c057ee button.colab-df-convert');\n",
              "      buttonEl.style.display =\n",
              "        google.colab.kernel.accessAllowed ? 'block' : 'none';\n",
              "\n",
              "      async function convertToInteractive(key) {\n",
              "        const element = document.querySelector('#df-145267c7-198a-4236-a78e-e5a7f1c057ee');\n",
              "        const dataTable =\n",
              "          await google.colab.kernel.invokeFunction('convertToInteractive',\n",
              "                                                    [key], {});\n",
              "        if (!dataTable) return;\n",
              "\n",
              "        const docLinkHtml = 'Like what you see? Visit the ' +\n",
              "          '<a target=\"_blank\" href=https://colab.research.google.com/notebooks/data_table.ipynb>data table notebook</a>'\n",
              "          + ' to learn more about interactive tables.';\n",
              "        element.innerHTML = '';\n",
              "        dataTable['output_type'] = 'display_data';\n",
              "        await google.colab.output.renderOutput(dataTable, element);\n",
              "        const docLink = document.createElement('div');\n",
              "        docLink.innerHTML = docLinkHtml;\n",
              "        element.appendChild(docLink);\n",
              "      }\n",
              "    </script>\n",
              "  </div>\n",
              "\n",
              "\n",
              "<div id=\"df-02d10254-4860-4e0d-bfcc-0a6e76d20b45\">\n",
              "  <button class=\"colab-df-quickchart\" onclick=\"quickchart('df-02d10254-4860-4e0d-bfcc-0a6e76d20b45')\"\n",
              "            title=\"Suggest charts\"\n",
              "            style=\"display:none;\">\n",
              "\n",
              "<svg xmlns=\"http://www.w3.org/2000/svg\" height=\"24px\"viewBox=\"0 0 24 24\"\n",
              "     width=\"24px\">\n",
              "    <g>\n",
              "        <path d=\"M19 3H5c-1.1 0-2 .9-2 2v14c0 1.1.9 2 2 2h14c1.1 0 2-.9 2-2V5c0-1.1-.9-2-2-2zM9 17H7v-7h2v7zm4 0h-2V7h2v10zm4 0h-2v-4h2v4z\"/>\n",
              "    </g>\n",
              "</svg>\n",
              "  </button>\n",
              "\n",
              "<style>\n",
              "  .colab-df-quickchart {\n",
              "      --bg-color: #E8F0FE;\n",
              "      --fill-color: #1967D2;\n",
              "      --hover-bg-color: #E2EBFA;\n",
              "      --hover-fill-color: #174EA6;\n",
              "      --disabled-fill-color: #AAA;\n",
              "      --disabled-bg-color: #DDD;\n",
              "  }\n",
              "\n",
              "  [theme=dark] .colab-df-quickchart {\n",
              "      --bg-color: #3B4455;\n",
              "      --fill-color: #D2E3FC;\n",
              "      --hover-bg-color: #434B5C;\n",
              "      --hover-fill-color: #FFFFFF;\n",
              "      --disabled-bg-color: #3B4455;\n",
              "      --disabled-fill-color: #666;\n",
              "  }\n",
              "\n",
              "  .colab-df-quickchart {\n",
              "    background-color: var(--bg-color);\n",
              "    border: none;\n",
              "    border-radius: 50%;\n",
              "    cursor: pointer;\n",
              "    display: none;\n",
              "    fill: var(--fill-color);\n",
              "    height: 32px;\n",
              "    padding: 0;\n",
              "    width: 32px;\n",
              "  }\n",
              "\n",
              "  .colab-df-quickchart:hover {\n",
              "    background-color: var(--hover-bg-color);\n",
              "    box-shadow: 0 1px 2px rgba(60, 64, 67, 0.3), 0 1px 3px 1px rgba(60, 64, 67, 0.15);\n",
              "    fill: var(--button-hover-fill-color);\n",
              "  }\n",
              "\n",
              "  .colab-df-quickchart-complete:disabled,\n",
              "  .colab-df-quickchart-complete:disabled:hover {\n",
              "    background-color: var(--disabled-bg-color);\n",
              "    fill: var(--disabled-fill-color);\n",
              "    box-shadow: none;\n",
              "  }\n",
              "\n",
              "  .colab-df-spinner {\n",
              "    border: 2px solid var(--fill-color);\n",
              "    border-color: transparent;\n",
              "    border-bottom-color: var(--fill-color);\n",
              "    animation:\n",
              "      spin 1s steps(1) infinite;\n",
              "  }\n",
              "\n",
              "  @keyframes spin {\n",
              "    0% {\n",
              "      border-color: transparent;\n",
              "      border-bottom-color: var(--fill-color);\n",
              "      border-left-color: var(--fill-color);\n",
              "    }\n",
              "    20% {\n",
              "      border-color: transparent;\n",
              "      border-left-color: var(--fill-color);\n",
              "      border-top-color: var(--fill-color);\n",
              "    }\n",
              "    30% {\n",
              "      border-color: transparent;\n",
              "      border-left-color: var(--fill-color);\n",
              "      border-top-color: var(--fill-color);\n",
              "      border-right-color: var(--fill-color);\n",
              "    }\n",
              "    40% {\n",
              "      border-color: transparent;\n",
              "      border-right-color: var(--fill-color);\n",
              "      border-top-color: var(--fill-color);\n",
              "    }\n",
              "    60% {\n",
              "      border-color: transparent;\n",
              "      border-right-color: var(--fill-color);\n",
              "    }\n",
              "    80% {\n",
              "      border-color: transparent;\n",
              "      border-right-color: var(--fill-color);\n",
              "      border-bottom-color: var(--fill-color);\n",
              "    }\n",
              "    90% {\n",
              "      border-color: transparent;\n",
              "      border-bottom-color: var(--fill-color);\n",
              "    }\n",
              "  }\n",
              "</style>\n",
              "\n",
              "  <script>\n",
              "    async function quickchart(key) {\n",
              "      const quickchartButtonEl =\n",
              "        document.querySelector('#' + key + ' button');\n",
              "      quickchartButtonEl.disabled = true;  // To prevent multiple clicks.\n",
              "      quickchartButtonEl.classList.add('colab-df-spinner');\n",
              "      try {\n",
              "        const charts = await google.colab.kernel.invokeFunction(\n",
              "            'suggestCharts', [key], {});\n",
              "      } catch (error) {\n",
              "        console.error('Error during call to suggestCharts:', error);\n",
              "      }\n",
              "      quickchartButtonEl.classList.remove('colab-df-spinner');\n",
              "      quickchartButtonEl.classList.add('colab-df-quickchart-complete');\n",
              "    }\n",
              "    (() => {\n",
              "      let quickchartButtonEl =\n",
              "        document.querySelector('#df-02d10254-4860-4e0d-bfcc-0a6e76d20b45 button');\n",
              "      quickchartButtonEl.style.display =\n",
              "        google.colab.kernel.accessAllowed ? 'block' : 'none';\n",
              "    })();\n",
              "  </script>\n",
              "</div>\n",
              "\n",
              "    </div>\n",
              "  </div>\n"
            ],
            "application/vnd.google.colaboratory.intrinsic+json": {
              "type": "dataframe",
              "variable_name": "train_df"
            }
          },
          "metadata": {},
          "execution_count": 9
        }
      ]
    },
    {
      "cell_type": "markdown",
      "source": [
        "Define column data types"
      ],
      "metadata": {
        "id": "QfDMN2tGtIWQ"
      }
    },
    {
      "cell_type": "code",
      "source": [
        "# Define column data types to reduce memory usage\n",
        "dtype_mapping_train = {\n",
        "    \"timestamp\": \"int64\",\n",
        "    \"user_id\": \"int32\",\n",
        "    \"content_id\": \"int16\",\n",
        "    \"content_type_id\": \"boolean\",\n",
        "    \"task_container_id\": \"int16\",\n",
        "    \"answered_correctly\": \"int8\",\n",
        "    \"prior_question_elapsed_time\": \"float32\",\n",
        "    \"prior_question_had_explanation\": \"boolean\"\n",
        "}"
      ],
      "metadata": {
        "id": "bKdEgs6I6hrR"
      },
      "execution_count": 10,
      "outputs": []
    },
    {
      "cell_type": "code",
      "source": [
        "# Cast columns to the desired data types\n",
        "for column, data_type in dtype_mapping_train.items():\n",
        "    train_df[column] = train_df[column].astype(data_type)  # Direct assignment\n",
        "\n",
        "# Check memory usage after datatype conversions\n",
        "print(f\"Memory usage after datatype conversions: {memory_usage(train_df)}\")"
      ],
      "metadata": {
        "colab": {
          "base_uri": "https://localhost:8080/"
        },
        "id": "jR7ApIzDtMK7",
        "outputId": "1922d31c-89fd-4db8-fb0f-19f53a8f2549"
      },
      "execution_count": 11,
      "outputs": [
        {
          "output_type": "stream",
          "name": "stdout",
          "text": [
            "Memory usage after datatype conversions: 2413.52 MB\n"
          ]
        }
      ]
    },
    {
      "cell_type": "markdown",
      "source": [
        "## Data cleaning"
      ],
      "metadata": {
        "id": "rAm_BSnGcpM7"
      }
    },
    {
      "cell_type": "markdown",
      "source": [
        "### Missing values"
      ],
      "metadata": {
        "id": "FZFAPvEScvsj"
      }
    },
    {
      "cell_type": "markdown",
      "source": [
        "#### train.pkl"
      ],
      "metadata": {
        "id": "PWKP7BSno5FA"
      }
    },
    {
      "cell_type": "code",
      "source": [
        "missing_values = train_df.isna().sum().to_frame('missing_values')\n",
        "missing_values"
      ],
      "metadata": {
        "colab": {
          "base_uri": "https://localhost:8080/",
          "height": 300
        },
        "id": "7qheP2wrc5SW",
        "outputId": "0620ee02-d4f7-4108-b408-4bab888fe99b"
      },
      "execution_count": 10,
      "outputs": [
        {
          "output_type": "execute_result",
          "data": {
            "text/plain": [
              "                                missing_values\n",
              "timestamp                                    0\n",
              "user_id                                      0\n",
              "content_id                                   0\n",
              "content_type_id                              0\n",
              "task_container_id                            0\n",
              "answered_correctly                           0\n",
              "prior_question_elapsed_time            2351538\n",
              "prior_question_had_explanation          392506"
            ],
            "text/html": [
              "\n",
              "  <div id=\"df-6c082fb2-00a9-43d3-a66b-0f0da85f2efd\" class=\"colab-df-container\">\n",
              "    <div>\n",
              "<style scoped>\n",
              "    .dataframe tbody tr th:only-of-type {\n",
              "        vertical-align: middle;\n",
              "    }\n",
              "\n",
              "    .dataframe tbody tr th {\n",
              "        vertical-align: top;\n",
              "    }\n",
              "\n",
              "    .dataframe thead th {\n",
              "        text-align: right;\n",
              "    }\n",
              "</style>\n",
              "<table border=\"1\" class=\"dataframe\">\n",
              "  <thead>\n",
              "    <tr style=\"text-align: right;\">\n",
              "      <th></th>\n",
              "      <th>missing_values</th>\n",
              "    </tr>\n",
              "  </thead>\n",
              "  <tbody>\n",
              "    <tr>\n",
              "      <th>timestamp</th>\n",
              "      <td>0</td>\n",
              "    </tr>\n",
              "    <tr>\n",
              "      <th>user_id</th>\n",
              "      <td>0</td>\n",
              "    </tr>\n",
              "    <tr>\n",
              "      <th>content_id</th>\n",
              "      <td>0</td>\n",
              "    </tr>\n",
              "    <tr>\n",
              "      <th>content_type_id</th>\n",
              "      <td>0</td>\n",
              "    </tr>\n",
              "    <tr>\n",
              "      <th>task_container_id</th>\n",
              "      <td>0</td>\n",
              "    </tr>\n",
              "    <tr>\n",
              "      <th>answered_correctly</th>\n",
              "      <td>0</td>\n",
              "    </tr>\n",
              "    <tr>\n",
              "      <th>prior_question_elapsed_time</th>\n",
              "      <td>2351538</td>\n",
              "    </tr>\n",
              "    <tr>\n",
              "      <th>prior_question_had_explanation</th>\n",
              "      <td>392506</td>\n",
              "    </tr>\n",
              "  </tbody>\n",
              "</table>\n",
              "</div>\n",
              "    <div class=\"colab-df-buttons\">\n",
              "\n",
              "  <div class=\"colab-df-container\">\n",
              "    <button class=\"colab-df-convert\" onclick=\"convertToInteractive('df-6c082fb2-00a9-43d3-a66b-0f0da85f2efd')\"\n",
              "            title=\"Convert this dataframe to an interactive table.\"\n",
              "            style=\"display:none;\">\n",
              "\n",
              "  <svg xmlns=\"http://www.w3.org/2000/svg\" height=\"24px\" viewBox=\"0 -960 960 960\">\n",
              "    <path d=\"M120-120v-720h720v720H120Zm60-500h600v-160H180v160Zm220 220h160v-160H400v160Zm0 220h160v-160H400v160ZM180-400h160v-160H180v160Zm440 0h160v-160H620v160ZM180-180h160v-160H180v160Zm440 0h160v-160H620v160Z\"/>\n",
              "  </svg>\n",
              "    </button>\n",
              "\n",
              "  <style>\n",
              "    .colab-df-container {\n",
              "      display:flex;\n",
              "      gap: 12px;\n",
              "    }\n",
              "\n",
              "    .colab-df-convert {\n",
              "      background-color: #E8F0FE;\n",
              "      border: none;\n",
              "      border-radius: 50%;\n",
              "      cursor: pointer;\n",
              "      display: none;\n",
              "      fill: #1967D2;\n",
              "      height: 32px;\n",
              "      padding: 0 0 0 0;\n",
              "      width: 32px;\n",
              "    }\n",
              "\n",
              "    .colab-df-convert:hover {\n",
              "      background-color: #E2EBFA;\n",
              "      box-shadow: 0px 1px 2px rgba(60, 64, 67, 0.3), 0px 1px 3px 1px rgba(60, 64, 67, 0.15);\n",
              "      fill: #174EA6;\n",
              "    }\n",
              "\n",
              "    .colab-df-buttons div {\n",
              "      margin-bottom: 4px;\n",
              "    }\n",
              "\n",
              "    [theme=dark] .colab-df-convert {\n",
              "      background-color: #3B4455;\n",
              "      fill: #D2E3FC;\n",
              "    }\n",
              "\n",
              "    [theme=dark] .colab-df-convert:hover {\n",
              "      background-color: #434B5C;\n",
              "      box-shadow: 0px 1px 3px 1px rgba(0, 0, 0, 0.15);\n",
              "      filter: drop-shadow(0px 1px 2px rgba(0, 0, 0, 0.3));\n",
              "      fill: #FFFFFF;\n",
              "    }\n",
              "  </style>\n",
              "\n",
              "    <script>\n",
              "      const buttonEl =\n",
              "        document.querySelector('#df-6c082fb2-00a9-43d3-a66b-0f0da85f2efd button.colab-df-convert');\n",
              "      buttonEl.style.display =\n",
              "        google.colab.kernel.accessAllowed ? 'block' : 'none';\n",
              "\n",
              "      async function convertToInteractive(key) {\n",
              "        const element = document.querySelector('#df-6c082fb2-00a9-43d3-a66b-0f0da85f2efd');\n",
              "        const dataTable =\n",
              "          await google.colab.kernel.invokeFunction('convertToInteractive',\n",
              "                                                    [key], {});\n",
              "        if (!dataTable) return;\n",
              "\n",
              "        const docLinkHtml = 'Like what you see? Visit the ' +\n",
              "          '<a target=\"_blank\" href=https://colab.research.google.com/notebooks/data_table.ipynb>data table notebook</a>'\n",
              "          + ' to learn more about interactive tables.';\n",
              "        element.innerHTML = '';\n",
              "        dataTable['output_type'] = 'display_data';\n",
              "        await google.colab.output.renderOutput(dataTable, element);\n",
              "        const docLink = document.createElement('div');\n",
              "        docLink.innerHTML = docLinkHtml;\n",
              "        element.appendChild(docLink);\n",
              "      }\n",
              "    </script>\n",
              "  </div>\n",
              "\n",
              "\n",
              "<div id=\"df-f27324a6-454f-4405-9720-467dfd0cfc47\">\n",
              "  <button class=\"colab-df-quickchart\" onclick=\"quickchart('df-f27324a6-454f-4405-9720-467dfd0cfc47')\"\n",
              "            title=\"Suggest charts\"\n",
              "            style=\"display:none;\">\n",
              "\n",
              "<svg xmlns=\"http://www.w3.org/2000/svg\" height=\"24px\"viewBox=\"0 0 24 24\"\n",
              "     width=\"24px\">\n",
              "    <g>\n",
              "        <path d=\"M19 3H5c-1.1 0-2 .9-2 2v14c0 1.1.9 2 2 2h14c1.1 0 2-.9 2-2V5c0-1.1-.9-2-2-2zM9 17H7v-7h2v7zm4 0h-2V7h2v10zm4 0h-2v-4h2v4z\"/>\n",
              "    </g>\n",
              "</svg>\n",
              "  </button>\n",
              "\n",
              "<style>\n",
              "  .colab-df-quickchart {\n",
              "      --bg-color: #E8F0FE;\n",
              "      --fill-color: #1967D2;\n",
              "      --hover-bg-color: #E2EBFA;\n",
              "      --hover-fill-color: #174EA6;\n",
              "      --disabled-fill-color: #AAA;\n",
              "      --disabled-bg-color: #DDD;\n",
              "  }\n",
              "\n",
              "  [theme=dark] .colab-df-quickchart {\n",
              "      --bg-color: #3B4455;\n",
              "      --fill-color: #D2E3FC;\n",
              "      --hover-bg-color: #434B5C;\n",
              "      --hover-fill-color: #FFFFFF;\n",
              "      --disabled-bg-color: #3B4455;\n",
              "      --disabled-fill-color: #666;\n",
              "  }\n",
              "\n",
              "  .colab-df-quickchart {\n",
              "    background-color: var(--bg-color);\n",
              "    border: none;\n",
              "    border-radius: 50%;\n",
              "    cursor: pointer;\n",
              "    display: none;\n",
              "    fill: var(--fill-color);\n",
              "    height: 32px;\n",
              "    padding: 0;\n",
              "    width: 32px;\n",
              "  }\n",
              "\n",
              "  .colab-df-quickchart:hover {\n",
              "    background-color: var(--hover-bg-color);\n",
              "    box-shadow: 0 1px 2px rgba(60, 64, 67, 0.3), 0 1px 3px 1px rgba(60, 64, 67, 0.15);\n",
              "    fill: var(--button-hover-fill-color);\n",
              "  }\n",
              "\n",
              "  .colab-df-quickchart-complete:disabled,\n",
              "  .colab-df-quickchart-complete:disabled:hover {\n",
              "    background-color: var(--disabled-bg-color);\n",
              "    fill: var(--disabled-fill-color);\n",
              "    box-shadow: none;\n",
              "  }\n",
              "\n",
              "  .colab-df-spinner {\n",
              "    border: 2px solid var(--fill-color);\n",
              "    border-color: transparent;\n",
              "    border-bottom-color: var(--fill-color);\n",
              "    animation:\n",
              "      spin 1s steps(1) infinite;\n",
              "  }\n",
              "\n",
              "  @keyframes spin {\n",
              "    0% {\n",
              "      border-color: transparent;\n",
              "      border-bottom-color: var(--fill-color);\n",
              "      border-left-color: var(--fill-color);\n",
              "    }\n",
              "    20% {\n",
              "      border-color: transparent;\n",
              "      border-left-color: var(--fill-color);\n",
              "      border-top-color: var(--fill-color);\n",
              "    }\n",
              "    30% {\n",
              "      border-color: transparent;\n",
              "      border-left-color: var(--fill-color);\n",
              "      border-top-color: var(--fill-color);\n",
              "      border-right-color: var(--fill-color);\n",
              "    }\n",
              "    40% {\n",
              "      border-color: transparent;\n",
              "      border-right-color: var(--fill-color);\n",
              "      border-top-color: var(--fill-color);\n",
              "    }\n",
              "    60% {\n",
              "      border-color: transparent;\n",
              "      border-right-color: var(--fill-color);\n",
              "    }\n",
              "    80% {\n",
              "      border-color: transparent;\n",
              "      border-right-color: var(--fill-color);\n",
              "      border-bottom-color: var(--fill-color);\n",
              "    }\n",
              "    90% {\n",
              "      border-color: transparent;\n",
              "      border-bottom-color: var(--fill-color);\n",
              "    }\n",
              "  }\n",
              "</style>\n",
              "\n",
              "  <script>\n",
              "    async function quickchart(key) {\n",
              "      const quickchartButtonEl =\n",
              "        document.querySelector('#' + key + ' button');\n",
              "      quickchartButtonEl.disabled = true;  // To prevent multiple clicks.\n",
              "      quickchartButtonEl.classList.add('colab-df-spinner');\n",
              "      try {\n",
              "        const charts = await google.colab.kernel.invokeFunction(\n",
              "            'suggestCharts', [key], {});\n",
              "      } catch (error) {\n",
              "        console.error('Error during call to suggestCharts:', error);\n",
              "      }\n",
              "      quickchartButtonEl.classList.remove('colab-df-spinner');\n",
              "      quickchartButtonEl.classList.add('colab-df-quickchart-complete');\n",
              "    }\n",
              "    (() => {\n",
              "      let quickchartButtonEl =\n",
              "        document.querySelector('#df-f27324a6-454f-4405-9720-467dfd0cfc47 button');\n",
              "      quickchartButtonEl.style.display =\n",
              "        google.colab.kernel.accessAllowed ? 'block' : 'none';\n",
              "    })();\n",
              "  </script>\n",
              "</div>\n",
              "\n",
              "  <div id=\"id_eaeef132-8975-4b2f-a74f-5895bd16615e\">\n",
              "    <style>\n",
              "      .colab-df-generate {\n",
              "        background-color: #E8F0FE;\n",
              "        border: none;\n",
              "        border-radius: 50%;\n",
              "        cursor: pointer;\n",
              "        display: none;\n",
              "        fill: #1967D2;\n",
              "        height: 32px;\n",
              "        padding: 0 0 0 0;\n",
              "        width: 32px;\n",
              "      }\n",
              "\n",
              "      .colab-df-generate:hover {\n",
              "        background-color: #E2EBFA;\n",
              "        box-shadow: 0px 1px 2px rgba(60, 64, 67, 0.3), 0px 1px 3px 1px rgba(60, 64, 67, 0.15);\n",
              "        fill: #174EA6;\n",
              "      }\n",
              "\n",
              "      [theme=dark] .colab-df-generate {\n",
              "        background-color: #3B4455;\n",
              "        fill: #D2E3FC;\n",
              "      }\n",
              "\n",
              "      [theme=dark] .colab-df-generate:hover {\n",
              "        background-color: #434B5C;\n",
              "        box-shadow: 0px 1px 3px 1px rgba(0, 0, 0, 0.15);\n",
              "        filter: drop-shadow(0px 1px 2px rgba(0, 0, 0, 0.3));\n",
              "        fill: #FFFFFF;\n",
              "      }\n",
              "    </style>\n",
              "    <button class=\"colab-df-generate\" onclick=\"generateWithVariable('missing_values')\"\n",
              "            title=\"Generate code using this dataframe.\"\n",
              "            style=\"display:none;\">\n",
              "\n",
              "  <svg xmlns=\"http://www.w3.org/2000/svg\" height=\"24px\"viewBox=\"0 0 24 24\"\n",
              "       width=\"24px\">\n",
              "    <path d=\"M7,19H8.4L18.45,9,17,7.55,7,17.6ZM5,21V16.75L18.45,3.32a2,2,0,0,1,2.83,0l1.4,1.43a1.91,1.91,0,0,1,.58,1.4,1.91,1.91,0,0,1-.58,1.4L9.25,21ZM18.45,9,17,7.55Zm-12,3A5.31,5.31,0,0,0,4.9,8.1,5.31,5.31,0,0,0,1,6.5,5.31,5.31,0,0,0,4.9,4.9,5.31,5.31,0,0,0,6.5,1,5.31,5.31,0,0,0,8.1,4.9,5.31,5.31,0,0,0,12,6.5,5.46,5.46,0,0,0,6.5,12Z\"/>\n",
              "  </svg>\n",
              "    </button>\n",
              "    <script>\n",
              "      (() => {\n",
              "      const buttonEl =\n",
              "        document.querySelector('#id_eaeef132-8975-4b2f-a74f-5895bd16615e button.colab-df-generate');\n",
              "      buttonEl.style.display =\n",
              "        google.colab.kernel.accessAllowed ? 'block' : 'none';\n",
              "\n",
              "      buttonEl.onclick = () => {\n",
              "        google.colab.notebook.generateWithVariable('missing_values');\n",
              "      }\n",
              "      })();\n",
              "    </script>\n",
              "  </div>\n",
              "\n",
              "    </div>\n",
              "  </div>\n"
            ],
            "application/vnd.google.colaboratory.intrinsic+json": {
              "type": "dataframe",
              "variable_name": "missing_values",
              "summary": "{\n  \"name\": \"missing_values\",\n  \"rows\": 8,\n  \"fields\": [\n    {\n      \"column\": \"missing_values\",\n      \"properties\": {\n        \"dtype\": \"number\",\n        \"std\": 823109,\n        \"min\": 0,\n        \"max\": 2351538,\n        \"num_unique_values\": 3,\n        \"samples\": [\n          0,\n          2351538,\n          392506\n        ],\n        \"semantic_type\": \"\",\n        \"description\": \"\"\n      }\n    }\n  ]\n}"
            }
          },
          "metadata": {},
          "execution_count": 10
        }
      ]
    },
    {
      "cell_type": "code",
      "source": [
        "# Calculate the percentage of missing values\n",
        "missing_values = (train_df.isna().sum() / len(train_df) * 100).to_frame('% of missing values')\n",
        "missing_values.style.format({'% of missing values': '{:.2f}%'})  # Format to two decimal places with % sign\n",
        "\n",
        "# Display the results\n",
        "print(missing_values)"
      ],
      "metadata": {
        "id": "nw-tFr6uvMXE",
        "outputId": "64d8895f-e863-48ff-d067-8dbab608711c",
        "colab": {
          "base_uri": "https://localhost:8080/"
        }
      },
      "execution_count": 11,
      "outputs": [
        {
          "output_type": "stream",
          "name": "stdout",
          "text": [
            "                                % of missing values\n",
            "timestamp                                  0.000000\n",
            "user_id                                    0.000000\n",
            "content_id                                 0.000000\n",
            "content_type_id                            0.000000\n",
            "task_container_id                          0.000000\n",
            "answered_correctly                         0.000000\n",
            "prior_question_elapsed_time                2.322958\n",
            "prior_question_had_explanation             0.387736\n"
          ]
        }
      ]
    },
    {
      "cell_type": "markdown",
      "source": [
        "There are 2 columns with missing values:\n",
        "\n",
        "prior_question_elapsed_time\n",
        "\n",
        "prior_question_had_explanation"
      ],
      "metadata": {
        "id": "Xvv73jR-nHkN"
      }
    },
    {
      "cell_type": "markdown",
      "source": [
        "It is stated in the feature description section of the original dataset that for the said features, where it's the user's first question bundle or lecture, the value is always NULL.\n",
        "\n",
        "This most likely means that there are no values to be recorded, therefore we impute the NULL values with a distinct value -1, that would be unlikely to occur naturally, to preserve the remaining information in the row."
      ],
      "metadata": {
        "id": "6FwrY3lvmcJV"
      }
    },
    {
      "cell_type": "code",
      "source": [
        "# Fill in missing values with \"-1\"\n",
        "train_df[\"prior_question_elapsed_time\"] = train_df[\"prior_question_elapsed_time\"].fillna(-1)\n",
        "train_df[\"prior_question_had_explanation\"] = train_df[\"prior_question_had_explanation\"].fillna(False)\n",
        "\n",
        "# Display the first few rows to verify (optional)\n",
        "train_df.head()"
      ],
      "metadata": {
        "id": "TYsM6pktv4oG",
        "outputId": "66fc0024-5076-47b9-826e-7cbc9dbc549a",
        "colab": {
          "base_uri": "https://localhost:8080/",
          "height": 226
        }
      },
      "execution_count": 12,
      "outputs": [
        {
          "output_type": "execute_result",
          "data": {
            "text/plain": [
              "   timestamp  user_id  content_id  content_type_id  task_container_id  \\\n",
              "0          0      115        5692            False                  1   \n",
              "1      56943      115        5716            False                  2   \n",
              "2     118363      115         128            False                  0   \n",
              "3     131167      115        7860            False                  3   \n",
              "4     137965      115        7922            False                  4   \n",
              "\n",
              "   answered_correctly  prior_question_elapsed_time  \\\n",
              "0                   1                         -1.0   \n",
              "1                   1                      37000.0   \n",
              "2                   1                      55000.0   \n",
              "3                   1                      19000.0   \n",
              "4                   1                      11000.0   \n",
              "\n",
              "   prior_question_had_explanation  \n",
              "0                           False  \n",
              "1                           False  \n",
              "2                           False  \n",
              "3                           False  \n",
              "4                           False  "
            ],
            "text/html": [
              "\n",
              "  <div id=\"df-9f60d034-41a2-4f4d-854e-24f7ce5fe4c2\" class=\"colab-df-container\">\n",
              "    <div>\n",
              "<style scoped>\n",
              "    .dataframe tbody tr th:only-of-type {\n",
              "        vertical-align: middle;\n",
              "    }\n",
              "\n",
              "    .dataframe tbody tr th {\n",
              "        vertical-align: top;\n",
              "    }\n",
              "\n",
              "    .dataframe thead th {\n",
              "        text-align: right;\n",
              "    }\n",
              "</style>\n",
              "<table border=\"1\" class=\"dataframe\">\n",
              "  <thead>\n",
              "    <tr style=\"text-align: right;\">\n",
              "      <th></th>\n",
              "      <th>timestamp</th>\n",
              "      <th>user_id</th>\n",
              "      <th>content_id</th>\n",
              "      <th>content_type_id</th>\n",
              "      <th>task_container_id</th>\n",
              "      <th>answered_correctly</th>\n",
              "      <th>prior_question_elapsed_time</th>\n",
              "      <th>prior_question_had_explanation</th>\n",
              "    </tr>\n",
              "  </thead>\n",
              "  <tbody>\n",
              "    <tr>\n",
              "      <th>0</th>\n",
              "      <td>0</td>\n",
              "      <td>115</td>\n",
              "      <td>5692</td>\n",
              "      <td>False</td>\n",
              "      <td>1</td>\n",
              "      <td>1</td>\n",
              "      <td>-1.0</td>\n",
              "      <td>False</td>\n",
              "    </tr>\n",
              "    <tr>\n",
              "      <th>1</th>\n",
              "      <td>56943</td>\n",
              "      <td>115</td>\n",
              "      <td>5716</td>\n",
              "      <td>False</td>\n",
              "      <td>2</td>\n",
              "      <td>1</td>\n",
              "      <td>37000.0</td>\n",
              "      <td>False</td>\n",
              "    </tr>\n",
              "    <tr>\n",
              "      <th>2</th>\n",
              "      <td>118363</td>\n",
              "      <td>115</td>\n",
              "      <td>128</td>\n",
              "      <td>False</td>\n",
              "      <td>0</td>\n",
              "      <td>1</td>\n",
              "      <td>55000.0</td>\n",
              "      <td>False</td>\n",
              "    </tr>\n",
              "    <tr>\n",
              "      <th>3</th>\n",
              "      <td>131167</td>\n",
              "      <td>115</td>\n",
              "      <td>7860</td>\n",
              "      <td>False</td>\n",
              "      <td>3</td>\n",
              "      <td>1</td>\n",
              "      <td>19000.0</td>\n",
              "      <td>False</td>\n",
              "    </tr>\n",
              "    <tr>\n",
              "      <th>4</th>\n",
              "      <td>137965</td>\n",
              "      <td>115</td>\n",
              "      <td>7922</td>\n",
              "      <td>False</td>\n",
              "      <td>4</td>\n",
              "      <td>1</td>\n",
              "      <td>11000.0</td>\n",
              "      <td>False</td>\n",
              "    </tr>\n",
              "  </tbody>\n",
              "</table>\n",
              "</div>\n",
              "    <div class=\"colab-df-buttons\">\n",
              "\n",
              "  <div class=\"colab-df-container\">\n",
              "    <button class=\"colab-df-convert\" onclick=\"convertToInteractive('df-9f60d034-41a2-4f4d-854e-24f7ce5fe4c2')\"\n",
              "            title=\"Convert this dataframe to an interactive table.\"\n",
              "            style=\"display:none;\">\n",
              "\n",
              "  <svg xmlns=\"http://www.w3.org/2000/svg\" height=\"24px\" viewBox=\"0 -960 960 960\">\n",
              "    <path d=\"M120-120v-720h720v720H120Zm60-500h600v-160H180v160Zm220 220h160v-160H400v160Zm0 220h160v-160H400v160ZM180-400h160v-160H180v160Zm440 0h160v-160H620v160ZM180-180h160v-160H180v160Zm440 0h160v-160H620v160Z\"/>\n",
              "  </svg>\n",
              "    </button>\n",
              "\n",
              "  <style>\n",
              "    .colab-df-container {\n",
              "      display:flex;\n",
              "      gap: 12px;\n",
              "    }\n",
              "\n",
              "    .colab-df-convert {\n",
              "      background-color: #E8F0FE;\n",
              "      border: none;\n",
              "      border-radius: 50%;\n",
              "      cursor: pointer;\n",
              "      display: none;\n",
              "      fill: #1967D2;\n",
              "      height: 32px;\n",
              "      padding: 0 0 0 0;\n",
              "      width: 32px;\n",
              "    }\n",
              "\n",
              "    .colab-df-convert:hover {\n",
              "      background-color: #E2EBFA;\n",
              "      box-shadow: 0px 1px 2px rgba(60, 64, 67, 0.3), 0px 1px 3px 1px rgba(60, 64, 67, 0.15);\n",
              "      fill: #174EA6;\n",
              "    }\n",
              "\n",
              "    .colab-df-buttons div {\n",
              "      margin-bottom: 4px;\n",
              "    }\n",
              "\n",
              "    [theme=dark] .colab-df-convert {\n",
              "      background-color: #3B4455;\n",
              "      fill: #D2E3FC;\n",
              "    }\n",
              "\n",
              "    [theme=dark] .colab-df-convert:hover {\n",
              "      background-color: #434B5C;\n",
              "      box-shadow: 0px 1px 3px 1px rgba(0, 0, 0, 0.15);\n",
              "      filter: drop-shadow(0px 1px 2px rgba(0, 0, 0, 0.3));\n",
              "      fill: #FFFFFF;\n",
              "    }\n",
              "  </style>\n",
              "\n",
              "    <script>\n",
              "      const buttonEl =\n",
              "        document.querySelector('#df-9f60d034-41a2-4f4d-854e-24f7ce5fe4c2 button.colab-df-convert');\n",
              "      buttonEl.style.display =\n",
              "        google.colab.kernel.accessAllowed ? 'block' : 'none';\n",
              "\n",
              "      async function convertToInteractive(key) {\n",
              "        const element = document.querySelector('#df-9f60d034-41a2-4f4d-854e-24f7ce5fe4c2');\n",
              "        const dataTable =\n",
              "          await google.colab.kernel.invokeFunction('convertToInteractive',\n",
              "                                                    [key], {});\n",
              "        if (!dataTable) return;\n",
              "\n",
              "        const docLinkHtml = 'Like what you see? Visit the ' +\n",
              "          '<a target=\"_blank\" href=https://colab.research.google.com/notebooks/data_table.ipynb>data table notebook</a>'\n",
              "          + ' to learn more about interactive tables.';\n",
              "        element.innerHTML = '';\n",
              "        dataTable['output_type'] = 'display_data';\n",
              "        await google.colab.output.renderOutput(dataTable, element);\n",
              "        const docLink = document.createElement('div');\n",
              "        docLink.innerHTML = docLinkHtml;\n",
              "        element.appendChild(docLink);\n",
              "      }\n",
              "    </script>\n",
              "  </div>\n",
              "\n",
              "\n",
              "<div id=\"df-882afb67-fed0-4dc0-9ffe-e107ce0e13e2\">\n",
              "  <button class=\"colab-df-quickchart\" onclick=\"quickchart('df-882afb67-fed0-4dc0-9ffe-e107ce0e13e2')\"\n",
              "            title=\"Suggest charts\"\n",
              "            style=\"display:none;\">\n",
              "\n",
              "<svg xmlns=\"http://www.w3.org/2000/svg\" height=\"24px\"viewBox=\"0 0 24 24\"\n",
              "     width=\"24px\">\n",
              "    <g>\n",
              "        <path d=\"M19 3H5c-1.1 0-2 .9-2 2v14c0 1.1.9 2 2 2h14c1.1 0 2-.9 2-2V5c0-1.1-.9-2-2-2zM9 17H7v-7h2v7zm4 0h-2V7h2v10zm4 0h-2v-4h2v4z\"/>\n",
              "    </g>\n",
              "</svg>\n",
              "  </button>\n",
              "\n",
              "<style>\n",
              "  .colab-df-quickchart {\n",
              "      --bg-color: #E8F0FE;\n",
              "      --fill-color: #1967D2;\n",
              "      --hover-bg-color: #E2EBFA;\n",
              "      --hover-fill-color: #174EA6;\n",
              "      --disabled-fill-color: #AAA;\n",
              "      --disabled-bg-color: #DDD;\n",
              "  }\n",
              "\n",
              "  [theme=dark] .colab-df-quickchart {\n",
              "      --bg-color: #3B4455;\n",
              "      --fill-color: #D2E3FC;\n",
              "      --hover-bg-color: #434B5C;\n",
              "      --hover-fill-color: #FFFFFF;\n",
              "      --disabled-bg-color: #3B4455;\n",
              "      --disabled-fill-color: #666;\n",
              "  }\n",
              "\n",
              "  .colab-df-quickchart {\n",
              "    background-color: var(--bg-color);\n",
              "    border: none;\n",
              "    border-radius: 50%;\n",
              "    cursor: pointer;\n",
              "    display: none;\n",
              "    fill: var(--fill-color);\n",
              "    height: 32px;\n",
              "    padding: 0;\n",
              "    width: 32px;\n",
              "  }\n",
              "\n",
              "  .colab-df-quickchart:hover {\n",
              "    background-color: var(--hover-bg-color);\n",
              "    box-shadow: 0 1px 2px rgba(60, 64, 67, 0.3), 0 1px 3px 1px rgba(60, 64, 67, 0.15);\n",
              "    fill: var(--button-hover-fill-color);\n",
              "  }\n",
              "\n",
              "  .colab-df-quickchart-complete:disabled,\n",
              "  .colab-df-quickchart-complete:disabled:hover {\n",
              "    background-color: var(--disabled-bg-color);\n",
              "    fill: var(--disabled-fill-color);\n",
              "    box-shadow: none;\n",
              "  }\n",
              "\n",
              "  .colab-df-spinner {\n",
              "    border: 2px solid var(--fill-color);\n",
              "    border-color: transparent;\n",
              "    border-bottom-color: var(--fill-color);\n",
              "    animation:\n",
              "      spin 1s steps(1) infinite;\n",
              "  }\n",
              "\n",
              "  @keyframes spin {\n",
              "    0% {\n",
              "      border-color: transparent;\n",
              "      border-bottom-color: var(--fill-color);\n",
              "      border-left-color: var(--fill-color);\n",
              "    }\n",
              "    20% {\n",
              "      border-color: transparent;\n",
              "      border-left-color: var(--fill-color);\n",
              "      border-top-color: var(--fill-color);\n",
              "    }\n",
              "    30% {\n",
              "      border-color: transparent;\n",
              "      border-left-color: var(--fill-color);\n",
              "      border-top-color: var(--fill-color);\n",
              "      border-right-color: var(--fill-color);\n",
              "    }\n",
              "    40% {\n",
              "      border-color: transparent;\n",
              "      border-right-color: var(--fill-color);\n",
              "      border-top-color: var(--fill-color);\n",
              "    }\n",
              "    60% {\n",
              "      border-color: transparent;\n",
              "      border-right-color: var(--fill-color);\n",
              "    }\n",
              "    80% {\n",
              "      border-color: transparent;\n",
              "      border-right-color: var(--fill-color);\n",
              "      border-bottom-color: var(--fill-color);\n",
              "    }\n",
              "    90% {\n",
              "      border-color: transparent;\n",
              "      border-bottom-color: var(--fill-color);\n",
              "    }\n",
              "  }\n",
              "</style>\n",
              "\n",
              "  <script>\n",
              "    async function quickchart(key) {\n",
              "      const quickchartButtonEl =\n",
              "        document.querySelector('#' + key + ' button');\n",
              "      quickchartButtonEl.disabled = true;  // To prevent multiple clicks.\n",
              "      quickchartButtonEl.classList.add('colab-df-spinner');\n",
              "      try {\n",
              "        const charts = await google.colab.kernel.invokeFunction(\n",
              "            'suggestCharts', [key], {});\n",
              "      } catch (error) {\n",
              "        console.error('Error during call to suggestCharts:', error);\n",
              "      }\n",
              "      quickchartButtonEl.classList.remove('colab-df-spinner');\n",
              "      quickchartButtonEl.classList.add('colab-df-quickchart-complete');\n",
              "    }\n",
              "    (() => {\n",
              "      let quickchartButtonEl =\n",
              "        document.querySelector('#df-882afb67-fed0-4dc0-9ffe-e107ce0e13e2 button');\n",
              "      quickchartButtonEl.style.display =\n",
              "        google.colab.kernel.accessAllowed ? 'block' : 'none';\n",
              "    })();\n",
              "  </script>\n",
              "</div>\n",
              "\n",
              "    </div>\n",
              "  </div>\n"
            ],
            "application/vnd.google.colaboratory.intrinsic+json": {
              "type": "dataframe",
              "variable_name": "train_df"
            }
          },
          "metadata": {},
          "execution_count": 12
        }
      ]
    },
    {
      "cell_type": "code",
      "source": [
        "# Calculate the percentage of missing values\n",
        "missing_values = (train_df.isna().sum() / len(train_df) * 100).to_frame('% of missing values')\n",
        "missing_values.style.format({'% of missing values': '{:.2f}%'})  # Format to two decimal places with % sign\n",
        "\n",
        "# Display the results\n",
        "print(missing_values)"
      ],
      "metadata": {
        "id": "VE8ikTcSAO5-",
        "outputId": "208edffb-31c8-46d8-f6ee-72b27001b787",
        "colab": {
          "base_uri": "https://localhost:8080/"
        }
      },
      "execution_count": 13,
      "outputs": [
        {
          "output_type": "stream",
          "name": "stdout",
          "text": [
            "                                % of missing values\n",
            "timestamp                                       0.0\n",
            "user_id                                         0.0\n",
            "content_id                                      0.0\n",
            "content_type_id                                 0.0\n",
            "task_container_id                               0.0\n",
            "answered_correctly                              0.0\n",
            "prior_question_elapsed_time                     0.0\n",
            "prior_question_had_explanation                  0.0\n"
          ]
        }
      ]
    },
    {
      "cell_type": "markdown",
      "source": [
        "#### questions.csv"
      ],
      "metadata": {
        "id": "t_zLVKvjpENv"
      }
    },
    {
      "cell_type": "code",
      "source": [
        "missing_values = questions_df.isna().sum().to_frame('missing_values')\n",
        "missing_values"
      ],
      "metadata": {
        "colab": {
          "base_uri": "https://localhost:8080/",
          "height": 206
        },
        "id": "YokewP22dM4w",
        "outputId": "b5daced6-cb77-49d2-e818-a3c0a71a1650"
      },
      "execution_count": 21,
      "outputs": [
        {
          "output_type": "execute_result",
          "data": {
            "text/plain": [
              "                missing_values\n",
              "question_id                  0\n",
              "bundle_id                    0\n",
              "correct_answer               0\n",
              "part                         0\n",
              "tags                         1"
            ],
            "text/html": [
              "\n",
              "  <div id=\"df-33ea47fd-3576-43e2-8124-52f339713ceb\" class=\"colab-df-container\">\n",
              "    <div>\n",
              "<style scoped>\n",
              "    .dataframe tbody tr th:only-of-type {\n",
              "        vertical-align: middle;\n",
              "    }\n",
              "\n",
              "    .dataframe tbody tr th {\n",
              "        vertical-align: top;\n",
              "    }\n",
              "\n",
              "    .dataframe thead th {\n",
              "        text-align: right;\n",
              "    }\n",
              "</style>\n",
              "<table border=\"1\" class=\"dataframe\">\n",
              "  <thead>\n",
              "    <tr style=\"text-align: right;\">\n",
              "      <th></th>\n",
              "      <th>missing_values</th>\n",
              "    </tr>\n",
              "  </thead>\n",
              "  <tbody>\n",
              "    <tr>\n",
              "      <th>question_id</th>\n",
              "      <td>0</td>\n",
              "    </tr>\n",
              "    <tr>\n",
              "      <th>bundle_id</th>\n",
              "      <td>0</td>\n",
              "    </tr>\n",
              "    <tr>\n",
              "      <th>correct_answer</th>\n",
              "      <td>0</td>\n",
              "    </tr>\n",
              "    <tr>\n",
              "      <th>part</th>\n",
              "      <td>0</td>\n",
              "    </tr>\n",
              "    <tr>\n",
              "      <th>tags</th>\n",
              "      <td>1</td>\n",
              "    </tr>\n",
              "  </tbody>\n",
              "</table>\n",
              "</div>\n",
              "    <div class=\"colab-df-buttons\">\n",
              "\n",
              "  <div class=\"colab-df-container\">\n",
              "    <button class=\"colab-df-convert\" onclick=\"convertToInteractive('df-33ea47fd-3576-43e2-8124-52f339713ceb')\"\n",
              "            title=\"Convert this dataframe to an interactive table.\"\n",
              "            style=\"display:none;\">\n",
              "\n",
              "  <svg xmlns=\"http://www.w3.org/2000/svg\" height=\"24px\" viewBox=\"0 -960 960 960\">\n",
              "    <path d=\"M120-120v-720h720v720H120Zm60-500h600v-160H180v160Zm220 220h160v-160H400v160Zm0 220h160v-160H400v160ZM180-400h160v-160H180v160Zm440 0h160v-160H620v160ZM180-180h160v-160H180v160Zm440 0h160v-160H620v160Z\"/>\n",
              "  </svg>\n",
              "    </button>\n",
              "\n",
              "  <style>\n",
              "    .colab-df-container {\n",
              "      display:flex;\n",
              "      gap: 12px;\n",
              "    }\n",
              "\n",
              "    .colab-df-convert {\n",
              "      background-color: #E8F0FE;\n",
              "      border: none;\n",
              "      border-radius: 50%;\n",
              "      cursor: pointer;\n",
              "      display: none;\n",
              "      fill: #1967D2;\n",
              "      height: 32px;\n",
              "      padding: 0 0 0 0;\n",
              "      width: 32px;\n",
              "    }\n",
              "\n",
              "    .colab-df-convert:hover {\n",
              "      background-color: #E2EBFA;\n",
              "      box-shadow: 0px 1px 2px rgba(60, 64, 67, 0.3), 0px 1px 3px 1px rgba(60, 64, 67, 0.15);\n",
              "      fill: #174EA6;\n",
              "    }\n",
              "\n",
              "    .colab-df-buttons div {\n",
              "      margin-bottom: 4px;\n",
              "    }\n",
              "\n",
              "    [theme=dark] .colab-df-convert {\n",
              "      background-color: #3B4455;\n",
              "      fill: #D2E3FC;\n",
              "    }\n",
              "\n",
              "    [theme=dark] .colab-df-convert:hover {\n",
              "      background-color: #434B5C;\n",
              "      box-shadow: 0px 1px 3px 1px rgba(0, 0, 0, 0.15);\n",
              "      filter: drop-shadow(0px 1px 2px rgba(0, 0, 0, 0.3));\n",
              "      fill: #FFFFFF;\n",
              "    }\n",
              "  </style>\n",
              "\n",
              "    <script>\n",
              "      const buttonEl =\n",
              "        document.querySelector('#df-33ea47fd-3576-43e2-8124-52f339713ceb button.colab-df-convert');\n",
              "      buttonEl.style.display =\n",
              "        google.colab.kernel.accessAllowed ? 'block' : 'none';\n",
              "\n",
              "      async function convertToInteractive(key) {\n",
              "        const element = document.querySelector('#df-33ea47fd-3576-43e2-8124-52f339713ceb');\n",
              "        const dataTable =\n",
              "          await google.colab.kernel.invokeFunction('convertToInteractive',\n",
              "                                                    [key], {});\n",
              "        if (!dataTable) return;\n",
              "\n",
              "        const docLinkHtml = 'Like what you see? Visit the ' +\n",
              "          '<a target=\"_blank\" href=https://colab.research.google.com/notebooks/data_table.ipynb>data table notebook</a>'\n",
              "          + ' to learn more about interactive tables.';\n",
              "        element.innerHTML = '';\n",
              "        dataTable['output_type'] = 'display_data';\n",
              "        await google.colab.output.renderOutput(dataTable, element);\n",
              "        const docLink = document.createElement('div');\n",
              "        docLink.innerHTML = docLinkHtml;\n",
              "        element.appendChild(docLink);\n",
              "      }\n",
              "    </script>\n",
              "  </div>\n",
              "\n",
              "\n",
              "<div id=\"df-30eea698-8bbd-4b05-a117-0224cc1a0606\">\n",
              "  <button class=\"colab-df-quickchart\" onclick=\"quickchart('df-30eea698-8bbd-4b05-a117-0224cc1a0606')\"\n",
              "            title=\"Suggest charts\"\n",
              "            style=\"display:none;\">\n",
              "\n",
              "<svg xmlns=\"http://www.w3.org/2000/svg\" height=\"24px\"viewBox=\"0 0 24 24\"\n",
              "     width=\"24px\">\n",
              "    <g>\n",
              "        <path d=\"M19 3H5c-1.1 0-2 .9-2 2v14c0 1.1.9 2 2 2h14c1.1 0 2-.9 2-2V5c0-1.1-.9-2-2-2zM9 17H7v-7h2v7zm4 0h-2V7h2v10zm4 0h-2v-4h2v4z\"/>\n",
              "    </g>\n",
              "</svg>\n",
              "  </button>\n",
              "\n",
              "<style>\n",
              "  .colab-df-quickchart {\n",
              "      --bg-color: #E8F0FE;\n",
              "      --fill-color: #1967D2;\n",
              "      --hover-bg-color: #E2EBFA;\n",
              "      --hover-fill-color: #174EA6;\n",
              "      --disabled-fill-color: #AAA;\n",
              "      --disabled-bg-color: #DDD;\n",
              "  }\n",
              "\n",
              "  [theme=dark] .colab-df-quickchart {\n",
              "      --bg-color: #3B4455;\n",
              "      --fill-color: #D2E3FC;\n",
              "      --hover-bg-color: #434B5C;\n",
              "      --hover-fill-color: #FFFFFF;\n",
              "      --disabled-bg-color: #3B4455;\n",
              "      --disabled-fill-color: #666;\n",
              "  }\n",
              "\n",
              "  .colab-df-quickchart {\n",
              "    background-color: var(--bg-color);\n",
              "    border: none;\n",
              "    border-radius: 50%;\n",
              "    cursor: pointer;\n",
              "    display: none;\n",
              "    fill: var(--fill-color);\n",
              "    height: 32px;\n",
              "    padding: 0;\n",
              "    width: 32px;\n",
              "  }\n",
              "\n",
              "  .colab-df-quickchart:hover {\n",
              "    background-color: var(--hover-bg-color);\n",
              "    box-shadow: 0 1px 2px rgba(60, 64, 67, 0.3), 0 1px 3px 1px rgba(60, 64, 67, 0.15);\n",
              "    fill: var(--button-hover-fill-color);\n",
              "  }\n",
              "\n",
              "  .colab-df-quickchart-complete:disabled,\n",
              "  .colab-df-quickchart-complete:disabled:hover {\n",
              "    background-color: var(--disabled-bg-color);\n",
              "    fill: var(--disabled-fill-color);\n",
              "    box-shadow: none;\n",
              "  }\n",
              "\n",
              "  .colab-df-spinner {\n",
              "    border: 2px solid var(--fill-color);\n",
              "    border-color: transparent;\n",
              "    border-bottom-color: var(--fill-color);\n",
              "    animation:\n",
              "      spin 1s steps(1) infinite;\n",
              "  }\n",
              "\n",
              "  @keyframes spin {\n",
              "    0% {\n",
              "      border-color: transparent;\n",
              "      border-bottom-color: var(--fill-color);\n",
              "      border-left-color: var(--fill-color);\n",
              "    }\n",
              "    20% {\n",
              "      border-color: transparent;\n",
              "      border-left-color: var(--fill-color);\n",
              "      border-top-color: var(--fill-color);\n",
              "    }\n",
              "    30% {\n",
              "      border-color: transparent;\n",
              "      border-left-color: var(--fill-color);\n",
              "      border-top-color: var(--fill-color);\n",
              "      border-right-color: var(--fill-color);\n",
              "    }\n",
              "    40% {\n",
              "      border-color: transparent;\n",
              "      border-right-color: var(--fill-color);\n",
              "      border-top-color: var(--fill-color);\n",
              "    }\n",
              "    60% {\n",
              "      border-color: transparent;\n",
              "      border-right-color: var(--fill-color);\n",
              "    }\n",
              "    80% {\n",
              "      border-color: transparent;\n",
              "      border-right-color: var(--fill-color);\n",
              "      border-bottom-color: var(--fill-color);\n",
              "    }\n",
              "    90% {\n",
              "      border-color: transparent;\n",
              "      border-bottom-color: var(--fill-color);\n",
              "    }\n",
              "  }\n",
              "</style>\n",
              "\n",
              "  <script>\n",
              "    async function quickchart(key) {\n",
              "      const quickchartButtonEl =\n",
              "        document.querySelector('#' + key + ' button');\n",
              "      quickchartButtonEl.disabled = true;  // To prevent multiple clicks.\n",
              "      quickchartButtonEl.classList.add('colab-df-spinner');\n",
              "      try {\n",
              "        const charts = await google.colab.kernel.invokeFunction(\n",
              "            'suggestCharts', [key], {});\n",
              "      } catch (error) {\n",
              "        console.error('Error during call to suggestCharts:', error);\n",
              "      }\n",
              "      quickchartButtonEl.classList.remove('colab-df-spinner');\n",
              "      quickchartButtonEl.classList.add('colab-df-quickchart-complete');\n",
              "    }\n",
              "    (() => {\n",
              "      let quickchartButtonEl =\n",
              "        document.querySelector('#df-30eea698-8bbd-4b05-a117-0224cc1a0606 button');\n",
              "      quickchartButtonEl.style.display =\n",
              "        google.colab.kernel.accessAllowed ? 'block' : 'none';\n",
              "    })();\n",
              "  </script>\n",
              "</div>\n",
              "\n",
              "  <div id=\"id_ca92d162-8312-43ed-8c7d-186fbc791c72\">\n",
              "    <style>\n",
              "      .colab-df-generate {\n",
              "        background-color: #E8F0FE;\n",
              "        border: none;\n",
              "        border-radius: 50%;\n",
              "        cursor: pointer;\n",
              "        display: none;\n",
              "        fill: #1967D2;\n",
              "        height: 32px;\n",
              "        padding: 0 0 0 0;\n",
              "        width: 32px;\n",
              "      }\n",
              "\n",
              "      .colab-df-generate:hover {\n",
              "        background-color: #E2EBFA;\n",
              "        box-shadow: 0px 1px 2px rgba(60, 64, 67, 0.3), 0px 1px 3px 1px rgba(60, 64, 67, 0.15);\n",
              "        fill: #174EA6;\n",
              "      }\n",
              "\n",
              "      [theme=dark] .colab-df-generate {\n",
              "        background-color: #3B4455;\n",
              "        fill: #D2E3FC;\n",
              "      }\n",
              "\n",
              "      [theme=dark] .colab-df-generate:hover {\n",
              "        background-color: #434B5C;\n",
              "        box-shadow: 0px 1px 3px 1px rgba(0, 0, 0, 0.15);\n",
              "        filter: drop-shadow(0px 1px 2px rgba(0, 0, 0, 0.3));\n",
              "        fill: #FFFFFF;\n",
              "      }\n",
              "    </style>\n",
              "    <button class=\"colab-df-generate\" onclick=\"generateWithVariable('missing_values')\"\n",
              "            title=\"Generate code using this dataframe.\"\n",
              "            style=\"display:none;\">\n",
              "\n",
              "  <svg xmlns=\"http://www.w3.org/2000/svg\" height=\"24px\"viewBox=\"0 0 24 24\"\n",
              "       width=\"24px\">\n",
              "    <path d=\"M7,19H8.4L18.45,9,17,7.55,7,17.6ZM5,21V16.75L18.45,3.32a2,2,0,0,1,2.83,0l1.4,1.43a1.91,1.91,0,0,1,.58,1.4,1.91,1.91,0,0,1-.58,1.4L9.25,21ZM18.45,9,17,7.55Zm-12,3A5.31,5.31,0,0,0,4.9,8.1,5.31,5.31,0,0,0,1,6.5,5.31,5.31,0,0,0,4.9,4.9,5.31,5.31,0,0,0,6.5,1,5.31,5.31,0,0,0,8.1,4.9,5.31,5.31,0,0,0,12,6.5,5.46,5.46,0,0,0,6.5,12Z\"/>\n",
              "  </svg>\n",
              "    </button>\n",
              "    <script>\n",
              "      (() => {\n",
              "      const buttonEl =\n",
              "        document.querySelector('#id_ca92d162-8312-43ed-8c7d-186fbc791c72 button.colab-df-generate');\n",
              "      buttonEl.style.display =\n",
              "        google.colab.kernel.accessAllowed ? 'block' : 'none';\n",
              "\n",
              "      buttonEl.onclick = () => {\n",
              "        google.colab.notebook.generateWithVariable('missing_values');\n",
              "      }\n",
              "      })();\n",
              "    </script>\n",
              "  </div>\n",
              "\n",
              "    </div>\n",
              "  </div>\n"
            ],
            "application/vnd.google.colaboratory.intrinsic+json": {
              "type": "dataframe",
              "variable_name": "missing_values",
              "summary": "{\n  \"name\": \"missing_values\",\n  \"rows\": 5,\n  \"fields\": [\n    {\n      \"column\": \"missing_values\",\n      \"properties\": {\n        \"dtype\": \"number\",\n        \"std\": 0,\n        \"min\": 0,\n        \"max\": 1,\n        \"num_unique_values\": 2,\n        \"samples\": [\n          1,\n          0\n        ],\n        \"semantic_type\": \"\",\n        \"description\": \"\"\n      }\n    }\n  ]\n}"
            }
          },
          "metadata": {},
          "execution_count": 21
        }
      ]
    },
    {
      "cell_type": "code",
      "source": [
        "missing_tag_row = questions_df[questions_df['tags'].isnull()]\n",
        "missing_tag_row"
      ],
      "metadata": {
        "colab": {
          "base_uri": "https://localhost:8080/",
          "height": 89
        },
        "id": "wXb8Sz4npWO2",
        "outputId": "996e24f2-91a3-43e5-ccf6-2676b816a4a6"
      },
      "execution_count": 22,
      "outputs": [
        {
          "output_type": "execute_result",
          "data": {
            "text/plain": [
              "       question_id  bundle_id  correct_answer  part tags\n",
              "10033        10033      10033               2     6  NaN"
            ],
            "text/html": [
              "\n",
              "  <div id=\"df-b5051012-91e7-461a-ae9e-be5242f532f3\" class=\"colab-df-container\">\n",
              "    <div>\n",
              "<style scoped>\n",
              "    .dataframe tbody tr th:only-of-type {\n",
              "        vertical-align: middle;\n",
              "    }\n",
              "\n",
              "    .dataframe tbody tr th {\n",
              "        vertical-align: top;\n",
              "    }\n",
              "\n",
              "    .dataframe thead th {\n",
              "        text-align: right;\n",
              "    }\n",
              "</style>\n",
              "<table border=\"1\" class=\"dataframe\">\n",
              "  <thead>\n",
              "    <tr style=\"text-align: right;\">\n",
              "      <th></th>\n",
              "      <th>question_id</th>\n",
              "      <th>bundle_id</th>\n",
              "      <th>correct_answer</th>\n",
              "      <th>part</th>\n",
              "      <th>tags</th>\n",
              "    </tr>\n",
              "  </thead>\n",
              "  <tbody>\n",
              "    <tr>\n",
              "      <th>10033</th>\n",
              "      <td>10033</td>\n",
              "      <td>10033</td>\n",
              "      <td>2</td>\n",
              "      <td>6</td>\n",
              "      <td>NaN</td>\n",
              "    </tr>\n",
              "  </tbody>\n",
              "</table>\n",
              "</div>\n",
              "    <div class=\"colab-df-buttons\">\n",
              "\n",
              "  <div class=\"colab-df-container\">\n",
              "    <button class=\"colab-df-convert\" onclick=\"convertToInteractive('df-b5051012-91e7-461a-ae9e-be5242f532f3')\"\n",
              "            title=\"Convert this dataframe to an interactive table.\"\n",
              "            style=\"display:none;\">\n",
              "\n",
              "  <svg xmlns=\"http://www.w3.org/2000/svg\" height=\"24px\" viewBox=\"0 -960 960 960\">\n",
              "    <path d=\"M120-120v-720h720v720H120Zm60-500h600v-160H180v160Zm220 220h160v-160H400v160Zm0 220h160v-160H400v160ZM180-400h160v-160H180v160Zm440 0h160v-160H620v160ZM180-180h160v-160H180v160Zm440 0h160v-160H620v160Z\"/>\n",
              "  </svg>\n",
              "    </button>\n",
              "\n",
              "  <style>\n",
              "    .colab-df-container {\n",
              "      display:flex;\n",
              "      gap: 12px;\n",
              "    }\n",
              "\n",
              "    .colab-df-convert {\n",
              "      background-color: #E8F0FE;\n",
              "      border: none;\n",
              "      border-radius: 50%;\n",
              "      cursor: pointer;\n",
              "      display: none;\n",
              "      fill: #1967D2;\n",
              "      height: 32px;\n",
              "      padding: 0 0 0 0;\n",
              "      width: 32px;\n",
              "    }\n",
              "\n",
              "    .colab-df-convert:hover {\n",
              "      background-color: #E2EBFA;\n",
              "      box-shadow: 0px 1px 2px rgba(60, 64, 67, 0.3), 0px 1px 3px 1px rgba(60, 64, 67, 0.15);\n",
              "      fill: #174EA6;\n",
              "    }\n",
              "\n",
              "    .colab-df-buttons div {\n",
              "      margin-bottom: 4px;\n",
              "    }\n",
              "\n",
              "    [theme=dark] .colab-df-convert {\n",
              "      background-color: #3B4455;\n",
              "      fill: #D2E3FC;\n",
              "    }\n",
              "\n",
              "    [theme=dark] .colab-df-convert:hover {\n",
              "      background-color: #434B5C;\n",
              "      box-shadow: 0px 1px 3px 1px rgba(0, 0, 0, 0.15);\n",
              "      filter: drop-shadow(0px 1px 2px rgba(0, 0, 0, 0.3));\n",
              "      fill: #FFFFFF;\n",
              "    }\n",
              "  </style>\n",
              "\n",
              "    <script>\n",
              "      const buttonEl =\n",
              "        document.querySelector('#df-b5051012-91e7-461a-ae9e-be5242f532f3 button.colab-df-convert');\n",
              "      buttonEl.style.display =\n",
              "        google.colab.kernel.accessAllowed ? 'block' : 'none';\n",
              "\n",
              "      async function convertToInteractive(key) {\n",
              "        const element = document.querySelector('#df-b5051012-91e7-461a-ae9e-be5242f532f3');\n",
              "        const dataTable =\n",
              "          await google.colab.kernel.invokeFunction('convertToInteractive',\n",
              "                                                    [key], {});\n",
              "        if (!dataTable) return;\n",
              "\n",
              "        const docLinkHtml = 'Like what you see? Visit the ' +\n",
              "          '<a target=\"_blank\" href=https://colab.research.google.com/notebooks/data_table.ipynb>data table notebook</a>'\n",
              "          + ' to learn more about interactive tables.';\n",
              "        element.innerHTML = '';\n",
              "        dataTable['output_type'] = 'display_data';\n",
              "        await google.colab.output.renderOutput(dataTable, element);\n",
              "        const docLink = document.createElement('div');\n",
              "        docLink.innerHTML = docLinkHtml;\n",
              "        element.appendChild(docLink);\n",
              "      }\n",
              "    </script>\n",
              "  </div>\n",
              "\n",
              "\n",
              "  <div id=\"id_4c6a7b67-af13-4141-ae7b-e920f3966ae0\">\n",
              "    <style>\n",
              "      .colab-df-generate {\n",
              "        background-color: #E8F0FE;\n",
              "        border: none;\n",
              "        border-radius: 50%;\n",
              "        cursor: pointer;\n",
              "        display: none;\n",
              "        fill: #1967D2;\n",
              "        height: 32px;\n",
              "        padding: 0 0 0 0;\n",
              "        width: 32px;\n",
              "      }\n",
              "\n",
              "      .colab-df-generate:hover {\n",
              "        background-color: #E2EBFA;\n",
              "        box-shadow: 0px 1px 2px rgba(60, 64, 67, 0.3), 0px 1px 3px 1px rgba(60, 64, 67, 0.15);\n",
              "        fill: #174EA6;\n",
              "      }\n",
              "\n",
              "      [theme=dark] .colab-df-generate {\n",
              "        background-color: #3B4455;\n",
              "        fill: #D2E3FC;\n",
              "      }\n",
              "\n",
              "      [theme=dark] .colab-df-generate:hover {\n",
              "        background-color: #434B5C;\n",
              "        box-shadow: 0px 1px 3px 1px rgba(0, 0, 0, 0.15);\n",
              "        filter: drop-shadow(0px 1px 2px rgba(0, 0, 0, 0.3));\n",
              "        fill: #FFFFFF;\n",
              "      }\n",
              "    </style>\n",
              "    <button class=\"colab-df-generate\" onclick=\"generateWithVariable('missing_tag_row')\"\n",
              "            title=\"Generate code using this dataframe.\"\n",
              "            style=\"display:none;\">\n",
              "\n",
              "  <svg xmlns=\"http://www.w3.org/2000/svg\" height=\"24px\"viewBox=\"0 0 24 24\"\n",
              "       width=\"24px\">\n",
              "    <path d=\"M7,19H8.4L18.45,9,17,7.55,7,17.6ZM5,21V16.75L18.45,3.32a2,2,0,0,1,2.83,0l1.4,1.43a1.91,1.91,0,0,1,.58,1.4,1.91,1.91,0,0,1-.58,1.4L9.25,21ZM18.45,9,17,7.55Zm-12,3A5.31,5.31,0,0,0,4.9,8.1,5.31,5.31,0,0,0,1,6.5,5.31,5.31,0,0,0,4.9,4.9,5.31,5.31,0,0,0,6.5,1,5.31,5.31,0,0,0,8.1,4.9,5.31,5.31,0,0,0,12,6.5,5.46,5.46,0,0,0,6.5,12Z\"/>\n",
              "  </svg>\n",
              "    </button>\n",
              "    <script>\n",
              "      (() => {\n",
              "      const buttonEl =\n",
              "        document.querySelector('#id_4c6a7b67-af13-4141-ae7b-e920f3966ae0 button.colab-df-generate');\n",
              "      buttonEl.style.display =\n",
              "        google.colab.kernel.accessAllowed ? 'block' : 'none';\n",
              "\n",
              "      buttonEl.onclick = () => {\n",
              "        google.colab.notebook.generateWithVariable('missing_tag_row');\n",
              "      }\n",
              "      })();\n",
              "    </script>\n",
              "  </div>\n",
              "\n",
              "    </div>\n",
              "  </div>\n"
            ],
            "application/vnd.google.colaboratory.intrinsic+json": {
              "type": "dataframe",
              "variable_name": "missing_tag_row",
              "repr_error": "0"
            }
          },
          "metadata": {},
          "execution_count": 22
        }
      ]
    },
    {
      "cell_type": "markdown",
      "source": [
        "Only 1 missing value for the 'tags' variable - at this size of a dataset, the entire row can probably be deleted, however, as the question_id is a foreign key for the main dataset, it's important to check what is the reprasentation of this particular question in that dataset.\n"
      ],
      "metadata": {
        "id": "TrW7bKfxpnSm"
      }
    },
    {
      "cell_type": "code",
      "source": [
        "missing_question_id = missing_tag_row['question_id'].iloc[0]  # Extract the question_id\n",
        "question_id_counts = train_df[train_df['content_id'] == missing_question_id].shape[0]\n",
        "\n",
        "print(f\"Occurrences of question_id {missing_question_id}: {question_id_counts}\")"
      ],
      "metadata": {
        "colab": {
          "base_uri": "https://localhost:8080/"
        },
        "id": "sHvw2I6vpOR-",
        "outputId": "938ec51a-cbf6-4810-a6a4-092a2e337fa5"
      },
      "execution_count": 23,
      "outputs": [
        {
          "output_type": "stream",
          "name": "stdout",
          "text": [
            "Occurrences of question_id 10033: 1\n"
          ]
        }
      ]
    },
    {
      "cell_type": "code",
      "source": [
        "row = train_df.loc[train_df['content_id'] == 10033]\n",
        "print(row)"
      ],
      "metadata": {
        "colab": {
          "base_uri": "https://localhost:8080/"
        },
        "id": "AxlCZGMauuUN",
        "outputId": "c6bb7981-3f43-4053-c8f9-d6e001eb18b5"
      },
      "execution_count": 24,
      "outputs": [
        {
          "output_type": "stream",
          "name": "stdout",
          "text": [
            "           timestamp     user_id  content_id  content_type_id  \\\n",
            "62750278  1286282597  1333688829       10033            False   \n",
            "\n",
            "          task_container_id  answered_correctly  prior_question_elapsed_time  \\\n",
            "62750278               1127                   1                      35000.0   \n",
            "\n",
            "          prior_question_had_explanation  \n",
            "62750278                            True  \n"
          ]
        }
      ]
    },
    {
      "cell_type": "markdown",
      "source": [
        "The question_id 10033 is only found once across the whole train.pkl.gzip dataset with 101+ million rows so it's safe to say we can delete that row from question_df as well as train_df."
      ],
      "metadata": {
        "id": "L_wGakeYrCcT"
      }
    },
    {
      "cell_type": "code",
      "source": [
        "questions_df = questions_df.dropna(subset=['tags'])  # Drop rows with missing 'tags'"
      ],
      "metadata": {
        "id": "NFshcHyfqw4G"
      },
      "execution_count": 25,
      "outputs": []
    },
    {
      "cell_type": "code",
      "source": [
        "train_df = train_df.drop(train_df[train_df['content_id'] == 10033].index)"
      ],
      "metadata": {
        "id": "4yliyvV6lQsR"
      },
      "execution_count": 14,
      "outputs": []
    },
    {
      "cell_type": "code",
      "source": [
        "missing_question_id = missing_tag_row['question_id'].iloc[0]  # Extract the question_id\n",
        "question_id_counts = train_df[train_df['content_id'] == missing_question_id].shape[0]\n",
        "\n",
        "print(f\"Occurrences of question_id {missing_question_id}: {question_id_counts}\")"
      ],
      "metadata": {
        "id": "k1ysilGQAp9G",
        "outputId": "3d6ef07a-bc28-4cf3-ac06-32e4f046d820",
        "colab": {
          "base_uri": "https://localhost:8080/"
        }
      },
      "execution_count": 27,
      "outputs": [
        {
          "output_type": "stream",
          "name": "stdout",
          "text": [
            "Occurrences of question_id 10033: 0\n"
          ]
        }
      ]
    },
    {
      "cell_type": "markdown",
      "source": [
        "### Outliers"
      ],
      "metadata": {
        "id": "ETnl_BNVc0EX"
      }
    },
    {
      "cell_type": "markdown",
      "source": [
        "#### Functions"
      ],
      "metadata": {
        "id": "HvILiUfgdm0i"
      }
    },
    {
      "cell_type": "code",
      "source": [
        "def plot_boxplot(data, x=None, y=None, hue=None, color=None, title=None, horizontal=False):\n",
        "    \"\"\"\n",
        "    Creates a customizable box plot.\n",
        "\n",
        "    Parameters:\n",
        "    - data: Pandas DataFrame containing the data.\n",
        "    - x: Column name for the x-axis (categorical).\n",
        "    - y: Column name for the y-axis (numeric).\n",
        "    - hue: Optional column for additional grouping.\n",
        "    - color: Optional color for the boxes.\n",
        "    - title: Optional title for the plot.\n",
        "    - horizontal: Boolean to plot horizontally (default is vertical).\n",
        "    \"\"\"\n",
        "\n",
        "    sample_size = 100000  # Define sample size here\n",
        "    # Sample the data if it's larger than the sample size\n",
        "    if len(data) > sample_size:\n",
        "        data = data.sample(n=sample_size)  # Random sampling without replacement\n",
        "\n",
        "    # Set orientation\n",
        "    orient = 'h' if horizontal else 'v'\n",
        "\n",
        "    plt.figure(figsize=(5, 5)) # Create a 'canvas' to draw the plot onto\n",
        "    # plt.figure(figsize=figsize) - alternate code if parameter given in function call\n",
        "    sns.boxplot(data=data, x=x, y=y, hue=hue, orient=orient) # Create the boxplot\n",
        "\n",
        "    # Custom labels and title\n",
        "    if horizontal:\n",
        "        plt.xlabel(y)  # In horizontal orientation, y values are on x-axis\n",
        "        plt.ylabel(x)  # In horizontal orientation, x values are on y-axis\n",
        "    else:\n",
        "        plt.xlabel(x)\n",
        "        plt.ylabel(y)\n",
        "        # In vertical orientation, x values are on x-axis, y values are on y-axis\n",
        "    if title:\n",
        "        plt.title(title) # add title to plot if provided in function call\n",
        "\n",
        "    # Handle label rotation for vertical plots with many categories\n",
        "    if orient == 'v' and x is not None:\n",
        "        plt.xticks(rotation=45, ha='right')\n",
        "\n",
        "    plt.tight_layout() # adjusts the plot padding to ensure all labels fit within the figure without being cut off\n",
        "    plt.show() # display plot\n",
        "\n",
        "# Example usage:\n",
        "# plot_boxplot(df, x='category', y='value')                  # Basic vertical boxplot\n",
        "# plot_boxplot(df, x='value', y='category', orient='h')      # Horizontal boxplot\n",
        "# plot_boxplot(df, x='category', y='value', hue='group')     # Grouped boxplot\n",
        "\n",
        "    # additional parameters\n",
        "    # xlabel=None, ylabel=None, figsize=(8, 5), orient='v', showfliers=True, palette=None\n",
        "    \"\"\"\n",
        "    Parameters:\n",
        "    - color: Optional color for the boxes.\n",
        "    - xlabel: Optional x-axis label.\n",
        "    - ylabel: Optional y-axis label.\n",
        "    - figsize: Tuple defining the figure size (default=(8,5)).\n",
        "    - orient: Orientation of the plot ('v' for vertical, 'h' for horizontal).\n",
        "    - showfliers: Whether to show outlier points (default=True).\n",
        "    - palette: Color palette for groups when hue is specified.\n",
        "    \"\"\""
      ],
      "metadata": {
        "id": "5j2ion8rS8T_"
      },
      "execution_count": 15,
      "outputs": []
    },
    {
      "cell_type": "markdown",
      "source": [
        "#### timestamp"
      ],
      "metadata": {
        "id": "gMzVS9Wxd2Id"
      }
    },
    {
      "cell_type": "code",
      "source": [
        "plot_boxplot(train_df, y=\"timestamp\", title=\"Boxplot of Timestamp\")"
      ],
      "metadata": {
        "id": "sQKV0Fe2GO-v",
        "outputId": "bf38198d-b061-4511-d614-236de7e99176",
        "colab": {
          "base_uri": "https://localhost:8080/",
          "height": 507
        }
      },
      "execution_count": 16,
      "outputs": [
        {
          "output_type": "display_data",
          "data": {
            "text/plain": [
              "<Figure size 500x500 with 1 Axes>"
            ],
            "image/png": "[encoded data removed]"
          },
          "metadata": {}
        }
      ]
    },
    {
      "cell_type": "markdown",
      "source": [
        "Is it ok to erase pretty much 10% of data as outliers or is it valuable data for our predicitions?"
      ],
      "metadata": {
        "id": "-0FkakTwCS8j"
      }
    },
    {
      "cell_type": "code",
      "source": [
        "# Total rows we started with\n",
        "total = len(train_df)\n",
        "feature = \"timestamp\"\n",
        "\n",
        "# Compute Outliers\n",
        "Q1 = np.percentile(train_df[feature].values, q = 25)\n",
        "Q3 = np.percentile(train_df[feature].values, q = 75)\n",
        "IQR = Q3 - Q1\n",
        "\n",
        "# We'll look only at the upper interval outliers\n",
        "outlier_boundry = Q3 + 1.5*IQR\n",
        "\n",
        "print('Timestamp: around {:.2}% of the data would be erased.'.format(len(train_df[train_df[feature] >= outlier_boundry])/total * 100),\n",
        "      \"\\n\"+\n",
        "      'The outlier boundry is {:,}, which means {:,.5} hrs, which means {:,.5} days.'.format(outlier_boundry, (outlier_boundry / 3.6e+6), (outlier_boundry / 3.6e+6)/24))\n",
        "\n",
        "gc.collect()"
      ],
      "metadata": {
        "id": "pRWZ05gbc6hf",
        "colab": {
          "base_uri": "https://localhost:8080/"
        },
        "outputId": "5146f3fe-1df4-44bb-88cb-4f9d539a41e0"
      },
      "execution_count": 34,
      "outputs": [
        {
          "output_type": "stream",
          "name": "stdout",
          "text": [
            "Timestamp: around 9.4% of the data would be erased. \n",
            "The outlier boundry is 24,024,861,244.75, which means 6,673.6 hrs, which means 278.07 days.\n"
          ]
        },
        {
          "output_type": "execute_result",
          "data": {
            "text/plain": [
              "100"
            ]
          },
          "metadata": {},
          "execution_count": 34
        }
      ]
    },
    {
      "cell_type": "markdown",
      "source": [
        "The very high values for timestamp show us users that have engaged with the platform for close to a year and up to nearly 3 years. This seems like a valuable data we don't want to lose as we can calculate their progress from that."
      ],
      "metadata": {
        "id": "Rts3xPUxHNkl"
      }
    },
    {
      "cell_type": "markdown",
      "source": [
        "#### Engagement count among users"
      ],
      "metadata": {
        "id": "hFq7_HDKYEbE"
      }
    },
    {
      "cell_type": "markdown",
      "source": [
        "It could potentially be beneficial to erase data for users with low engagement count, e.g. 5, and treat it as outliers. However, these could be fairly new users so have to be careful there to delete their data too as it could have good value for comparison with long standing users and their success on the platform."
      ],
      "metadata": {
        "id": "5c6kTbE2DiLm"
      }
    },
    {
      "cell_type": "code",
      "source": [
        "user_id_counts = train_df.groupby('user_id').size()\n",
        "\n",
        "# Display in tabular format\n",
        "print(user_id_counts)"
      ],
      "metadata": {
        "id": "G2n3HijIJ_-R",
        "outputId": "f6ad5b17-c5ff-4bc3-ce44-e9f08a63e551",
        "colab": {
          "base_uri": "https://localhost:8080/"
        }
      },
      "execution_count": 55,
      "outputs": [
        {
          "output_type": "stream",
          "name": "stdout",
          "text": [
            "user_id\n",
            "115            46\n",
            "124            30\n",
            "2746           20\n",
            "5382          128\n",
            "8623          112\n",
            "             ... \n",
            "2147470770    228\n",
            "2147470777    758\n",
            "2147481750     50\n",
            "2147482216    280\n",
            "2147482888     27\n",
            "Length: 393656, dtype: int64\n"
          ]
        }
      ]
    },
    {
      "cell_type": "code",
      "source": [
        "# Basic descriptive statistics\n",
        "print(\"Minimum occurrences:\", user_id_counts.min())\n",
        "print(\"Maximum occurrences:\", user_id_counts.max())\n",
        "print(\"Average occurrences:\", user_id_counts.mean())\n",
        "print(\"Median occurrences:\", user_id_counts.median())"
      ],
      "metadata": {
        "id": "bRSY8IbkKBn-",
        "outputId": "403d2b2c-5939-4c1b-8029-f9a4a9ebfae2",
        "colab": {
          "base_uri": "https://localhost:8080/"
        }
      },
      "execution_count": 56,
      "outputs": [
        {
          "output_type": "stream",
          "name": "stdout",
          "text": [
            "Minimum occurrences: 1\n",
            "Maximum occurrences: 17917\n",
            "Average occurrences: 257.15429461255513\n",
            "Median occurrences: 41.0\n"
          ]
        }
      ]
    },
    {
      "cell_type": "code",
      "source": [
        "# Quantiles (e.g., 25th, 50th, 75th percentiles)\n",
        "quantiles = user_id_counts.quantile([0.25, 0.5, 0.75])\n",
        "print(quantiles)"
      ],
      "metadata": {
        "id": "Htw1xKKFKDjs",
        "outputId": "2bf2b27d-9005-41b6-ed49-c24775129d5d",
        "colab": {
          "base_uri": "https://localhost:8080/"
        }
      },
      "execution_count": 57,
      "outputs": [
        {
          "output_type": "stream",
          "name": "stdout",
          "text": [
            "0.25     30.0\n",
            "0.50     41.0\n",
            "0.75    157.0\n",
            "dtype: float64\n"
          ]
        }
      ]
    },
    {
      "cell_type": "code",
      "source": [
        "# Specific percentiles (e.g., 90th, 95th, 99th)\n",
        "percentiles = user_id_counts.quantile([0.9, 0.95, 0.99])\n",
        "print(percentiles)"
      ],
      "metadata": {
        "id": "XbKGBGPnKFGd",
        "outputId": "c31ebd21-ef02-4601-a6d4-6cde9107577b",
        "colab": {
          "base_uri": "https://localhost:8080/"
        }
      },
      "execution_count": 58,
      "outputs": [
        {
          "output_type": "stream",
          "name": "stdout",
          "text": [
            "0.90     590.00\n",
            "0.95    1175.00\n",
            "0.99    3504.45\n",
            "dtype: float64\n"
          ]
        }
      ]
    },
    {
      "cell_type": "code",
      "source": [
        "# Specific percentiles (e.g., 1st, 25th, 10th)\n",
        "percentiles = user_id_counts.quantile([0.01, 0.05, 0.1])\n",
        "print(percentiles)"
      ],
      "metadata": {
        "id": "poYd5MELKNnr",
        "outputId": "1975ca89-3044-4387-9b74-ace70d197d65",
        "colab": {
          "base_uri": "https://localhost:8080/"
        }
      },
      "execution_count": 59,
      "outputs": [
        {
          "output_type": "stream",
          "name": "stdout",
          "text": [
            "0.01    11.0\n",
            "0.05    14.0\n",
            "0.10    17.0\n",
            "dtype: float64\n"
          ]
        }
      ]
    },
    {
      "cell_type": "code",
      "source": [
        "# Export to a CSV file\n",
        "user_id_counts.to_csv('user_id_counts.csv', header=['count'])\n",
        "print(\"User ID counts saved to user_id_counts.csv\")"
      ],
      "metadata": {
        "id": "YXhLvXzhFuQs",
        "outputId": "338988b3-1369-44c9-dc40-0654e934e601",
        "colab": {
          "base_uri": "https://localhost:8080/"
        }
      },
      "execution_count": 51,
      "outputs": [
        {
          "output_type": "stream",
          "name": "stdout",
          "text": [
            "User ID counts saved to user_id_counts.csv\n"
          ]
        }
      ]
    },
    {
      "cell_type": "code",
      "source": [
        "# Group by 'user_id' and count occurrences\n",
        "user_engagement_counts = train_df.groupby('user_id').size()\n",
        "\n",
        "# Filter for users with only one engagement\n",
        "single_engagement_users = user_engagement_counts[user_engagement_counts == 1]\n",
        "\n",
        "# Count the number of such users\n",
        "num_single_engagement_users = len(single_engagement_users)\n",
        "\n",
        "# Print the result\n",
        "print(f\"Number of people who engaged only once: {num_single_engagement_users}\")"
      ],
      "metadata": {
        "id": "F_38jynWKw48",
        "outputId": "9c50d091-29d9-4f81-cdf9-187bfbc940b2",
        "colab": {
          "base_uri": "https://localhost:8080/"
        }
      },
      "execution_count": 62,
      "outputs": [
        {
          "output_type": "stream",
          "name": "stdout",
          "text": [
            "Number of people who engaged only once: 87\n"
          ]
        }
      ]
    },
    {
      "cell_type": "code",
      "source": [
        "# Group by 'user_id' and count occurrences\n",
        "user_engagement_counts = train_df.groupby('user_id').size()\n",
        "\n",
        "# Filter for users with engagements between 1 and 5\n",
        "engagement_range_users = user_engagement_counts[\n",
        "    (user_engagement_counts >= 1) & (user_engagement_counts <= 11)\n",
        "]\n",
        "\n",
        "# Count the number of such users\n",
        "num_engagement_range_users = len(engagement_range_users)\n",
        "\n",
        "# Print the result\n",
        "print(\n",
        "    \"Number of people who engaged between 1 and 5 times:\"\n",
        "    f\" {num_engagement_range_users}\"\n",
        ")"
      ],
      "metadata": {
        "id": "7O2g1oE0LF8Z",
        "outputId": "0d5e8613-7823-438b-d99a-f06452b8fefd",
        "colab": {
          "base_uri": "https://localhost:8080/"
        }
      },
      "execution_count": 65,
      "outputs": [
        {
          "output_type": "stream",
          "name": "stdout",
          "text": [
            "Number of people who engaged between 1 and 5 times: 3946\n"
          ]
        }
      ]
    },
    {
      "cell_type": "code",
      "source": [
        "# Group by 'user_id' and count occurrences\n",
        "user_engagement_counts = train_df.groupby('user_id').size()\n",
        "\n",
        "# Filter for users with engagements between 1 and 11\n",
        "users_to_remove = user_engagement_counts[\n",
        "    (user_engagement_counts >= 1) & (user_engagement_counts <= 11)\n",
        "].index\n",
        "\n",
        "# Remove those users from the main DataFrame\n",
        "train_df = train_df[~train_df['user_id'].isin(users_to_remove)]"
      ],
      "metadata": {
        "id": "FuZJFhQfMWR9"
      },
      "execution_count": null,
      "outputs": []
    },
    {
      "cell_type": "code",
      "source": [
        "# Calculate the number of rows removed\n",
        "rows_removed = len(user_engagement_counts[ (user_engagement_counts >= 1) & (user_engagement_counts <= 11)])\n",
        "\n",
        "# Print the number of removed rows\n",
        "print(f\"Number of rows removed: {rows_removed}\")"
      ],
      "metadata": {
        "id": "TcsWE5nqN042",
        "outputId": "38e72aab-3468-4e05-e198-38677eaca648",
        "colab": {
          "base_uri": "https://localhost:8080/"
        }
      },
      "execution_count": 69,
      "outputs": [
        {
          "output_type": "stream",
          "name": "stdout",
          "text": [
            "Number of rows removed: 0\n"
          ]
        }
      ]
    },
    {
      "cell_type": "code",
      "source": [
        "# violin plot\n",
        "plt.figure(figsize=(8, 6))\n",
        "sns.violinplot(y=user_id_counts)\n",
        "plt.title(\"Distribution of User ID Occurrences\")\n",
        "plt.ylabel(\"Number of Occurrences\")\n",
        "plt.show()"
      ],
      "metadata": {
        "id": "Of6TUKaW0pnR",
        "outputId": "99e9afe9-0ea9-4cd7-de97-4af4f44df000",
        "colab": {
          "base_uri": "https://localhost:8080/",
          "height": 465
        }
      },
      "execution_count": 71,
      "outputs": [
        {
          "output_type": "display_data",
          "data": {
            "text/plain": [
              "<Figure size 800x600 with 1 Axes>"
            ],
            "image/png": "[encoded data removed]"
          },
          "metadata": {}
        }
      ]
    },
    {
      "cell_type": "code",
      "source": [
        "# Select numerical columns\n",
        "numerical_cols = maths.select_dtypes(include=np.number).columns\n",
        "\n",
        "# Calculate the number of rows and columns for the subplots\n",
        "num_cols = 5  # Number of columns per row\n",
        "num_rows = int(np.ceil(len(numerical_cols) / num_cols))  # Calculate the number of rows needed\n",
        "\n",
        "# Create a figure and axes\n",
        "fig, axes = plt.subplots(num_rows, num_cols, figsize=(20, num_rows * 5))\n",
        "\n",
        "# Flatten the axes array for easier iteration\n",
        "axes = axes.flatten()\n",
        "\n",
        "# Plot KDEs in a loop\n",
        "for i, col in enumerate(numerical_cols):\n",
        "    sns.boxplot(data=maths[col], fill=True, ax=axes[i])\n",
        "    axes[i].set_title(f'Density of {col}')\n",
        "    axes[i].set_xlabel(col)\n",
        "    axes[i].set_ylabel('Density')\n",
        "\n",
        "# Hide any extra empty subplots\n",
        "for i in range(len(numerical_cols), num_rows * num_cols):\n",
        "    axes[i].set_visible(False)\n",
        "\n",
        "plt.tight_layout()\n",
        "plt.show()"
      ],
      "metadata": {
        "id": "wbBPwPmn3xWD"
      },
      "execution_count": null,
      "outputs": []
    },
    {
      "cell_type": "code",
      "source": [
        "# Calculate z-scores for each column\n",
        "z_scores = np.abs((maths_encoded - maths_encoded.mean()) / maths_encoded.std())\n",
        "\n",
        "# Set threshold for z-scores (e.g., 4 standard deviations from the mean)\n",
        "threshold = 4\n",
        "\n",
        "# Remove outliers\n",
        "maths_clean = maths_encoded[(z_scores < threshold).all(axis=1)]\n",
        "maths_clean.reset_index(drop=True, inplace=True)\n",
        "\n",
        "# Verify the number of rows before and after\n",
        "print(\"Original dataset rows:\", maths_encoded.shape[0])\n",
        "print(\"Dataset rows after removing outliers:\", maths_clean.shape[0])\n",
        "\n",
        "# Save the cleaned dataset\n",
        "maths_clean.to_csv(\"cleaned_dataset_no_outliers.csv\", index=False)\n",
        "\n",
        "# Print the updated DataFrame (uncomment)\n",
        "# print(maths_clean)"
      ],
      "metadata": {
        "id": "DHN-WhyT31fP"
      },
      "execution_count": null,
      "outputs": []
    },
    {
      "cell_type": "markdown",
      "source": [
        "### Scaling"
      ],
      "metadata": {
        "id": "5YoS8pzr1GHB"
      }
    },
    {
      "cell_type": "code",
      "source": [
        "# zajistíme stejné měřítko provšechny sloupce od 0 - 1\n",
        "scaler = MinMaxScaler()\n",
        "X_scaled = scaler.fit_transform(X)\n",
        "# convert to a dataframe, for better readability\n",
        "X_scaled = pd.DataFrame(X_scaled, columns=X.columns)\n",
        "\n",
        "X_scaled.head()"
      ],
      "metadata": {
        "id": "JdPDcdUo4TaD"
      },
      "execution_count": null,
      "outputs": []
    },
    {
      "cell_type": "code",
      "source": [
        "# Select the numerical columns for standardization\n",
        "num_col = maths_encoded.select_dtypes(include=['number']).columns\n",
        "\n",
        "# Initialize the StandardScaler\n",
        "scaler = StandardScaler()\n",
        "\n",
        "# Standardize the numerical columns\n",
        "maths_encoded_standardized = maths_encoded.copy()  # Create a copy to avoid modifying the original\n",
        "maths_encoded_standardized[num_col] = scaler.fit_transform(maths_encoded[num_col])\n",
        "\n",
        "# Display the first few rows of the standardized data\n",
        "maths_encoded_standardized.head()"
      ],
      "metadata": {
        "id": "S43YYyj54aIB"
      },
      "execution_count": null,
      "outputs": []
    },
    {
      "cell_type": "markdown",
      "source": [
        "# EDA"
      ],
      "metadata": {
        "id": "7iME94Fr1EVl"
      }
    },
    {
      "cell_type": "markdown",
      "source": [
        "## Feature exploration"
      ],
      "metadata": {
        "id": "LqfXZBse7ray"
      }
    },
    {
      "cell_type": "markdown",
      "source": [
        "### train"
      ],
      "metadata": {
        "id": "EV4Ioz4kDAyo"
      }
    },
    {
      "cell_type": "markdown",
      "source": [
        "The 'timestamp' variable has values as high as 87 billion miliseconds which tells me nothing so I decided to convert it to days to get a better perspective on what that means for the dataset."
      ],
      "metadata": {
        "id": "_s1ghqFT1wxb"
      }
    },
    {
      "cell_type": "code",
      "source": [
        "max_timestamp = train_df['timestamp'].max()\n",
        "max_days = max_timestamp / (1000 * 60 * 60 * 24)  # Convert milliseconds to days\n",
        "max_years = max_days / 365.25  # Convert days to years (accounting for leap years)\n",
        "\n",
        "print(f\"Maximum timestamp in days: {max_days}\")\n",
        "print(f\"Maximum timestamp in years: {max_years}\")"
      ],
      "metadata": {
        "colab": {
          "base_uri": "https://localhost:8080/"
        },
        "id": "r6gJIOctzHg5",
        "outputId": "5d406ebd-f896-4ba7-d452-54d7f9088308"
      },
      "execution_count": null,
      "outputs": [
        {
          "output_type": "stream",
          "name": "stdout",
          "text": [
            "Maximum timestamp in days: 1011.8723616782407\n",
            "Maximum timestamp in years: 2.7703555418979895\n"
          ]
        }
      ]
    },
    {
      "cell_type": "markdown",
      "source": [
        "So thats about 2 and 3/4 of a year between interactions for the particular user so will have to explore if that is quite unique in the dataset and could be considered an outlier or if the time data really spans that much in general."
      ],
      "metadata": {
        "id": "-7SzeXSa2Rvl"
      }
    },
    {
      "cell_type": "markdown",
      "source": [
        "How many unique users in the dataset?"
      ],
      "metadata": {
        "id": "fezpKAyV3CvL"
      }
    },
    {
      "cell_type": "code",
      "source": [
        "num_unique_users = train_df['user_id'].nunique()\n",
        "print(f\"Number of unique users: {num_unique_users}\")"
      ],
      "metadata": {
        "colab": {
          "base_uri": "https://localhost:8080/"
        },
        "id": "uHXNzym-2RRG",
        "outputId": "8bb9e8e9-b334-4521-a97a-d0eb88d97a46"
      },
      "execution_count": null,
      "outputs": [
        {
          "output_type": "stream",
          "name": "stdout",
          "text": [
            "Number of unique users: 393656\n"
          ]
        }
      ]
    },
    {
      "cell_type": "markdown",
      "source": [
        "The 'content_id' is basically an 'question_id' form question.csv or 'lecture_id' from lecture.csv datasets and then the 'content_type_id' defines which one of these is it in the train.pkl.gzip dataset.\n",
        "\n",
        "It's boolean where False means if the event was a question being posed to the user, 1 if the event was the user watching a lecture."
      ],
      "metadata": {
        "id": "KYJz2hGe36TI"
      }
    },
    {
      "cell_type": "code",
      "source": [
        "train_df.content_type_id.value_counts()"
      ],
      "metadata": {
        "colab": {
          "base_uri": "https://localhost:8080/",
          "height": 178
        },
        "id": "RzShS3f34xl3",
        "outputId": "c4ec9191-29bd-4f86-801a-604edd060e43"
      },
      "execution_count": null,
      "outputs": [
        {
          "output_type": "execute_result",
          "data": {
            "text/plain": [
              "content_type_id\n",
              "False    99271300\n",
              "True      1959032\n",
              "Name: count, dtype: Int64"
            ],
            "text/html": [
              "<div>\n",
              "<style scoped>\n",
              "    .dataframe tbody tr th:only-of-type {\n",
              "        vertical-align: middle;\n",
              "    }\n",
              "\n",
              "    .dataframe tbody tr th {\n",
              "        vertical-align: top;\n",
              "    }\n",
              "\n",
              "    .dataframe thead th {\n",
              "        text-align: right;\n",
              "    }\n",
              "</style>\n",
              "<table border=\"1\" class=\"dataframe\">\n",
              "  <thead>\n",
              "    <tr style=\"text-align: right;\">\n",
              "      <th></th>\n",
              "      <th>count</th>\n",
              "    </tr>\n",
              "    <tr>\n",
              "      <th>content_type_id</th>\n",
              "      <th></th>\n",
              "    </tr>\n",
              "  </thead>\n",
              "  <tbody>\n",
              "    <tr>\n",
              "      <th>False</th>\n",
              "      <td>99271300</td>\n",
              "    </tr>\n",
              "    <tr>\n",
              "      <th>True</th>\n",
              "      <td>1959032</td>\n",
              "    </tr>\n",
              "  </tbody>\n",
              "</table>\n",
              "</div><br><label><b>dtype:</b> Int64</label>"
            ]
          },
          "metadata": {},
          "execution_count": 17
        }
      ]
    },
    {
      "cell_type": "code",
      "source": [
        "num_unique_content = train_df['content_id'].nunique()\n",
        "print(f\"Number of unique content: {num_unique_content}\")\n",
        "\n",
        "# Calculate and print unique questions and lectures in one line\n",
        "print(f\"Unique questions: {train_df[train_df.content_type_id == False].content_id.nunique()}\\nUnique lectures: {train_df[train_df.content_type_id == True].content_id.nunique()}\")"
      ],
      "metadata": {
        "colab": {
          "base_uri": "https://localhost:8080/"
        },
        "id": "BTij-tRW579c",
        "outputId": "a6a9f10f-b655-4aed-ec77-897fc99f1035"
      },
      "execution_count": null,
      "outputs": [
        {
          "output_type": "stream",
          "name": "stdout",
          "text": [
            "Number of unique content: 13782\n",
            "Unique questions: 13523\n",
            "Unique lectures: 415\n"
          ]
        }
      ]
    },
    {
      "cell_type": "markdown",
      "source": [
        "It seems that users are given questions in containers and then seeing explanations for them and potentially answers which then may hekp with answering the next batch of questions."
      ],
      "metadata": {
        "id": "4h77uSuu8FWX"
      }
    },
    {
      "cell_type": "code",
      "source": [
        "unique_task_container = train_df['task_container_id'].nunique()\n",
        "print(f\"Number of unique task containers: {unique_task_container}\")"
      ],
      "metadata": {
        "colab": {
          "base_uri": "https://localhost:8080/"
        },
        "id": "Zv7-u1Wc8iIn",
        "outputId": "22cefb6b-630b-415a-aebd-c933c64937e8"
      },
      "execution_count": null,
      "outputs": [
        {
          "output_type": "stream",
          "name": "stdout",
          "text": [
            "Number of unique task containers: 10000\n"
          ]
        }
      ]
    },
    {
      "cell_type": "markdown",
      "source": [
        "The variable 'user_answer' refers to what choice they picked out of multiple answer questions, numbers 0-3 refer to 4 choices, and number -1 means they engaged with a lecture instead.\n",
        "THIS FEATURE WAS DROPPED FROM THE DATASET."
      ],
      "metadata": {
        "id": "EwPRSJ-f9iiY"
      }
    },
    {
      "cell_type": "markdown",
      "source": [
        "The count for -1 (lectures) checks with the count in 'content_type_id'."
      ],
      "metadata": {
        "id": "HQnBARMN-RV5"
      }
    },
    {
      "cell_type": "markdown",
      "source": [
        "The variable 'answered_correctly' tells us if users got the question right(1) or wrong(0), or if they engaged with a lecture instead(-1). This is also the target variable for this analysis."
      ],
      "metadata": {
        "id": "ZzCNgDML-giO"
      }
    },
    {
      "cell_type": "code",
      "source": [
        "answered_correctly_counts = train_df.answered_correctly.value_counts()\n",
        "print(answered_correctly_counts)"
      ],
      "metadata": {
        "colab": {
          "base_uri": "https://localhost:8080/"
        },
        "id": "BKq9LVEM_uni",
        "outputId": "c6ac63b4-3bab-47ac-ba27-0490e087d827"
      },
      "execution_count": null,
      "outputs": [
        {
          "output_type": "stream",
          "name": "stdout",
          "text": [
            "answered_correctly\n",
            " 1    65244627\n",
            " 0    34026673\n",
            "-1     1959032\n",
            "Name: count, dtype: int64\n"
          ]
        }
      ]
    },
    {
      "cell_type": "markdown",
      "source": [
        "The maxiumum elapsed time since last question asked could also potentially have some outliers where people don't finish the container or leave the device withiut answering the question."
      ],
      "metadata": {
        "id": "lfYCjby0AHUD"
      }
    },
    {
      "cell_type": "code",
      "source": [
        "max_elapsed_time = train_df['prior_question_elapsed_time'].max()\n",
        "max_minutes = max_elapsed_time / 60000  # Convert milliseconds to minutes\n",
        "print(f\"Maximum elapsed time: {max_minutes}\")"
      ],
      "metadata": {
        "colab": {
          "base_uri": "https://localhost:8080/"
        },
        "id": "l853JX_NBG8Y",
        "outputId": "a885fb8f-4553-429d-e785-c88ba038eece"
      },
      "execution_count": null,
      "outputs": [
        {
          "output_type": "stream",
          "name": "stdout",
          "text": [
            "Maximum elapsed time: 5.0\n"
          ]
        }
      ]
    },
    {
      "cell_type": "markdown",
      "source": [
        "There probably is a cut off at 5 minutes per question."
      ],
      "metadata": {
        "id": "Yobou3seCGyR"
      }
    },
    {
      "cell_type": "markdown",
      "source": [
        "The last variable in the dataset is probably going to be quite imporatant to compare to predicting if the answers to questions were correct. It states in the description that in the beginning the questions asked were onboarding Qs so there wouldnt be feedback but as a student would progress on the platform they would be given some."
      ],
      "metadata": {
        "id": "3kb0gFrsCL3W"
      }
    },
    {
      "cell_type": "code",
      "source": [
        "train_df.prior_question_had_explanation.value_counts()\n"
      ],
      "metadata": {
        "colab": {
          "base_uri": "https://localhost:8080/",
          "height": 178
        },
        "id": "ylwjUyRjDGiv",
        "outputId": "31c4dd5e-21ef-44db-f6d0-d407bae88cfc"
      },
      "execution_count": null,
      "outputs": [
        {
          "output_type": "execute_result",
          "data": {
            "text/plain": [
              "prior_question_had_explanation\n",
              "True     89685560\n",
              "False    11152266\n",
              "Name: count, dtype: Int64"
            ],
            "text/html": [
              "<div>\n",
              "<style scoped>\n",
              "    .dataframe tbody tr th:only-of-type {\n",
              "        vertical-align: middle;\n",
              "    }\n",
              "\n",
              "    .dataframe tbody tr th {\n",
              "        vertical-align: top;\n",
              "    }\n",
              "\n",
              "    .dataframe thead th {\n",
              "        text-align: right;\n",
              "    }\n",
              "</style>\n",
              "<table border=\"1\" class=\"dataframe\">\n",
              "  <thead>\n",
              "    <tr style=\"text-align: right;\">\n",
              "      <th></th>\n",
              "      <th>count</th>\n",
              "    </tr>\n",
              "    <tr>\n",
              "      <th>prior_question_had_explanation</th>\n",
              "      <th></th>\n",
              "    </tr>\n",
              "  </thead>\n",
              "  <tbody>\n",
              "    <tr>\n",
              "      <th>True</th>\n",
              "      <td>89685560</td>\n",
              "    </tr>\n",
              "    <tr>\n",
              "      <th>False</th>\n",
              "      <td>11152266</td>\n",
              "    </tr>\n",
              "  </tbody>\n",
              "</table>\n",
              "</div><br><label><b>dtype:</b> Int64</label>"
            ]
          },
          "metadata": {},
          "execution_count": 26
        }
      ]
    },
    {
      "cell_type": "code",
      "source": [
        "percentages = train_df.prior_question_had_explanation.value_counts(normalize=True) * 100\n",
        "percentages"
      ],
      "metadata": {
        "colab": {
          "base_uri": "https://localhost:8080/",
          "height": 178
        },
        "id": "32UDxGZuDaPW",
        "outputId": "1c932411-0140-499b-c59d-0b1ab025b896"
      },
      "execution_count": null,
      "outputs": [
        {
          "output_type": "execute_result",
          "data": {
            "text/plain": [
              "prior_question_had_explanation\n",
              "True     88.940394\n",
              "False    11.059606\n",
              "Name: proportion, dtype: Float64"
            ],
            "text/html": [
              "<div>\n",
              "<style scoped>\n",
              "    .dataframe tbody tr th:only-of-type {\n",
              "        vertical-align: middle;\n",
              "    }\n",
              "\n",
              "    .dataframe tbody tr th {\n",
              "        vertical-align: top;\n",
              "    }\n",
              "\n",
              "    .dataframe thead th {\n",
              "        text-align: right;\n",
              "    }\n",
              "</style>\n",
              "<table border=\"1\" class=\"dataframe\">\n",
              "  <thead>\n",
              "    <tr style=\"text-align: right;\">\n",
              "      <th></th>\n",
              "      <th>proportion</th>\n",
              "    </tr>\n",
              "    <tr>\n",
              "      <th>prior_question_had_explanation</th>\n",
              "      <th></th>\n",
              "    </tr>\n",
              "  </thead>\n",
              "  <tbody>\n",
              "    <tr>\n",
              "      <th>True</th>\n",
              "      <td>88.940394</td>\n",
              "    </tr>\n",
              "    <tr>\n",
              "      <th>False</th>\n",
              "      <td>11.059606</td>\n",
              "    </tr>\n",
              "  </tbody>\n",
              "</table>\n",
              "</div><br><label><b>dtype:</b> Float64</label>"
            ]
          },
          "metadata": {},
          "execution_count": 27
        }
      ]
    },
    {
      "cell_type": "markdown",
      "source": [
        "### questions"
      ],
      "metadata": {
        "id": "dkqIV0vhDHJa"
      }
    },
    {
      "cell_type": "markdown",
      "source": [
        "question_id - How many unique questions in the dataset?"
      ],
      "metadata": {
        "id": "U7wkqX08DMt5"
      }
    },
    {
      "cell_type": "code",
      "source": [
        "num_unique_questions = questions_df['question_id'].nunique()\n",
        "print(f\"Number of unique questions: {num_unique_questions}\")"
      ],
      "metadata": {
        "colab": {
          "base_uri": "https://localhost:8080/"
        },
        "outputId": "3ae9557f-288a-442a-faaf-8ab68f778145",
        "id": "VGbmEjlSGCAE"
      },
      "execution_count": null,
      "outputs": [
        {
          "output_type": "stream",
          "name": "stdout",
          "text": [
            "Number of unique questions: 13523\n"
          ]
        }
      ]
    },
    {
      "cell_type": "markdown",
      "source": [
        "bundle_id - How many unique question bundles in the dataset?"
      ],
      "metadata": {
        "id": "X-lqL9RbFccN"
      }
    },
    {
      "cell_type": "code",
      "source": [
        "num_unique_bundles = questions_df['bundle_id'].nunique()\n",
        "print(f\"Number of unique question bundles: {num_unique_bundles}\")"
      ],
      "metadata": {
        "colab": {
          "base_uri": "https://localhost:8080/"
        },
        "id": "2A8Qx7zOG1SF",
        "outputId": "707c39ee-580b-426a-ba2a-a3e3aa70107d"
      },
      "execution_count": null,
      "outputs": [
        {
          "output_type": "stream",
          "name": "stdout",
          "text": [
            "Number of unique question bundles: 9765\n"
          ]
        }
      ]
    },
    {
      "cell_type": "markdown",
      "source": [
        "correct_answer"
      ],
      "metadata": {
        "id": "QyQnS3LuFduR"
      }
    },
    {
      "cell_type": "code",
      "source": [
        "questions_df.correct_answer.value_counts()"
      ],
      "metadata": {
        "colab": {
          "base_uri": "https://localhost:8080/",
          "height": 241
        },
        "id": "wPpljnhBIQ0s",
        "outputId": "10fada03-97d1-42b6-e315-c5bc49efc1b2"
      },
      "execution_count": null,
      "outputs": [
        {
          "output_type": "execute_result",
          "data": {
            "text/plain": [
              "correct_answer\n",
              "0    3716\n",
              "3    3544\n",
              "1    3478\n",
              "2    2785\n",
              "Name: count, dtype: int64"
            ],
            "text/html": [
              "<div>\n",
              "<style scoped>\n",
              "    .dataframe tbody tr th:only-of-type {\n",
              "        vertical-align: middle;\n",
              "    }\n",
              "\n",
              "    .dataframe tbody tr th {\n",
              "        vertical-align: top;\n",
              "    }\n",
              "\n",
              "    .dataframe thead th {\n",
              "        text-align: right;\n",
              "    }\n",
              "</style>\n",
              "<table border=\"1\" class=\"dataframe\">\n",
              "  <thead>\n",
              "    <tr style=\"text-align: right;\">\n",
              "      <th></th>\n",
              "      <th>count</th>\n",
              "    </tr>\n",
              "    <tr>\n",
              "      <th>correct_answer</th>\n",
              "      <th></th>\n",
              "    </tr>\n",
              "  </thead>\n",
              "  <tbody>\n",
              "    <tr>\n",
              "      <th>0</th>\n",
              "      <td>3716</td>\n",
              "    </tr>\n",
              "    <tr>\n",
              "      <th>3</th>\n",
              "      <td>3544</td>\n",
              "    </tr>\n",
              "    <tr>\n",
              "      <th>1</th>\n",
              "      <td>3478</td>\n",
              "    </tr>\n",
              "    <tr>\n",
              "      <th>2</th>\n",
              "      <td>2785</td>\n",
              "    </tr>\n",
              "  </tbody>\n",
              "</table>\n",
              "</div><br><label><b>dtype:</b> int64</label>"
            ]
          },
          "metadata": {},
          "execution_count": 36
        }
      ]
    },
    {
      "cell_type": "markdown",
      "source": [
        "part - the relevant section of the TOEIC test.\n",
        "\n",
        "https://www.iibc-global.org/english/toeic/test/lr/about/format.html\n",
        "\n",
        "The Test of English for International Communication (TOEIC) is an international standardized test of English language proficiency for non-native speakers."
      ],
      "metadata": {
        "id": "SpBmCNazFgkC"
      }
    },
    {
      "cell_type": "code",
      "source": [
        "questions_df.part.value_counts()"
      ],
      "metadata": {
        "colab": {
          "base_uri": "https://localhost:8080/",
          "height": 335
        },
        "id": "7SX_U7nbGmEX",
        "outputId": "608d7f7d-8ae2-46f5-f424-ce5cc14fcb7b"
      },
      "execution_count": null,
      "outputs": [
        {
          "output_type": "execute_result",
          "data": {
            "text/plain": [
              "part\n",
              "5    5511\n",
              "2    1647\n",
              "3    1562\n",
              "4    1439\n",
              "6    1212\n",
              "7    1160\n",
              "1     992\n",
              "Name: count, dtype: int64"
            ],
            "text/html": [
              "<div>\n",
              "<style scoped>\n",
              "    .dataframe tbody tr th:only-of-type {\n",
              "        vertical-align: middle;\n",
              "    }\n",
              "\n",
              "    .dataframe tbody tr th {\n",
              "        vertical-align: top;\n",
              "    }\n",
              "\n",
              "    .dataframe thead th {\n",
              "        text-align: right;\n",
              "    }\n",
              "</style>\n",
              "<table border=\"1\" class=\"dataframe\">\n",
              "  <thead>\n",
              "    <tr style=\"text-align: right;\">\n",
              "      <th></th>\n",
              "      <th>count</th>\n",
              "    </tr>\n",
              "    <tr>\n",
              "      <th>part</th>\n",
              "      <th></th>\n",
              "    </tr>\n",
              "  </thead>\n",
              "  <tbody>\n",
              "    <tr>\n",
              "      <th>5</th>\n",
              "      <td>5511</td>\n",
              "    </tr>\n",
              "    <tr>\n",
              "      <th>2</th>\n",
              "      <td>1647</td>\n",
              "    </tr>\n",
              "    <tr>\n",
              "      <th>3</th>\n",
              "      <td>1562</td>\n",
              "    </tr>\n",
              "    <tr>\n",
              "      <th>4</th>\n",
              "      <td>1439</td>\n",
              "    </tr>\n",
              "    <tr>\n",
              "      <th>6</th>\n",
              "      <td>1212</td>\n",
              "    </tr>\n",
              "    <tr>\n",
              "      <th>7</th>\n",
              "      <td>1160</td>\n",
              "    </tr>\n",
              "    <tr>\n",
              "      <th>1</th>\n",
              "      <td>992</td>\n",
              "    </tr>\n",
              "  </tbody>\n",
              "</table>\n",
              "</div><br><label><b>dtype:</b> int64</label>"
            ]
          },
          "metadata": {},
          "execution_count": 37
        }
      ]
    },
    {
      "cell_type": "markdown",
      "source": [
        "tags"
      ],
      "metadata": {
        "id": "cwxOfhYZFjDr"
      }
    },
    {
      "cell_type": "code",
      "source": [
        "num_unique_tags = questions_df['tags'].nunique()\n",
        "print(f\"Number of unique tags: {num_unique_tags}\")"
      ],
      "metadata": {
        "colab": {
          "base_uri": "https://localhost:8080/"
        },
        "id": "s6kn6AfjIKoJ",
        "outputId": "c85ae864-9df6-40ff-c87c-de0eaa9c818b"
      },
      "execution_count": null,
      "outputs": [
        {
          "output_type": "stream",
          "name": "stdout",
          "text": [
            "Number of unique tags: 1519\n"
          ]
        }
      ]
    },
    {
      "cell_type": "markdown",
      "source": [
        "### lectures"
      ],
      "metadata": {
        "id": "dMr5l2bRDKMd"
      }
    },
    {
      "cell_type": "markdown",
      "source": [
        "lecture_id - How many unique lectures in the dataset?"
      ],
      "metadata": {
        "id": "Wj6HZZ1WFkWM"
      }
    },
    {
      "cell_type": "code",
      "source": [
        "num_unique_lectures = lectures_df['lecture_id'].nunique()\n",
        "print(f\"Number of unique lectures: {num_unique_lectures}\")"
      ],
      "metadata": {
        "colab": {
          "base_uri": "https://localhost:8080/"
        },
        "outputId": "2764204c-f145-4f4e-d6a9-032c3ded11fb",
        "id": "fWTR2rYwGDWC"
      },
      "execution_count": null,
      "outputs": [
        {
          "output_type": "stream",
          "name": "stdout",
          "text": [
            "Number of unique lectures: 418\n"
          ]
        }
      ]
    },
    {
      "cell_type": "markdown",
      "source": [
        "part - TOEIC test\n",
        "\n",
        "https://www.iibc-global.org/english/toeic/test/lr/about/format.html\n",
        "\n",
        "The Test of English for International Communication (TOEIC) is an international standardized test of English language proficiency for non-native speakers."
      ],
      "metadata": {
        "id": "NBRE4tO-Flnt"
      }
    },
    {
      "cell_type": "code",
      "source": [
        "lectures_df.part.value_counts()"
      ],
      "metadata": {
        "colab": {
          "base_uri": "https://localhost:8080/",
          "height": 335
        },
        "id": "T3F2OGfXGsHG",
        "outputId": "e4159e04-ad94-4f16-a336-f94495ed5aa4"
      },
      "execution_count": null,
      "outputs": [
        {
          "output_type": "execute_result",
          "data": {
            "text/plain": [
              "part\n",
              "5    143\n",
              "6     83\n",
              "2     56\n",
              "1     54\n",
              "7     32\n",
              "4     31\n",
              "3     19\n",
              "Name: count, dtype: int64"
            ],
            "text/html": [
              "<div>\n",
              "<style scoped>\n",
              "    .dataframe tbody tr th:only-of-type {\n",
              "        vertical-align: middle;\n",
              "    }\n",
              "\n",
              "    .dataframe tbody tr th {\n",
              "        vertical-align: top;\n",
              "    }\n",
              "\n",
              "    .dataframe thead th {\n",
              "        text-align: right;\n",
              "    }\n",
              "</style>\n",
              "<table border=\"1\" class=\"dataframe\">\n",
              "  <thead>\n",
              "    <tr style=\"text-align: right;\">\n",
              "      <th></th>\n",
              "      <th>count</th>\n",
              "    </tr>\n",
              "    <tr>\n",
              "      <th>part</th>\n",
              "      <th></th>\n",
              "    </tr>\n",
              "  </thead>\n",
              "  <tbody>\n",
              "    <tr>\n",
              "      <th>5</th>\n",
              "      <td>143</td>\n",
              "    </tr>\n",
              "    <tr>\n",
              "      <th>6</th>\n",
              "      <td>83</td>\n",
              "    </tr>\n",
              "    <tr>\n",
              "      <th>2</th>\n",
              "      <td>56</td>\n",
              "    </tr>\n",
              "    <tr>\n",
              "      <th>1</th>\n",
              "      <td>54</td>\n",
              "    </tr>\n",
              "    <tr>\n",
              "      <th>7</th>\n",
              "      <td>32</td>\n",
              "    </tr>\n",
              "    <tr>\n",
              "      <th>4</th>\n",
              "      <td>31</td>\n",
              "    </tr>\n",
              "    <tr>\n",
              "      <th>3</th>\n",
              "      <td>19</td>\n",
              "    </tr>\n",
              "  </tbody>\n",
              "</table>\n",
              "</div><br><label><b>dtype:</b> int64</label>"
            ]
          },
          "metadata": {},
          "execution_count": 41
        }
      ]
    },
    {
      "cell_type": "markdown",
      "source": [
        "tag"
      ],
      "metadata": {
        "id": "qV31I1vGFnIT"
      }
    },
    {
      "cell_type": "code",
      "source": [
        "num_unique_tags = lectures_df['tag'].nunique()\n",
        "print(f\"Number of unique tags: {num_unique_tags}\")"
      ],
      "metadata": {
        "colab": {
          "base_uri": "https://localhost:8080/"
        },
        "id": "5wHnWlPmH5uf",
        "outputId": "3a672478-ed7c-43c3-864f-8a99ad8c491f"
      },
      "execution_count": null,
      "outputs": [
        {
          "output_type": "stream",
          "name": "stdout",
          "text": [
            "Number of unique tags: 151\n"
          ]
        }
      ]
    },
    {
      "cell_type": "markdown",
      "source": [
        "type_of"
      ],
      "metadata": {
        "id": "IIrZBP1qFoD-"
      }
    },
    {
      "cell_type": "code",
      "source": [
        "lectures_df.type_of.value_counts()"
      ],
      "metadata": {
        "colab": {
          "base_uri": "https://localhost:8080/",
          "height": 241
        },
        "id": "PTvlukvKH1rX",
        "outputId": "445bfd58-c8b0-42e0-9874-57da5d0a7c80"
      },
      "execution_count": null,
      "outputs": [
        {
          "output_type": "execute_result",
          "data": {
            "text/plain": [
              "type_of\n",
              "concept             222\n",
              "solving question    186\n",
              "intention             7\n",
              "starter               3\n",
              "Name: count, dtype: int64"
            ],
            "text/html": [
              "<div>\n",
              "<style scoped>\n",
              "    .dataframe tbody tr th:only-of-type {\n",
              "        vertical-align: middle;\n",
              "    }\n",
              "\n",
              "    .dataframe tbody tr th {\n",
              "        vertical-align: top;\n",
              "    }\n",
              "\n",
              "    .dataframe thead th {\n",
              "        text-align: right;\n",
              "    }\n",
              "</style>\n",
              "<table border=\"1\" class=\"dataframe\">\n",
              "  <thead>\n",
              "    <tr style=\"text-align: right;\">\n",
              "      <th></th>\n",
              "      <th>count</th>\n",
              "    </tr>\n",
              "    <tr>\n",
              "      <th>type_of</th>\n",
              "      <th></th>\n",
              "    </tr>\n",
              "  </thead>\n",
              "  <tbody>\n",
              "    <tr>\n",
              "      <th>concept</th>\n",
              "      <td>222</td>\n",
              "    </tr>\n",
              "    <tr>\n",
              "      <th>solving question</th>\n",
              "      <td>186</td>\n",
              "    </tr>\n",
              "    <tr>\n",
              "      <th>intention</th>\n",
              "      <td>7</td>\n",
              "    </tr>\n",
              "    <tr>\n",
              "      <th>starter</th>\n",
              "      <td>3</td>\n",
              "    </tr>\n",
              "  </tbody>\n",
              "</table>\n",
              "</div><br><label><b>dtype:</b> int64</label>"
            ]
          },
          "metadata": {},
          "execution_count": 43
        }
      ]
    },
    {
      "cell_type": "markdown",
      "source": [
        "## Visualisations"
      ],
      "metadata": {
        "id": "AAS35wzw74yP"
      }
    },
    {
      "cell_type": "markdown",
      "source": [
        "### Functions"
      ],
      "metadata": {
        "id": "lDR6G8zx9U3J"
      }
    },
    {
      "cell_type": "markdown",
      "source": [
        "KDE plot"
      ],
      "metadata": {
        "id": "HX6DWnlK_9DF"
      }
    },
    {
      "cell_type": "code",
      "source": [
        "def plot_kde(data, column, hue=None, title=None):\n",
        "    \"\"\"\n",
        "    Creates a simple KDE plot for a specified column.\n",
        "\n",
        "    Parameters:\n",
        "    - data: Pandas DataFrame\n",
        "    - column: Column name to plot\n",
        "    - hue: Optional categorical column for grouping\n",
        "    - title: Optional plot title\n",
        "    \"\"\"\n",
        "\n",
        "    plt.figure(figsize=(8, 5)) # Create a 'canvas' to draw the plot onto\n",
        "    # plt.figure(figsize=figsize) - alternate code if parameter given in function call\n",
        "\n",
        "    # Sample large datasets for better performance\n",
        "    if len(data) > 250000 and hue is None:\n",
        "        # Create a sampled version of data for very large datasets\n",
        "        sampled_data = data.iloc[::250000]\n",
        "        sns.kdeplot(data=sampled_data, x=column, fill=True) # create KDE plot\n",
        "    else:\n",
        "        # Use the full dataset for normal-sized data or when using hue\n",
        "        sns.kdeplot(data=data, x=column, hue=hue, fill=True) # create KDE plot\n",
        "        # df, column, split into categories if provided, fill area under line with colour\n",
        "\n",
        "    # Custom labels and title\n",
        "    plt.xlabel(column) # horizontal line label\n",
        "    # plt.xlabel(xlabel if xlabel else column) - alternate code to add label\n",
        "    plt.ylabel(\"Density\") # vertical line label\n",
        "    if title:\n",
        "        plt.title(title) # add title to plot if provided in function call\n",
        "\n",
        "    plt.show() # display plot\n",
        "\n",
        "    # --- Added code for descriptive statistics ---\n",
        "    # Assume 'column' is numerical by default\n",
        "    categorical = False\n",
        "\n",
        "    # Check if the column is of object (string) type, which often represents categorical data\n",
        "    if data[column].dtype == 'object':\n",
        "        categorical = True\n",
        "\n",
        "    if categorical:\n",
        "        values = data[column].value_counts().values\n",
        "    else:\n",
        "        # Apply sampling for large datasets here too\n",
        "        if len(data) > 250000:\n",
        "            values = data[column].values[::250000]\n",
        "        else:\n",
        "            values = data[column].values\n",
        "\n",
        "    print('Mean: {:,}'.format(np.mean(values)))\n",
        "    print('Median: {:,}'.format(np.median(values)))\n",
        "    print('Max: {:,}'.format(np.max(values)))\n",
        "    # --- End of added code ---\n",
        "\n",
        "# Example usage:\n",
        "# plot_kde(df, 'column_name', hue='category_column', title='KDE Plot')\n",
        "\n",
        "# additional parameters:\n",
        "# bw_adjust=1, color=None, xlabel=None, ylabel=\"Density\", figsize=(8, 5)\n",
        "    \"\"\"\n",
        "    Parameters:\n",
        "    - bw_adjust: Bandwidth adjustment factor (default=1).\n",
        "    - color: Optional color for the KDE curve.\n",
        "    - xlabel: Optional x-axis label.\n",
        "    - ylabel: Y-axis label (default=\"Density\").\n",
        "    - figsize: Tuple defining the figure size (default=(8,5)).\n",
        "    \"\"\""
      ],
      "metadata": {
        "id": "_JrEzQ6VmwQL"
      },
      "execution_count": null,
      "outputs": []
    },
    {
      "cell_type": "markdown",
      "source": [
        "Bar plot"
      ],
      "metadata": {
        "id": "pvX4I0an_-2e"
      }
    },
    {
      "cell_type": "code",
      "source": [
        "def plot_bar(data, x, y=None, hue=None, color=None, title=None, rotate_labels=True):\n",
        "    \"\"\"\n",
        "    Creates a customizable bar plot.\n",
        "\n",
        "    Parameters:\n",
        "    - data: Pandas DataFrame containing the data.\n",
        "    - x: Column name for the x-axis categories.\n",
        "    - y: Optional column name for the y-axis values (if None, counts are used).\n",
        "    - hue: Optional column for grouping (creates grouped bars).\n",
        "    - color: Optional color for the bars.\n",
        "    - title: Optional title for the plot.\n",
        "    - xlabel: Optional x-axis label (default uses x column name).\n",
        "    - ylabel: Optional y-axis label (default uses y column name or \"Count\").\n",
        "    - figsize: Tuple defining the figure size (default=(8,5)).\n",
        "    \"\"\"\n",
        "    plt.figure(figsize=(8, 5)) # Create a 'canvas' to draw the plot onto\n",
        "    # plt.figure(figsize=figsize) - alternate code if parameter given in function call\n",
        "\n",
        "    # Sample data if it's large and hue is not used\n",
        "    if len(data) > sample_size and hue is None:\n",
        "        sampled_data = data.sample(sample_size)  # Random sampling\n",
        "    else:\n",
        "        sampled_data = data\n",
        "\n",
        "    # Create either a value plot or count plot\n",
        "    # If y is provided, plot values; otherwise plot counts\n",
        "    if y:\n",
        "        sns.barplot(data=data, x=x, y=y, hue=hue, color=color)\n",
        "    else:\n",
        "        sns.countplot(data=data, x=x, hue=hue, color=color)\n",
        "\n",
        "    # Custom labels and title\n",
        "    plt.xlabel(x) # horizontal line label\n",
        "    # plt.xlabel(xlabel if xlabel else x) - alternate code to add label\n",
        "    plt.ylabel(y if y else \"Count\") # vertical line label\n",
        "    if title:\n",
        "        plt.title(title) # add title to plot if provided in function call\n",
        "\n",
        "    # Rotate x-axis labels if there are many categories to prevent label overlap\n",
        "    if rotate_labels: # Rotate labels conditionally\n",
        "        plt.xticks(rotation=45, ha='right')\n",
        "    plt.tight_layout() # adjusts the plot padding to ensure all labels fit within the figure without being cut off\n",
        "\n",
        "    plt.show() # display plot\n",
        "\n",
        "# Example usage:\n",
        "# plot_bar(df, x='category_column')                       # Simple count plot\n",
        "# plot_bar(df, x='category_column', y='value_column')     # Value-based bar plot\n",
        "# plot_bar(df, x='category_column', hue='group_column')   # Grouped bar plot\n",
        "\n",
        "# additional parameters:\n",
        "# hue=None, color=None, xlabel=None, ylabel=None, figsize=(8, 5)\n",
        "    \"\"\"\n",
        "    Parameters:\n",
        "    - hue: Optional column for grouping (creates grouped bars).\n",
        "    - color: Optional color for the bars.\n",
        "    - xlabel: Optional x-axis label (default uses x column name).\n",
        "    - ylabel: Optional y-axis label (default uses y column name or \"Count\").\n",
        "    - figsize: Tuple defining the figure size (default=(8,5)).\n",
        "    \"\"\""
      ],
      "metadata": {
        "id": "m4LwJag1ka4n"
      },
      "execution_count": null,
      "outputs": []
    },
    {
      "cell_type": "markdown",
      "source": [
        "Histogram"
      ],
      "metadata": {
        "id": "1n5B7T_BlGzt"
      }
    },
    {
      "cell_type": "code",
      "source": [
        "def plot_histogram(data, column, bins=None, hue=None, title=None):\n",
        "    \"\"\"\n",
        "    Creates a simple histogram for a specified column.\n",
        "\n",
        "    Parameters:\n",
        "    - data: Pandas DataFrame\n",
        "    - column: Column name to plot\n",
        "    - bins: Optional number of bins (none/default uses seaborn's auto bin selection)\n",
        "    - hue: Optional categorical column for grouping\n",
        "    - title: Optional plot title\n",
        "    \"\"\"\n",
        "    plt.figure(figsize=(8, 5)) # Create a 'canvas' to draw the plot onto\n",
        "    # plt.figure(figsize=figsize) - alternate code if parameter given in function call\n",
        "    sns.histplot(data=data, x=column, bins=bins, hue=hue, kde=True) # create histogram\n",
        "    # df, column, number of bins, split into categories if provided, line on top of the histogram bars\n",
        "\n",
        "    # Custom labels and title\n",
        "    plt.xlabel(column) # horizontal line label\n",
        "    # plt.xlabel(xlabel if xlabel else column) - alternate code to add label\n",
        "    plt.ylabel(\"Count\") # vertical line label\n",
        "    if title:\n",
        "        plt.title(title) # add title to plot if provided in function call\n",
        "\n",
        "    plt.show() # display plot\n",
        "\n",
        "# Example usage:\n",
        "# plot_histogram(df, 'column_name', bins=20, hue='category_column', title='Histogram')\n",
        "\n",
        "# additional parameters:\n",
        "# color='blue', xlabel=None, ylabel=\"Count\", figsize=(10, 6), kde=False)\n",
        "    \"\"\"\n",
        "    Parameters:\n",
        "    - color: Optional color for the histogram bars.\n",
        "    - xlabel: Optional x-axis label (default uses column name).\n",
        "    - ylabel: Y-axis label (default=\"Count\").\n",
        "    - figsize: Tuple defining the figure size (default=(8,5)).\n",
        "    - kde: Boolean to include KDE curve overlay (default=True).\n",
        "    \"\"\""
      ],
      "metadata": {
        "id": "JTNhZZPtkaTI"
      },
      "execution_count": null,
      "outputs": []
    },
    {
      "cell_type": "markdown",
      "source": [
        "### timestamp and prior_question_elapsed_time"
      ],
      "metadata": {
        "id": "BIy46oxO9uj9"
      }
    },
    {
      "cell_type": "code",
      "source": [
        "numerical_columns = ['timestamp', 'prior_question_elapsed_time']\n",
        "\n",
        "for column in numerical_columns:\n",
        "    plot_kde(train_df, column=column, hue=None, title=column + \" distribution\")"
      ],
      "metadata": {
        "id": "FjdEBw6iVf4s"
      },
      "execution_count": null,
      "outputs": []
    },
    {
      "cell_type": "markdown",
      "source": [
        "Histogram for timestamp? Most distribution is within the first 2 months of signing up to the platform - every user starts with 0 value for their first log - does the number of 0 values for timestamp check with number of users?\n",
        "\n",
        "Check unique number count for user_id"
      ],
      "metadata": {
        "id": "zSKEjdKTf8Op"
      }
    },
    {
      "cell_type": "code",
      "source": [
        "plot_histogram(train_df, 'timestamp', bins=20, hue=None, title=None)"
      ],
      "metadata": {
        "id": "i7QiGpAklT0x"
      },
      "execution_count": null,
      "outputs": []
    },
    {
      "cell_type": "markdown",
      "source": [
        "### user_id, content_id and task_container_id"
      ],
      "metadata": {
        "id": "jy3fs1e4_Gk_"
      }
    },
    {
      "cell_type": "code",
      "source": [
        "categorical_columns = ['user_id', 'content_id', 'task_container_id']\n",
        "\n",
        "for column in categorical_columns:\n",
        "    plot_kde(train_df, column=column, hue=None, title=column + \" countplot distribution\")"
      ],
      "metadata": {
        "id": "P3xh6KZSWTJc"
      },
      "execution_count": null,
      "outputs": []
    },
    {
      "cell_type": "markdown",
      "source": [
        "### content_type_id, answered_correctly and prior_question_had_explanation"
      ],
      "metadata": {
        "id": "FDPMuNq6_tTm"
      }
    },
    {
      "cell_type": "code",
      "source": [
        "categorical_columns_few = ['content_type_id', 'answered_correctly', 'prior_question_had_explanation']\n",
        "\n",
        "for column in categorical_columns_few:\n",
        "    plot_bar(train_df, x=column, y=None, title=column + \" barplot\")"
      ],
      "metadata": {
        "id": "NJWNJs3lXDDg"
      },
      "execution_count": null,
      "outputs": []
    },
    {
      "cell_type": "markdown",
      "source": [
        "### question_id, bundle_id and tags"
      ],
      "metadata": {
        "id": "xFE3r0ciCIAE"
      }
    },
    {
      "cell_type": "markdown",
      "source": [
        "Not suitable for visualisations"
      ],
      "metadata": {
        "id": "OXJyywR6VDxh"
      }
    },
    {
      "cell_type": "markdown",
      "source": [
        "### correct_answer and part"
      ],
      "metadata": {
        "id": "vvp-ZetxCSBr"
      }
    },
    {
      "cell_type": "code",
      "source": [
        "categorical_questions = ['correct_answer', 'part']\n",
        "\n",
        "for column in categorical_questions:\n",
        "    plot_bar(train_df, x=column, y=None, title=column + \" barplot\", rotate_labels=False)"
      ],
      "metadata": {
        "id": "OswU38foh3Uy"
      },
      "execution_count": null,
      "outputs": []
    },
    {
      "cell_type": "markdown",
      "source": [
        "### lecture_id and tags"
      ],
      "metadata": {
        "id": "FUn6vtxLCZv9"
      }
    },
    {
      "cell_type": "markdown",
      "source": [
        "Not suitable for visualisations"
      ],
      "metadata": {
        "id": "lrWHAsJiW1Jd"
      }
    },
    {
      "cell_type": "markdown",
      "source": [
        "### part and type_of"
      ],
      "metadata": {
        "id": "HbWmNMRwCke0"
      }
    },
    {
      "cell_type": "code",
      "source": [
        "categorical_lectures = ['part', 'type_of']\n",
        "\n",
        "for column in categorical_lectures:\n",
        "    plot_bar(lectures_df, x=column, y=None, title=column + \" barplot\", rotate_labels=False)"
      ],
      "metadata": {
        "id": "6csbLra4iGZH"
      },
      "execution_count": null,
      "outputs": []
    },
    {
      "cell_type": "markdown",
      "source": [
        "## Correlation"
      ],
      "metadata": {
        "id": "vMLYAC-5BSPM"
      }
    },
    {
      "cell_type": "markdown",
      "source": [
        "### Functions"
      ],
      "metadata": {
        "id": "BzAUj3E2Bbsp"
      }
    },
    {
      "cell_type": "code",
      "source": [
        "def plot_heatmap(data, annot=True, cmap=\"viridis\", title=None, xlabel=None, ylabel=None):\n",
        "    \"\"\"\n",
        "    Creates a customizable heatmap.\n",
        "\n",
        "    Parameters:\n",
        "    - data: DataFrame or 2D array to visualize as heatmap.\n",
        "    - annot: Whether to annotate cells with values (default=True).\n",
        "    - cmap: Colormap name or object (default=\"viridis\").\n",
        "    - title: Optional title for the plot.\n",
        "    - xlabel: Optional x-axis label.\n",
        "    - ylabel: Optional y-axis label.\n",
        "    \"\"\"\n",
        "    plt.figure(figsize=(8, 5)) # Create a 'canvas' to draw the plot onto\n",
        "    # plt.figure(figsize=figsize) - alternate code if parameter given in function call\n",
        "\n",
        "    # Sample large datasets for better performance\n",
        "    if len(data) > 250000:\n",
        "        # Create a sampled version of data for very large datasets\n",
        "        sampled_data = data.iloc[::250000]  # Fixed step size of 250000\n",
        "    else:\n",
        "        sampled_data = data  # Use the original data if it's small enough\n",
        "\n",
        "    # Create the heatmap\n",
        "    heatmap = sns.heatmap(data, annot=annot, cmap=cmap)\n",
        "\n",
        "    # Custom labels and title\n",
        "    if xlabel:\n",
        "        plt.xlabel(xlabel) # horizontal line label\n",
        "    if ylabel:\n",
        "        plt.ylabel(ylabel) # vertical line label\n",
        "    if title:\n",
        "        plt.title(title) # add title to plot if provided in function call\n",
        "\n",
        "    plt.tight_layout() # adjusts the plot padding to ensure all labels fit within the figure without being cut off\n",
        "    plt.show() # display plot\n",
        "\n",
        "    return heatmap # return the heatmap object for further customization if needed\n",
        "\n",
        "# Example usage:\n",
        "# plot_heatmap(df.corr())                             # Correlation heatmap\n",
        "# plot_heatmap(pivot_table, cmap=\"YlOrRd\", fmt=\".0f\") # Custom colored heatmap\n",
        "# mask = np.triu(np.ones_like(df.corr(), dtype=bool)) # Upper triangle mask\n",
        "# plot_heatmap(df.corr(), mask=mask, cmap=\"coolwarm\") # Masked heatmap\n",
        "\n",
        "    # additional parameters\n",
        "    # center=None, robust=False, mask=None, figsize=(10, 8), vmin=None, vmax=None, fmt=\".2f\", linewidths=0, cbar=True\n",
        "    \"\"\"\n",
        "    Parameters:\n",
        "    - center: Value to center the colormap at (useful for diverging data).\n",
        "    - robust: If True, compute colormap bounds from robust percentiles.\n",
        "    - mask: Boolean array or DataFrame to mask cells (True = hidden).\n",
        "    - figsize: Tuple defining the figure size (default=(10,8)).\n",
        "    - vmin, vmax: Limits for the colormap.\n",
        "    - fmt: String formatting for annotations.\n",
        "    - linewidths: Width of lines between cells.\n",
        "    - cbar: Whether to draw a colorbar.\n",
        "    \"\"\""
      ],
      "metadata": {
        "id": "OiZJ-JVWScrb"
      },
      "execution_count": 12,
      "outputs": []
    },
    {
      "cell_type": "markdown",
      "source": [
        "### Heat map"
      ],
      "metadata": {
        "id": "fk4SF8ATBcQ1"
      }
    },
    {
      "cell_type": "code",
      "source": [
        "# prompt: generate a heatmap using the plot_heatmap function\n",
        "\n",
        "plot_heatmap(train_df.corr())\n"
      ],
      "metadata": {
        "id": "k716fQcvHxE0"
      },
      "execution_count": null,
      "outputs": []
    },
    {
      "cell_type": "markdown",
      "source": [
        "## Target variable = answered_correctly"
      ],
      "metadata": {
        "id": "JuFIXHtDHqDo"
      }
    },
    {
      "cell_type": "markdown",
      "source": [
        "First I would like to see if the number of appearences of 1 ID (1 pupil) corresponds to their overall performance (other words, if you assess 1 student multiple times, will they perform better?)"
      ],
      "metadata": {
        "id": "GlnvE9RZY1vB"
      }
    },
    {
      "cell_type": "code",
      "source": [
        "# Count how many times the user answered correctly out of all available times\n",
        "user_performance = train.groupby(\"user_id\").agg({ 'row_id': ['count'], 'answered_correctly': ['sum'] }).reset_index()\n",
        "user_performance.columns = [\"user_id\", \"total_count\", \"correct_count\"]\n",
        "user_performance[\"performance\"] = user_performance[\"correct_count\"] / user_performance[\"total_count\"]\n",
        "\n",
        "# Create intervals for number of appearences\n",
        "# between 0 and 1000, 1000 and 2500 and 2500+\n",
        "def condition(x):\n",
        "    if x <= 1000:\n",
        "        return 0\n",
        "    elif (x > 1000) & (x <= 2500):\n",
        "        return 1\n",
        "    else:\n",
        "        return 2\n",
        "\n",
        "user_performance[\"total_interval\"] = user_performance[\"total_count\"].applymap(condition)"
      ],
      "metadata": {
        "id": "ovBo2kDdB9Ic"
      },
      "execution_count": null,
      "outputs": []
    },
    {
      "cell_type": "markdown",
      "source": [
        "📌Note: So yes, the average performance increases along with the number of times one student appears in the data."
      ],
      "metadata": {
        "id": "wqbEhTkjY8Lg"
      }
    },
    {
      "cell_type": "code",
      "source": [
        "# Convert to numpy arrays (so we can plot)\n",
        "x = cupy.asnumpy(user_performance[\"total_interval\"].values)\n",
        "y = cupy.asnumpy(user_performance[\"performance\"].values)\n",
        "\n",
        "# Plot\n",
        "plt.figure(figsize = (18, 4))\n",
        "sns.barplot(x = x, y = y, palette = custom_colors[2:])\n",
        "plt.title(\"Performance over number of appearences\", fontsize = 15)\n",
        "plt.xticks([0, 1, 2], ['<1000', '1000-2500', '2500+']);\n",
        "\n",
        "del user_performance"
      ],
      "metadata": {
        "id": "ccaoah0QY890"
      },
      "execution_count": null,
      "outputs": []
    },
    {
      "cell_type": "markdown",
      "source": [
        "# Feature engineering"
      ],
      "metadata": {
        "id": "2PFEMQrPjhAN"
      }
    },
    {
      "cell_type": "markdown",
      "source": [
        "## Feature creation"
      ],
      "metadata": {
        "id": "PLCZrE4wjkyH"
      }
    },
    {
      "cell_type": "code",
      "source": [],
      "metadata": {
        "id": "VI77sVmTj7xd"
      },
      "execution_count": null,
      "outputs": []
    },
    {
      "cell_type": "markdown",
      "source": [
        "# Merging datasets"
      ],
      "metadata": {
        "id": "jGEbjlmQfEwM"
      }
    },
    {
      "cell_type": "markdown",
      "source": [
        "Goal is to merge train, questions and lectures datasets for model building"
      ],
      "metadata": {
        "id": "MF72YDc7fK3Q"
      }
    },
    {
      "cell_type": "markdown",
      "source": [
        "question_id is a foreign key for the train/test content_id column, when the content type is question (0)"
      ],
      "metadata": {
        "id": "sFTPsBMIfRSo"
      }
    },
    {
      "cell_type": "markdown",
      "source": [
        "lecture_id is a foreign key for the train/test content_id column, when the content type is lecture (1)"
      ],
      "metadata": {
        "id": "IaVc489Kfftr"
      }
    },
    {
      "cell_type": "code",
      "source": [],
      "metadata": {
        "id": "sw0iVliOj_iT"
      },
      "execution_count": null,
      "outputs": []
    },
    {
      "cell_type": "markdown",
      "source": [
        "# Extra code\n"
      ],
      "metadata": {
        "id": "u9FoEzkLNQ5A"
      }
    },
    {
      "cell_type": "code",
      "source": [
        "plt.figure(figsize=(8, 6))  # Adjust figure size if needed\n",
        "sns.countplot(data=train_df, x='answered_correctly')\n",
        "plt.title('Distribution of answered_correctly')  # Add a title for clarity\n",
        "plt.xticks(rotation=45, ha='right')  # Rotate x-axis labels if they overlap\n",
        "plt.show()"
      ],
      "metadata": {
        "id": "lhjXdfK7J3a5"
      },
      "execution_count": null,
      "outputs": []
    },
    {
      "cell_type": "code",
      "source": [
        "# Create a DataFrame for plotting\n",
        "plot_df = pd.DataFrame({'answered_correctly': answered_correctly_counts.index,\n",
        "                        'count': answered_correctly_counts.values})\n",
        "\n",
        "plt.figure(figsize=(8, 6))\n",
        "sns.barplot(data=plot_df, x='answered_correctly', y='count')\n",
        "plt.title('Distribution of answered_correctly (Full Dataset)')\n",
        "plt.xticks(rotation=45, ha='right')\n",
        "plt.show()"
      ],
      "metadata": {
        "id": "AFMf_gMdNUym"
      },
      "execution_count": null,
      "outputs": []
    }
  ]
}