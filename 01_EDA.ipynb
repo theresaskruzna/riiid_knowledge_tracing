{
  "nbformat": 4,
  "nbformat_minor": 0,
  "metadata": {
    "colab": {
      "provenance": [],
      "toc_visible": true,
      "authorship_tag": "ABX9TyOREQtJKiZZ1v0pgoyci88d",
      "include_colab_link": true
    },
    "kernelspec": {
      "name": "python3",
      "display_name": "Python 3"
    },
    "language_info": {
      "name": "python"
    }
  },
  "cells": [
    {
      "cell_type": "markdown",
      "metadata": {
        "id": "view-in-github",
        "colab_type": "text"
      },
      "source": [
        "<a href=\"https://colab.research.google.com/github/theresaskruzna/riiid_knowledge_tracing/blob/main/01_EDA.ipynb\" target=\"_parent\"><img src=\"https://colab.research.google.com/assets/colab-badge.svg\" alt=\"Open In Colab\"/></a>"
      ]
    },
    {
      "cell_type": "markdown",
      "source": [
        "# Import Libraries"
      ],
      "metadata": {
        "id": "81Q421pfWQO1"
      }
    },
    {
      "cell_type": "code",
      "execution_count": 1,
      "metadata": {
        "colab": {
          "base_uri": "https://localhost:8080/"
        },
        "outputId": "f20f2dbc-769e-4ec3-8acb-b1b94819b12c",
        "id": "0czx2Jpz5zrd"
      },
      "outputs": [
        {
          "output_type": "stream",
          "name": "stdout",
          "text": [
            "TensorFlow version: 2.18.0\n"
          ]
        }
      ],
      "source": [
        "# Riiid Knowledge Tracing Project\n",
        "# Initial setup and data exploration\n",
        "\n",
        "# This installs the Kaggle API package. The -q flag makes the installation \"quiet\" (less verbose output).\n",
        "# This only needs to be run once per Colab session\n",
        "!pip install -q kaggle\n",
        "\n",
        "# This imports the files module from Google Colab and opens a file upload dialog where you select your Kaggle API credentials file (kaggle.json) from your local computer.\n",
        "# Upload your kaggle.json file (from your Kaggle account settings)\n",
        "from google.colab import files\n",
        "\n",
        "import kagglehub\n",
        "import os\n",
        "import pickle\n",
        "\n",
        "import numpy as np\n",
        "import pandas as pd\n",
        "\n",
        "import matplotlib.pyplot as plt\n",
        "%matplotlib inline\n",
        "import seaborn as sns\n",
        "\n",
        "import tensorflow as tf\n",
        "from tensorflow.keras import layers, models\n",
        "\n",
        "print(\"TensorFlow version:\", tf.__version__)"
      ]
    },
    {
      "cell_type": "markdown",
      "source": [
        "# Data pre-processing"
      ],
      "metadata": {
        "id": "G1IbDDOaWcu3"
      }
    },
    {
      "cell_type": "markdown",
      "source": [
        "## Load original data"
      ],
      "metadata": {
        "id": "5AjTb_MLWquZ"
      }
    },
    {
      "cell_type": "code",
      "source": [
        "files.upload()  # Upload your kaggle.json here\n",
        "\n",
        "!mkdir -p ~/.kaggle # Creates a .kaggle directory in your home folder (~) if it doesn't already exist. The -p flag ensures no error is thrown if the directory already exists.\n",
        "!cp kaggle.json ~/.kaggle/ # Copies the uploaded kaggle.json file to the .kaggle directory where the Kaggle API expects to find it.\n",
        "!chmod 600 ~/.kaggle/kaggle.json # Sets permissions on the kaggle.json file to \"read/write for owner only\" (600). This is required by the Kaggle API for security reasons.\n",
        "\n",
        "# Download the dataset\n",
        "!kaggle competitions download -c riiid-test-answer-prediction # Downloads all files for the Riiid Test Answer Prediction competition. The -c flag specifies which competition.\n",
        "!unzip -q riiid-test-answer-prediction.zip -d riiid_data # Extracts the downloaded zip file into a directory called \"riiid_data\". The -q flag makes the unzip operation quiet (less verbose)."
      ],
      "metadata": {
        "colab": {
          "base_uri": "https://localhost:8080/",
          "height": 237
        },
        "id": "m0HWAoFC6WvP",
        "outputId": "16237e28-fc03-44cc-d346-159148c04ee9"
      },
      "execution_count": 2,
      "outputs": [
        {
          "output_type": "display_data",
          "data": {
            "text/plain": [
              "<IPython.core.display.HTML object>"
            ],
            "text/html": [
              "\n",
              "     <input type=\"file\" id=\"files-8724b9ed-6e62-4fe0-a6fe-be8629ebed4f\" name=\"files[]\" multiple disabled\n",
              "        style=\"border:none\" />\n",
              "     <output id=\"result-8724b9ed-6e62-4fe0-a6fe-be8629ebed4f\">\n",
              "      Upload widget is only available when the cell has been executed in the\n",
              "      current browser session. Please rerun this cell to enable.\n",
              "      </output>\n",
              "      <script>// Copyright 2017 Google LLC\n",
              "//\n",
              "// Licensed under the Apache License, Version 2.0 (the \"License\");\n",
              "// you may not use this file except in compliance with the License.\n",
              "// You may obtain a copy of the License at\n",
              "//\n",
              "//      http://www.apache.org/licenses/LICENSE-2.0\n",
              "//\n",
              "// Unless required by applicable law or agreed to in writing, software\n",
              "// distributed under the License is distributed on an \"AS IS\" BASIS,\n",
              "// WITHOUT WARRANTIES OR CONDITIONS OF ANY KIND, either express or implied.\n",
              "// See the License for the specific language governing permissions and\n",
              "// limitations under the License.\n",
              "\n",
              "/**\n",
              " * @fileoverview Helpers for google.colab Python module.\n",
              " */\n",
              "(function(scope) {\n",
              "function span(text, styleAttributes = {}) {\n",
              "  const element = document.createElement('span');\n",
              "  element.textContent = text;\n",
              "  for (const key of Object.keys(styleAttributes)) {\n",
              "    element.style[key] = styleAttributes[key];\n",
              "  }\n",
              "  return element;\n",
              "}\n",
              "\n",
              "// Max number of bytes which will be uploaded at a time.\n",
              "const MAX_PAYLOAD_SIZE = 100 * 1024;\n",
              "\n",
              "function _uploadFiles(inputId, outputId) {\n",
              "  const steps = uploadFilesStep(inputId, outputId);\n",
              "  const outputElement = document.getElementById(outputId);\n",
              "  // Cache steps on the outputElement to make it available for the next call\n",
              "  // to uploadFilesContinue from Python.\n",
              "  outputElement.steps = steps;\n",
              "\n",
              "  return _uploadFilesContinue(outputId);\n",
              "}\n",
              "\n",
              "// This is roughly an async generator (not supported in the browser yet),\n",
              "// where there are multiple asynchronous steps and the Python side is going\n",
              "// to poll for completion of each step.\n",
              "// This uses a Promise to block the python side on completion of each step,\n",
              "// then passes the result of the previous step as the input to the next step.\n",
              "function _uploadFilesContinue(outputId) {\n",
              "  const outputElement = document.getElementById(outputId);\n",
              "  const steps = outputElement.steps;\n",
              "\n",
              "  const next = steps.next(outputElement.lastPromiseValue);\n",
              "  return Promise.resolve(next.value.promise).then((value) => {\n",
              "    // Cache the last promise value to make it available to the next\n",
              "    // step of the generator.\n",
              "    outputElement.lastPromiseValue = value;\n",
              "    return next.value.response;\n",
              "  });\n",
              "}\n",
              "\n",
              "/**\n",
              " * Generator function which is called between each async step of the upload\n",
              " * process.\n",
              " * @param {string} inputId Element ID of the input file picker element.\n",
              " * @param {string} outputId Element ID of the output display.\n",
              " * @return {!Iterable<!Object>} Iterable of next steps.\n",
              " */\n",
              "function* uploadFilesStep(inputId, outputId) {\n",
              "  const inputElement = document.getElementById(inputId);\n",
              "  inputElement.disabled = false;\n",
              "\n",
              "  const outputElement = document.getElementById(outputId);\n",
              "  outputElement.innerHTML = '';\n",
              "\n",
              "  const pickedPromise = new Promise((resolve) => {\n",
              "    inputElement.addEventListener('change', (e) => {\n",
              "      resolve(e.target.files);\n",
              "    });\n",
              "  });\n",
              "\n",
              "  const cancel = document.createElement('button');\n",
              "  inputElement.parentElement.appendChild(cancel);\n",
              "  cancel.textContent = 'Cancel upload';\n",
              "  const cancelPromise = new Promise((resolve) => {\n",
              "    cancel.onclick = () => {\n",
              "      resolve(null);\n",
              "    };\n",
              "  });\n",
              "\n",
              "  // Wait for the user to pick the files.\n",
              "  const files = yield {\n",
              "    promise: Promise.race([pickedPromise, cancelPromise]),\n",
              "    response: {\n",
              "      action: 'starting',\n",
              "    }\n",
              "  };\n",
              "\n",
              "  cancel.remove();\n",
              "\n",
              "  // Disable the input element since further picks are not allowed.\n",
              "  inputElement.disabled = true;\n",
              "\n",
              "  if (!files) {\n",
              "    return {\n",
              "      response: {\n",
              "        action: 'complete',\n",
              "      }\n",
              "    };\n",
              "  }\n",
              "\n",
              "  for (const file of files) {\n",
              "    const li = document.createElement('li');\n",
              "    li.append(span(file.name, {fontWeight: 'bold'}));\n",
              "    li.append(span(\n",
              "        `(${file.type || 'n/a'}) - ${file.size} bytes, ` +\n",
              "        `last modified: ${\n",
              "            file.lastModifiedDate ? file.lastModifiedDate.toLocaleDateString() :\n",
              "                                    'n/a'} - `));\n",
              "    const percent = span('0% done');\n",
              "    li.appendChild(percent);\n",
              "\n",
              "    outputElement.appendChild(li);\n",
              "\n",
              "    const fileDataPromise = new Promise((resolve) => {\n",
              "      const reader = new FileReader();\n",
              "      reader.onload = (e) => {\n",
              "        resolve(e.target.result);\n",
              "      };\n",
              "      reader.readAsArrayBuffer(file);\n",
              "    });\n",
              "    // Wait for the data to be ready.\n",
              "    let fileData = yield {\n",
              "      promise: fileDataPromise,\n",
              "      response: {\n",
              "        action: 'continue',\n",
              "      }\n",
              "    };\n",
              "\n",
              "    // Use a chunked sending to avoid message size limits. See b/62115660.\n",
              "    let position = 0;\n",
              "    do {\n",
              "      const length = Math.min(fileData.byteLength - position, MAX_PAYLOAD_SIZE);\n",
              "      const chunk = new Uint8Array(fileData, position, length);\n",
              "      position += length;\n",
              "\n",
              "      const base64 = btoa(String.fromCharCode.apply(null, chunk));\n",
              "      yield {\n",
              "        response: {\n",
              "          action: 'append',\n",
              "          file: file.name,\n",
              "          data: base64,\n",
              "        },\n",
              "      };\n",
              "\n",
              "      let percentDone = fileData.byteLength === 0 ?\n",
              "          100 :\n",
              "          Math.round((position / fileData.byteLength) * 100);\n",
              "      percent.textContent = `${percentDone}% done`;\n",
              "\n",
              "    } while (position < fileData.byteLength);\n",
              "  }\n",
              "\n",
              "  // All done.\n",
              "  yield {\n",
              "    response: {\n",
              "      action: 'complete',\n",
              "    }\n",
              "  };\n",
              "}\n",
              "\n",
              "scope.google = scope.google || {};\n",
              "scope.google.colab = scope.google.colab || {};\n",
              "scope.google.colab._files = {\n",
              "  _uploadFiles,\n",
              "  _uploadFilesContinue,\n",
              "};\n",
              "})(self);\n",
              "</script> "
            ]
          },
          "metadata": {}
        },
        {
          "output_type": "stream",
          "name": "stdout",
          "text": [
            "Saving kaggle.json to kaggle (1).json\n",
            "riiid-test-answer-prediction.zip: Skipping, found more recently modified local copy (use --force to force download)\n",
            "replace riiid_data/example_sample_submission.csv? [y]es, [n]o, [A]ll, [N]one, [r]ename: n\n",
            "replace riiid_data/example_test.csv? [y]es, [n]o, [A]ll, [N]one, [r]ename: n\n",
            "replace riiid_data/lectures.csv? [y]es, [n]o, [A]ll, [N]one, [r]ename: n\n",
            "replace riiid_data/questions.csv? [y]es, [n]o, [A]ll, [N]one, [r]ename: n\n",
            "replace riiid_data/riiideducation/__init__.py? [y]es, [n]o, [A]ll, [N]one, [r]ename: n\n",
            "replace riiid_data/riiideducation/competition.cpython-37m-x86_64-linux-gnu.so? [y]es, [n]o, [A]ll, [N]one, [r]ename: n\n",
            "replace riiid_data/train.csv? [y]es, [n]o, [A]ll, [N]one, [r]ename: n\n"
          ]
        }
      ]
    },
    {
      "cell_type": "code",
      "source": [
        "# This command will list all files and directories within the \"riiid_data\" directory in a detailed format.\n",
        "!ls -la riiid_data/"
      ],
      "metadata": {
        "colab": {
          "base_uri": "https://localhost:8080/"
        },
        "id": "Ar5z3Dco72n5",
        "outputId": "bd4427f7-6c9c-488f-871c-b9de5e0e8477"
      },
      "execution_count": 4,
      "outputs": [
        {
          "output_type": "stream",
          "name": "stdout",
          "text": [
            "total 5710060\n",
            "drwxr-xr-x 3 root root       4096 Mar 15 17:04 .\n",
            "drwxr-xr-x 1 root root       4096 Mar 15 17:36 ..\n",
            "-rw-r--r-- 1 root root        971 Oct 14  2020 example_sample_submission.csv\n",
            "-rw-r--r-- 1 root root       6137 Oct 14  2020 example_test.csv\n",
            "-rw-r--r-- 1 root root       9703 Oct 14  2020 lectures.csv\n",
            "-rw-r--r-- 1 root root     296161 Oct 14  2020 questions.csv\n",
            "drwxr-xr-x 2 root root       4096 Mar 15 17:04 riiideducation\n",
            "-rw-r--r-- 1 root root 5846760913 Oct 14  2020 train.csv\n"
          ]
        }
      ]
    },
    {
      "cell_type": "code",
      "source": [
        "# This command lists detailed information about the specific file kaggle.json in the .kaggle directory in your home folder.\n",
        "!ls -la ~/.kaggle/kaggle.json"
      ],
      "metadata": {
        "colab": {
          "base_uri": "https://localhost:8080/"
        },
        "id": "ba2Fl3z8-Rtn",
        "outputId": "84147fc2-5b57-4282-c75c-196ae556ab82"
      },
      "execution_count": 5,
      "outputs": [
        {
          "output_type": "stream",
          "name": "stdout",
          "text": [
            "-rw------- 1 root root 70 Mar 15 17:36 /root/.kaggle/kaggle.json\n"
          ]
        }
      ]
    },
    {
      "cell_type": "markdown",
      "source": [
        "Loading questions.csv and lectures.csv into the notebook."
      ],
      "metadata": {
        "id": "4oBi6-PD6gm4"
      }
    },
    {
      "cell_type": "code",
      "source": [
        "# Load the dataset with memory optimisations\n",
        "\n",
        "# Define column data types to reduce memory usage\n",
        "dtype_mapping_questions = {\n",
        "    \"question_id\": \"int16\",\n",
        "    \"bundle_id\": \"int16\",\n",
        "    \"correct_answer\": \"int8\",\n",
        "    \"part\": \"int8\",\n",
        "    \"tags\": \"object\"\n",
        "}\n",
        "\n",
        "dtype_mapping_lectures = {\n",
        "    \"lecture_id\": \"int16\",\n",
        "    \"part\": \"int8\",\n",
        "    \"tag\": \"int16\",\n",
        "    \"type_of\": \"object\",\n",
        "}"
      ],
      "metadata": {
        "id": "9I9ATtxi0Rn7"
      },
      "execution_count": 6,
      "outputs": []
    },
    {
      "cell_type": "code",
      "source": [
        "%%time\n",
        "\n",
        "questions_df = pd.read_csv('riiid_data/questions.csv', dtype=dtype_mapping_questions)"
      ],
      "metadata": {
        "id": "HCkTPY-46It5",
        "outputId": "9cc263de-d808-45c8-a7a0-9949d27769ca",
        "colab": {
          "base_uri": "https://localhost:8080/"
        }
      },
      "execution_count": 7,
      "outputs": [
        {
          "output_type": "stream",
          "name": "stdout",
          "text": [
            "CPU times: user 53.6 ms, sys: 26.5 ms, total: 80.1 ms\n",
            "Wall time: 117 ms\n"
          ]
        }
      ]
    },
    {
      "cell_type": "code",
      "source": [
        "%%time\n",
        "\n",
        "lectures_df = pd.read_csv('riiid_data/lectures.csv', dtype=dtype_mapping_lectures)"
      ],
      "metadata": {
        "id": "ysAe7q-Jpkp8",
        "outputId": "addfe421-878a-402d-8919-859a4b8d28c3",
        "colab": {
          "base_uri": "https://localhost:8080/"
        }
      },
      "execution_count": 8,
      "outputs": [
        {
          "output_type": "stream",
          "name": "stdout",
          "text": [
            "CPU times: user 6.5 ms, sys: 0 ns, total: 6.5 ms\n",
            "Wall time: 6.24 ms\n"
          ]
        }
      ]
    },
    {
      "cell_type": "markdown",
      "source": [
        "## Load pickle dataset"
      ],
      "metadata": {
        "id": "5O-If23V6YdQ"
      }
    },
    {
      "cell_type": "markdown",
      "source": [
        "The original train.csv data set is too large (5.85GB) for processing in collab, thus, a more suitable data set that has been compressed and converted from .csv to .pkl.gzip will be used for the time series forecasting purposes.\n",
        "This approach downloads the whole dataset but I will look into ways to change it to dowloading just the single file I need."
      ],
      "metadata": {
        "id": "8QTkGD-Rrat0"
      }
    },
    {
      "cell_type": "code",
      "source": [
        "# Download latest version\n",
        "path = kagglehub.dataset_download(\"rohanrao/riiid-train-data-multiple-formats\")\n",
        "\n",
        "print(\"Path to dataset files:\", path)\n",
        "\n",
        "os.listdir(path)"
      ],
      "metadata": {
        "id": "-XOoVkN2r-TK",
        "outputId": "242e8169-6cd0-41b8-bfc3-2da1de2c4371",
        "colab": {
          "base_uri": "https://localhost:8080/"
        }
      },
      "execution_count": 8,
      "outputs": [
        {
          "output_type": "stream",
          "name": "stdout",
          "text": [
            "Downloading from https://www.kaggle.com/api/v1/datasets/download/rohanrao/riiid-train-data-multiple-formats?dataset_version_number=3...\n"
          ]
        },
        {
          "output_type": "stream",
          "name": "stderr",
          "text": [
            "100%|██████████| 4.17G/4.17G [00:45<00:00, 98.4MB/s]"
          ]
        },
        {
          "output_type": "stream",
          "name": "stdout",
          "text": [
            "Extracting files...\n"
          ]
        },
        {
          "output_type": "stream",
          "name": "stderr",
          "text": [
            "\n"
          ]
        },
        {
          "output_type": "stream",
          "name": "stdout",
          "text": [
            "Path to dataset files: /root/.cache/kagglehub/datasets/rohanrao/riiid-train-data-multiple-formats/versions/3\n"
          ]
        },
        {
          "output_type": "execute_result",
          "data": {
            "text/plain": [
              "['riiid_train.parquet',\n",
              " 'riiid_train.feather',\n",
              " 'riiid_train.pkl.gzip',\n",
              " 'riiid_train.h5',\n",
              " 'riiid_train.jay']"
            ]
          },
          "metadata": {},
          "execution_count": 8
        }
      ]
    },
    {
      "cell_type": "code",
      "source": [
        "# Load the dataset with memory optimisations\n",
        "\n",
        "# Define column data types to reduce memory usage\n",
        "dtype_mapping_train = {\n",
        "    \"timestamp\": \"int64\",\n",
        "    \"user_id\": \"int32\",\n",
        "    \"content_id\": \"int16\",\n",
        "    \"content_type_id\": \"boolean\",\n",
        "    \"task_container_id\": \"int16\",\n",
        "    \"answered_correctly\": \"int8\",\n",
        "    \"prior_question_elapsed_time\": \"float32\",\n",
        "    \"prior_question_had_explanation\": \"boolean\"\n",
        "}\n",
        "\n",
        "# Define which colums to use\n",
        "usecols_train=[1, 2, 3, 4, 5, 7, 8, 9],"
      ],
      "metadata": {
        "id": "bKdEgs6I6hrR"
      },
      "execution_count": 9,
      "outputs": []
    },
    {
      "cell_type": "code",
      "source": [
        "%%time\n",
        "\n",
        "# Load the dataset\n",
        "train_df = pd.read_pickle(f\"{path}/riiid_train.pkl.gzip\")"
      ],
      "metadata": {
        "id": "HN_bieIUt60N",
        "outputId": "bfc33120-61d5-4158-a14a-6eb21d2cb88f",
        "colab": {
          "base_uri": "https://localhost:8080/"
        }
      },
      "execution_count": 10,
      "outputs": [
        {
          "output_type": "stream",
          "name": "stdout",
          "text": [
            "CPU times: user 2.82 s, sys: 5.28 s, total: 8.1 s\n",
            "Wall time: 25.4 s\n"
          ]
        }
      ]
    },
    {
      "cell_type": "markdown",
      "source": [
        "Drop row_id and user_answer columns"
      ],
      "metadata": {
        "id": "PELNY9O9e6CU"
      }
    },
    {
      "cell_type": "code",
      "source": [
        "# Check mememory usage before optimisation\n",
        "def memory_usage(df):\n",
        "    return f\"{df.memory_usage(deep=True).sum() / 1024 ** 2:.2f} MB\"\n",
        "\n",
        "print(f\"Dataset shape: {train_df.shape}\")\n",
        "print(f\"Memory usage before optimisation: {memory_usage(train_df)}\")"
      ],
      "metadata": {
        "id": "pSchVCjme5SL",
        "colab": {
          "base_uri": "https://localhost:8080/"
        },
        "outputId": "7eaab84d-ee76-4b0e-e8ad-003f5e2f2c93"
      },
      "execution_count": 11,
      "outputs": [
        {
          "output_type": "stream",
          "name": "stdout",
          "text": [
            "Dataset shape: (101230332, 10)\n",
            "Memory usage before optimisation: 6463.74 MB\n"
          ]
        }
      ]
    },
    {
      "cell_type": "code",
      "source": [
        "# Drop the row_id and user_answer columns to save memory\n",
        "train_df.drop(['row_id', 'user_answer'], axis=1, inplace=True) # axis=1 for columns, axis=0 for rows, inplace=True  modifies original df\n",
        "\n",
        "# Check memory usage after dropping columns\n",
        "print(f\"Memory usage after dropping columns: {memory_usage(train_df)}\")"
      ],
      "metadata": {
        "colab": {
          "base_uri": "https://localhost:8080/"
        },
        "id": "zCchgY5Is0fa",
        "outputId": "6d9a5ea8-7713-4d2b-db2b-55ec4f0438e9"
      },
      "execution_count": 12,
      "outputs": [
        {
          "output_type": "stream",
          "name": "stdout",
          "text": [
            "Memory usage after dropping columns: 5594.87 MB\n"
          ]
        }
      ]
    },
    {
      "cell_type": "markdown",
      "source": [
        "Define column data types"
      ],
      "metadata": {
        "id": "QfDMN2tGtIWQ"
      }
    },
    {
      "cell_type": "code",
      "source": [
        "# Cast columns to the desired data types\n",
        "for column, data_type in dtype_mapping_train.items():\n",
        "    train_df[column] = train_df[column].astype(data_type)  # Direct assignment\n",
        "\n",
        "# Check memory usage after datatype conversions\n",
        "print(f\"Memory usage after datatype conversions: {memory_usage(train_df)}\")"
      ],
      "metadata": {
        "colab": {
          "base_uri": "https://localhost:8080/"
        },
        "id": "jR7ApIzDtMK7",
        "outputId": "434d6075-b7f0-4922-a765-6e5bba2d637b"
      },
      "execution_count": 13,
      "outputs": [
        {
          "output_type": "stream",
          "name": "stdout",
          "text": [
            "Memory usage after datatype conversions: 2413.52 MB\n"
          ]
        }
      ]
    },
    {
      "cell_type": "markdown",
      "source": [
        "# EDA"
      ],
      "metadata": {
        "id": "7iME94Fr1EVl"
      }
    },
    {
      "cell_type": "markdown",
      "source": [
        "## Feature exploration"
      ],
      "metadata": {
        "id": "LqfXZBse7ray"
      }
    },
    {
      "cell_type": "markdown",
      "source": [
        "### train"
      ],
      "metadata": {
        "id": "EV4Ioz4kDAyo"
      }
    },
    {
      "cell_type": "markdown",
      "source": [
        "The 'timestamp' variable has values as high as 87 billion miliseconds which tells me nothing so I decided to convert it to days to get a better perspective on what that means for the dataset."
      ],
      "metadata": {
        "id": "_s1ghqFT1wxb"
      }
    },
    {
      "cell_type": "code",
      "source": [
        "max_timestamp = train_df['timestamp'].max()\n",
        "max_days = max_timestamp / (1000 * 60 * 60 * 24)  # Convert milliseconds to days\n",
        "max_years = max_days / 365.25  # Convert days to years (accounting for leap years)\n",
        "\n",
        "print(f\"Maximum timestamp in days: {max_days}\")\n",
        "print(f\"Maximum timestamp in years: {max_years}\")"
      ],
      "metadata": {
        "id": "r6gJIOctzHg5",
        "outputId": "5d406ebd-f896-4ba7-d452-54d7f9088308",
        "colab": {
          "base_uri": "https://localhost:8080/"
        }
      },
      "execution_count": 15,
      "outputs": [
        {
          "output_type": "stream",
          "name": "stdout",
          "text": [
            "Maximum timestamp in days: 1011.8723616782407\n",
            "Maximum timestamp in years: 2.7703555418979895\n"
          ]
        }
      ]
    },
    {
      "cell_type": "markdown",
      "source": [
        "So thats about 2 and 3/4 of a year between interactions for the particular user so will have to explore if that is quite unique in the dataset and could be considered an outlier or if the time data really spans that much in general."
      ],
      "metadata": {
        "id": "-7SzeXSa2Rvl"
      }
    },
    {
      "cell_type": "markdown",
      "source": [
        "How many unique users in the dataset?"
      ],
      "metadata": {
        "id": "fezpKAyV3CvL"
      }
    },
    {
      "cell_type": "code",
      "source": [
        "num_unique_users = train_df['user_id'].nunique()\n",
        "print(f\"Number of unique users: {num_unique_users}\")"
      ],
      "metadata": {
        "colab": {
          "base_uri": "https://localhost:8080/"
        },
        "id": "uHXNzym-2RRG",
        "outputId": "8bb9e8e9-b334-4521-a97a-d0eb88d97a46"
      },
      "execution_count": 16,
      "outputs": [
        {
          "output_type": "stream",
          "name": "stdout",
          "text": [
            "Number of unique users: 393656\n"
          ]
        }
      ]
    },
    {
      "cell_type": "markdown",
      "source": [
        "The 'content_id' is basically an 'question_id' form question.csv or 'lecture_id' from lecture.csv datasets and then the 'content_type_id' defines which one of these is it in the train.pkl.gzip dataset.\n",
        "\n",
        "It's boolean where False means if the event was a question being posed to the user, 1 if the event was the user watching a lecture."
      ],
      "metadata": {
        "id": "KYJz2hGe36TI"
      }
    },
    {
      "cell_type": "code",
      "source": [
        "train_df.content_type_id.value_counts()"
      ],
      "metadata": {
        "colab": {
          "base_uri": "https://localhost:8080/",
          "height": 178
        },
        "id": "RzShS3f34xl3",
        "outputId": "c4ec9191-29bd-4f86-801a-604edd060e43"
      },
      "execution_count": 17,
      "outputs": [
        {
          "output_type": "execute_result",
          "data": {
            "text/plain": [
              "content_type_id\n",
              "False    99271300\n",
              "True      1959032\n",
              "Name: count, dtype: Int64"
            ],
            "text/html": [
              "<div>\n",
              "<style scoped>\n",
              "    .dataframe tbody tr th:only-of-type {\n",
              "        vertical-align: middle;\n",
              "    }\n",
              "\n",
              "    .dataframe tbody tr th {\n",
              "        vertical-align: top;\n",
              "    }\n",
              "\n",
              "    .dataframe thead th {\n",
              "        text-align: right;\n",
              "    }\n",
              "</style>\n",
              "<table border=\"1\" class=\"dataframe\">\n",
              "  <thead>\n",
              "    <tr style=\"text-align: right;\">\n",
              "      <th></th>\n",
              "      <th>count</th>\n",
              "    </tr>\n",
              "    <tr>\n",
              "      <th>content_type_id</th>\n",
              "      <th></th>\n",
              "    </tr>\n",
              "  </thead>\n",
              "  <tbody>\n",
              "    <tr>\n",
              "      <th>False</th>\n",
              "      <td>99271300</td>\n",
              "    </tr>\n",
              "    <tr>\n",
              "      <th>True</th>\n",
              "      <td>1959032</td>\n",
              "    </tr>\n",
              "  </tbody>\n",
              "</table>\n",
              "</div><br><label><b>dtype:</b> Int64</label>"
            ]
          },
          "metadata": {},
          "execution_count": 17
        }
      ]
    },
    {
      "cell_type": "code",
      "source": [
        "num_unique_content = train_df['content_id'].nunique()\n",
        "print(f\"Number of unique content: {num_unique_content}\")\n",
        "\n",
        "# Calculate and print unique questions and lectures in one line\n",
        "print(f\"Unique questions: {train_df[train_df.content_type_id == False].content_id.nunique()}\\nUnique lectures: {train_df[train_df.content_type_id == True].content_id.nunique()}\")"
      ],
      "metadata": {
        "colab": {
          "base_uri": "https://localhost:8080/"
        },
        "id": "BTij-tRW579c",
        "outputId": "a6a9f10f-b655-4aed-ec77-897fc99f1035"
      },
      "execution_count": 18,
      "outputs": [
        {
          "output_type": "stream",
          "name": "stdout",
          "text": [
            "Number of unique content: 13782\n",
            "Unique questions: 13523\n",
            "Unique lectures: 415\n"
          ]
        }
      ]
    },
    {
      "cell_type": "markdown",
      "source": [
        "It seems that users are given questions in containers and then seeing explanations for them and potentially answers which then may hekp with answering the next batch of questions."
      ],
      "metadata": {
        "id": "4h77uSuu8FWX"
      }
    },
    {
      "cell_type": "code",
      "source": [
        "unique_task_container = train_df['task_container_id'].nunique()\n",
        "print(f\"Number of unique task containers: {unique_task_container}\")"
      ],
      "metadata": {
        "colab": {
          "base_uri": "https://localhost:8080/"
        },
        "id": "Zv7-u1Wc8iIn",
        "outputId": "22cefb6b-630b-415a-aebd-c933c64937e8"
      },
      "execution_count": 19,
      "outputs": [
        {
          "output_type": "stream",
          "name": "stdout",
          "text": [
            "Number of unique task containers: 10000\n"
          ]
        }
      ]
    },
    {
      "cell_type": "markdown",
      "source": [
        "The variable 'user_answer' refers to what choice they picked out of multiple answer questions, numbers 0-3 refer to 4 choices, and number -1 means they engaged with a lecture instead.\n",
        "THIS FEATURE WAS DROPPED FROM THE DATASET."
      ],
      "metadata": {
        "id": "EwPRSJ-f9iiY"
      }
    },
    {
      "cell_type": "markdown",
      "source": [
        "The count for -1 (lectures) checks with the count in 'content_type_id'."
      ],
      "metadata": {
        "id": "HQnBARMN-RV5"
      }
    },
    {
      "cell_type": "markdown",
      "source": [
        "The variable 'answered_correctly' tells us if users got the question right(1) or wrong(0), or if they engaged with a lecture instead(-1). This is also the target variable for this analysis."
      ],
      "metadata": {
        "id": "ZzCNgDML-giO"
      }
    },
    {
      "cell_type": "code",
      "source": [
        "answered_correctly_counts = train_df.answered_correctly.value_counts()\n",
        "print(answered_correctly_counts)"
      ],
      "metadata": {
        "colab": {
          "base_uri": "https://localhost:8080/"
        },
        "id": "BKq9LVEM_uni",
        "outputId": "c6ac63b4-3bab-47ac-ba27-0490e087d827"
      },
      "execution_count": 24,
      "outputs": [
        {
          "output_type": "stream",
          "name": "stdout",
          "text": [
            "answered_correctly\n",
            " 1    65244627\n",
            " 0    34026673\n",
            "-1     1959032\n",
            "Name: count, dtype: int64\n"
          ]
        }
      ]
    },
    {
      "cell_type": "markdown",
      "source": [
        "The maxiumum elapsed time since last question asked could also potentially have some outliers where people don't finish the container or leave the device withiut answering the question."
      ],
      "metadata": {
        "id": "lfYCjby0AHUD"
      }
    },
    {
      "cell_type": "code",
      "source": [
        "max_elapsed_time = train_df['prior_question_elapsed_time'].max()\n",
        "max_minutes = max_elapsed_time / 60000  # Convert milliseconds to minutes\n",
        "print(f\"Maximum elapsed time: {max_minutes}\")"
      ],
      "metadata": {
        "colab": {
          "base_uri": "https://localhost:8080/"
        },
        "id": "l853JX_NBG8Y",
        "outputId": "a885fb8f-4553-429d-e785-c88ba038eece"
      },
      "execution_count": 25,
      "outputs": [
        {
          "output_type": "stream",
          "name": "stdout",
          "text": [
            "Maximum elapsed time: 5.0\n"
          ]
        }
      ]
    },
    {
      "cell_type": "markdown",
      "source": [
        "There probably is a cut off at 5 minutes per question."
      ],
      "metadata": {
        "id": "Yobou3seCGyR"
      }
    },
    {
      "cell_type": "markdown",
      "source": [
        "The last variable in the dataset is probably going to be quite imporatant to compare to predicting if the answers to questions were correct. It states in the description that in the beginning the questions asked were onboarding Qs so there wouldnt be feedback but as a student would progress on the platform they would be given some."
      ],
      "metadata": {
        "id": "3kb0gFrsCL3W"
      }
    },
    {
      "cell_type": "code",
      "source": [
        "train_df.prior_question_had_explanation.value_counts()\n"
      ],
      "metadata": {
        "colab": {
          "base_uri": "https://localhost:8080/",
          "height": 178
        },
        "id": "ylwjUyRjDGiv",
        "outputId": "31c4dd5e-21ef-44db-f6d0-d407bae88cfc"
      },
      "execution_count": 26,
      "outputs": [
        {
          "output_type": "execute_result",
          "data": {
            "text/plain": [
              "prior_question_had_explanation\n",
              "True     89685560\n",
              "False    11152266\n",
              "Name: count, dtype: Int64"
            ],
            "text/html": [
              "<div>\n",
              "<style scoped>\n",
              "    .dataframe tbody tr th:only-of-type {\n",
              "        vertical-align: middle;\n",
              "    }\n",
              "\n",
              "    .dataframe tbody tr th {\n",
              "        vertical-align: top;\n",
              "    }\n",
              "\n",
              "    .dataframe thead th {\n",
              "        text-align: right;\n",
              "    }\n",
              "</style>\n",
              "<table border=\"1\" class=\"dataframe\">\n",
              "  <thead>\n",
              "    <tr style=\"text-align: right;\">\n",
              "      <th></th>\n",
              "      <th>count</th>\n",
              "    </tr>\n",
              "    <tr>\n",
              "      <th>prior_question_had_explanation</th>\n",
              "      <th></th>\n",
              "    </tr>\n",
              "  </thead>\n",
              "  <tbody>\n",
              "    <tr>\n",
              "      <th>True</th>\n",
              "      <td>89685560</td>\n",
              "    </tr>\n",
              "    <tr>\n",
              "      <th>False</th>\n",
              "      <td>11152266</td>\n",
              "    </tr>\n",
              "  </tbody>\n",
              "</table>\n",
              "</div><br><label><b>dtype:</b> Int64</label>"
            ]
          },
          "metadata": {},
          "execution_count": 26
        }
      ]
    },
    {
      "cell_type": "code",
      "source": [
        "percentages = train_df.prior_question_had_explanation.value_counts(normalize=True) * 100\n",
        "percentages"
      ],
      "metadata": {
        "colab": {
          "base_uri": "https://localhost:8080/",
          "height": 178
        },
        "id": "32UDxGZuDaPW",
        "outputId": "1c932411-0140-499b-c59d-0b1ab025b896"
      },
      "execution_count": 27,
      "outputs": [
        {
          "output_type": "execute_result",
          "data": {
            "text/plain": [
              "prior_question_had_explanation\n",
              "True     88.940394\n",
              "False    11.059606\n",
              "Name: proportion, dtype: Float64"
            ],
            "text/html": [
              "<div>\n",
              "<style scoped>\n",
              "    .dataframe tbody tr th:only-of-type {\n",
              "        vertical-align: middle;\n",
              "    }\n",
              "\n",
              "    .dataframe tbody tr th {\n",
              "        vertical-align: top;\n",
              "    }\n",
              "\n",
              "    .dataframe thead th {\n",
              "        text-align: right;\n",
              "    }\n",
              "</style>\n",
              "<table border=\"1\" class=\"dataframe\">\n",
              "  <thead>\n",
              "    <tr style=\"text-align: right;\">\n",
              "      <th></th>\n",
              "      <th>proportion</th>\n",
              "    </tr>\n",
              "    <tr>\n",
              "      <th>prior_question_had_explanation</th>\n",
              "      <th></th>\n",
              "    </tr>\n",
              "  </thead>\n",
              "  <tbody>\n",
              "    <tr>\n",
              "      <th>True</th>\n",
              "      <td>88.940394</td>\n",
              "    </tr>\n",
              "    <tr>\n",
              "      <th>False</th>\n",
              "      <td>11.059606</td>\n",
              "    </tr>\n",
              "  </tbody>\n",
              "</table>\n",
              "</div><br><label><b>dtype:</b> Float64</label>"
            ]
          },
          "metadata": {},
          "execution_count": 27
        }
      ]
    },
    {
      "cell_type": "markdown",
      "source": [
        "### questions"
      ],
      "metadata": {
        "id": "dkqIV0vhDHJa"
      }
    },
    {
      "cell_type": "markdown",
      "source": [
        "question_id - How many unique questions in the dataset?"
      ],
      "metadata": {
        "id": "U7wkqX08DMt5"
      }
    },
    {
      "cell_type": "code",
      "source": [
        "num_unique_questions = questions_df['question_id'].nunique()\n",
        "print(f\"Number of unique questions: {num_unique_questions}\")"
      ],
      "metadata": {
        "colab": {
          "base_uri": "https://localhost:8080/"
        },
        "outputId": "3ae9557f-288a-442a-faaf-8ab68f778145",
        "id": "VGbmEjlSGCAE"
      },
      "execution_count": 34,
      "outputs": [
        {
          "output_type": "stream",
          "name": "stdout",
          "text": [
            "Number of unique questions: 13523\n"
          ]
        }
      ]
    },
    {
      "cell_type": "markdown",
      "source": [
        "bundle_id - How many unique question bundles in the dataset?"
      ],
      "metadata": {
        "id": "X-lqL9RbFccN"
      }
    },
    {
      "cell_type": "code",
      "source": [
        "num_unique_bundles = questions_df['bundle_id'].nunique()\n",
        "print(f\"Number of unique question bundles: {num_unique_bundles}\")"
      ],
      "metadata": {
        "colab": {
          "base_uri": "https://localhost:8080/"
        },
        "id": "2A8Qx7zOG1SF",
        "outputId": "707c39ee-580b-426a-ba2a-a3e3aa70107d"
      },
      "execution_count": 35,
      "outputs": [
        {
          "output_type": "stream",
          "name": "stdout",
          "text": [
            "Number of unique question bundles: 9765\n"
          ]
        }
      ]
    },
    {
      "cell_type": "markdown",
      "source": [
        "correct_answer"
      ],
      "metadata": {
        "id": "QyQnS3LuFduR"
      }
    },
    {
      "cell_type": "code",
      "source": [
        "questions_df.correct_answer.value_counts()"
      ],
      "metadata": {
        "colab": {
          "base_uri": "https://localhost:8080/",
          "height": 241
        },
        "id": "wPpljnhBIQ0s",
        "outputId": "10fada03-97d1-42b6-e315-c5bc49efc1b2"
      },
      "execution_count": 36,
      "outputs": [
        {
          "output_type": "execute_result",
          "data": {
            "text/plain": [
              "correct_answer\n",
              "0    3716\n",
              "3    3544\n",
              "1    3478\n",
              "2    2785\n",
              "Name: count, dtype: int64"
            ],
            "text/html": [
              "<div>\n",
              "<style scoped>\n",
              "    .dataframe tbody tr th:only-of-type {\n",
              "        vertical-align: middle;\n",
              "    }\n",
              "\n",
              "    .dataframe tbody tr th {\n",
              "        vertical-align: top;\n",
              "    }\n",
              "\n",
              "    .dataframe thead th {\n",
              "        text-align: right;\n",
              "    }\n",
              "</style>\n",
              "<table border=\"1\" class=\"dataframe\">\n",
              "  <thead>\n",
              "    <tr style=\"text-align: right;\">\n",
              "      <th></th>\n",
              "      <th>count</th>\n",
              "    </tr>\n",
              "    <tr>\n",
              "      <th>correct_answer</th>\n",
              "      <th></th>\n",
              "    </tr>\n",
              "  </thead>\n",
              "  <tbody>\n",
              "    <tr>\n",
              "      <th>0</th>\n",
              "      <td>3716</td>\n",
              "    </tr>\n",
              "    <tr>\n",
              "      <th>3</th>\n",
              "      <td>3544</td>\n",
              "    </tr>\n",
              "    <tr>\n",
              "      <th>1</th>\n",
              "      <td>3478</td>\n",
              "    </tr>\n",
              "    <tr>\n",
              "      <th>2</th>\n",
              "      <td>2785</td>\n",
              "    </tr>\n",
              "  </tbody>\n",
              "</table>\n",
              "</div><br><label><b>dtype:</b> int64</label>"
            ]
          },
          "metadata": {},
          "execution_count": 36
        }
      ]
    },
    {
      "cell_type": "markdown",
      "source": [
        "part - the relevant section of the TOEIC test.\n",
        "\n",
        "https://www.iibc-global.org/english/toeic/test/lr/about/format.html\n",
        "\n",
        "The Test of English for International Communication (TOEIC) is an international standardized test of English language proficiency for non-native speakers."
      ],
      "metadata": {
        "id": "SpBmCNazFgkC"
      }
    },
    {
      "cell_type": "code",
      "source": [
        "questions_df.part.value_counts()"
      ],
      "metadata": {
        "colab": {
          "base_uri": "https://localhost:8080/",
          "height": 335
        },
        "id": "7SX_U7nbGmEX",
        "outputId": "608d7f7d-8ae2-46f5-f424-ce5cc14fcb7b"
      },
      "execution_count": 37,
      "outputs": [
        {
          "output_type": "execute_result",
          "data": {
            "text/plain": [
              "part\n",
              "5    5511\n",
              "2    1647\n",
              "3    1562\n",
              "4    1439\n",
              "6    1212\n",
              "7    1160\n",
              "1     992\n",
              "Name: count, dtype: int64"
            ],
            "text/html": [
              "<div>\n",
              "<style scoped>\n",
              "    .dataframe tbody tr th:only-of-type {\n",
              "        vertical-align: middle;\n",
              "    }\n",
              "\n",
              "    .dataframe tbody tr th {\n",
              "        vertical-align: top;\n",
              "    }\n",
              "\n",
              "    .dataframe thead th {\n",
              "        text-align: right;\n",
              "    }\n",
              "</style>\n",
              "<table border=\"1\" class=\"dataframe\">\n",
              "  <thead>\n",
              "    <tr style=\"text-align: right;\">\n",
              "      <th></th>\n",
              "      <th>count</th>\n",
              "    </tr>\n",
              "    <tr>\n",
              "      <th>part</th>\n",
              "      <th></th>\n",
              "    </tr>\n",
              "  </thead>\n",
              "  <tbody>\n",
              "    <tr>\n",
              "      <th>5</th>\n",
              "      <td>5511</td>\n",
              "    </tr>\n",
              "    <tr>\n",
              "      <th>2</th>\n",
              "      <td>1647</td>\n",
              "    </tr>\n",
              "    <tr>\n",
              "      <th>3</th>\n",
              "      <td>1562</td>\n",
              "    </tr>\n",
              "    <tr>\n",
              "      <th>4</th>\n",
              "      <td>1439</td>\n",
              "    </tr>\n",
              "    <tr>\n",
              "      <th>6</th>\n",
              "      <td>1212</td>\n",
              "    </tr>\n",
              "    <tr>\n",
              "      <th>7</th>\n",
              "      <td>1160</td>\n",
              "    </tr>\n",
              "    <tr>\n",
              "      <th>1</th>\n",
              "      <td>992</td>\n",
              "    </tr>\n",
              "  </tbody>\n",
              "</table>\n",
              "</div><br><label><b>dtype:</b> int64</label>"
            ]
          },
          "metadata": {},
          "execution_count": 37
        }
      ]
    },
    {
      "cell_type": "markdown",
      "source": [
        "tags"
      ],
      "metadata": {
        "id": "cwxOfhYZFjDr"
      }
    },
    {
      "cell_type": "code",
      "source": [
        "num_unique_tags = questions_df['tags'].nunique()\n",
        "print(f\"Number of unique tags: {num_unique_tags}\")"
      ],
      "metadata": {
        "colab": {
          "base_uri": "https://localhost:8080/"
        },
        "id": "s6kn6AfjIKoJ",
        "outputId": "c85ae864-9df6-40ff-c87c-de0eaa9c818b"
      },
      "execution_count": 39,
      "outputs": [
        {
          "output_type": "stream",
          "name": "stdout",
          "text": [
            "Number of unique tags: 1519\n"
          ]
        }
      ]
    },
    {
      "cell_type": "markdown",
      "source": [
        "### lectures"
      ],
      "metadata": {
        "id": "dMr5l2bRDKMd"
      }
    },
    {
      "cell_type": "markdown",
      "source": [
        "lecture_id - How many unique lectures in the dataset?"
      ],
      "metadata": {
        "id": "Wj6HZZ1WFkWM"
      }
    },
    {
      "cell_type": "code",
      "source": [
        "num_unique_lectures = lectures_df['lecture_id'].nunique()\n",
        "print(f\"Number of unique lectures: {num_unique_lectures}\")"
      ],
      "metadata": {
        "colab": {
          "base_uri": "https://localhost:8080/"
        },
        "outputId": "2764204c-f145-4f4e-d6a9-032c3ded11fb",
        "id": "fWTR2rYwGDWC"
      },
      "execution_count": 40,
      "outputs": [
        {
          "output_type": "stream",
          "name": "stdout",
          "text": [
            "Number of unique lectures: 418\n"
          ]
        }
      ]
    },
    {
      "cell_type": "markdown",
      "source": [
        "part - TOEIC test\n",
        "\n",
        "https://www.iibc-global.org/english/toeic/test/lr/about/format.html\n",
        "\n",
        "The Test of English for International Communication (TOEIC) is an international standardized test of English language proficiency for non-native speakers."
      ],
      "metadata": {
        "id": "NBRE4tO-Flnt"
      }
    },
    {
      "cell_type": "code",
      "source": [
        "lectures_df.part.value_counts()"
      ],
      "metadata": {
        "colab": {
          "base_uri": "https://localhost:8080/",
          "height": 335
        },
        "id": "T3F2OGfXGsHG",
        "outputId": "e4159e04-ad94-4f16-a336-f94495ed5aa4"
      },
      "execution_count": 41,
      "outputs": [
        {
          "output_type": "execute_result",
          "data": {
            "text/plain": [
              "part\n",
              "5    143\n",
              "6     83\n",
              "2     56\n",
              "1     54\n",
              "7     32\n",
              "4     31\n",
              "3     19\n",
              "Name: count, dtype: int64"
            ],
            "text/html": [
              "<div>\n",
              "<style scoped>\n",
              "    .dataframe tbody tr th:only-of-type {\n",
              "        vertical-align: middle;\n",
              "    }\n",
              "\n",
              "    .dataframe tbody tr th {\n",
              "        vertical-align: top;\n",
              "    }\n",
              "\n",
              "    .dataframe thead th {\n",
              "        text-align: right;\n",
              "    }\n",
              "</style>\n",
              "<table border=\"1\" class=\"dataframe\">\n",
              "  <thead>\n",
              "    <tr style=\"text-align: right;\">\n",
              "      <th></th>\n",
              "      <th>count</th>\n",
              "    </tr>\n",
              "    <tr>\n",
              "      <th>part</th>\n",
              "      <th></th>\n",
              "    </tr>\n",
              "  </thead>\n",
              "  <tbody>\n",
              "    <tr>\n",
              "      <th>5</th>\n",
              "      <td>143</td>\n",
              "    </tr>\n",
              "    <tr>\n",
              "      <th>6</th>\n",
              "      <td>83</td>\n",
              "    </tr>\n",
              "    <tr>\n",
              "      <th>2</th>\n",
              "      <td>56</td>\n",
              "    </tr>\n",
              "    <tr>\n",
              "      <th>1</th>\n",
              "      <td>54</td>\n",
              "    </tr>\n",
              "    <tr>\n",
              "      <th>7</th>\n",
              "      <td>32</td>\n",
              "    </tr>\n",
              "    <tr>\n",
              "      <th>4</th>\n",
              "      <td>31</td>\n",
              "    </tr>\n",
              "    <tr>\n",
              "      <th>3</th>\n",
              "      <td>19</td>\n",
              "    </tr>\n",
              "  </tbody>\n",
              "</table>\n",
              "</div><br><label><b>dtype:</b> int64</label>"
            ]
          },
          "metadata": {},
          "execution_count": 41
        }
      ]
    },
    {
      "cell_type": "markdown",
      "source": [
        "tag"
      ],
      "metadata": {
        "id": "qV31I1vGFnIT"
      }
    },
    {
      "cell_type": "code",
      "source": [
        "num_unique_tags = lectures_df['tag'].nunique()\n",
        "print(f\"Number of unique tags: {num_unique_tags}\")"
      ],
      "metadata": {
        "colab": {
          "base_uri": "https://localhost:8080/"
        },
        "id": "5wHnWlPmH5uf",
        "outputId": "3a672478-ed7c-43c3-864f-8a99ad8c491f"
      },
      "execution_count": 42,
      "outputs": [
        {
          "output_type": "stream",
          "name": "stdout",
          "text": [
            "Number of unique tags: 151\n"
          ]
        }
      ]
    },
    {
      "cell_type": "markdown",
      "source": [
        "type_of"
      ],
      "metadata": {
        "id": "IIrZBP1qFoD-"
      }
    },
    {
      "cell_type": "code",
      "source": [
        "lectures_df.type_of.value_counts()"
      ],
      "metadata": {
        "colab": {
          "base_uri": "https://localhost:8080/",
          "height": 241
        },
        "id": "PTvlukvKH1rX",
        "outputId": "445bfd58-c8b0-42e0-9874-57da5d0a7c80"
      },
      "execution_count": 43,
      "outputs": [
        {
          "output_type": "execute_result",
          "data": {
            "text/plain": [
              "type_of\n",
              "concept             222\n",
              "solving question    186\n",
              "intention             7\n",
              "starter               3\n",
              "Name: count, dtype: int64"
            ],
            "text/html": [
              "<div>\n",
              "<style scoped>\n",
              "    .dataframe tbody tr th:only-of-type {\n",
              "        vertical-align: middle;\n",
              "    }\n",
              "\n",
              "    .dataframe tbody tr th {\n",
              "        vertical-align: top;\n",
              "    }\n",
              "\n",
              "    .dataframe thead th {\n",
              "        text-align: right;\n",
              "    }\n",
              "</style>\n",
              "<table border=\"1\" class=\"dataframe\">\n",
              "  <thead>\n",
              "    <tr style=\"text-align: right;\">\n",
              "      <th></th>\n",
              "      <th>count</th>\n",
              "    </tr>\n",
              "    <tr>\n",
              "      <th>type_of</th>\n",
              "      <th></th>\n",
              "    </tr>\n",
              "  </thead>\n",
              "  <tbody>\n",
              "    <tr>\n",
              "      <th>concept</th>\n",
              "      <td>222</td>\n",
              "    </tr>\n",
              "    <tr>\n",
              "      <th>solving question</th>\n",
              "      <td>186</td>\n",
              "    </tr>\n",
              "    <tr>\n",
              "      <th>intention</th>\n",
              "      <td>7</td>\n",
              "    </tr>\n",
              "    <tr>\n",
              "      <th>starter</th>\n",
              "      <td>3</td>\n",
              "    </tr>\n",
              "  </tbody>\n",
              "</table>\n",
              "</div><br><label><b>dtype:</b> int64</label>"
            ]
          },
          "metadata": {},
          "execution_count": 43
        }
      ]
    },
    {
      "cell_type": "markdown",
      "source": [
        "## Visualisations"
      ],
      "metadata": {
        "id": "AAS35wzw74yP"
      }
    },
    {
      "cell_type": "markdown",
      "source": [
        "### Functions"
      ],
      "metadata": {
        "id": "lDR6G8zx9U3J"
      }
    },
    {
      "cell_type": "markdown",
      "source": [
        "Dist plot"
      ],
      "metadata": {
        "id": "6uM8OmK49W49"
      }
    },
    {
      "cell_type": "code",
      "source": [
        "def plot_distplot(data, column, hue=None, title=None, kde=True):\n",
        "    \"\"\"\n",
        "    Creates a simple distribution plot with histogram and optional KDE curve.\n",
        "\n",
        "    Parameters:\n",
        "    - data: Pandas DataFrame\n",
        "    - column: Column name to plot\n",
        "    - hue: Optional categorical column for grouping\n",
        "    - title: Optional plot title\n",
        "    - bins: Number of histogram bins (default=20)\n",
        "    - kde: Whether to plot the KDE curve (default=True)\n",
        "    \"\"\"\n",
        "    plt.figure(figsize=(8, 5))\n",
        "    sns.histplot(data=data, x=column, hue=hue, kde=kde)\n",
        "\n",
        "    plt.xlabel(column)\n",
        "    plt.ylabel(\"Density\")\n",
        "    if title:\n",
        "        plt.title(title)\n",
        "\n",
        "    plt.show()\n",
        "\n",
        "# Example usage:\n",
        "# plot_distplot(df, 'column_name', hue='category_column', bins=30, kde=True)"
      ],
      "metadata": {
        "id": "sPfKm05V9WB4"
      },
      "execution_count": 28,
      "outputs": []
    },
    {
      "cell_type": "markdown",
      "source": [
        "KDE plot"
      ],
      "metadata": {
        "id": "HX6DWnlK_9DF"
      }
    },
    {
      "cell_type": "code",
      "source": [
        "def plot_kde(data, column, hue=None, title=None):\n",
        "    \"\"\"\n",
        "    Creates a simple KDE plot for a specified column.\n",
        "\n",
        "    Parameters:\n",
        "    - data: Pandas DataFrame\n",
        "    - column: Column name to plot\n",
        "    - hue: Optional categorical column for grouping\n",
        "    - title: Optional plot title\n",
        "    \"\"\"\n",
        "    plt.figure(figsize=(8, 5)) # Create a 'canvas' to draw the plot onto\n",
        "    # plt.figure(figsize=figsize) - alternate code if parameter given in function call\n",
        "    sns.kdeplot(data=data, x=column, hue=hue, fill=True) # create KDE plot\n",
        "    # df, column, split into categories if provided, fill area under line with colour\n",
        "\n",
        "    # Custom labels and title\n",
        "    plt.xlabel(column) # horizontal line label\n",
        "    # plt.xlabel(xlabel if xlabel else column) - alternate code to add label\n",
        "    plt.ylabel(\"Density\") # vertical line label\n",
        "    if title:\n",
        "        plt.title(title) # add title to plot if provided in function call\n",
        "\n",
        "    plt.show() # display plot\n",
        "\n",
        "    # --- Added code for descriptive statistics ---\n",
        "    # Assume 'column' is numerical by default\n",
        "    categorical = False\n",
        "\n",
        "    # Check if the column is of object (string) type, which often represents categorical data\n",
        "    if data[column].dtype == 'object':\n",
        "        categorical = True\n",
        "\n",
        "    if categorical:\n",
        "        values = data[column].value_counts().values\n",
        "    else:\n",
        "        values = data[column].values\n",
        "\n",
        "    print('Mean: {:,}'.format(np.mean(values)))\n",
        "    print('Median: {:,}'.format(np.median(values)))\n",
        "    print('Max: {:,}'.format(np.max(values)))\n",
        "    # --- End of added code ---\n",
        "\n",
        "# Example usage:\n",
        "# plot_kde(df, 'column_name', hue='category_column', title='KDE Plot')\n",
        "\n",
        "# additional parameters:\n",
        "# bw_adjust=1, color=None, xlabel=None, ylabel=\"Density\", figsize=(8, 5)\n",
        "    \"\"\"\n",
        "    Parameters:\n",
        "    - bw_adjust: Bandwidth adjustment factor (default=1).\n",
        "    - color: Optional color for the KDE curve.\n",
        "    - xlabel: Optional x-axis label.\n",
        "    - ylabel: Y-axis label (default=\"Density\").\n",
        "    - figsize: Tuple defining the figure size (default=(8,5)).\n",
        "    \"\"\""
      ],
      "metadata": {
        "id": "_JrEzQ6VmwQL"
      },
      "execution_count": 9,
      "outputs": []
    },
    {
      "cell_type": "markdown",
      "source": [
        "Bar plot"
      ],
      "metadata": {
        "id": "pvX4I0an_-2e"
      }
    },
    {
      "cell_type": "code",
      "source": [
        "def plot_bar(data, x, y=None, hue=None, color=None, title=None):\n",
        "    \"\"\"\n",
        "    Creates a customizable bar plot.\n",
        "\n",
        "    Parameters:\n",
        "    - data: Pandas DataFrame containing the data.\n",
        "    - x: Column name for the x-axis categories.\n",
        "    - y: Optional column name for the y-axis values (if None, counts are used).\n",
        "    - hue: Optional column for grouping (creates grouped bars).\n",
        "    - color: Optional color for the bars.\n",
        "    - title: Optional title for the plot.\n",
        "    - xlabel: Optional x-axis label (default uses x column name).\n",
        "    - ylabel: Optional y-axis label (default uses y column name or \"Count\").\n",
        "    - figsize: Tuple defining the figure size (default=(8,5)).\n",
        "    \"\"\"\n",
        "    plt.figure(figsize=(8, 5)) # Create a 'canvas' to draw the plot onto\n",
        "    # plt.figure(figsize=figsize) - alternate code if parameter given in function call\n",
        "\n",
        "    # Create either a value plot or count plot\n",
        "    # If y is provided, plot values; otherwise plot counts\n",
        "    if y:\n",
        "        sns.barplot(data=data, x=x, y=y, hue=hue, color=color)\n",
        "    else:\n",
        "        sns.countplot(data=data, x=x, hue=hue, color=color)\n",
        "\n",
        "    # Custom labels and title\n",
        "    plt.xlabel(x) # horizontal line label\n",
        "    # plt.xlabel(xlabel if xlabel else x) - alternate code to add label\n",
        "    plt.ylabel(y if y else \"Count\") # vertical line label\n",
        "    if title:\n",
        "        plt.title(title) # add title to plot if provided in function call\n",
        "\n",
        "    # Rotate x-axis labels if there are many categories to prevent label overlap\n",
        "    plt.xticks(rotation=45, ha='right')\n",
        "    plt.tight_layout() # adjusts the plot padding to ensure all labels fit within the figure without being cut off\n",
        "\n",
        "    plt.show() # display plot\n",
        "\n",
        "# Example usage:\n",
        "# plot_bar(df, x='category_column')                       # Simple count plot\n",
        "# plot_bar(df, x='category_column', y='value_column')     # Value-based bar plot\n",
        "# plot_bar(df, x='category_column', hue='group_column')   # Grouped bar plot\n",
        "\n",
        "# additional parameters:\n",
        "# hue=None, color=None, xlabel=None, ylabel=None, figsize=(8, 5)\n",
        "    \"\"\"\n",
        "    Parameters:\n",
        "    - hue: Optional column for grouping (creates grouped bars).\n",
        "    - color: Optional color for the bars.\n",
        "    - xlabel: Optional x-axis label (default uses x column name).\n",
        "    - ylabel: Optional y-axis label (default uses y column name or \"Count\").\n",
        "    - figsize: Tuple defining the figure size (default=(8,5)).\n",
        "    \"\"\""
      ],
      "metadata": {
        "id": "m4LwJag1ka4n"
      },
      "execution_count": 19,
      "outputs": []
    },
    {
      "cell_type": "markdown",
      "source": [
        "Histogram"
      ],
      "metadata": {
        "id": "1n5B7T_BlGzt"
      }
    },
    {
      "cell_type": "code",
      "source": [
        "def plot_histogram(data, column, bins=None, hue=None, title=None):\n",
        "    \"\"\"\n",
        "    Creates a simple histogram for a specified column.\n",
        "\n",
        "    Parameters:\n",
        "    - data: Pandas DataFrame\n",
        "    - column: Column name to plot\n",
        "    - bins: Optional number of bins (none/default uses seaborn's auto bin selection)\n",
        "    - hue: Optional categorical column for grouping\n",
        "    - title: Optional plot title\n",
        "    \"\"\"\n",
        "    plt.figure(figsize=(8, 5)) # Create a 'canvas' to draw the plot onto\n",
        "    # plt.figure(figsize=figsize) - alternate code if parameter given in function call\n",
        "    sns.histplot(data=data, x=column, bins=bins, hue=hue, kde=True) # create histogram\n",
        "    # df, column, number of bins, split into categories if provided, line on top of the histogram bars\n",
        "\n",
        "    # Custom labels and title\n",
        "    plt.xlabel(column) # horizontal line label\n",
        "    # plt.xlabel(xlabel if xlabel else column) - alternate code to add label\n",
        "    plt.ylabel(\"Count\") # vertical line label\n",
        "    if title:\n",
        "        plt.title(title) # add title to plot if provided in function call\n",
        "\n",
        "    plt.show() # display plot\n",
        "\n",
        "# Example usage:\n",
        "# plot_histogram(df, 'column_name', bins=20, hue='category_column', title='Histogram')\n",
        "\n",
        "# additional parameters:\n",
        "# color='blue', xlabel=None, ylabel=\"Count\", figsize=(10, 6), kde=False)\n",
        "    \"\"\"\n",
        "    Parameters:\n",
        "    - color: Optional color for the histogram bars.\n",
        "    - xlabel: Optional x-axis label (default uses column name).\n",
        "    - ylabel: Y-axis label (default=\"Count\").\n",
        "    - figsize: Tuple defining the figure size (default=(8,5)).\n",
        "    - kde: Boolean to include KDE curve overlay (default=True).\n",
        "    \"\"\""
      ],
      "metadata": {
        "id": "JTNhZZPtkaTI"
      },
      "execution_count": 11,
      "outputs": []
    },
    {
      "cell_type": "markdown",
      "source": [
        "### timestamp and prior_question_elapsed_time"
      ],
      "metadata": {
        "id": "BIy46oxO9uj9"
      }
    },
    {
      "cell_type": "code",
      "source": [
        "plot_kde(train_df, 'timestamp', hue=None, title=None)"
      ],
      "metadata": {
        "id": "ICyQmkEt93BC"
      },
      "execution_count": null,
      "outputs": []
    },
    {
      "cell_type": "code",
      "source": [
        "plot_kde(train_df, 'prior_question_elapsed_time', hue=None, title=None)"
      ],
      "metadata": {
        "id": "z5u3kAcB-MqN"
      },
      "execution_count": null,
      "outputs": []
    },
    {
      "cell_type": "markdown",
      "source": [
        "Alternate code"
      ],
      "metadata": {
        "id": "PjoR1m5TWAIu"
      }
    },
    {
      "cell_type": "code",
      "source": [
        "numerical_columns = ['timestamp', 'prior_question_elapsed_time']\n",
        "\n",
        "for column in numerical_columns:\n",
        "    plot_kde(train_df, column=column, hue=None, title=column + \" distribution\")"
      ],
      "metadata": {
        "id": "FjdEBw6iVf4s"
      },
      "execution_count": null,
      "outputs": []
    },
    {
      "cell_type": "markdown",
      "source": [
        "Histogram for timestamp? Most distribution is within the first 2 months of signing up to the platform - every user starts with 0 value for their first log - does the number of 0 values for timestamp check with number of users?\n",
        "\n",
        "Check unique number count for user_id"
      ],
      "metadata": {
        "id": "zSKEjdKTf8Op"
      }
    },
    {
      "cell_type": "code",
      "source": [
        "plot_histogram(train_df, 'timestamp', bins=20, hue=None, title=None)"
      ],
      "metadata": {
        "id": "i7QiGpAklT0x"
      },
      "execution_count": null,
      "outputs": []
    },
    {
      "cell_type": "markdown",
      "source": [
        "### user_id, content_id and task_container_id"
      ],
      "metadata": {
        "id": "jy3fs1e4_Gk_"
      }
    },
    {
      "cell_type": "code",
      "source": [
        "plot_kde(train_df, 'user_id', hue=None, title=None)"
      ],
      "metadata": {
        "id": "cb8vYDej_UqO"
      },
      "execution_count": null,
      "outputs": []
    },
    {
      "cell_type": "code",
      "source": [
        "plot_kde(train_df, 'content_id', hue=None, title=None)"
      ],
      "metadata": {
        "id": "3Vb2Eod__W8V"
      },
      "execution_count": null,
      "outputs": []
    },
    {
      "cell_type": "code",
      "source": [
        "plot_kde(train_df, 'task_container_id', hue=None, title=None)"
      ],
      "metadata": {
        "id": "Ogs8ebxd_XiX"
      },
      "execution_count": null,
      "outputs": []
    },
    {
      "cell_type": "markdown",
      "source": [
        "Alternate code"
      ],
      "metadata": {
        "id": "ulTs4MfAWR3o"
      }
    },
    {
      "cell_type": "code",
      "source": [
        "categorical_columns = ['user_id', 'content_id', 'task_container_id']\n",
        "\n",
        "for column in categorical_columns:\n",
        "    plot_kde(train_df, column=column, hue=None, title=column + \" countplot distribution\")"
      ],
      "metadata": {
        "id": "P3xh6KZSWTJc"
      },
      "execution_count": null,
      "outputs": []
    },
    {
      "cell_type": "markdown",
      "source": [
        "### content_type_id, answered_correctly and prior_question_had_explanation"
      ],
      "metadata": {
        "id": "FDPMuNq6_tTm"
      }
    },
    {
      "cell_type": "code",
      "source": [
        "plot_bar(train_df, x='content_type_id', y=None, title=None)"
      ],
      "metadata": {
        "id": "YTAeO1XVALVs"
      },
      "execution_count": null,
      "outputs": []
    },
    {
      "cell_type": "code",
      "source": [
        "plot_bar(train_df, x='answered_correctly', y=None, title=None)"
      ],
      "metadata": {
        "id": "wnADwD4fA2n0"
      },
      "execution_count": null,
      "outputs": []
    },
    {
      "cell_type": "code",
      "source": [
        "plot_bar(train_df, x='prior_question_had_explanation', y=None, title=None)"
      ],
      "metadata": {
        "id": "3cE_ayyYA3hd"
      },
      "execution_count": null,
      "outputs": []
    },
    {
      "cell_type": "markdown",
      "source": [
        "Alternate code"
      ],
      "metadata": {
        "id": "ly46FcU6XBi5"
      }
    },
    {
      "cell_type": "code",
      "source": [
        "categorical_columns_few = ['content_type_id', 'answered_correctly', 'prior_question_had_explanation']\n",
        "\n",
        "for column in categorical_column_few:\n",
        "    plot_bar(train_df, x=column, y=None, title=column + \" barplot\")"
      ],
      "metadata": {
        "id": "NJWNJs3lXDDg"
      },
      "execution_count": null,
      "outputs": []
    },
    {
      "cell_type": "markdown",
      "source": [
        "### question_id, bundle_id and tags"
      ],
      "metadata": {
        "id": "xFE3r0ciCIAE"
      }
    },
    {
      "cell_type": "code",
      "source": [
        "plot_kde(questions_df, 'question_id', hue=None, title=None)"
      ],
      "metadata": {
        "colab": {
          "base_uri": "https://localhost:8080/",
          "height": 499
        },
        "id": "s4mrV8I6Cp4t",
        "outputId": "a7ec2622-cd9c-45b9-e53f-0aba9003f22a"
      },
      "execution_count": 12,
      "outputs": [
        {
          "output_type": "display_data",
          "data": {
            "text/plain": [
              "<Figure size 800x500 with 1 Axes>"
            ],
            "image/png": "[encoded data removed]"
          },
          "metadata": {}
        },
        {
          "output_type": "stream",
          "name": "stdout",
          "text": [
            "Mean: 6,761.0\n",
            "Median: 6,761.0\n",
            "Max: 13,522\n"
          ]
        }
      ]
    },
    {
      "cell_type": "code",
      "source": [
        "plot_kde(questions_df, 'bundle_id', hue=None, title=None)"
      ],
      "metadata": {
        "colab": {
          "base_uri": "https://localhost:8080/",
          "height": 499
        },
        "id": "Gj2lu1vQC3t4",
        "outputId": "e653952f-13ca-4d58-9b41-77e31b1965a2"
      },
      "execution_count": 13,
      "outputs": [
        {
          "output_type": "display_data",
          "data": {
            "text/plain": [
              "<Figure size 800x500 with 1 Axes>"
            ],
            "image/png": "[encoded data removed]"
          },
          "metadata": {}
        },
        {
          "output_type": "stream",
          "name": "stdout",
          "text": [
            "Mean: 6,760.510907343045\n",
            "Median: 6,761.0\n",
            "Max: 13,522\n"
          ]
        }
      ]
    },
    {
      "cell_type": "code",
      "source": [
        "plot_distplot(questions_df, 'tags', hue=None, title=None, kde=False)"
      ],
      "metadata": {
        "id": "Vj3OHk9c9gXE",
        "outputId": "6f21df84-8c0c-45bd-b3f7-43387b1988f5",
        "colab": {
          "base_uri": "https://localhost:8080/",
          "height": 410
        }
      },
      "execution_count": 31,
      "outputs": [
        {
          "output_type": "display_data",
          "data": {
            "text/plain": [
              "<Figure size 800x500 with 1 Axes>"
            ],
            "image/png": "[encoded data removed]"
          },
          "metadata": {}
        }
      ]
    },
    {
      "cell_type": "markdown",
      "source": [
        "### correct_answer and part"
      ],
      "metadata": {
        "id": "vvp-ZetxCSBr"
      }
    },
    {
      "cell_type": "code",
      "source": [
        "plot_bar(questions_df, x='correct_answer', y=None, hue=None, color=None, title=None)"
      ],
      "metadata": {
        "colab": {
          "base_uri": "https://localhost:8080/",
          "height": 407
        },
        "id": "aK-_zZdeC6Uh",
        "outputId": "0128c4ee-3381-4813-fdf8-a6b14855c760"
      },
      "execution_count": 23,
      "outputs": [
        {
          "output_type": "display_data",
          "data": {
            "text/plain": [
              "<Figure size 800x500 with 1 Axes>"
            ],
            "image/png": "[encoded data removed]"
          },
          "metadata": {}
        }
      ]
    },
    {
      "cell_type": "code",
      "source": [
        "plot_bar(questions_df, x='part', y=None, hue=None, color=None, title=None)"
      ],
      "metadata": {
        "colab": {
          "base_uri": "https://localhost:8080/",
          "height": 407
        },
        "id": "te3hfXr8DX1n",
        "outputId": "7673cf40-0726-4b56-a9a6-9d68ce371ebf"
      },
      "execution_count": 32,
      "outputs": [
        {
          "output_type": "display_data",
          "data": {
            "text/plain": [
              "<Figure size 800x500 with 1 Axes>"
            ],
            "image/png": "[encoded data removed]"
          },
          "metadata": {}
        }
      ]
    },
    {
      "cell_type": "markdown",
      "source": [
        "### lecture_id and tags"
      ],
      "metadata": {
        "id": "FUn6vtxLCZv9"
      }
    },
    {
      "cell_type": "code",
      "source": [
        "plot_kde(lectures_df, 'lecture_id', hue=None, title=None)"
      ],
      "metadata": {
        "colab": {
          "base_uri": "https://localhost:8080/",
          "height": 491
        },
        "id": "vyhiwnzSDm-W",
        "outputId": "84a4cbec-45a0-4537-ac40-a12c08f98f67"
      },
      "execution_count": 33,
      "outputs": [
        {
          "output_type": "display_data",
          "data": {
            "text/plain": [
              "<Figure size 800x500 with 1 Axes>"
            ],
            "image/png": "[encoded data removed]"
          },
          "metadata": {}
        },
        {
          "output_type": "stream",
          "name": "stdout",
          "text": [
            "Mean: 16,983.401913875598\n",
            "Median: 17,161.5\n",
            "Max: 32,736\n"
          ]
        }
      ]
    },
    {
      "cell_type": "code",
      "source": [
        "plot_kde(lectures_df, 'tags', hue=None, title=None)"
      ],
      "metadata": {
        "colab": {
          "base_uri": "https://localhost:8080/",
          "height": 400
        },
        "id": "x-d1PELiDs2_",
        "outputId": "73005d4c-9801-4aa9-c9b7-bbda75f1de3e"
      },
      "execution_count": 34,
      "outputs": [
        {
          "output_type": "error",
          "ename": "ValueError",
          "evalue": "Could not interpret value `tags` for `x`. An entry with this name does not appear in `data`.",
          "traceback": [
            "\u001b[0;31m---------------------------------------------------------------------------\u001b[0m",
            "\u001b[0;31mValueError\u001b[0m                                Traceback (most recent call last)",
            "\u001b[0;32m<ipython-input-34-466f9fcba1ec>\u001b[0m in \u001b[0;36m<cell line: 0>\u001b[0;34m()\u001b[0m\n\u001b[0;32m----> 1\u001b[0;31m \u001b[0mplot_kde\u001b[0m\u001b[0;34m(\u001b[0m\u001b[0mlectures_df\u001b[0m\u001b[0;34m,\u001b[0m \u001b[0;34m'tags'\u001b[0m\u001b[0;34m,\u001b[0m \u001b[0mhue\u001b[0m\u001b[0;34m=\u001b[0m\u001b[0;32mNone\u001b[0m\u001b[0;34m,\u001b[0m \u001b[0mtitle\u001b[0m\u001b[0;34m=\u001b[0m\u001b[0;32mNone\u001b[0m\u001b[0;34m)\u001b[0m\u001b[0;34m\u001b[0m\u001b[0;34m\u001b[0m\u001b[0m\n\u001b[0m",
            "\u001b[0;32m<ipython-input-9-417f65824b3c>\u001b[0m in \u001b[0;36mplot_kde\u001b[0;34m(data, column, hue, title)\u001b[0m\n\u001b[1;32m     11\u001b[0m     \u001b[0mplt\u001b[0m\u001b[0;34m.\u001b[0m\u001b[0mfigure\u001b[0m\u001b[0;34m(\u001b[0m\u001b[0mfigsize\u001b[0m\u001b[0;34m=\u001b[0m\u001b[0;34m(\u001b[0m\u001b[0;36m8\u001b[0m\u001b[0;34m,\u001b[0m \u001b[0;36m5\u001b[0m\u001b[0;34m)\u001b[0m\u001b[0;34m)\u001b[0m \u001b[0;31m# Create a 'canvas' to draw the plot onto\u001b[0m\u001b[0;34m\u001b[0m\u001b[0;34m\u001b[0m\u001b[0m\n\u001b[1;32m     12\u001b[0m     \u001b[0;31m# plt.figure(figsize=figsize) - alternate code if parameter given in function call\u001b[0m\u001b[0;34m\u001b[0m\u001b[0;34m\u001b[0m\u001b[0m\n\u001b[0;32m---> 13\u001b[0;31m     \u001b[0msns\u001b[0m\u001b[0;34m.\u001b[0m\u001b[0mkdeplot\u001b[0m\u001b[0;34m(\u001b[0m\u001b[0mdata\u001b[0m\u001b[0;34m=\u001b[0m\u001b[0mdata\u001b[0m\u001b[0;34m,\u001b[0m \u001b[0mx\u001b[0m\u001b[0;34m=\u001b[0m\u001b[0mcolumn\u001b[0m\u001b[0;34m,\u001b[0m \u001b[0mhue\u001b[0m\u001b[0;34m=\u001b[0m\u001b[0mhue\u001b[0m\u001b[0;34m,\u001b[0m \u001b[0mfill\u001b[0m\u001b[0;34m=\u001b[0m\u001b[0;32mTrue\u001b[0m\u001b[0;34m)\u001b[0m \u001b[0;31m# create KDE plot\u001b[0m\u001b[0;34m\u001b[0m\u001b[0;34m\u001b[0m\u001b[0m\n\u001b[0m\u001b[1;32m     14\u001b[0m     \u001b[0;31m# df, column, split into categories if provided, fill area under line with colour\u001b[0m\u001b[0;34m\u001b[0m\u001b[0;34m\u001b[0m\u001b[0m\n\u001b[1;32m     15\u001b[0m \u001b[0;34m\u001b[0m\u001b[0m\n",
            "\u001b[0;32m/usr/local/lib/python3.11/dist-packages/seaborn/distributions.py\u001b[0m in \u001b[0;36mkdeplot\u001b[0;34m(data, x, y, hue, weights, palette, hue_order, hue_norm, color, fill, multiple, common_norm, common_grid, cumulative, bw_method, bw_adjust, warn_singular, log_scale, levels, thresh, gridsize, cut, clip, legend, cbar, cbar_ax, cbar_kws, ax, **kwargs)\u001b[0m\n\u001b[1;32m   1667\u001b[0m     \u001b[0;31m# - - - - - - - - - - - - - - - - - - - - - - - - - - - - - - - - - - - - #\u001b[0m\u001b[0;34m\u001b[0m\u001b[0;34m\u001b[0m\u001b[0m\n\u001b[1;32m   1668\u001b[0m \u001b[0;34m\u001b[0m\u001b[0m\n\u001b[0;32m-> 1669\u001b[0;31m     p = _DistributionPlotter(\n\u001b[0m\u001b[1;32m   1670\u001b[0m         \u001b[0mdata\u001b[0m\u001b[0;34m=\u001b[0m\u001b[0mdata\u001b[0m\u001b[0;34m,\u001b[0m\u001b[0;34m\u001b[0m\u001b[0;34m\u001b[0m\u001b[0m\n\u001b[1;32m   1671\u001b[0m         \u001b[0mvariables\u001b[0m\u001b[0;34m=\u001b[0m\u001b[0mdict\u001b[0m\u001b[0;34m(\u001b[0m\u001b[0mx\u001b[0m\u001b[0;34m=\u001b[0m\u001b[0mx\u001b[0m\u001b[0;34m,\u001b[0m \u001b[0my\u001b[0m\u001b[0;34m=\u001b[0m\u001b[0my\u001b[0m\u001b[0;34m,\u001b[0m \u001b[0mhue\u001b[0m\u001b[0;34m=\u001b[0m\u001b[0mhue\u001b[0m\u001b[0;34m,\u001b[0m \u001b[0mweights\u001b[0m\u001b[0;34m=\u001b[0m\u001b[0mweights\u001b[0m\u001b[0;34m)\u001b[0m\u001b[0;34m,\u001b[0m\u001b[0;34m\u001b[0m\u001b[0;34m\u001b[0m\u001b[0m\n",
            "\u001b[0;32m/usr/local/lib/python3.11/dist-packages/seaborn/distributions.py\u001b[0m in \u001b[0;36m__init__\u001b[0;34m(self, data, variables)\u001b[0m\n\u001b[1;32m    108\u001b[0m     ):\n\u001b[1;32m    109\u001b[0m \u001b[0;34m\u001b[0m\u001b[0m\n\u001b[0;32m--> 110\u001b[0;31m         \u001b[0msuper\u001b[0m\u001b[0;34m(\u001b[0m\u001b[0;34m)\u001b[0m\u001b[0;34m.\u001b[0m\u001b[0m__init__\u001b[0m\u001b[0;34m(\u001b[0m\u001b[0mdata\u001b[0m\u001b[0;34m=\u001b[0m\u001b[0mdata\u001b[0m\u001b[0;34m,\u001b[0m \u001b[0mvariables\u001b[0m\u001b[0;34m=\u001b[0m\u001b[0mvariables\u001b[0m\u001b[0;34m)\u001b[0m\u001b[0;34m\u001b[0m\u001b[0;34m\u001b[0m\u001b[0m\n\u001b[0m\u001b[1;32m    111\u001b[0m \u001b[0;34m\u001b[0m\u001b[0m\n\u001b[1;32m    112\u001b[0m     \u001b[0;34m@\u001b[0m\u001b[0mproperty\u001b[0m\u001b[0;34m\u001b[0m\u001b[0;34m\u001b[0m\u001b[0m\n",
            "\u001b[0;32m/usr/local/lib/python3.11/dist-packages/seaborn/_base.py\u001b[0m in \u001b[0;36m__init__\u001b[0;34m(self, data, variables)\u001b[0m\n\u001b[1;32m    632\u001b[0m         \u001b[0;31m# information for numeric axes would be information about log scales.\u001b[0m\u001b[0;34m\u001b[0m\u001b[0;34m\u001b[0m\u001b[0m\n\u001b[1;32m    633\u001b[0m         \u001b[0mself\u001b[0m\u001b[0;34m.\u001b[0m\u001b[0m_var_ordered\u001b[0m \u001b[0;34m=\u001b[0m \u001b[0;34m{\u001b[0m\u001b[0;34m\"x\"\u001b[0m\u001b[0;34m:\u001b[0m \u001b[0;32mFalse\u001b[0m\u001b[0;34m,\u001b[0m \u001b[0;34m\"y\"\u001b[0m\u001b[0;34m:\u001b[0m \u001b[0;32mFalse\u001b[0m\u001b[0;34m}\u001b[0m  \u001b[0;31m# alt., used DefaultDict\u001b[0m\u001b[0;34m\u001b[0m\u001b[0;34m\u001b[0m\u001b[0m\n\u001b[0;32m--> 634\u001b[0;31m         \u001b[0mself\u001b[0m\u001b[0;34m.\u001b[0m\u001b[0massign_variables\u001b[0m\u001b[0;34m(\u001b[0m\u001b[0mdata\u001b[0m\u001b[0;34m,\u001b[0m \u001b[0mvariables\u001b[0m\u001b[0;34m)\u001b[0m\u001b[0;34m\u001b[0m\u001b[0;34m\u001b[0m\u001b[0m\n\u001b[0m\u001b[1;32m    635\u001b[0m \u001b[0;34m\u001b[0m\u001b[0m\n\u001b[1;32m    636\u001b[0m         \u001b[0;31m# TODO Lots of tests assume that these are called to initialize the\u001b[0m\u001b[0;34m\u001b[0m\u001b[0;34m\u001b[0m\u001b[0m\n",
            "\u001b[0;32m/usr/local/lib/python3.11/dist-packages/seaborn/_base.py\u001b[0m in \u001b[0;36massign_variables\u001b[0;34m(self, data, variables)\u001b[0m\n\u001b[1;32m    677\u001b[0m             \u001b[0;31m# to centralize / standardize data consumption logic.\u001b[0m\u001b[0;34m\u001b[0m\u001b[0;34m\u001b[0m\u001b[0m\n\u001b[1;32m    678\u001b[0m             \u001b[0mself\u001b[0m\u001b[0;34m.\u001b[0m\u001b[0minput_format\u001b[0m \u001b[0;34m=\u001b[0m \u001b[0;34m\"long\"\u001b[0m\u001b[0;34m\u001b[0m\u001b[0;34m\u001b[0m\u001b[0m\n\u001b[0;32m--> 679\u001b[0;31m             \u001b[0mplot_data\u001b[0m \u001b[0;34m=\u001b[0m \u001b[0mPlotData\u001b[0m\u001b[0;34m(\u001b[0m\u001b[0mdata\u001b[0m\u001b[0;34m,\u001b[0m \u001b[0mvariables\u001b[0m\u001b[0;34m)\u001b[0m\u001b[0;34m\u001b[0m\u001b[0;34m\u001b[0m\u001b[0m\n\u001b[0m\u001b[1;32m    680\u001b[0m             \u001b[0mframe\u001b[0m \u001b[0;34m=\u001b[0m \u001b[0mplot_data\u001b[0m\u001b[0;34m.\u001b[0m\u001b[0mframe\u001b[0m\u001b[0;34m\u001b[0m\u001b[0;34m\u001b[0m\u001b[0m\n\u001b[1;32m    681\u001b[0m             \u001b[0mnames\u001b[0m \u001b[0;34m=\u001b[0m \u001b[0mplot_data\u001b[0m\u001b[0;34m.\u001b[0m\u001b[0mnames\u001b[0m\u001b[0;34m\u001b[0m\u001b[0;34m\u001b[0m\u001b[0m\n",
            "\u001b[0;32m/usr/local/lib/python3.11/dist-packages/seaborn/_core/data.py\u001b[0m in \u001b[0;36m__init__\u001b[0;34m(self, data, variables)\u001b[0m\n\u001b[1;32m     56\u001b[0m \u001b[0;34m\u001b[0m\u001b[0m\n\u001b[1;32m     57\u001b[0m         \u001b[0mdata\u001b[0m \u001b[0;34m=\u001b[0m \u001b[0mhandle_data_source\u001b[0m\u001b[0;34m(\u001b[0m\u001b[0mdata\u001b[0m\u001b[0;34m)\u001b[0m\u001b[0;34m\u001b[0m\u001b[0;34m\u001b[0m\u001b[0m\n\u001b[0;32m---> 58\u001b[0;31m         \u001b[0mframe\u001b[0m\u001b[0;34m,\u001b[0m \u001b[0mnames\u001b[0m\u001b[0;34m,\u001b[0m \u001b[0mids\u001b[0m \u001b[0;34m=\u001b[0m \u001b[0mself\u001b[0m\u001b[0;34m.\u001b[0m\u001b[0m_assign_variables\u001b[0m\u001b[0;34m(\u001b[0m\u001b[0mdata\u001b[0m\u001b[0;34m,\u001b[0m \u001b[0mvariables\u001b[0m\u001b[0;34m)\u001b[0m\u001b[0;34m\u001b[0m\u001b[0;34m\u001b[0m\u001b[0m\n\u001b[0m\u001b[1;32m     59\u001b[0m \u001b[0;34m\u001b[0m\u001b[0m\n\u001b[1;32m     60\u001b[0m         \u001b[0mself\u001b[0m\u001b[0;34m.\u001b[0m\u001b[0mframe\u001b[0m \u001b[0;34m=\u001b[0m \u001b[0mframe\u001b[0m\u001b[0;34m\u001b[0m\u001b[0;34m\u001b[0m\u001b[0m\n",
            "\u001b[0;32m/usr/local/lib/python3.11/dist-packages/seaborn/_core/data.py\u001b[0m in \u001b[0;36m_assign_variables\u001b[0;34m(self, data, variables)\u001b[0m\n\u001b[1;32m    230\u001b[0m                 \u001b[0;32melse\u001b[0m\u001b[0;34m:\u001b[0m\u001b[0;34m\u001b[0m\u001b[0;34m\u001b[0m\u001b[0m\n\u001b[1;32m    231\u001b[0m                     \u001b[0merr\u001b[0m \u001b[0;34m+=\u001b[0m \u001b[0;34m\"An entry with this name does not appear in `data`.\"\u001b[0m\u001b[0;34m\u001b[0m\u001b[0;34m\u001b[0m\u001b[0m\n\u001b[0;32m--> 232\u001b[0;31m                 \u001b[0;32mraise\u001b[0m \u001b[0mValueError\u001b[0m\u001b[0;34m(\u001b[0m\u001b[0merr\u001b[0m\u001b[0;34m)\u001b[0m\u001b[0;34m\u001b[0m\u001b[0;34m\u001b[0m\u001b[0m\n\u001b[0m\u001b[1;32m    233\u001b[0m \u001b[0;34m\u001b[0m\u001b[0m\n\u001b[1;32m    234\u001b[0m             \u001b[0;32melse\u001b[0m\u001b[0;34m:\u001b[0m\u001b[0;34m\u001b[0m\u001b[0;34m\u001b[0m\u001b[0m\n",
            "\u001b[0;31mValueError\u001b[0m: Could not interpret value `tags` for `x`. An entry with this name does not appear in `data`."
          ]
        },
        {
          "output_type": "display_data",
          "data": {
            "text/plain": [
              "<Figure size 800x500 with 0 Axes>"
            ]
          },
          "metadata": {}
        }
      ]
    },
    {
      "cell_type": "markdown",
      "source": [
        "### part and type_of"
      ],
      "metadata": {
        "id": "HbWmNMRwCke0"
      }
    },
    {
      "cell_type": "code",
      "source": [
        "plot_bar(lectures_df, x='part', y=None, title=None)"
      ],
      "metadata": {
        "colab": {
          "base_uri": "https://localhost:8080/",
          "height": 406
        },
        "id": "qiQoNkfpDazu",
        "outputId": "ded3d25a-e3f7-43aa-d1af-b692ee44900d"
      },
      "execution_count": 35,
      "outputs": [
        {
          "output_type": "display_data",
          "data": {
            "text/plain": [
              "<Figure size 800x500 with 1 Axes>"
            ],
            "image/png": "[encoded data removed]"
          },
          "metadata": {}
        }
      ]
    },
    {
      "cell_type": "code",
      "source": [
        "plot_bar(lectures_df, x='type_of', y=None, title=None)"
      ],
      "metadata": {
        "colab": {
          "base_uri": "https://localhost:8080/",
          "height": 407
        },
        "id": "c8uG_3nzDj2a",
        "outputId": "14c95138-9216-494f-a60d-553961dcb114"
      },
      "execution_count": 36,
      "outputs": [
        {
          "output_type": "display_data",
          "data": {
            "text/plain": [
              "<Figure size 800x500 with 1 Axes>"
            ],
            "image/png": "[encoded data removed]"
          },
          "metadata": {}
        }
      ]
    },
    {
      "cell_type": "markdown",
      "source": [
        "## Correlation"
      ],
      "metadata": {
        "id": "vMLYAC-5BSPM"
      }
    },
    {
      "cell_type": "markdown",
      "source": [
        "### Functions"
      ],
      "metadata": {
        "id": "BzAUj3E2Bbsp"
      }
    },
    {
      "cell_type": "code",
      "source": [
        "def plot_heatmap(data, annot=True, cmap=\"viridis\", title=None, xlabel=None, ylabel=None):\n",
        "    \"\"\"\n",
        "    Creates a customizable heatmap.\n",
        "\n",
        "    Parameters:\n",
        "    - data: DataFrame or 2D array to visualize as heatmap.\n",
        "    - annot: Whether to annotate cells with values (default=True).\n",
        "    - cmap: Colormap name or object (default=\"viridis\").\n",
        "    - title: Optional title for the plot.\n",
        "    - xlabel: Optional x-axis label.\n",
        "    - ylabel: Optional y-axis label.\n",
        "    \"\"\"\n",
        "    plt.figure(figsize=(8, 5)) # Create a 'canvas' to draw the plot onto\n",
        "    # plt.figure(figsize=figsize) - alternate code if parameter given in function call\n",
        "\n",
        "    # Create the heatmap\n",
        "    heatmap = sns.heatmap(data, annot=annot, cmap=cmap)\n",
        "\n",
        "    # Custom labels and title\n",
        "    if xlabel:\n",
        "        plt.xlabel(xlabel) # horizontal line label\n",
        "    if ylabel:\n",
        "        plt.ylabel(ylabel) # vertical line label\n",
        "    if title:\n",
        "        plt.title(title) # add title to plot if provided in function call\n",
        "\n",
        "    plt.tight_layout() # adjusts the plot padding to ensure all labels fit within the figure without being cut off\n",
        "    plt.show() # display plot\n",
        "\n",
        "    return heatmap # return the heatmap object for further customization if needed\n",
        "\n",
        "# Example usage:\n",
        "# plot_heatmap(df.corr())                             # Correlation heatmap\n",
        "# plot_heatmap(pivot_table, cmap=\"YlOrRd\", fmt=\".0f\") # Custom colored heatmap\n",
        "# mask = np.triu(np.ones_like(df.corr(), dtype=bool)) # Upper triangle mask\n",
        "# plot_heatmap(df.corr(), mask=mask, cmap=\"coolwarm\") # Masked heatmap\n",
        "\n",
        "    # additional parameters\n",
        "    # center=None, robust=False, mask=None, figsize=(10, 8), vmin=None, vmax=None, fmt=\".2f\", linewidths=0, cbar=True\n",
        "    \"\"\"\n",
        "    Parameters:\n",
        "    - center: Value to center the colormap at (useful for diverging data).\n",
        "    - robust: If True, compute colormap bounds from robust percentiles.\n",
        "    - mask: Boolean array or DataFrame to mask cells (True = hidden).\n",
        "    - figsize: Tuple defining the figure size (default=(10,8)).\n",
        "    - vmin, vmax: Limits for the colormap.\n",
        "    - fmt: String formatting for annotations.\n",
        "    - linewidths: Width of lines between cells.\n",
        "    - cbar: Whether to draw a colorbar.\n",
        "    \"\"\""
      ],
      "metadata": {
        "id": "OiZJ-JVWScrb"
      },
      "execution_count": null,
      "outputs": []
    },
    {
      "cell_type": "markdown",
      "source": [
        "### Heat map"
      ],
      "metadata": {
        "id": "fk4SF8ATBcQ1"
      }
    },
    {
      "cell_type": "code",
      "source": [],
      "metadata": {
        "id": "k716fQcvHxE0"
      },
      "execution_count": null,
      "outputs": []
    },
    {
      "cell_type": "markdown",
      "source": [
        "## Target variable = answered_correctly"
      ],
      "metadata": {
        "id": "JuFIXHtDHqDo"
      }
    },
    {
      "cell_type": "markdown",
      "source": [
        "First I would like to see if the number of appearences of 1 ID (1 pupil) corresponds to their overall performance (other words, if you assess 1 student multiple times, will they perform better?)"
      ],
      "metadata": {
        "id": "GlnvE9RZY1vB"
      }
    },
    {
      "cell_type": "code",
      "source": [
        "# Count how many times the user answered correctly out of all available times\n",
        "user_performance = train.groupby(\"user_id\").agg({ 'row_id': ['count'], 'answered_correctly': ['sum'] }).reset_index()\n",
        "user_performance.columns = [\"user_id\", \"total_count\", \"correct_count\"]\n",
        "user_performance[\"performance\"] = user_performance[\"correct_count\"] / user_performance[\"total_count\"]\n",
        "\n",
        "# Create intervals for number of appearences\n",
        "# between 0 and 1000, 1000 and 2500 and 2500+\n",
        "def condition(x):\n",
        "    if x <= 1000:\n",
        "        return 0\n",
        "    elif (x > 1000) & (x <= 2500):\n",
        "        return 1\n",
        "    else:\n",
        "        return 2\n",
        "\n",
        "user_performance[\"total_interval\"] = user_performance[\"total_count\"].applymap(condition)"
      ],
      "metadata": {
        "id": "ovBo2kDdB9Ic"
      },
      "execution_count": null,
      "outputs": []
    },
    {
      "cell_type": "markdown",
      "source": [
        "📌Note: So yes, the average performance increases along with the number of times one student appears in the data."
      ],
      "metadata": {
        "id": "wqbEhTkjY8Lg"
      }
    },
    {
      "cell_type": "code",
      "source": [
        "# Convert to numpy arrays (so we can plot)\n",
        "x = cupy.asnumpy(user_performance[\"total_interval\"].values)\n",
        "y = cupy.asnumpy(user_performance[\"performance\"].values)\n",
        "\n",
        "# Plot\n",
        "plt.figure(figsize = (18, 4))\n",
        "sns.barplot(x = x, y = y, palette = custom_colors[2:])\n",
        "plt.title(\"Performance over number of appearences\", fontsize = 15)\n",
        "plt.xticks([0, 1, 2], ['<1000', '1000-2500', '2500+']);\n",
        "\n",
        "del user_performance"
      ],
      "metadata": {
        "id": "ccaoah0QY890"
      },
      "execution_count": null,
      "outputs": []
    },
    {
      "cell_type": "markdown",
      "source": [
        "# Feature engineering"
      ],
      "metadata": {
        "id": "rAm_BSnGcpM7"
      }
    },
    {
      "cell_type": "code",
      "source": [],
      "metadata": {
        "id": "BkMS2pU3cobK"
      },
      "execution_count": null,
      "outputs": []
    },
    {
      "cell_type": "markdown",
      "source": [
        "## Missing values"
      ],
      "metadata": {
        "id": "FZFAPvEScvsj"
      }
    },
    {
      "cell_type": "markdown",
      "source": [
        "### train.pkl.gzip"
      ],
      "metadata": {
        "id": "PWKP7BSno5FA"
      }
    },
    {
      "cell_type": "code",
      "source": [
        "missing_values = train_df.isna().sum().to_frame('missing_values')\n",
        "missing_values"
      ],
      "metadata": {
        "colab": {
          "base_uri": "https://localhost:8080/",
          "height": 363
        },
        "id": "7qheP2wrc5SW",
        "outputId": "10e3349e-484a-4978-b360-0456ec23a434"
      },
      "execution_count": null,
      "outputs": [
        {
          "output_type": "execute_result",
          "data": {
            "text/plain": [
              "                                missing_values\n",
              "row_id                                       0\n",
              "timestamp                                    0\n",
              "user_id                                      0\n",
              "content_id                                   0\n",
              "content_type_id                              0\n",
              "task_container_id                            0\n",
              "user_answer                                  0\n",
              "answered_correctly                           0\n",
              "prior_question_elapsed_time            2351538\n",
              "prior_question_had_explanation          392506"
            ],
            "text/html": [
              "\n",
              "  <div id=\"df-d3044dd1-233b-4f54-ac96-59b109aa3c6a\" class=\"colab-df-container\">\n",
              "    <div>\n",
              "<style scoped>\n",
              "    .dataframe tbody tr th:only-of-type {\n",
              "        vertical-align: middle;\n",
              "    }\n",
              "\n",
              "    .dataframe tbody tr th {\n",
              "        vertical-align: top;\n",
              "    }\n",
              "\n",
              "    .dataframe thead th {\n",
              "        text-align: right;\n",
              "    }\n",
              "</style>\n",
              "<table border=\"1\" class=\"dataframe\">\n",
              "  <thead>\n",
              "    <tr style=\"text-align: right;\">\n",
              "      <th></th>\n",
              "      <th>missing_values</th>\n",
              "    </tr>\n",
              "  </thead>\n",
              "  <tbody>\n",
              "    <tr>\n",
              "      <th>row_id</th>\n",
              "      <td>0</td>\n",
              "    </tr>\n",
              "    <tr>\n",
              "      <th>timestamp</th>\n",
              "      <td>0</td>\n",
              "    </tr>\n",
              "    <tr>\n",
              "      <th>user_id</th>\n",
              "      <td>0</td>\n",
              "    </tr>\n",
              "    <tr>\n",
              "      <th>content_id</th>\n",
              "      <td>0</td>\n",
              "    </tr>\n",
              "    <tr>\n",
              "      <th>content_type_id</th>\n",
              "      <td>0</td>\n",
              "    </tr>\n",
              "    <tr>\n",
              "      <th>task_container_id</th>\n",
              "      <td>0</td>\n",
              "    </tr>\n",
              "    <tr>\n",
              "      <th>user_answer</th>\n",
              "      <td>0</td>\n",
              "    </tr>\n",
              "    <tr>\n",
              "      <th>answered_correctly</th>\n",
              "      <td>0</td>\n",
              "    </tr>\n",
              "    <tr>\n",
              "      <th>prior_question_elapsed_time</th>\n",
              "      <td>2351538</td>\n",
              "    </tr>\n",
              "    <tr>\n",
              "      <th>prior_question_had_explanation</th>\n",
              "      <td>392506</td>\n",
              "    </tr>\n",
              "  </tbody>\n",
              "</table>\n",
              "</div>\n",
              "    <div class=\"colab-df-buttons\">\n",
              "\n",
              "  <div class=\"colab-df-container\">\n",
              "    <button class=\"colab-df-convert\" onclick=\"convertToInteractive('df-d3044dd1-233b-4f54-ac96-59b109aa3c6a')\"\n",
              "            title=\"Convert this dataframe to an interactive table.\"\n",
              "            style=\"display:none;\">\n",
              "\n",
              "  <svg xmlns=\"http://www.w3.org/2000/svg\" height=\"24px\" viewBox=\"0 -960 960 960\">\n",
              "    <path d=\"M120-120v-720h720v720H120Zm60-500h600v-160H180v160Zm220 220h160v-160H400v160Zm0 220h160v-160H400v160ZM180-400h160v-160H180v160Zm440 0h160v-160H620v160ZM180-180h160v-160H180v160Zm440 0h160v-160H620v160Z\"/>\n",
              "  </svg>\n",
              "    </button>\n",
              "\n",
              "  <style>\n",
              "    .colab-df-container {\n",
              "      display:flex;\n",
              "      gap: 12px;\n",
              "    }\n",
              "\n",
              "    .colab-df-convert {\n",
              "      background-color: #E8F0FE;\n",
              "      border: none;\n",
              "      border-radius: 50%;\n",
              "      cursor: pointer;\n",
              "      display: none;\n",
              "      fill: #1967D2;\n",
              "      height: 32px;\n",
              "      padding: 0 0 0 0;\n",
              "      width: 32px;\n",
              "    }\n",
              "\n",
              "    .colab-df-convert:hover {\n",
              "      background-color: #E2EBFA;\n",
              "      box-shadow: 0px 1px 2px rgba(60, 64, 67, 0.3), 0px 1px 3px 1px rgba(60, 64, 67, 0.15);\n",
              "      fill: #174EA6;\n",
              "    }\n",
              "\n",
              "    .colab-df-buttons div {\n",
              "      margin-bottom: 4px;\n",
              "    }\n",
              "\n",
              "    [theme=dark] .colab-df-convert {\n",
              "      background-color: #3B4455;\n",
              "      fill: #D2E3FC;\n",
              "    }\n",
              "\n",
              "    [theme=dark] .colab-df-convert:hover {\n",
              "      background-color: #434B5C;\n",
              "      box-shadow: 0px 1px 3px 1px rgba(0, 0, 0, 0.15);\n",
              "      filter: drop-shadow(0px 1px 2px rgba(0, 0, 0, 0.3));\n",
              "      fill: #FFFFFF;\n",
              "    }\n",
              "  </style>\n",
              "\n",
              "    <script>\n",
              "      const buttonEl =\n",
              "        document.querySelector('#df-d3044dd1-233b-4f54-ac96-59b109aa3c6a button.colab-df-convert');\n",
              "      buttonEl.style.display =\n",
              "        google.colab.kernel.accessAllowed ? 'block' : 'none';\n",
              "\n",
              "      async function convertToInteractive(key) {\n",
              "        const element = document.querySelector('#df-d3044dd1-233b-4f54-ac96-59b109aa3c6a');\n",
              "        const dataTable =\n",
              "          await google.colab.kernel.invokeFunction('convertToInteractive',\n",
              "                                                    [key], {});\n",
              "        if (!dataTable) return;\n",
              "\n",
              "        const docLinkHtml = 'Like what you see? Visit the ' +\n",
              "          '<a target=\"_blank\" href=https://colab.research.google.com/notebooks/data_table.ipynb>data table notebook</a>'\n",
              "          + ' to learn more about interactive tables.';\n",
              "        element.innerHTML = '';\n",
              "        dataTable['output_type'] = 'display_data';\n",
              "        await google.colab.output.renderOutput(dataTable, element);\n",
              "        const docLink = document.createElement('div');\n",
              "        docLink.innerHTML = docLinkHtml;\n",
              "        element.appendChild(docLink);\n",
              "      }\n",
              "    </script>\n",
              "  </div>\n",
              "\n",
              "\n",
              "<div id=\"df-4c072475-892a-44ef-8580-380db3fdca1d\">\n",
              "  <button class=\"colab-df-quickchart\" onclick=\"quickchart('df-4c072475-892a-44ef-8580-380db3fdca1d')\"\n",
              "            title=\"Suggest charts\"\n",
              "            style=\"display:none;\">\n",
              "\n",
              "<svg xmlns=\"http://www.w3.org/2000/svg\" height=\"24px\"viewBox=\"0 0 24 24\"\n",
              "     width=\"24px\">\n",
              "    <g>\n",
              "        <path d=\"M19 3H5c-1.1 0-2 .9-2 2v14c0 1.1.9 2 2 2h14c1.1 0 2-.9 2-2V5c0-1.1-.9-2-2-2zM9 17H7v-7h2v7zm4 0h-2V7h2v10zm4 0h-2v-4h2v4z\"/>\n",
              "    </g>\n",
              "</svg>\n",
              "  </button>\n",
              "\n",
              "<style>\n",
              "  .colab-df-quickchart {\n",
              "      --bg-color: #E8F0FE;\n",
              "      --fill-color: #1967D2;\n",
              "      --hover-bg-color: #E2EBFA;\n",
              "      --hover-fill-color: #174EA6;\n",
              "      --disabled-fill-color: #AAA;\n",
              "      --disabled-bg-color: #DDD;\n",
              "  }\n",
              "\n",
              "  [theme=dark] .colab-df-quickchart {\n",
              "      --bg-color: #3B4455;\n",
              "      --fill-color: #D2E3FC;\n",
              "      --hover-bg-color: #434B5C;\n",
              "      --hover-fill-color: #FFFFFF;\n",
              "      --disabled-bg-color: #3B4455;\n",
              "      --disabled-fill-color: #666;\n",
              "  }\n",
              "\n",
              "  .colab-df-quickchart {\n",
              "    background-color: var(--bg-color);\n",
              "    border: none;\n",
              "    border-radius: 50%;\n",
              "    cursor: pointer;\n",
              "    display: none;\n",
              "    fill: var(--fill-color);\n",
              "    height: 32px;\n",
              "    padding: 0;\n",
              "    width: 32px;\n",
              "  }\n",
              "\n",
              "  .colab-df-quickchart:hover {\n",
              "    background-color: var(--hover-bg-color);\n",
              "    box-shadow: 0 1px 2px rgba(60, 64, 67, 0.3), 0 1px 3px 1px rgba(60, 64, 67, 0.15);\n",
              "    fill: var(--button-hover-fill-color);\n",
              "  }\n",
              "\n",
              "  .colab-df-quickchart-complete:disabled,\n",
              "  .colab-df-quickchart-complete:disabled:hover {\n",
              "    background-color: var(--disabled-bg-color);\n",
              "    fill: var(--disabled-fill-color);\n",
              "    box-shadow: none;\n",
              "  }\n",
              "\n",
              "  .colab-df-spinner {\n",
              "    border: 2px solid var(--fill-color);\n",
              "    border-color: transparent;\n",
              "    border-bottom-color: var(--fill-color);\n",
              "    animation:\n",
              "      spin 1s steps(1) infinite;\n",
              "  }\n",
              "\n",
              "  @keyframes spin {\n",
              "    0% {\n",
              "      border-color: transparent;\n",
              "      border-bottom-color: var(--fill-color);\n",
              "      border-left-color: var(--fill-color);\n",
              "    }\n",
              "    20% {\n",
              "      border-color: transparent;\n",
              "      border-left-color: var(--fill-color);\n",
              "      border-top-color: var(--fill-color);\n",
              "    }\n",
              "    30% {\n",
              "      border-color: transparent;\n",
              "      border-left-color: var(--fill-color);\n",
              "      border-top-color: var(--fill-color);\n",
              "      border-right-color: var(--fill-color);\n",
              "    }\n",
              "    40% {\n",
              "      border-color: transparent;\n",
              "      border-right-color: var(--fill-color);\n",
              "      border-top-color: var(--fill-color);\n",
              "    }\n",
              "    60% {\n",
              "      border-color: transparent;\n",
              "      border-right-color: var(--fill-color);\n",
              "    }\n",
              "    80% {\n",
              "      border-color: transparent;\n",
              "      border-right-color: var(--fill-color);\n",
              "      border-bottom-color: var(--fill-color);\n",
              "    }\n",
              "    90% {\n",
              "      border-color: transparent;\n",
              "      border-bottom-color: var(--fill-color);\n",
              "    }\n",
              "  }\n",
              "</style>\n",
              "\n",
              "  <script>\n",
              "    async function quickchart(key) {\n",
              "      const quickchartButtonEl =\n",
              "        document.querySelector('#' + key + ' button');\n",
              "      quickchartButtonEl.disabled = true;  // To prevent multiple clicks.\n",
              "      quickchartButtonEl.classList.add('colab-df-spinner');\n",
              "      try {\n",
              "        const charts = await google.colab.kernel.invokeFunction(\n",
              "            'suggestCharts', [key], {});\n",
              "      } catch (error) {\n",
              "        console.error('Error during call to suggestCharts:', error);\n",
              "      }\n",
              "      quickchartButtonEl.classList.remove('colab-df-spinner');\n",
              "      quickchartButtonEl.classList.add('colab-df-quickchart-complete');\n",
              "    }\n",
              "    (() => {\n",
              "      let quickchartButtonEl =\n",
              "        document.querySelector('#df-4c072475-892a-44ef-8580-380db3fdca1d button');\n",
              "      quickchartButtonEl.style.display =\n",
              "        google.colab.kernel.accessAllowed ? 'block' : 'none';\n",
              "    })();\n",
              "  </script>\n",
              "</div>\n",
              "\n",
              "  <div id=\"id_a1476df0-9adc-403d-bc98-fd617ad11963\">\n",
              "    <style>\n",
              "      .colab-df-generate {\n",
              "        background-color: #E8F0FE;\n",
              "        border: none;\n",
              "        border-radius: 50%;\n",
              "        cursor: pointer;\n",
              "        display: none;\n",
              "        fill: #1967D2;\n",
              "        height: 32px;\n",
              "        padding: 0 0 0 0;\n",
              "        width: 32px;\n",
              "      }\n",
              "\n",
              "      .colab-df-generate:hover {\n",
              "        background-color: #E2EBFA;\n",
              "        box-shadow: 0px 1px 2px rgba(60, 64, 67, 0.3), 0px 1px 3px 1px rgba(60, 64, 67, 0.15);\n",
              "        fill: #174EA6;\n",
              "      }\n",
              "\n",
              "      [theme=dark] .colab-df-generate {\n",
              "        background-color: #3B4455;\n",
              "        fill: #D2E3FC;\n",
              "      }\n",
              "\n",
              "      [theme=dark] .colab-df-generate:hover {\n",
              "        background-color: #434B5C;\n",
              "        box-shadow: 0px 1px 3px 1px rgba(0, 0, 0, 0.15);\n",
              "        filter: drop-shadow(0px 1px 2px rgba(0, 0, 0, 0.3));\n",
              "        fill: #FFFFFF;\n",
              "      }\n",
              "    </style>\n",
              "    <button class=\"colab-df-generate\" onclick=\"generateWithVariable('missing_values')\"\n",
              "            title=\"Generate code using this dataframe.\"\n",
              "            style=\"display:none;\">\n",
              "\n",
              "  <svg xmlns=\"http://www.w3.org/2000/svg\" height=\"24px\"viewBox=\"0 0 24 24\"\n",
              "       width=\"24px\">\n",
              "    <path d=\"M7,19H8.4L18.45,9,17,7.55,7,17.6ZM5,21V16.75L18.45,3.32a2,2,0,0,1,2.83,0l1.4,1.43a1.91,1.91,0,0,1,.58,1.4,1.91,1.91,0,0,1-.58,1.4L9.25,21ZM18.45,9,17,7.55Zm-12,3A5.31,5.31,0,0,0,4.9,8.1,5.31,5.31,0,0,0,1,6.5,5.31,5.31,0,0,0,4.9,4.9,5.31,5.31,0,0,0,6.5,1,5.31,5.31,0,0,0,8.1,4.9,5.31,5.31,0,0,0,12,6.5,5.46,5.46,0,0,0,6.5,12Z\"/>\n",
              "  </svg>\n",
              "    </button>\n",
              "    <script>\n",
              "      (() => {\n",
              "      const buttonEl =\n",
              "        document.querySelector('#id_a1476df0-9adc-403d-bc98-fd617ad11963 button.colab-df-generate');\n",
              "      buttonEl.style.display =\n",
              "        google.colab.kernel.accessAllowed ? 'block' : 'none';\n",
              "\n",
              "      buttonEl.onclick = () => {\n",
              "        google.colab.notebook.generateWithVariable('missing_values');\n",
              "      }\n",
              "      })();\n",
              "    </script>\n",
              "  </div>\n",
              "\n",
              "    </div>\n",
              "  </div>\n"
            ],
            "application/vnd.google.colaboratory.intrinsic+json": {
              "type": "dataframe",
              "variable_name": "missing_values",
              "summary": "{\n  \"name\": \"missing_values\",\n  \"rows\": 10,\n  \"fields\": [\n    {\n      \"column\": \"missing_values\",\n      \"properties\": {\n        \"dtype\": \"number\",\n        \"std\": 740181,\n        \"min\": 0,\n        \"max\": 2351538,\n        \"num_unique_values\": 3,\n        \"samples\": [\n          0,\n          2351538,\n          392506\n        ],\n        \"semantic_type\": \"\",\n        \"description\": \"\"\n      }\n    }\n  ]\n}"
            }
          },
          "metadata": {},
          "execution_count": 38
        }
      ]
    },
    {
      "cell_type": "markdown",
      "source": [
        "📌Note: The only 2 columns with missing data (explained in documentation - NULL values are present for the first question bundle)"
      ],
      "metadata": {
        "id": "eYrVE_CDQ8Iz"
      }
    },
    {
      "cell_type": "code",
      "source": [
        "# Data Information\n",
        "print(\"Rows: {:,}\".format(len(train)), \"\\n\" +\n",
        "      \"Columns: {}\".format(len(train.columns)))\n",
        "\n",
        "# Find Missing Data if any\n",
        "total = len(train)\n",
        "\n",
        "for column in train.columns:\n",
        "    if train[column].isna().sum() != 0:\n",
        "        print(\"{} has: {:,} ({:.2}%) missing values.\".format(column, train[column].isna().sum(),\n",
        "                                                             (train[column].isna().sum()/total)*100))\n",
        "\n",
        "\n",
        "# Fill in missing values with \"-1\"\n",
        "train[\"prior_question_elapsed_time\"] = train[\"prior_question_elapsed_time\"].fillna(-1)\n",
        "train[\"prior_question_had_explanation\"] = train[\"prior_question_had_explanation\"].fillna(-1)\n",
        "\n",
        "train.head()"
      ],
      "metadata": {
        "id": "rWFlnBRIQ9AR"
      },
      "execution_count": null,
      "outputs": []
    },
    {
      "cell_type": "markdown",
      "source": [
        "Rows: 101,230,332\n",
        "\n",
        "Columns: 10\n",
        "\n",
        "prior_question_elapsed_time has: 2,351,538 (2.3%) missing values.\n",
        "\n",
        "prior_question_had_explanation has: 392,506 (0.39%) missing values."
      ],
      "metadata": {
        "id": "cNdxQLHfRGPY"
      }
    },
    {
      "cell_type": "markdown",
      "source": [
        "### questions.csv"
      ],
      "metadata": {
        "id": "t_zLVKvjpENv"
      }
    },
    {
      "cell_type": "code",
      "source": [
        "missing_values = questions_df.isna().sum().to_frame('missing_values')\n",
        "missing_values"
      ],
      "metadata": {
        "colab": {
          "base_uri": "https://localhost:8080/",
          "height": 206
        },
        "id": "YokewP22dM4w",
        "outputId": "d75c08b1-7fe8-46b5-8645-9ae044746272"
      },
      "execution_count": null,
      "outputs": [
        {
          "output_type": "execute_result",
          "data": {
            "text/plain": [
              "                missing_values\n",
              "question_id                  0\n",
              "bundle_id                    0\n",
              "correct_answer               0\n",
              "part                         0\n",
              "tags                         1"
            ],
            "text/html": [
              "\n",
              "  <div id=\"df-10a43e45-aebb-44b9-9469-3d92fa0e3031\" class=\"colab-df-container\">\n",
              "    <div>\n",
              "<style scoped>\n",
              "    .dataframe tbody tr th:only-of-type {\n",
              "        vertical-align: middle;\n",
              "    }\n",
              "\n",
              "    .dataframe tbody tr th {\n",
              "        vertical-align: top;\n",
              "    }\n",
              "\n",
              "    .dataframe thead th {\n",
              "        text-align: right;\n",
              "    }\n",
              "</style>\n",
              "<table border=\"1\" class=\"dataframe\">\n",
              "  <thead>\n",
              "    <tr style=\"text-align: right;\">\n",
              "      <th></th>\n",
              "      <th>missing_values</th>\n",
              "    </tr>\n",
              "  </thead>\n",
              "  <tbody>\n",
              "    <tr>\n",
              "      <th>question_id</th>\n",
              "      <td>0</td>\n",
              "    </tr>\n",
              "    <tr>\n",
              "      <th>bundle_id</th>\n",
              "      <td>0</td>\n",
              "    </tr>\n",
              "    <tr>\n",
              "      <th>correct_answer</th>\n",
              "      <td>0</td>\n",
              "    </tr>\n",
              "    <tr>\n",
              "      <th>part</th>\n",
              "      <td>0</td>\n",
              "    </tr>\n",
              "    <tr>\n",
              "      <th>tags</th>\n",
              "      <td>1</td>\n",
              "    </tr>\n",
              "  </tbody>\n",
              "</table>\n",
              "</div>\n",
              "    <div class=\"colab-df-buttons\">\n",
              "\n",
              "  <div class=\"colab-df-container\">\n",
              "    <button class=\"colab-df-convert\" onclick=\"convertToInteractive('df-10a43e45-aebb-44b9-9469-3d92fa0e3031')\"\n",
              "            title=\"Convert this dataframe to an interactive table.\"\n",
              "            style=\"display:none;\">\n",
              "\n",
              "  <svg xmlns=\"http://www.w3.org/2000/svg\" height=\"24px\" viewBox=\"0 -960 960 960\">\n",
              "    <path d=\"M120-120v-720h720v720H120Zm60-500h600v-160H180v160Zm220 220h160v-160H400v160Zm0 220h160v-160H400v160ZM180-400h160v-160H180v160Zm440 0h160v-160H620v160ZM180-180h160v-160H180v160Zm440 0h160v-160H620v160Z\"/>\n",
              "  </svg>\n",
              "    </button>\n",
              "\n",
              "  <style>\n",
              "    .colab-df-container {\n",
              "      display:flex;\n",
              "      gap: 12px;\n",
              "    }\n",
              "\n",
              "    .colab-df-convert {\n",
              "      background-color: #E8F0FE;\n",
              "      border: none;\n",
              "      border-radius: 50%;\n",
              "      cursor: pointer;\n",
              "      display: none;\n",
              "      fill: #1967D2;\n",
              "      height: 32px;\n",
              "      padding: 0 0 0 0;\n",
              "      width: 32px;\n",
              "    }\n",
              "\n",
              "    .colab-df-convert:hover {\n",
              "      background-color: #E2EBFA;\n",
              "      box-shadow: 0px 1px 2px rgba(60, 64, 67, 0.3), 0px 1px 3px 1px rgba(60, 64, 67, 0.15);\n",
              "      fill: #174EA6;\n",
              "    }\n",
              "\n",
              "    .colab-df-buttons div {\n",
              "      margin-bottom: 4px;\n",
              "    }\n",
              "\n",
              "    [theme=dark] .colab-df-convert {\n",
              "      background-color: #3B4455;\n",
              "      fill: #D2E3FC;\n",
              "    }\n",
              "\n",
              "    [theme=dark] .colab-df-convert:hover {\n",
              "      background-color: #434B5C;\n",
              "      box-shadow: 0px 1px 3px 1px rgba(0, 0, 0, 0.15);\n",
              "      filter: drop-shadow(0px 1px 2px rgba(0, 0, 0, 0.3));\n",
              "      fill: #FFFFFF;\n",
              "    }\n",
              "  </style>\n",
              "\n",
              "    <script>\n",
              "      const buttonEl =\n",
              "        document.querySelector('#df-10a43e45-aebb-44b9-9469-3d92fa0e3031 button.colab-df-convert');\n",
              "      buttonEl.style.display =\n",
              "        google.colab.kernel.accessAllowed ? 'block' : 'none';\n",
              "\n",
              "      async function convertToInteractive(key) {\n",
              "        const element = document.querySelector('#df-10a43e45-aebb-44b9-9469-3d92fa0e3031');\n",
              "        const dataTable =\n",
              "          await google.colab.kernel.invokeFunction('convertToInteractive',\n",
              "                                                    [key], {});\n",
              "        if (!dataTable) return;\n",
              "\n",
              "        const docLinkHtml = 'Like what you see? Visit the ' +\n",
              "          '<a target=\"_blank\" href=https://colab.research.google.com/notebooks/data_table.ipynb>data table notebook</a>'\n",
              "          + ' to learn more about interactive tables.';\n",
              "        element.innerHTML = '';\n",
              "        dataTable['output_type'] = 'display_data';\n",
              "        await google.colab.output.renderOutput(dataTable, element);\n",
              "        const docLink = document.createElement('div');\n",
              "        docLink.innerHTML = docLinkHtml;\n",
              "        element.appendChild(docLink);\n",
              "      }\n",
              "    </script>\n",
              "  </div>\n",
              "\n",
              "\n",
              "<div id=\"df-f129c0bf-1e87-4249-821b-f093a6d99acb\">\n",
              "  <button class=\"colab-df-quickchart\" onclick=\"quickchart('df-f129c0bf-1e87-4249-821b-f093a6d99acb')\"\n",
              "            title=\"Suggest charts\"\n",
              "            style=\"display:none;\">\n",
              "\n",
              "<svg xmlns=\"http://www.w3.org/2000/svg\" height=\"24px\"viewBox=\"0 0 24 24\"\n",
              "     width=\"24px\">\n",
              "    <g>\n",
              "        <path d=\"M19 3H5c-1.1 0-2 .9-2 2v14c0 1.1.9 2 2 2h14c1.1 0 2-.9 2-2V5c0-1.1-.9-2-2-2zM9 17H7v-7h2v7zm4 0h-2V7h2v10zm4 0h-2v-4h2v4z\"/>\n",
              "    </g>\n",
              "</svg>\n",
              "  </button>\n",
              "\n",
              "<style>\n",
              "  .colab-df-quickchart {\n",
              "      --bg-color: #E8F0FE;\n",
              "      --fill-color: #1967D2;\n",
              "      --hover-bg-color: #E2EBFA;\n",
              "      --hover-fill-color: #174EA6;\n",
              "      --disabled-fill-color: #AAA;\n",
              "      --disabled-bg-color: #DDD;\n",
              "  }\n",
              "\n",
              "  [theme=dark] .colab-df-quickchart {\n",
              "      --bg-color: #3B4455;\n",
              "      --fill-color: #D2E3FC;\n",
              "      --hover-bg-color: #434B5C;\n",
              "      --hover-fill-color: #FFFFFF;\n",
              "      --disabled-bg-color: #3B4455;\n",
              "      --disabled-fill-color: #666;\n",
              "  }\n",
              "\n",
              "  .colab-df-quickchart {\n",
              "    background-color: var(--bg-color);\n",
              "    border: none;\n",
              "    border-radius: 50%;\n",
              "    cursor: pointer;\n",
              "    display: none;\n",
              "    fill: var(--fill-color);\n",
              "    height: 32px;\n",
              "    padding: 0;\n",
              "    width: 32px;\n",
              "  }\n",
              "\n",
              "  .colab-df-quickchart:hover {\n",
              "    background-color: var(--hover-bg-color);\n",
              "    box-shadow: 0 1px 2px rgba(60, 64, 67, 0.3), 0 1px 3px 1px rgba(60, 64, 67, 0.15);\n",
              "    fill: var(--button-hover-fill-color);\n",
              "  }\n",
              "\n",
              "  .colab-df-quickchart-complete:disabled,\n",
              "  .colab-df-quickchart-complete:disabled:hover {\n",
              "    background-color: var(--disabled-bg-color);\n",
              "    fill: var(--disabled-fill-color);\n",
              "    box-shadow: none;\n",
              "  }\n",
              "\n",
              "  .colab-df-spinner {\n",
              "    border: 2px solid var(--fill-color);\n",
              "    border-color: transparent;\n",
              "    border-bottom-color: var(--fill-color);\n",
              "    animation:\n",
              "      spin 1s steps(1) infinite;\n",
              "  }\n",
              "\n",
              "  @keyframes spin {\n",
              "    0% {\n",
              "      border-color: transparent;\n",
              "      border-bottom-color: var(--fill-color);\n",
              "      border-left-color: var(--fill-color);\n",
              "    }\n",
              "    20% {\n",
              "      border-color: transparent;\n",
              "      border-left-color: var(--fill-color);\n",
              "      border-top-color: var(--fill-color);\n",
              "    }\n",
              "    30% {\n",
              "      border-color: transparent;\n",
              "      border-left-color: var(--fill-color);\n",
              "      border-top-color: var(--fill-color);\n",
              "      border-right-color: var(--fill-color);\n",
              "    }\n",
              "    40% {\n",
              "      border-color: transparent;\n",
              "      border-right-color: var(--fill-color);\n",
              "      border-top-color: var(--fill-color);\n",
              "    }\n",
              "    60% {\n",
              "      border-color: transparent;\n",
              "      border-right-color: var(--fill-color);\n",
              "    }\n",
              "    80% {\n",
              "      border-color: transparent;\n",
              "      border-right-color: var(--fill-color);\n",
              "      border-bottom-color: var(--fill-color);\n",
              "    }\n",
              "    90% {\n",
              "      border-color: transparent;\n",
              "      border-bottom-color: var(--fill-color);\n",
              "    }\n",
              "  }\n",
              "</style>\n",
              "\n",
              "  <script>\n",
              "    async function quickchart(key) {\n",
              "      const quickchartButtonEl =\n",
              "        document.querySelector('#' + key + ' button');\n",
              "      quickchartButtonEl.disabled = true;  // To prevent multiple clicks.\n",
              "      quickchartButtonEl.classList.add('colab-df-spinner');\n",
              "      try {\n",
              "        const charts = await google.colab.kernel.invokeFunction(\n",
              "            'suggestCharts', [key], {});\n",
              "      } catch (error) {\n",
              "        console.error('Error during call to suggestCharts:', error);\n",
              "      }\n",
              "      quickchartButtonEl.classList.remove('colab-df-spinner');\n",
              "      quickchartButtonEl.classList.add('colab-df-quickchart-complete');\n",
              "    }\n",
              "    (() => {\n",
              "      let quickchartButtonEl =\n",
              "        document.querySelector('#df-f129c0bf-1e87-4249-821b-f093a6d99acb button');\n",
              "      quickchartButtonEl.style.display =\n",
              "        google.colab.kernel.accessAllowed ? 'block' : 'none';\n",
              "    })();\n",
              "  </script>\n",
              "</div>\n",
              "\n",
              "  <div id=\"id_4f316d69-6d05-4cd9-93f2-66c9035f3345\">\n",
              "    <style>\n",
              "      .colab-df-generate {\n",
              "        background-color: #E8F0FE;\n",
              "        border: none;\n",
              "        border-radius: 50%;\n",
              "        cursor: pointer;\n",
              "        display: none;\n",
              "        fill: #1967D2;\n",
              "        height: 32px;\n",
              "        padding: 0 0 0 0;\n",
              "        width: 32px;\n",
              "      }\n",
              "\n",
              "      .colab-df-generate:hover {\n",
              "        background-color: #E2EBFA;\n",
              "        box-shadow: 0px 1px 2px rgba(60, 64, 67, 0.3), 0px 1px 3px 1px rgba(60, 64, 67, 0.15);\n",
              "        fill: #174EA6;\n",
              "      }\n",
              "\n",
              "      [theme=dark] .colab-df-generate {\n",
              "        background-color: #3B4455;\n",
              "        fill: #D2E3FC;\n",
              "      }\n",
              "\n",
              "      [theme=dark] .colab-df-generate:hover {\n",
              "        background-color: #434B5C;\n",
              "        box-shadow: 0px 1px 3px 1px rgba(0, 0, 0, 0.15);\n",
              "        filter: drop-shadow(0px 1px 2px rgba(0, 0, 0, 0.3));\n",
              "        fill: #FFFFFF;\n",
              "      }\n",
              "    </style>\n",
              "    <button class=\"colab-df-generate\" onclick=\"generateWithVariable('missing_values')\"\n",
              "            title=\"Generate code using this dataframe.\"\n",
              "            style=\"display:none;\">\n",
              "\n",
              "  <svg xmlns=\"http://www.w3.org/2000/svg\" height=\"24px\"viewBox=\"0 0 24 24\"\n",
              "       width=\"24px\">\n",
              "    <path d=\"M7,19H8.4L18.45,9,17,7.55,7,17.6ZM5,21V16.75L18.45,3.32a2,2,0,0,1,2.83,0l1.4,1.43a1.91,1.91,0,0,1,.58,1.4,1.91,1.91,0,0,1-.58,1.4L9.25,21ZM18.45,9,17,7.55Zm-12,3A5.31,5.31,0,0,0,4.9,8.1,5.31,5.31,0,0,0,1,6.5,5.31,5.31,0,0,0,4.9,4.9,5.31,5.31,0,0,0,6.5,1,5.31,5.31,0,0,0,8.1,4.9,5.31,5.31,0,0,0,12,6.5,5.46,5.46,0,0,0,6.5,12Z\"/>\n",
              "  </svg>\n",
              "    </button>\n",
              "    <script>\n",
              "      (() => {\n",
              "      const buttonEl =\n",
              "        document.querySelector('#id_4f316d69-6d05-4cd9-93f2-66c9035f3345 button.colab-df-generate');\n",
              "      buttonEl.style.display =\n",
              "        google.colab.kernel.accessAllowed ? 'block' : 'none';\n",
              "\n",
              "      buttonEl.onclick = () => {\n",
              "        google.colab.notebook.generateWithVariable('missing_values');\n",
              "      }\n",
              "      })();\n",
              "    </script>\n",
              "  </div>\n",
              "\n",
              "    </div>\n",
              "  </div>\n"
            ],
            "application/vnd.google.colaboratory.intrinsic+json": {
              "type": "dataframe",
              "variable_name": "missing_values",
              "summary": "{\n  \"name\": \"missing_values\",\n  \"rows\": 5,\n  \"fields\": [\n    {\n      \"column\": \"missing_values\",\n      \"properties\": {\n        \"dtype\": \"number\",\n        \"std\": 0,\n        \"min\": 0,\n        \"max\": 1,\n        \"num_unique_values\": 2,\n        \"samples\": [\n          1,\n          0\n        ],\n        \"semantic_type\": \"\",\n        \"description\": \"\"\n      }\n    }\n  ]\n}"
            }
          },
          "metadata": {},
          "execution_count": 65
        }
      ]
    },
    {
      "cell_type": "code",
      "source": [
        "missing_tag_row = questions_df[questions_df['tags'].isnull()]\n",
        "missing_tag_row"
      ],
      "metadata": {
        "colab": {
          "base_uri": "https://localhost:8080/",
          "height": 89
        },
        "id": "wXb8Sz4npWO2",
        "outputId": "f5b0a656-bd41-4fd4-ebd3-dc774242cbd6"
      },
      "execution_count": null,
      "outputs": [
        {
          "output_type": "execute_result",
          "data": {
            "text/plain": [
              "       question_id  bundle_id  correct_answer  part tags\n",
              "10033        10033      10033               2     6  NaN"
            ],
            "text/html": [
              "\n",
              "  <div id=\"df-6c65c2af-bc32-472a-b2a6-e4294f68e54f\" class=\"colab-df-container\">\n",
              "    <div>\n",
              "<style scoped>\n",
              "    .dataframe tbody tr th:only-of-type {\n",
              "        vertical-align: middle;\n",
              "    }\n",
              "\n",
              "    .dataframe tbody tr th {\n",
              "        vertical-align: top;\n",
              "    }\n",
              "\n",
              "    .dataframe thead th {\n",
              "        text-align: right;\n",
              "    }\n",
              "</style>\n",
              "<table border=\"1\" class=\"dataframe\">\n",
              "  <thead>\n",
              "    <tr style=\"text-align: right;\">\n",
              "      <th></th>\n",
              "      <th>question_id</th>\n",
              "      <th>bundle_id</th>\n",
              "      <th>correct_answer</th>\n",
              "      <th>part</th>\n",
              "      <th>tags</th>\n",
              "    </tr>\n",
              "  </thead>\n",
              "  <tbody>\n",
              "    <tr>\n",
              "      <th>10033</th>\n",
              "      <td>10033</td>\n",
              "      <td>10033</td>\n",
              "      <td>2</td>\n",
              "      <td>6</td>\n",
              "      <td>NaN</td>\n",
              "    </tr>\n",
              "  </tbody>\n",
              "</table>\n",
              "</div>\n",
              "    <div class=\"colab-df-buttons\">\n",
              "\n",
              "  <div class=\"colab-df-container\">\n",
              "    <button class=\"colab-df-convert\" onclick=\"convertToInteractive('df-6c65c2af-bc32-472a-b2a6-e4294f68e54f')\"\n",
              "            title=\"Convert this dataframe to an interactive table.\"\n",
              "            style=\"display:none;\">\n",
              "\n",
              "  <svg xmlns=\"http://www.w3.org/2000/svg\" height=\"24px\" viewBox=\"0 -960 960 960\">\n",
              "    <path d=\"M120-120v-720h720v720H120Zm60-500h600v-160H180v160Zm220 220h160v-160H400v160Zm0 220h160v-160H400v160ZM180-400h160v-160H180v160Zm440 0h160v-160H620v160ZM180-180h160v-160H180v160Zm440 0h160v-160H620v160Z\"/>\n",
              "  </svg>\n",
              "    </button>\n",
              "\n",
              "  <style>\n",
              "    .colab-df-container {\n",
              "      display:flex;\n",
              "      gap: 12px;\n",
              "    }\n",
              "\n",
              "    .colab-df-convert {\n",
              "      background-color: #E8F0FE;\n",
              "      border: none;\n",
              "      border-radius: 50%;\n",
              "      cursor: pointer;\n",
              "      display: none;\n",
              "      fill: #1967D2;\n",
              "      height: 32px;\n",
              "      padding: 0 0 0 0;\n",
              "      width: 32px;\n",
              "    }\n",
              "\n",
              "    .colab-df-convert:hover {\n",
              "      background-color: #E2EBFA;\n",
              "      box-shadow: 0px 1px 2px rgba(60, 64, 67, 0.3), 0px 1px 3px 1px rgba(60, 64, 67, 0.15);\n",
              "      fill: #174EA6;\n",
              "    }\n",
              "\n",
              "    .colab-df-buttons div {\n",
              "      margin-bottom: 4px;\n",
              "    }\n",
              "\n",
              "    [theme=dark] .colab-df-convert {\n",
              "      background-color: #3B4455;\n",
              "      fill: #D2E3FC;\n",
              "    }\n",
              "\n",
              "    [theme=dark] .colab-df-convert:hover {\n",
              "      background-color: #434B5C;\n",
              "      box-shadow: 0px 1px 3px 1px rgba(0, 0, 0, 0.15);\n",
              "      filter: drop-shadow(0px 1px 2px rgba(0, 0, 0, 0.3));\n",
              "      fill: #FFFFFF;\n",
              "    }\n",
              "  </style>\n",
              "\n",
              "    <script>\n",
              "      const buttonEl =\n",
              "        document.querySelector('#df-6c65c2af-bc32-472a-b2a6-e4294f68e54f button.colab-df-convert');\n",
              "      buttonEl.style.display =\n",
              "        google.colab.kernel.accessAllowed ? 'block' : 'none';\n",
              "\n",
              "      async function convertToInteractive(key) {\n",
              "        const element = document.querySelector('#df-6c65c2af-bc32-472a-b2a6-e4294f68e54f');\n",
              "        const dataTable =\n",
              "          await google.colab.kernel.invokeFunction('convertToInteractive',\n",
              "                                                    [key], {});\n",
              "        if (!dataTable) return;\n",
              "\n",
              "        const docLinkHtml = 'Like what you see? Visit the ' +\n",
              "          '<a target=\"_blank\" href=https://colab.research.google.com/notebooks/data_table.ipynb>data table notebook</a>'\n",
              "          + ' to learn more about interactive tables.';\n",
              "        element.innerHTML = '';\n",
              "        dataTable['output_type'] = 'display_data';\n",
              "        await google.colab.output.renderOutput(dataTable, element);\n",
              "        const docLink = document.createElement('div');\n",
              "        docLink.innerHTML = docLinkHtml;\n",
              "        element.appendChild(docLink);\n",
              "      }\n",
              "    </script>\n",
              "  </div>\n",
              "\n",
              "\n",
              "  <div id=\"id_dc415a69-b361-4a93-9563-03ac92a04f4a\">\n",
              "    <style>\n",
              "      .colab-df-generate {\n",
              "        background-color: #E8F0FE;\n",
              "        border: none;\n",
              "        border-radius: 50%;\n",
              "        cursor: pointer;\n",
              "        display: none;\n",
              "        fill: #1967D2;\n",
              "        height: 32px;\n",
              "        padding: 0 0 0 0;\n",
              "        width: 32px;\n",
              "      }\n",
              "\n",
              "      .colab-df-generate:hover {\n",
              "        background-color: #E2EBFA;\n",
              "        box-shadow: 0px 1px 2px rgba(60, 64, 67, 0.3), 0px 1px 3px 1px rgba(60, 64, 67, 0.15);\n",
              "        fill: #174EA6;\n",
              "      }\n",
              "\n",
              "      [theme=dark] .colab-df-generate {\n",
              "        background-color: #3B4455;\n",
              "        fill: #D2E3FC;\n",
              "      }\n",
              "\n",
              "      [theme=dark] .colab-df-generate:hover {\n",
              "        background-color: #434B5C;\n",
              "        box-shadow: 0px 1px 3px 1px rgba(0, 0, 0, 0.15);\n",
              "        filter: drop-shadow(0px 1px 2px rgba(0, 0, 0, 0.3));\n",
              "        fill: #FFFFFF;\n",
              "      }\n",
              "    </style>\n",
              "    <button class=\"colab-df-generate\" onclick=\"generateWithVariable('missing_tag_row')\"\n",
              "            title=\"Generate code using this dataframe.\"\n",
              "            style=\"display:none;\">\n",
              "\n",
              "  <svg xmlns=\"http://www.w3.org/2000/svg\" height=\"24px\"viewBox=\"0 0 24 24\"\n",
              "       width=\"24px\">\n",
              "    <path d=\"M7,19H8.4L18.45,9,17,7.55,7,17.6ZM5,21V16.75L18.45,3.32a2,2,0,0,1,2.83,0l1.4,1.43a1.91,1.91,0,0,1,.58,1.4,1.91,1.91,0,0,1-.58,1.4L9.25,21ZM18.45,9,17,7.55Zm-12,3A5.31,5.31,0,0,0,4.9,8.1,5.31,5.31,0,0,0,1,6.5,5.31,5.31,0,0,0,4.9,4.9,5.31,5.31,0,0,0,6.5,1,5.31,5.31,0,0,0,8.1,4.9,5.31,5.31,0,0,0,12,6.5,5.46,5.46,0,0,0,6.5,12Z\"/>\n",
              "  </svg>\n",
              "    </button>\n",
              "    <script>\n",
              "      (() => {\n",
              "      const buttonEl =\n",
              "        document.querySelector('#id_dc415a69-b361-4a93-9563-03ac92a04f4a button.colab-df-generate');\n",
              "      buttonEl.style.display =\n",
              "        google.colab.kernel.accessAllowed ? 'block' : 'none';\n",
              "\n",
              "      buttonEl.onclick = () => {\n",
              "        google.colab.notebook.generateWithVariable('missing_tag_row');\n",
              "      }\n",
              "      })();\n",
              "    </script>\n",
              "  </div>\n",
              "\n",
              "    </div>\n",
              "  </div>\n"
            ],
            "application/vnd.google.colaboratory.intrinsic+json": {
              "type": "dataframe",
              "variable_name": "missing_tag_row",
              "repr_error": "0"
            }
          },
          "metadata": {},
          "execution_count": 64
        }
      ]
    },
    {
      "cell_type": "markdown",
      "source": [
        "Only 1 missing value for the 'tags' variable - at this size of a dataset, the entire row can probably be deleted, however, as the question_id is related to the same variable in the main dataset, it's important to check what is the reprasentation of this particular question in that dataset.\n"
      ],
      "metadata": {
        "id": "TrW7bKfxpnSm"
      }
    },
    {
      "cell_type": "code",
      "source": [
        "missing_question_id = missing_tag_row['question_id'].iloc[0]  # Extract the question_id\n",
        "question_id_counts = train_df[train_df['content_id'] == missing_question_id].shape[0]\n",
        "\n",
        "print(f\"Occurrences of question_id {missing_question_id}: {question_id_counts}\")"
      ],
      "metadata": {
        "colab": {
          "base_uri": "https://localhost:8080/"
        },
        "id": "sHvw2I6vpOR-",
        "outputId": "7d8a783d-418c-41ca-da41-28801384770e"
      },
      "execution_count": null,
      "outputs": [
        {
          "output_type": "stream",
          "name": "stdout",
          "text": [
            "Occurrences of question_id 10033: 1\n"
          ]
        }
      ]
    },
    {
      "cell_type": "markdown",
      "source": [
        "why are the two codes below not working?"
      ],
      "metadata": {
        "id": "3yO6pBKRthap"
      }
    },
    {
      "cell_type": "code",
      "source": [
        "question_id_counts = train_df.query('content_id == 10033 and answered_correctly != -1').shape[0]"
      ],
      "metadata": {
        "colab": {
          "base_uri": "https://localhost:8080/"
        },
        "id": "6B6Ph5JDwYxm",
        "outputId": "303a0222-173e-43dc-c792-0329f239bd44"
      },
      "execution_count": null,
      "outputs": [
        {
          "output_type": "execute_result",
          "data": {
            "text/plain": [
              "1"
            ]
          },
          "metadata": {},
          "execution_count": 76
        }
      ]
    },
    {
      "cell_type": "code",
      "source": [
        "row = train_df.loc[train_df['content_id'] == 10033]\n",
        "print(row)"
      ],
      "metadata": {
        "colab": {
          "base_uri": "https://localhost:8080/"
        },
        "id": "AxlCZGMauuUN",
        "outputId": "9a8e3941-0c05-4c73-91f4-8065b0baeb1b"
      },
      "execution_count": null,
      "outputs": [
        {
          "output_type": "stream",
          "name": "stdout",
          "text": [
            "            row_id   timestamp     user_id  content_id  content_type_id  \\\n",
            "62750278  62750278  1286282597  1333688829       10033            False   \n",
            "\n",
            "          task_container_id  user_answer  answered_correctly  \\\n",
            "62750278               1127            2                   1   \n",
            "\n",
            "          prior_question_elapsed_time  prior_question_had_explanation  \n",
            "62750278                      35000.0                            True  \n"
          ]
        }
      ]
    },
    {
      "cell_type": "markdown",
      "source": [
        "The question_id 10033 is only found once across the whole train.pkl.gzip dataset with 101+ million rows so it's safe to say we can delete that row from question.csv."
      ],
      "metadata": {
        "id": "L_wGakeYrCcT"
      }
    },
    {
      "cell_type": "code",
      "source": [
        "questions_df = questions_df.dropna(subset=['tags'])  # Drop rows with missing 'tags'"
      ],
      "metadata": {
        "id": "NFshcHyfqw4G"
      },
      "execution_count": null,
      "outputs": []
    },
    {
      "cell_type": "markdown",
      "source": [
        "## Outliers"
      ],
      "metadata": {
        "id": "ETnl_BNVc0EX"
      }
    },
    {
      "cell_type": "markdown",
      "source": [
        "### Functions"
      ],
      "metadata": {
        "id": "HvILiUfgdm0i"
      }
    },
    {
      "cell_type": "code",
      "source": [
        "def plot_boxplot(data, x=None, y=None, hue=None, color=None, title=None, horizontal=False):\n",
        "    \"\"\"\n",
        "    Creates a customizable box plot.\n",
        "\n",
        "    Parameters:\n",
        "    - data: Pandas DataFrame containing the data.\n",
        "    - x: Column name for the x-axis (categorical).\n",
        "    - y: Column name for the y-axis (numeric).\n",
        "    - hue: Optional column for additional grouping.\n",
        "    - color: Optional color for the boxes.\n",
        "    - title: Optional title for the plot.\n",
        "    - horizontal: Boolean to plot horizontally (default is vertical).\n",
        "    \"\"\"\n",
        "    # Set orientation\n",
        "    orient = 'h' if horizontal else 'v'\n",
        "\n",
        "    plt.figure(figsize=(8, 5)) # Create a 'canvas' to draw the plot onto\n",
        "    # plt.figure(figsize=figsize) - alternate code if parameter given in function call\n",
        "    sns.boxplot(data=data, x=x, y=y, hue=hue, orient=orient) # Create the boxplot\n",
        "\n",
        "    # Custom labels and title\n",
        "    if horizontal:\n",
        "        plt.xlabel(y)  # In horizontal orientation, y values are on x-axis\n",
        "        plt.ylabel(x)  # In horizontal orientation, x values are on y-axis\n",
        "    else:\n",
        "        plt.xlabel(x)\n",
        "        plt.ylabel(y)\n",
        "        # In vertical orientation, x values are on x-axis, y values are on y-axis\n",
        "    if title:\n",
        "        plt.title(title) # add title to plot if provided in function call\n",
        "\n",
        "    # Handle label rotation for vertical plots with many categories\n",
        "    if orient == 'v' and x is not None:\n",
        "        plt.xticks(rotation=45, ha='right')\n",
        "\n",
        "    plt.tight_layout() # adjusts the plot padding to ensure all labels fit within the figure without being cut off\n",
        "    plt.show() # display plot\n",
        "\n",
        "# Example usage:\n",
        "# plot_boxplot(df, x='category', y='value')                  # Basic vertical boxplot\n",
        "# plot_boxplot(df, x='value', y='category', orient='h')      # Horizontal boxplot\n",
        "# plot_boxplot(df, x='category', y='value', hue='group')     # Grouped boxplot\n",
        "\n",
        "    # additional parameters\n",
        "    # xlabel=None, ylabel=None, figsize=(8, 5), orient='v', showfliers=True, palette=None\n",
        "    \"\"\"\n",
        "    Parameters:\n",
        "    - color: Optional color for the boxes.\n",
        "    - xlabel: Optional x-axis label.\n",
        "    - ylabel: Optional y-axis label.\n",
        "    - figsize: Tuple defining the figure size (default=(8,5)).\n",
        "    - orient: Orientation of the plot ('v' for vertical, 'h' for horizontal).\n",
        "    - showfliers: Whether to show outlier points (default=True).\n",
        "    - palette: Color palette for groups when hue is specified.\n",
        "    \"\"\""
      ],
      "metadata": {
        "id": "5j2ion8rS8T_"
      },
      "execution_count": null,
      "outputs": []
    },
    {
      "cell_type": "markdown",
      "source": [
        "### timestamp"
      ],
      "metadata": {
        "id": "gMzVS9Wxd2Id"
      }
    },
    {
      "cell_type": "markdown",
      "source": [
        "📌Note: The outliers might strongly influence the future models. Hence, we need to carefully handle them. However, by trying to erase the outliers we can erase up to 10% of the data, which is valuable information for training our models."
      ],
      "metadata": {
        "id": "r-_vcf_MXzSL"
      }
    },
    {
      "cell_type": "markdown",
      "source": [
        "Eg.: Below we find the upper boundry for the outliers for the feature timestamp. This value is equal to 26,138,936,852 milliseconds, which means 7,700 hours, which means about 320 days."
      ],
      "metadata": {
        "id": "8PoYh0LjX3Vz"
      }
    },
    {
      "cell_type": "code",
      "source": [
        "# Total rows we started with\n",
        "total = len(train)\n",
        "feature = \"timestamp\"\n",
        "\n",
        "# Compute Outliers\n",
        "Q1 = cupy.percentile(train[feature].values, q = 25).item()\n",
        "Q3 = cupy.percentile(train[feature].values, q = 75).item()\n",
        "IQR = Q3 - Q1\n",
        "\n",
        "# We'll look only at the upper interval outliers\n",
        "outlier_boundry = Q3 + 1.5*IQR\n",
        "\n",
        "print('Timestamp: around {:.2}% of the data would be erased.'.format(len(train[train[feature] >= outlier_boundry])/total * 100),\n",
        "      \"\\n\"+\n",
        "      'The outlier boundry is {:,}, which means {:,.5} hrs, which means {:,.5} days.'.format(outlier_boundry, (outlier_boundry / 3.6e+6),\n",
        "                                                                                       (outlier_boundry / 3.6e+6)/24))\n",
        "\n",
        "gc.collect()"
      ],
      "metadata": {
        "id": "pRWZ05gbc6hf"
      },
      "execution_count": null,
      "outputs": []
    },
    {
      "cell_type": "markdown",
      "source": [
        "Timestamp: around 9.4% of the data would be erased.\n",
        "\n",
        "The outlier boundry is 24,024,861,068.375, which means 6,673.6 hrs, which means 278.07 days."
      ],
      "metadata": {
        "id": "dZnR5RULYBQL"
      }
    },
    {
      "cell_type": "markdown",
      "source": [
        "### Is there a way to find out whats the engagement count among users?"
      ],
      "metadata": {
        "id": "hFq7_HDKYEbE"
      }
    },
    {
      "cell_type": "markdown",
      "source": [
        "📌Note: However, I would erase all pupils (user_id) that have less than 5 appearences in the data (no prediction can be made on these students)"
      ],
      "metadata": {
        "id": "w2FrptuDYSVI"
      }
    },
    {
      "cell_type": "code",
      "source": [
        "# Select ids to erase\n",
        "ids_to_erase = train[\"user_id\"].value_counts().reset_index()[train[\"user_id\"].value_counts().reset_index()[\"user_id\"] < 5]\\\n",
        "                                                                                                                [\"index\"].values\n",
        "\n",
        "# Erase the ids\n",
        "new_train = train[~train['user_id'].isin(ids_to_erase)]\n",
        "\n",
        "print(\"We erased {} rows meaning {:.3}% of all data.\".format(len(train)-len(new_train), (1 - len(new_train)/len(train))*100))\n",
        "del ids_to_erase"
      ],
      "metadata": {
        "id": "QT2RgLB2YYNX"
      },
      "execution_count": null,
      "outputs": []
    },
    {
      "cell_type": "markdown",
      "source": [
        "We erased 599 rows meaning 0.000592% of all data."
      ],
      "metadata": {
        "id": "0oyaFgNwYVTz"
      }
    },
    {
      "cell_type": "markdown",
      "source": [
        "# Merging datasets"
      ],
      "metadata": {
        "id": "jGEbjlmQfEwM"
      }
    },
    {
      "cell_type": "markdown",
      "source": [
        "Goal is to merge train, questions and lectures datasets for model building"
      ],
      "metadata": {
        "id": "MF72YDc7fK3Q"
      }
    },
    {
      "cell_type": "markdown",
      "source": [
        "question_id is a foreign key for the train/test content_id column, when the content type is question (0)"
      ],
      "metadata": {
        "id": "sFTPsBMIfRSo"
      }
    },
    {
      "cell_type": "markdown",
      "source": [
        "lecture_id is a foreign key for the train/test content_id column, when the content type is lecture (1)"
      ],
      "metadata": {
        "id": "IaVc489Kfftr"
      }
    },
    {
      "cell_type": "markdown",
      "source": [
        "# Extra code\n"
      ],
      "metadata": {
        "id": "u9FoEzkLNQ5A"
      }
    },
    {
      "cell_type": "code",
      "source": [
        "plt.figure(figsize=(8, 6))  # Adjust figure size if needed\n",
        "sns.countplot(data=train_df, x='answered_correctly')\n",
        "plt.title('Distribution of answered_correctly')  # Add a title for clarity\n",
        "plt.xticks(rotation=45, ha='right')  # Rotate x-axis labels if they overlap\n",
        "plt.show()"
      ],
      "metadata": {
        "id": "lhjXdfK7J3a5"
      },
      "execution_count": null,
      "outputs": []
    },
    {
      "cell_type": "code",
      "source": [
        "# Create a DataFrame for plotting\n",
        "plot_df = pd.DataFrame({'answered_correctly': answered_correctly_counts.index,\n",
        "                        'count': answered_correctly_counts.values})\n",
        "\n",
        "plt.figure(figsize=(8, 6))\n",
        "sns.barplot(data=plot_df, x='answered_correctly', y='count')\n",
        "plt.title('Distribution of answered_correctly (Full Dataset)')\n",
        "plt.xticks(rotation=45, ha='right')\n",
        "plt.show()"
      ],
      "metadata": {
        "id": "AFMf_gMdNUym"
      },
      "execution_count": null,
      "outputs": []
    }
  ]
}