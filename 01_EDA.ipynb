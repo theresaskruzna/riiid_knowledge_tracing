{
  "nbformat": 4,
  "nbformat_minor": 0,
  "metadata": {
    "colab": {
      "provenance": [],
      "toc_visible": true,
      "authorship_tag": "ABX9TyN6LfGUhi5hs+vC0NhrubNR",
      "include_colab_link": true
    },
    "kernelspec": {
      "name": "python3",
      "display_name": "Python 3"
    },
    "language_info": {
      "name": "python"
    }
  },
  "cells": [
    {
      "cell_type": "markdown",
      "metadata": {
        "id": "view-in-github",
        "colab_type": "text"
      },
      "source": [
        "<a href=\"https://colab.research.google.com/github/theresaskruzna/riiid_knowledge_tracing/blob/main/01_EDA.ipynb\" target=\"_parent\"><img src=\"https://colab.research.google.com/assets/colab-badge.svg\" alt=\"Open In Colab\"/></a>"
      ]
    },
    {
      "cell_type": "markdown",
      "source": [
        "# Import Libraries"
      ],
      "metadata": {
        "id": "81Q421pfWQO1"
      }
    },
    {
      "cell_type": "code",
      "execution_count": null,
      "metadata": {
        "colab": {
          "base_uri": "https://localhost:8080/"
        },
        "outputId": "7087884b-b3d0-4e5a-cef8-3453717b5f82",
        "id": "0czx2Jpz5zrd"
      },
      "outputs": [
        {
          "output_type": "stream",
          "name": "stdout",
          "text": [
            "TensorFlow version: 2.18.0\n"
          ]
        }
      ],
      "source": [
        "# Riiid Knowledge Tracing Project\n",
        "# Initial setup and data exploration\n",
        "\n",
        "# This installs the Kaggle API package. The -q flag makes the installation \"quiet\" (less verbose output).\n",
        "# This only needs to be run once per Colab session\n",
        "!pip install -q kaggle\n",
        "\n",
        "# This imports the files module from Google Colab and opens a file upload dialog where you select your Kaggle API credentials file (kaggle.json) from your local computer.\n",
        "# Upload your kaggle.json file (from your Kaggle account settings)\n",
        "from google.colab import files\n",
        "\n",
        "import kagglehub\n",
        "import os\n",
        "import pickle\n",
        "\n",
        "import numpy as np\n",
        "import pandas as pd\n",
        "\n",
        "import matplotlib.pyplot as plt\n",
        "%matplotlib inline\n",
        "import seaborn as sns\n",
        "\n",
        "import tensorflow as tf\n",
        "from tensorflow.keras import layers, models\n",
        "\n",
        "print(\"TensorFlow version:\", tf.__version__)"
      ]
    },
    {
      "cell_type": "markdown",
      "source": [
        "# Data pre-processing"
      ],
      "metadata": {
        "id": "G1IbDDOaWcu3"
      }
    },
    {
      "cell_type": "markdown",
      "source": [
        "## Load original data"
      ],
      "metadata": {
        "id": "5AjTb_MLWquZ"
      }
    },
    {
      "cell_type": "code",
      "source": [
        "files.upload()  # Upload your kaggle.json here\n",
        "\n",
        "!mkdir -p ~/.kaggle # Creates a .kaggle directory in your home folder (~) if it doesn't already exist. The -p flag ensures no error is thrown if the directory already exists.\n",
        "!cp kaggle.json ~/.kaggle/ # Copies the uploaded kaggle.json file to the .kaggle directory where the Kaggle API expects to find it.\n",
        "!chmod 600 ~/.kaggle/kaggle.json # Sets permissions on the kaggle.json file to \"read/write for owner only\" (600). This is required by the Kaggle API for security reasons.\n",
        "\n",
        "# Download the dataset\n",
        "!kaggle competitions download -c riiid-test-answer-prediction # Downloads all files for the Riiid Test Answer Prediction competition. The -c flag specifies which competition.\n",
        "!unzip -q riiid-test-answer-prediction.zip -d riiid_data # Extracts the downloaded zip file into a directory called \"riiid_data\". The -q flag makes the unzip operation quiet (less verbose)."
      ],
      "metadata": {
        "colab": {
          "base_uri": "https://localhost:8080/",
          "height": 199
        },
        "id": "m0HWAoFC6WvP",
        "outputId": "fac4d7ba-b630-4477-97b1-bd5b2164ebb2"
      },
      "execution_count": null,
      "outputs": [
        {
          "output_type": "display_data",
          "data": {
            "text/plain": [
              "<IPython.core.display.HTML object>"
            ],
            "text/html": [
              "\n",
              "     <input type=\"file\" id=\"files-59c78d07-6465-4d47-becb-58152a02728c\" name=\"files[]\" multiple disabled\n",
              "        style=\"border:none\" />\n",
              "     <output id=\"result-59c78d07-6465-4d47-becb-58152a02728c\">\n",
              "      Upload widget is only available when the cell has been executed in the\n",
              "      current browser session. Please rerun this cell to enable.\n",
              "      </output>\n",
              "      <script>// Copyright 2017 Google LLC\n",
              "//\n",
              "// Licensed under the Apache License, Version 2.0 (the \"License\");\n",
              "// you may not use this file except in compliance with the License.\n",
              "// You may obtain a copy of the License at\n",
              "//\n",
              "//      http://www.apache.org/licenses/LICENSE-2.0\n",
              "//\n",
              "// Unless required by applicable law or agreed to in writing, software\n",
              "// distributed under the License is distributed on an \"AS IS\" BASIS,\n",
              "// WITHOUT WARRANTIES OR CONDITIONS OF ANY KIND, either express or implied.\n",
              "// See the License for the specific language governing permissions and\n",
              "// limitations under the License.\n",
              "\n",
              "/**\n",
              " * @fileoverview Helpers for google.colab Python module.\n",
              " */\n",
              "(function(scope) {\n",
              "function span(text, styleAttributes = {}) {\n",
              "  const element = document.createElement('span');\n",
              "  element.textContent = text;\n",
              "  for (const key of Object.keys(styleAttributes)) {\n",
              "    element.style[key] = styleAttributes[key];\n",
              "  }\n",
              "  return element;\n",
              "}\n",
              "\n",
              "// Max number of bytes which will be uploaded at a time.\n",
              "const MAX_PAYLOAD_SIZE = 100 * 1024;\n",
              "\n",
              "function _uploadFiles(inputId, outputId) {\n",
              "  const steps = uploadFilesStep(inputId, outputId);\n",
              "  const outputElement = document.getElementById(outputId);\n",
              "  // Cache steps on the outputElement to make it available for the next call\n",
              "  // to uploadFilesContinue from Python.\n",
              "  outputElement.steps = steps;\n",
              "\n",
              "  return _uploadFilesContinue(outputId);\n",
              "}\n",
              "\n",
              "// This is roughly an async generator (not supported in the browser yet),\n",
              "// where there are multiple asynchronous steps and the Python side is going\n",
              "// to poll for completion of each step.\n",
              "// This uses a Promise to block the python side on completion of each step,\n",
              "// then passes the result of the previous step as the input to the next step.\n",
              "function _uploadFilesContinue(outputId) {\n",
              "  const outputElement = document.getElementById(outputId);\n",
              "  const steps = outputElement.steps;\n",
              "\n",
              "  const next = steps.next(outputElement.lastPromiseValue);\n",
              "  return Promise.resolve(next.value.promise).then((value) => {\n",
              "    // Cache the last promise value to make it available to the next\n",
              "    // step of the generator.\n",
              "    outputElement.lastPromiseValue = value;\n",
              "    return next.value.response;\n",
              "  });\n",
              "}\n",
              "\n",
              "/**\n",
              " * Generator function which is called between each async step of the upload\n",
              " * process.\n",
              " * @param {string} inputId Element ID of the input file picker element.\n",
              " * @param {string} outputId Element ID of the output display.\n",
              " * @return {!Iterable<!Object>} Iterable of next steps.\n",
              " */\n",
              "function* uploadFilesStep(inputId, outputId) {\n",
              "  const inputElement = document.getElementById(inputId);\n",
              "  inputElement.disabled = false;\n",
              "\n",
              "  const outputElement = document.getElementById(outputId);\n",
              "  outputElement.innerHTML = '';\n",
              "\n",
              "  const pickedPromise = new Promise((resolve) => {\n",
              "    inputElement.addEventListener('change', (e) => {\n",
              "      resolve(e.target.files);\n",
              "    });\n",
              "  });\n",
              "\n",
              "  const cancel = document.createElement('button');\n",
              "  inputElement.parentElement.appendChild(cancel);\n",
              "  cancel.textContent = 'Cancel upload';\n",
              "  const cancelPromise = new Promise((resolve) => {\n",
              "    cancel.onclick = () => {\n",
              "      resolve(null);\n",
              "    };\n",
              "  });\n",
              "\n",
              "  // Wait for the user to pick the files.\n",
              "  const files = yield {\n",
              "    promise: Promise.race([pickedPromise, cancelPromise]),\n",
              "    response: {\n",
              "      action: 'starting',\n",
              "    }\n",
              "  };\n",
              "\n",
              "  cancel.remove();\n",
              "\n",
              "  // Disable the input element since further picks are not allowed.\n",
              "  inputElement.disabled = true;\n",
              "\n",
              "  if (!files) {\n",
              "    return {\n",
              "      response: {\n",
              "        action: 'complete',\n",
              "      }\n",
              "    };\n",
              "  }\n",
              "\n",
              "  for (const file of files) {\n",
              "    const li = document.createElement('li');\n",
              "    li.append(span(file.name, {fontWeight: 'bold'}));\n",
              "    li.append(span(\n",
              "        `(${file.type || 'n/a'}) - ${file.size} bytes, ` +\n",
              "        `last modified: ${\n",
              "            file.lastModifiedDate ? file.lastModifiedDate.toLocaleDateString() :\n",
              "                                    'n/a'} - `));\n",
              "    const percent = span('0% done');\n",
              "    li.appendChild(percent);\n",
              "\n",
              "    outputElement.appendChild(li);\n",
              "\n",
              "    const fileDataPromise = new Promise((resolve) => {\n",
              "      const reader = new FileReader();\n",
              "      reader.onload = (e) => {\n",
              "        resolve(e.target.result);\n",
              "      };\n",
              "      reader.readAsArrayBuffer(file);\n",
              "    });\n",
              "    // Wait for the data to be ready.\n",
              "    let fileData = yield {\n",
              "      promise: fileDataPromise,\n",
              "      response: {\n",
              "        action: 'continue',\n",
              "      }\n",
              "    };\n",
              "\n",
              "    // Use a chunked sending to avoid message size limits. See b/62115660.\n",
              "    let position = 0;\n",
              "    do {\n",
              "      const length = Math.min(fileData.byteLength - position, MAX_PAYLOAD_SIZE);\n",
              "      const chunk = new Uint8Array(fileData, position, length);\n",
              "      position += length;\n",
              "\n",
              "      const base64 = btoa(String.fromCharCode.apply(null, chunk));\n",
              "      yield {\n",
              "        response: {\n",
              "          action: 'append',\n",
              "          file: file.name,\n",
              "          data: base64,\n",
              "        },\n",
              "      };\n",
              "\n",
              "      let percentDone = fileData.byteLength === 0 ?\n",
              "          100 :\n",
              "          Math.round((position / fileData.byteLength) * 100);\n",
              "      percent.textContent = `${percentDone}% done`;\n",
              "\n",
              "    } while (position < fileData.byteLength);\n",
              "  }\n",
              "\n",
              "  // All done.\n",
              "  yield {\n",
              "    response: {\n",
              "      action: 'complete',\n",
              "    }\n",
              "  };\n",
              "}\n",
              "\n",
              "scope.google = scope.google || {};\n",
              "scope.google.colab = scope.google.colab || {};\n",
              "scope.google.colab._files = {\n",
              "  _uploadFiles,\n",
              "  _uploadFilesContinue,\n",
              "};\n",
              "})(self);\n",
              "</script> "
            ]
          },
          "metadata": {}
        },
        {
          "output_type": "stream",
          "name": "stdout",
          "text": [
            "Saving kaggle.json to kaggle.json\n",
            "Downloading riiid-test-answer-prediction.zip to /content\n",
            " 99% 1.27G/1.29G [00:09<00:00, 166MB/s]\n",
            "100% 1.29G/1.29G [00:09<00:00, 149MB/s]\n",
            "\n",
            "\n",
            "\n",
            "\n"
          ]
        }
      ]
    },
    {
      "cell_type": "code",
      "source": [
        "# This command will list all files and directories within the \"riiid_data\" directory in a detailed format.\n",
        "!ls -la riiid_data/"
      ],
      "metadata": {
        "colab": {
          "base_uri": "https://localhost:8080/"
        },
        "id": "Ar5z3Dco72n5",
        "outputId": "2dd12b19-d4c6-427b-f70c-e6c20a74af13"
      },
      "execution_count": null,
      "outputs": [
        {
          "output_type": "stream",
          "name": "stdout",
          "text": [
            "total 5710060\n",
            "drwxr-xr-x 3 root root       4096 Mar 10 12:25 .\n",
            "drwxr-xr-x 1 root root       4096 Mar 10 12:25 ..\n",
            "-rw-r--r-- 1 root root        971 Oct 14  2020 example_sample_submission.csv\n",
            "-rw-r--r-- 1 root root       6137 Oct 14  2020 example_test.csv\n",
            "-rw-r--r-- 1 root root       9703 Oct 14  2020 lectures.csv\n",
            "-rw-r--r-- 1 root root     296161 Oct 14  2020 questions.csv\n",
            "drwxr-xr-x 2 root root       4096 Mar 10 12:25 riiideducation\n",
            "-rw-r--r-- 1 root root 5846760913 Oct 14  2020 train.csv\n"
          ]
        }
      ]
    },
    {
      "cell_type": "code",
      "source": [
        "# This command lists detailed information about the specific file kaggle.json in the .kaggle directory in your home folder.\n",
        "!ls -la ~/.kaggle/kaggle.json"
      ],
      "metadata": {
        "colab": {
          "base_uri": "https://localhost:8080/"
        },
        "id": "ba2Fl3z8-Rtn",
        "outputId": "8e6d1d4e-559e-4cb5-ce23-85918f19a6ab"
      },
      "execution_count": null,
      "outputs": [
        {
          "output_type": "stream",
          "name": "stdout",
          "text": [
            "-rw------- 1 root root 70 Mar 10 12:25 /root/.kaggle/kaggle.json\n"
          ]
        }
      ]
    },
    {
      "cell_type": "markdown",
      "source": [
        "Loading questions.csv and lectures.csv into the notebook."
      ],
      "metadata": {
        "id": "4oBi6-PD6gm4"
      }
    },
    {
      "cell_type": "code",
      "source": [
        "# Load the dataset with memory optimisations\n",
        "\n",
        "# Define column data types to reduce memory usage\n",
        "dtype_mapping_questions = {\n",
        "    \"question_id\": \"int16\",\n",
        "    \"bundle_id\": \"int16\",\n",
        "    \"correct_answer\": \"int8\",\n",
        "    \"part\": \"int8\",\n",
        "    \"tags\": \"object\"\n",
        "}\n",
        "\n",
        "dtype_mapping_lectures = {\n",
        "    \"lecture_id\": \"int16\",\n",
        "    \"part\": \"int8\"\n",
        "    \"tag\": \"int16\",\n",
        "    \"type_of\": \"object\",\n",
        "}"
      ],
      "metadata": {
        "id": "9I9ATtxi0Rn7"
      },
      "execution_count": null,
      "outputs": []
    },
    {
      "cell_type": "code",
      "source": [
        "%%time\n",
        "\n",
        "questions_df = pd.read_csv('riiid_data/questions.csv', dtype=dtype_mapping_questions)"
      ],
      "metadata": {
        "id": "HCkTPY-46It5",
        "outputId": "4a19285d-7c0a-48f5-de78-44fd2f8e2c36",
        "colab": {
          "base_uri": "https://localhost:8080/"
        }
      },
      "execution_count": null,
      "outputs": [
        {
          "output_type": "stream",
          "name": "stdout",
          "text": [
            "CPU times: user 8.59 ms, sys: 1.2 ms, total: 9.79 ms\n",
            "Wall time: 16.7 ms\n"
          ]
        }
      ]
    },
    {
      "cell_type": "code",
      "source": [
        "%%time\n",
        "\n",
        "lectures_df = pd.read_csv('riiid_data/lectures.csv', dtype=dtype_mapping_lectures)"
      ],
      "metadata": {
        "id": "ysAe7q-Jpkp8",
        "outputId": "160e258c-160b-45ce-cf58-41feeef16974",
        "colab": {
          "base_uri": "https://localhost:8080/"
        }
      },
      "execution_count": null,
      "outputs": [
        {
          "output_type": "stream",
          "name": "stdout",
          "text": [
            "CPU times: user 4.33 ms, sys: 108 µs, total: 4.44 ms\n",
            "Wall time: 11.5 ms\n"
          ]
        }
      ]
    },
    {
      "cell_type": "markdown",
      "source": [
        "## Load pickle dataset"
      ],
      "metadata": {
        "id": "5O-If23V6YdQ"
      }
    },
    {
      "cell_type": "markdown",
      "source": [
        "The original train.csv data set is too large (5.85GB) for processing in collab, thus, a more suitable data set that has been compressed and converted from .csv to .pkl.gzip will be used for the time series forecasting purposes.\n",
        "This approach downloads the whole dataset but I will look into ways to change it to dowloading just the single file I need."
      ],
      "metadata": {
        "id": "8QTkGD-Rrat0"
      }
    },
    {
      "cell_type": "code",
      "source": [
        "# Download latest version\n",
        "path = kagglehub.dataset_download(\"rohanrao/riiid-train-data-multiple-formats\")\n",
        "\n",
        "print(\"Path to dataset files:\", path)\n",
        "\n",
        "os.listdir(path)"
      ],
      "metadata": {
        "id": "-XOoVkN2r-TK",
        "outputId": "968008c8-ece4-426a-b169-a8a674bd2a0e",
        "colab": {
          "base_uri": "https://localhost:8080/"
        }
      },
      "execution_count": null,
      "outputs": [
        {
          "output_type": "stream",
          "name": "stdout",
          "text": [
            "Downloading from https://www.kaggle.com/api/v1/datasets/download/rohanrao/riiid-train-data-multiple-formats?dataset_version_number=3...\n"
          ]
        },
        {
          "output_type": "stream",
          "name": "stderr",
          "text": [
            "100%|██████████| 4.17G/4.17G [00:54<00:00, 81.4MB/s]"
          ]
        },
        {
          "output_type": "stream",
          "name": "stdout",
          "text": [
            "Extracting files...\n"
          ]
        },
        {
          "output_type": "stream",
          "name": "stderr",
          "text": [
            "\n"
          ]
        },
        {
          "output_type": "stream",
          "name": "stdout",
          "text": [
            "Path to dataset files: /root/.cache/kagglehub/datasets/rohanrao/riiid-train-data-multiple-formats/versions/3\n"
          ]
        },
        {
          "output_type": "execute_result",
          "data": {
            "text/plain": [
              "['riiid_train.h5',\n",
              " 'riiid_train.feather',\n",
              " 'riiid_train.jay',\n",
              " 'riiid_train.parquet',\n",
              " 'riiid_train.pkl.gzip']"
            ]
          },
          "metadata": {},
          "execution_count": 9
        }
      ]
    },
    {
      "cell_type": "code",
      "source": [
        "# Load the dataset with memory optimisations\n",
        "\n",
        "# Define column data types to reduce memory usage\n",
        "dtype_mapping_train = {\n",
        "    \"row_id\": \"int32\",\n",
        "    \"timestamp\": \"int32\",\n",
        "    \"user_id\": \"int32\",\n",
        "    \"content_id\": \"int16\",\n",
        "    \"content_type_id\": \"boolean\",\n",
        "    \"task_container_id\": \"int16\",\n",
        "    \"user_answer\": \"int8\",\n",
        "    \"answered_correctly\": \"int8\",\n",
        "    \"prior_question_elapsed_time\": \"float32\",\n",
        "    \"prior_question_had_explanation\": \"boolean\"\n",
        "}\n",
        "\n",
        "# Define which colums to use\n",
        "usecols_train=[1, 2, 3, 4, 5, 7, 8, 9],"
      ],
      "metadata": {
        "id": "bKdEgs6I6hrR"
      },
      "execution_count": null,
      "outputs": []
    },
    {
      "cell_type": "code",
      "source": [
        "%%time\n",
        "\n",
        "# Load the dataset with optimised datatypes\n",
        "train_df = pd.read_pickle(f\"{path}/riiid_train.pkl.gzip\", dtype=dtype_mapping, usecols=usecols_train)"
      ],
      "metadata": {
        "id": "HN_bieIUt60N",
        "outputId": "1e5eafe9-096f-4a6a-dd29-994126a49328",
        "colab": {
          "base_uri": "https://localhost:8080/"
        }
      },
      "execution_count": null,
      "outputs": [
        {
          "output_type": "stream",
          "name": "stdout",
          "text": [
            "CPU times: user 2.88 s, sys: 8.79 s, total: 11.7 s\n",
            "Wall time: 26.1 s\n"
          ]
        }
      ]
    },
    {
      "cell_type": "markdown",
      "source": [
        "Drop row_id column"
      ],
      "metadata": {
        "id": "PELNY9O9e6CU"
      }
    },
    {
      "cell_type": "code",
      "source": [
        "# Check mememory usage before optimisation\n",
        "def memory_usage(df):\n",
        "    return f\"{df.memory_usage(deep=True).sum() / 1024 ** 2:.2f} MB\"\n",
        "\n",
        "print(f\"Dataset shape: {train_df.shape}\")\n",
        "print(f\"Memory usage before optimisation: {memory_usage(train_df)}\")"
      ],
      "metadata": {
        "id": "pSchVCjme5SL"
      },
      "execution_count": null,
      "outputs": []
    },
    {
      "cell_type": "code",
      "source": [
        "# Drop the row_id column to save memory\n",
        "train_df.drop('row_id', axis=1, inplace=True) # axis=1 for columns, axis=0 for rows, inplace=True  modifies original df\n",
        "\n",
        "# Check memory usage after dropping row_id\n",
        "print(f\"Memory usage after dropping row_id: {memory_usage(train_df)}\")"
      ],
      "metadata": {
        "id": "iJqy82RXf1vX"
      },
      "execution_count": null,
      "outputs": []
    },
    {
      "cell_type": "markdown",
      "source": [
        "Load in batches (chunks)"
      ],
      "metadata": {
        "id": "QApuu9EZiAvp"
      }
    },
    {
      "cell_type": "code",
      "source": [
        "# Process the large dataset in chunks\n",
        "chunksize = 1_000_000 # Load 1 million rows at a time\n",
        "df_list = [] # List to store individual chunks\n",
        "\n",
        "for chunk in pd.read_csv(f\"{path}/riiid_train.csv\", chunksize=chunksize, dtype=dtype_mapping):\n",
        "    df_list.append(chunk)\n",
        "\n",
        "# Concatenate all chunks into a single DataFrame\n",
        "train_df = pd.concat(df_list, ignore_index=True)"
      ],
      "metadata": {
        "id": "3Pt8XbPYiE98"
      },
      "execution_count": null,
      "outputs": []
    },
    {
      "cell_type": "markdown",
      "source": [
        "Enable low_memory=True"
      ],
      "metadata": {
        "id": "9W8P-VcVixdD"
      }
    },
    {
      "cell_type": "code",
      "source": [
        "train_df = pd.read_csv(f\"{path}/riiid_train.csv\", dtype=dtype_mapping, low_memory=True)"
      ],
      "metadata": {
        "id": "F7OTuxw2i1RT"
      },
      "execution_count": null,
      "outputs": []
    },
    {
      "cell_type": "markdown",
      "source": [
        "# EDA"
      ],
      "metadata": {
        "id": "7iME94Fr1EVl"
      }
    },
    {
      "cell_type": "markdown",
      "source": [
        "## Feature exploration"
      ],
      "metadata": {
        "id": "LqfXZBse7ray"
      }
    },
    {
      "cell_type": "markdown",
      "source": [
        "### train"
      ],
      "metadata": {
        "id": "EV4Ioz4kDAyo"
      }
    },
    {
      "cell_type": "markdown",
      "source": [
        "The 'timestamp' variable has values as high as 87 billion miliseconds which tells me nothing so I decided to convert it to days to get a better perspective on what that means for the dataset."
      ],
      "metadata": {
        "id": "_s1ghqFT1wxb"
      }
    },
    {
      "cell_type": "code",
      "source": [
        "max_timestamp = train_df['timestamp'].max()\n",
        "max_days = max_timestamp / (1000 * 60 * 60 * 24)  # Convert milliseconds to days\n",
        "print(f\"Maximum timestamp in days: {max_days}\")"
      ],
      "metadata": {
        "colab": {
          "base_uri": "https://localhost:8080/"
        },
        "id": "1wrcgJRL1ekX",
        "outputId": "945eec47-9883-4e21-9c47-470670e3f027"
      },
      "execution_count": null,
      "outputs": [
        {
          "output_type": "stream",
          "name": "stdout",
          "text": [
            "Maximum timestamp in days: 1011.8723616782407\n"
          ]
        }
      ]
    },
    {
      "cell_type": "markdown",
      "source": [
        "So thats about 2 and 3/4 of a year between interactions for the particular user so will have to explore if that is quite unique in the dataset and could be considered an outlier or if the time data really spans that much in general."
      ],
      "metadata": {
        "id": "-7SzeXSa2Rvl"
      }
    },
    {
      "cell_type": "markdown",
      "source": [
        "How many unique users in the dataset?"
      ],
      "metadata": {
        "id": "fezpKAyV3CvL"
      }
    },
    {
      "cell_type": "code",
      "source": [
        "num_unique_users = train_df['user_id'].nunique()\n",
        "print(f\"Number of unique users: {num_unique_users}\")"
      ],
      "metadata": {
        "colab": {
          "base_uri": "https://localhost:8080/"
        },
        "id": "uHXNzym-2RRG",
        "outputId": "3da8bdee-a16b-4654-edf6-0044ea694df8"
      },
      "execution_count": null,
      "outputs": [
        {
          "output_type": "stream",
          "name": "stdout",
          "text": [
            "Number of unique users: 393656\n"
          ]
        }
      ]
    },
    {
      "cell_type": "markdown",
      "source": [
        "The 'content_id' is basically an 'question_id' form question.csv or 'lecture_id' from lecture.csv datasets and then the 'content_type_id' defines which one of these is it in the train.pkl.gzip dataset.\n",
        "\n",
        "It's boolean where False means if the event was a question being posed to the user, 1 if the event was the user watching a lecture."
      ],
      "metadata": {
        "id": "KYJz2hGe36TI"
      }
    },
    {
      "cell_type": "code",
      "source": [
        "train_df.content_type_id.value_counts()"
      ],
      "metadata": {
        "colab": {
          "base_uri": "https://localhost:8080/",
          "height": 178
        },
        "id": "RzShS3f34xl3",
        "outputId": "94901353-8e7f-431e-98d5-d82e88a4e0a8"
      },
      "execution_count": null,
      "outputs": [
        {
          "output_type": "execute_result",
          "data": {
            "text/plain": [
              "content_type_id\n",
              "False    99271300\n",
              "True      1959032\n",
              "Name: count, dtype: int64"
            ],
            "text/html": [
              "<div>\n",
              "<style scoped>\n",
              "    .dataframe tbody tr th:only-of-type {\n",
              "        vertical-align: middle;\n",
              "    }\n",
              "\n",
              "    .dataframe tbody tr th {\n",
              "        vertical-align: top;\n",
              "    }\n",
              "\n",
              "    .dataframe thead th {\n",
              "        text-align: right;\n",
              "    }\n",
              "</style>\n",
              "<table border=\"1\" class=\"dataframe\">\n",
              "  <thead>\n",
              "    <tr style=\"text-align: right;\">\n",
              "      <th></th>\n",
              "      <th>count</th>\n",
              "    </tr>\n",
              "    <tr>\n",
              "      <th>content_type_id</th>\n",
              "      <th></th>\n",
              "    </tr>\n",
              "  </thead>\n",
              "  <tbody>\n",
              "    <tr>\n",
              "      <th>False</th>\n",
              "      <td>99271300</td>\n",
              "    </tr>\n",
              "    <tr>\n",
              "      <th>True</th>\n",
              "      <td>1959032</td>\n",
              "    </tr>\n",
              "  </tbody>\n",
              "</table>\n",
              "</div><br><label><b>dtype:</b> int64</label>"
            ]
          },
          "metadata": {},
          "execution_count": 83
        }
      ]
    },
    {
      "cell_type": "code",
      "source": [
        "num_unique_content = train_df['content_id'].nunique()\n",
        "print(f\"Number of unique content: {num_unique_content}\")\n",
        "\n",
        "# Calculate and print unique questions and lectures in one line\n",
        "print(f\"Unique questions: {train_df[train_df.content_type_id == False].content_id.nunique()}\\nUnique lectures: {train_df[train_df.content_type_id == True].content_id.nunique()}\")"
      ],
      "metadata": {
        "colab": {
          "base_uri": "https://localhost:8080/"
        },
        "id": "BTij-tRW579c",
        "outputId": "6fee9779-1eba-40fb-c187-6a5abf24d43a"
      },
      "execution_count": null,
      "outputs": [
        {
          "output_type": "stream",
          "name": "stdout",
          "text": [
            "Number of unique content: 13782\n",
            "Unique questions: 13523\n",
            "Unique lectures: 415\n"
          ]
        }
      ]
    },
    {
      "cell_type": "markdown",
      "source": [
        "It seems that users are given questions in containers and then seeing explanations for them and potentially answers which then may hekp with answering the next batch of questions."
      ],
      "metadata": {
        "id": "4h77uSuu8FWX"
      }
    },
    {
      "cell_type": "code",
      "source": [
        "unique_task_container = train_df['task_container_id'].nunique()\n",
        "print(f\"Number of unique task containers: {unique_task_container}\")"
      ],
      "metadata": {
        "colab": {
          "base_uri": "https://localhost:8080/"
        },
        "id": "Zv7-u1Wc8iIn",
        "outputId": "4b3c8769-1dfe-476a-f348-ba5150867f06"
      },
      "execution_count": null,
      "outputs": [
        {
          "output_type": "stream",
          "name": "stdout",
          "text": [
            "Number of unique task containers: 10000\n"
          ]
        }
      ]
    },
    {
      "cell_type": "markdown",
      "source": [
        "The variable 'user_answer' refers to what choice they picked out of multiple answer questions, numbers 0-3 refer to 4 choices, and number -1 means they engaged with a lecture instead."
      ],
      "metadata": {
        "id": "EwPRSJ-f9iiY"
      }
    },
    {
      "cell_type": "code",
      "source": [
        "train_df.user_answer.value_counts()"
      ],
      "metadata": {
        "colab": {
          "base_uri": "https://localhost:8080/",
          "height": 272
        },
        "id": "2uZ5c911-FmX",
        "outputId": "4535388e-0ec3-4ebf-e7ee-25da942486e9"
      },
      "execution_count": null,
      "outputs": [
        {
          "output_type": "execute_result",
          "data": {
            "text/plain": [
              "user_answer\n",
              " 0    28186489\n",
              " 1    26990007\n",
              " 3    26084784\n",
              " 2    18010020\n",
              "-1     1959032\n",
              "Name: count, dtype: int64"
            ],
            "text/html": [
              "<div>\n",
              "<style scoped>\n",
              "    .dataframe tbody tr th:only-of-type {\n",
              "        vertical-align: middle;\n",
              "    }\n",
              "\n",
              "    .dataframe tbody tr th {\n",
              "        vertical-align: top;\n",
              "    }\n",
              "\n",
              "    .dataframe thead th {\n",
              "        text-align: right;\n",
              "    }\n",
              "</style>\n",
              "<table border=\"1\" class=\"dataframe\">\n",
              "  <thead>\n",
              "    <tr style=\"text-align: right;\">\n",
              "      <th></th>\n",
              "      <th>count</th>\n",
              "    </tr>\n",
              "    <tr>\n",
              "      <th>user_answer</th>\n",
              "      <th></th>\n",
              "    </tr>\n",
              "  </thead>\n",
              "  <tbody>\n",
              "    <tr>\n",
              "      <th>0</th>\n",
              "      <td>28186489</td>\n",
              "    </tr>\n",
              "    <tr>\n",
              "      <th>1</th>\n",
              "      <td>26990007</td>\n",
              "    </tr>\n",
              "    <tr>\n",
              "      <th>3</th>\n",
              "      <td>26084784</td>\n",
              "    </tr>\n",
              "    <tr>\n",
              "      <th>2</th>\n",
              "      <td>18010020</td>\n",
              "    </tr>\n",
              "    <tr>\n",
              "      <th>-1</th>\n",
              "      <td>1959032</td>\n",
              "    </tr>\n",
              "  </tbody>\n",
              "</table>\n",
              "</div><br><label><b>dtype:</b> int64</label>"
            ]
          },
          "metadata": {},
          "execution_count": 91
        }
      ]
    },
    {
      "cell_type": "markdown",
      "source": [
        "The count for -1 (lectures) checks with the count in 'content_type_id'."
      ],
      "metadata": {
        "id": "HQnBARMN-RV5"
      }
    },
    {
      "cell_type": "markdown",
      "source": [
        "The variable 'answered_correctly' tells us if users got the question right(1) or wrong(0), or if they engaged with a lecture instead(-1). This is also the target variable for this analysis."
      ],
      "metadata": {
        "id": "ZzCNgDML-giO"
      }
    },
    {
      "cell_type": "code",
      "source": [
        "answered_correctly_counts = train_df.answered_correctly.value_counts()"
      ],
      "metadata": {
        "colab": {
          "base_uri": "https://localhost:8080/",
          "height": 144
        },
        "id": "BKq9LVEM_uni",
        "outputId": "52ee14f0-dad4-45e3-a46c-034bdedf660f"
      },
      "execution_count": null,
      "outputs": [
        {
          "output_type": "error",
          "ename": "NameError",
          "evalue": "name 'train_df' is not defined",
          "traceback": [
            "\u001b[0;31m---------------------------------------------------------------------------\u001b[0m",
            "\u001b[0;31mNameError\u001b[0m                                 Traceback (most recent call last)",
            "\u001b[0;32m<ipython-input-1-56c127200316>\u001b[0m in \u001b[0;36m<cell line: 0>\u001b[0;34m()\u001b[0m\n\u001b[0;32m----> 1\u001b[0;31m \u001b[0manswered_correctly_counts\u001b[0m \u001b[0;34m=\u001b[0m \u001b[0mtrain_df\u001b[0m\u001b[0;34m.\u001b[0m\u001b[0manswered_correctly\u001b[0m\u001b[0;34m.\u001b[0m\u001b[0mvalue_counts\u001b[0m\u001b[0;34m(\u001b[0m\u001b[0;34m)\u001b[0m\u001b[0;34m\u001b[0m\u001b[0;34m\u001b[0m\u001b[0m\n\u001b[0m",
            "\u001b[0;31mNameError\u001b[0m: name 'train_df' is not defined"
          ]
        }
      ]
    },
    {
      "cell_type": "code",
      "source": [
        "# Create a DataFrame for plotting\n",
        "plot_df = pd.DataFrame({'answered_correctly': answered_correctly_counts.index,\n",
        "                        'count': answered_correctly_counts.values})\n",
        "\n",
        "plt.figure(figsize=(8, 6))\n",
        "sns.barplot(data=plot_df, x='answered_correctly', y='count')\n",
        "plt.title('Distribution of answered_correctly (Full Dataset)')\n",
        "plt.xticks(rotation=45, ha='right')\n",
        "plt.show()"
      ],
      "metadata": {
        "id": "iRPGtkjMKy7u"
      },
      "execution_count": null,
      "outputs": []
    },
    {
      "cell_type": "code",
      "source": [
        "plt.figure(figsize=(8, 6))  # Adjust figure size if needed\n",
        "sns.countplot(data=train_df, x='answered_correctly')\n",
        "plt.title('Distribution of answered_correctly')  # Add a title for clarity\n",
        "plt.xticks(rotation=45, ha='right')  # Rotate x-axis labels if they overlap\n",
        "plt.show()"
      ],
      "metadata": {
        "id": "lhjXdfK7J3a5"
      },
      "execution_count": null,
      "outputs": []
    },
    {
      "cell_type": "markdown",
      "source": [
        "The maxiumum elapsed time since last question asked could also potentially have some outliers where people don't finish the container or leave the device withiut answering the question."
      ],
      "metadata": {
        "id": "lfYCjby0AHUD"
      }
    },
    {
      "cell_type": "code",
      "source": [
        "max_elapsed_time = train_df['prior_question_elapsed_time'].max()\n",
        "max_minutes = max_elapsed_time / 60000  # Convert milliseconds to minutes\n",
        "print(f\"Maximum elapsed time: {max_minutes}\")"
      ],
      "metadata": {
        "colab": {
          "base_uri": "https://localhost:8080/"
        },
        "id": "l853JX_NBG8Y",
        "outputId": "fa65cb6c-a224-4613-ca30-7ee969de4a73"
      },
      "execution_count": null,
      "outputs": [
        {
          "output_type": "stream",
          "name": "stdout",
          "text": [
            "Maximum elapsed time: 5.0\n"
          ]
        }
      ]
    },
    {
      "cell_type": "markdown",
      "source": [
        "There probably is a cut off at 5 minutes per question."
      ],
      "metadata": {
        "id": "Yobou3seCGyR"
      }
    },
    {
      "cell_type": "markdown",
      "source": [
        "The last variable in the dataset is probably going to be quite imporatant to compare to predicting if the answers to questions were correct. It states in the description that in the beginning the questions asked were onboarding Qs so there wouldnt be feedback but as a student would progress on the platform they would be given some."
      ],
      "metadata": {
        "id": "3kb0gFrsCL3W"
      }
    },
    {
      "cell_type": "code",
      "source": [
        "train_df.prior_question_had_explanation.value_counts()\n"
      ],
      "metadata": {
        "colab": {
          "base_uri": "https://localhost:8080/",
          "height": 178
        },
        "id": "ylwjUyRjDGiv",
        "outputId": "3550e457-6ea4-4dc8-a95d-24e6cd43ef67"
      },
      "execution_count": null,
      "outputs": [
        {
          "output_type": "execute_result",
          "data": {
            "text/plain": [
              "prior_question_had_explanation\n",
              "True     89685560\n",
              "False    11152266\n",
              "Name: count, dtype: Int64"
            ],
            "text/html": [
              "<div>\n",
              "<style scoped>\n",
              "    .dataframe tbody tr th:only-of-type {\n",
              "        vertical-align: middle;\n",
              "    }\n",
              "\n",
              "    .dataframe tbody tr th {\n",
              "        vertical-align: top;\n",
              "    }\n",
              "\n",
              "    .dataframe thead th {\n",
              "        text-align: right;\n",
              "    }\n",
              "</style>\n",
              "<table border=\"1\" class=\"dataframe\">\n",
              "  <thead>\n",
              "    <tr style=\"text-align: right;\">\n",
              "      <th></th>\n",
              "      <th>count</th>\n",
              "    </tr>\n",
              "    <tr>\n",
              "      <th>prior_question_had_explanation</th>\n",
              "      <th></th>\n",
              "    </tr>\n",
              "  </thead>\n",
              "  <tbody>\n",
              "    <tr>\n",
              "      <th>True</th>\n",
              "      <td>89685560</td>\n",
              "    </tr>\n",
              "    <tr>\n",
              "      <th>False</th>\n",
              "      <td>11152266</td>\n",
              "    </tr>\n",
              "  </tbody>\n",
              "</table>\n",
              "</div><br><label><b>dtype:</b> Int64</label>"
            ]
          },
          "metadata": {},
          "execution_count": 98
        }
      ]
    },
    {
      "cell_type": "code",
      "source": [
        "percentages = train_df.prior_question_had_explanation.value_counts(normalize=True) * 100\n",
        "percentages"
      ],
      "metadata": {
        "colab": {
          "base_uri": "https://localhost:8080/",
          "height": 178
        },
        "id": "32UDxGZuDaPW",
        "outputId": "08033b84-4b54-4e98-f83e-18a786b61403"
      },
      "execution_count": null,
      "outputs": [
        {
          "output_type": "execute_result",
          "data": {
            "text/plain": [
              "prior_question_had_explanation\n",
              "True     88.940394\n",
              "False    11.059606\n",
              "Name: proportion, dtype: Float64"
            ],
            "text/html": [
              "<div>\n",
              "<style scoped>\n",
              "    .dataframe tbody tr th:only-of-type {\n",
              "        vertical-align: middle;\n",
              "    }\n",
              "\n",
              "    .dataframe tbody tr th {\n",
              "        vertical-align: top;\n",
              "    }\n",
              "\n",
              "    .dataframe thead th {\n",
              "        text-align: right;\n",
              "    }\n",
              "</style>\n",
              "<table border=\"1\" class=\"dataframe\">\n",
              "  <thead>\n",
              "    <tr style=\"text-align: right;\">\n",
              "      <th></th>\n",
              "      <th>proportion</th>\n",
              "    </tr>\n",
              "    <tr>\n",
              "      <th>prior_question_had_explanation</th>\n",
              "      <th></th>\n",
              "    </tr>\n",
              "  </thead>\n",
              "  <tbody>\n",
              "    <tr>\n",
              "      <th>True</th>\n",
              "      <td>88.940394</td>\n",
              "    </tr>\n",
              "    <tr>\n",
              "      <th>False</th>\n",
              "      <td>11.059606</td>\n",
              "    </tr>\n",
              "  </tbody>\n",
              "</table>\n",
              "</div><br><label><b>dtype:</b> Float64</label>"
            ]
          },
          "metadata": {},
          "execution_count": 100
        }
      ]
    },
    {
      "cell_type": "markdown",
      "source": [
        "### questions"
      ],
      "metadata": {
        "id": "dkqIV0vhDHJa"
      }
    },
    {
      "cell_type": "markdown",
      "source": [
        "question_id - How many unique questions in the dataset?"
      ],
      "metadata": {
        "id": "U7wkqX08DMt5"
      }
    },
    {
      "cell_type": "code",
      "source": [
        "num_unique_questions = questions_df['question_id'].nunique()\n",
        "print(f\"Number of unique questions: {num_unique_questions}\")"
      ],
      "metadata": {
        "colab": {
          "base_uri": "https://localhost:8080/"
        },
        "outputId": "3da8bdee-a16b-4654-edf6-0044ea694df8",
        "id": "VGbmEjlSGCAE"
      },
      "execution_count": null,
      "outputs": [
        {
          "output_type": "stream",
          "name": "stdout",
          "text": [
            "Number of unique users: 393656\n"
          ]
        }
      ]
    },
    {
      "cell_type": "markdown",
      "source": [
        "bundle_id - How many unique question bundles in the dataset?"
      ],
      "metadata": {
        "id": "X-lqL9RbFccN"
      }
    },
    {
      "cell_type": "code",
      "source": [
        "num_unique_bundles = questions_df['bundle_id'].nunique()\n",
        "print(f\"Number of unique question bundles: {num_unique_bundles}\")"
      ],
      "metadata": {
        "id": "2A8Qx7zOG1SF"
      },
      "execution_count": null,
      "outputs": []
    },
    {
      "cell_type": "markdown",
      "source": [
        "correct_answer"
      ],
      "metadata": {
        "id": "QyQnS3LuFduR"
      }
    },
    {
      "cell_type": "code",
      "source": [
        "questions_df.correct_answer.value_counts()"
      ],
      "metadata": {
        "id": "wPpljnhBIQ0s"
      },
      "execution_count": null,
      "outputs": []
    },
    {
      "cell_type": "markdown",
      "source": [
        "part - TOEIC test"
      ],
      "metadata": {
        "id": "SpBmCNazFgkC"
      }
    },
    {
      "cell_type": "code",
      "source": [
        "questions_df.part.value_counts()"
      ],
      "metadata": {
        "id": "7SX_U7nbGmEX"
      },
      "execution_count": null,
      "outputs": []
    },
    {
      "cell_type": "markdown",
      "source": [
        "tags"
      ],
      "metadata": {
        "id": "cwxOfhYZFjDr"
      }
    },
    {
      "cell_type": "code",
      "source": [
        "num_unique_tags = questions_df['tag'].nunique()\n",
        "print(f\"Number of unique tags: {num_unique_tags}\")"
      ],
      "metadata": {
        "id": "s6kn6AfjIKoJ"
      },
      "execution_count": null,
      "outputs": []
    },
    {
      "cell_type": "markdown",
      "source": [
        "### lectures"
      ],
      "metadata": {
        "id": "dMr5l2bRDKMd"
      }
    },
    {
      "cell_type": "markdown",
      "source": [
        "lecture_id - How many unique lectures in the dataset?"
      ],
      "metadata": {
        "id": "Wj6HZZ1WFkWM"
      }
    },
    {
      "cell_type": "code",
      "source": [
        "num_unique_lectures = lectures_df['lecture_id'].nunique()\n",
        "print(f\"Number of unique lectures: {num_unique_lectures}\")"
      ],
      "metadata": {
        "colab": {
          "base_uri": "https://localhost:8080/"
        },
        "outputId": "3da8bdee-a16b-4654-edf6-0044ea694df8",
        "id": "fWTR2rYwGDWC"
      },
      "execution_count": null,
      "outputs": [
        {
          "output_type": "stream",
          "name": "stdout",
          "text": [
            "Number of unique users: 393656\n"
          ]
        }
      ]
    },
    {
      "cell_type": "markdown",
      "source": [
        "part - TOEIC test"
      ],
      "metadata": {
        "id": "NBRE4tO-Flnt"
      }
    },
    {
      "cell_type": "code",
      "source": [
        "lectures_df.part.value_counts()"
      ],
      "metadata": {
        "id": "T3F2OGfXGsHG"
      },
      "execution_count": null,
      "outputs": []
    },
    {
      "cell_type": "markdown",
      "source": [
        "tag"
      ],
      "metadata": {
        "id": "qV31I1vGFnIT"
      }
    },
    {
      "cell_type": "code",
      "source": [
        "num_unique_tags = lectures_df['tag'].nunique()\n",
        "print(f\"Number of unique tags: {num_unique_tags}\")"
      ],
      "metadata": {
        "id": "5wHnWlPmH5uf"
      },
      "execution_count": null,
      "outputs": []
    },
    {
      "cell_type": "markdown",
      "source": [
        "type_of"
      ],
      "metadata": {
        "id": "IIrZBP1qFoD-"
      }
    },
    {
      "cell_type": "code",
      "source": [
        "lectures_df.type_of.value_counts()"
      ],
      "metadata": {
        "id": "PTvlukvKH1rX"
      },
      "execution_count": null,
      "outputs": []
    },
    {
      "cell_type": "markdown",
      "source": [
        "## Visualisations"
      ],
      "metadata": {
        "id": "AAS35wzw74yP"
      }
    },
    {
      "cell_type": "markdown",
      "source": [
        "### Functions"
      ],
      "metadata": {
        "id": "lDR6G8zx9U3J"
      }
    },
    {
      "cell_type": "markdown",
      "source": [
        "KDE plot"
      ],
      "metadata": {
        "id": "HX6DWnlK_9DF"
      }
    },
    {
      "cell_type": "code",
      "source": [
        "def plot_kde(data, column, hue=None, title=None):\n",
        "    \"\"\"\n",
        "    Creates a simple KDE plot for a specified column.\n",
        "\n",
        "    Parameters:\n",
        "    - data: Pandas DataFrame\n",
        "    - column: Column name to plot\n",
        "    - hue: Optional categorical column for grouping\n",
        "    - title: Optional plot title\n",
        "    \"\"\"\n",
        "    plt.figure(figsize=(8, 5)) # Create a 'canvas' to draw the plot onto\n",
        "    # plt.figure(figsize=figsize) - alternate code if parameter given in function call\n",
        "    sns.kdeplot(data=data, x=column, hue=hue, fill=True) # create KDE plot\n",
        "    # df, column, split into categories if provided, fill area under line with colour\n",
        "\n",
        "    # Custom labels and title\n",
        "    plt.xlabel(column) # horizontal line label\n",
        "    # plt.xlabel(xlabel if xlabel else column) - alternate code to add label\n",
        "    plt.ylabel(\"Density\") # vertical line label\n",
        "    if title:\n",
        "        plt.title(title) # add title to plot if provided in function call\n",
        "\n",
        "    plt.show() # display plot\n",
        "\n",
        "# Example usage:\n",
        "# plot_kde(df, 'column_name', hue='category_column', title='KDE Plot')\n",
        "\n",
        "# additional parameters:\n",
        "# bw_adjust=1, color=None, xlabel=None, ylabel=\"Density\", figsize=(8, 5)\n",
        " \"\"\"\n",
        "    Parameters:\n",
        "    - bw_adjust: Bandwidth adjustment factor (default=1).\n",
        "    - color: Optional color for the KDE curve.\n",
        "    - xlabel: Optional x-axis label.\n",
        "    - ylabel: Y-axis label (default=\"Density\").\n",
        "    - figsize: Tuple defining the figure size (default=(8,5)).\n",
        "    \"\"\""
      ],
      "metadata": {
        "id": "_JrEzQ6VmwQL"
      },
      "execution_count": null,
      "outputs": []
    },
    {
      "cell_type": "markdown",
      "source": [
        "Bar plot"
      ],
      "metadata": {
        "id": "pvX4I0an_-2e"
      }
    },
    {
      "cell_type": "code",
      "source": [
        "def plot_bar(data, x, y=None, title=None):\n",
        "    \"\"\"\n",
        "    Creates a customizable bar plot.\n",
        "\n",
        "    Parameters:\n",
        "    - data: Pandas DataFrame containing the data.\n",
        "    - x: Column name for the x-axis categories.\n",
        "    - y: Optional column name for the y-axis values (if None, counts are used).\n",
        "    - hue: Optional column for grouping (creates grouped bars).\n",
        "    - color: Optional color for the bars.\n",
        "    - title: Optional title for the plot.\n",
        "    - xlabel: Optional x-axis label (default uses x column name).\n",
        "    - ylabel: Optional y-axis label (default uses y column name or \"Count\").\n",
        "    - figsize: Tuple defining the figure size (default=(8,5)).\n",
        "    \"\"\"\n",
        "    plt.figure(figsize=(8, 5)) # Create a 'canvas' to draw the plot onto\n",
        "    # plt.figure(figsize=figsize) - alternate code if parameter given in function call\n",
        "\n",
        "    # Create either a value plot or count plot\n",
        "    # If y is provided, plot values; otherwise plot counts\n",
        "    if y:\n",
        "        sns.barplot(data=data, x=x, y=y, hue=hue, color=color)\n",
        "    else:\n",
        "        sns.countplot(data=data, x=x, hue=hue, color=color)\n",
        "\n",
        "    # Custom labels and title\n",
        "    plt.xlabel(x) # horizontal line label\n",
        "    # plt.xlabel(xlabel if xlabel else x) - alternate code to add label\n",
        "    plt.ylabel(y if y else \"Count\") # vertical line label\n",
        "    if title:\n",
        "        plt.title(title) # add title to plot if provided in function call\n",
        "\n",
        "    # Rotate x-axis labels if there are many categories to prevent label overlap\n",
        "    plt.xticks(rotation=45, ha='right')\n",
        "    plt.tight_layout() # adjusts the plot padding to ensure all labels fit within the figure without being cut off\n",
        "\n",
        "    plt.show() # display plot\n",
        "\n",
        "# Example usage:\n",
        "# plot_bar(df, x='category_column')                       # Simple count plot\n",
        "# plot_bar(df, x='category_column', y='value_column')     # Value-based bar plot\n",
        "# plot_bar(df, x='category_column', hue='group_column')   # Grouped bar plot\n",
        "\n",
        "# additional parameters:\n",
        "# hue=None, color=None, xlabel=None, ylabel=None, figsize=(8, 5)\n",
        "    \"\"\"\n",
        "    Parameters:\n",
        "    - hue: Optional column for grouping (creates grouped bars).\n",
        "    - color: Optional color for the bars.\n",
        "    - xlabel: Optional x-axis label (default uses x column name).\n",
        "    - ylabel: Optional y-axis label (default uses y column name or \"Count\").\n",
        "    - figsize: Tuple defining the figure size (default=(8,5)).\n",
        "    \"\"\""
      ],
      "metadata": {
        "id": "m4LwJag1ka4n"
      },
      "execution_count": null,
      "outputs": []
    },
    {
      "cell_type": "markdown",
      "source": [
        "### timestamp and prior_question_elapsed_time"
      ],
      "metadata": {
        "id": "BIy46oxO9uj9"
      }
    },
    {
      "cell_type": "code",
      "source": [
        "plot_kde(train_df, 'timestamp', hue=None, title=None)"
      ],
      "metadata": {
        "id": "ICyQmkEt93BC"
      },
      "execution_count": null,
      "outputs": []
    },
    {
      "cell_type": "code",
      "source": [
        "plot_kde(train_df, 'prior_question_elapsed_time', hue=None, title=None)"
      ],
      "metadata": {
        "id": "z5u3kAcB-MqN"
      },
      "execution_count": null,
      "outputs": []
    },
    {
      "cell_type": "markdown",
      "source": [
        "### user_id, content_id and task_container_id"
      ],
      "metadata": {
        "id": "jy3fs1e4_Gk_"
      }
    },
    {
      "cell_type": "code",
      "source": [
        "plot_kde(train_df, 'user_id', hue=None, title=None)"
      ],
      "metadata": {
        "id": "cb8vYDej_UqO"
      },
      "execution_count": null,
      "outputs": []
    },
    {
      "cell_type": "code",
      "source": [
        "plot_kde(train_df, 'content_id', hue=None, title=None)"
      ],
      "metadata": {
        "id": "3Vb2Eod__W8V"
      },
      "execution_count": null,
      "outputs": []
    },
    {
      "cell_type": "code",
      "source": [
        "plot_kde(train_df, 'task_container_id', hue=None, title=None)"
      ],
      "metadata": {
        "id": "Ogs8ebxd_XiX"
      },
      "execution_count": null,
      "outputs": []
    },
    {
      "cell_type": "markdown",
      "source": [
        "### content_type_id, answered_correctly and prior_question_had_explanation"
      ],
      "metadata": {
        "id": "FDPMuNq6_tTm"
      }
    },
    {
      "cell_type": "code",
      "source": [
        "plot_bar(train_df, x='content_type_id', y=None, title=None)"
      ],
      "metadata": {
        "id": "YTAeO1XVALVs"
      },
      "execution_count": null,
      "outputs": []
    },
    {
      "cell_type": "code",
      "source": [
        "plot_bar(train_df, x='answered_correctly', y=None, title=None)"
      ],
      "metadata": {
        "id": "wnADwD4fA2n0"
      },
      "execution_count": null,
      "outputs": []
    },
    {
      "cell_type": "code",
      "source": [
        "plot_bar(train_df, x='prior_question_had_explanation', y=None, title=None)"
      ],
      "metadata": {
        "id": "3cE_ayyYA3hd"
      },
      "execution_count": null,
      "outputs": []
    },
    {
      "cell_type": "markdown",
      "source": [
        "### question_id, bundle_id and tags"
      ],
      "metadata": {
        "id": "xFE3r0ciCIAE"
      }
    },
    {
      "cell_type": "code",
      "source": [
        "plot_kde(questions_df, 'question_id', hue=None, title=None)"
      ],
      "metadata": {
        "id": "s4mrV8I6Cp4t"
      },
      "execution_count": null,
      "outputs": []
    },
    {
      "cell_type": "code",
      "source": [
        "plot_kde(questions_df, 'bundle_id', hue=None, title=None)"
      ],
      "metadata": {
        "id": "Gj2lu1vQC3t4"
      },
      "execution_count": null,
      "outputs": []
    },
    {
      "cell_type": "code",
      "source": [
        "plot_kde(questions_df, 'tags', hue=None, title=None)"
      ],
      "metadata": {
        "id": "emAeSgTtC4DL"
      },
      "execution_count": null,
      "outputs": []
    },
    {
      "cell_type": "markdown",
      "source": [
        "### correct_answer and part"
      ],
      "metadata": {
        "id": "vvp-ZetxCSBr"
      }
    },
    {
      "cell_type": "code",
      "source": [
        "plot_bar(questions_df, x='correct_answer', y=None, title=None)"
      ],
      "metadata": {
        "id": "aK-_zZdeC6Uh"
      },
      "execution_count": null,
      "outputs": []
    },
    {
      "cell_type": "code",
      "source": [
        "plot_bar(questions_df, x='part', y=None, title=None)"
      ],
      "metadata": {
        "id": "te3hfXr8DX1n"
      },
      "execution_count": null,
      "outputs": []
    },
    {
      "cell_type": "markdown",
      "source": [
        "### lecture_id and tags"
      ],
      "metadata": {
        "id": "FUn6vtxLCZv9"
      }
    },
    {
      "cell_type": "code",
      "source": [
        "plot_kde(lectures_df, 'lecture_id', hue=None, title=None)"
      ],
      "metadata": {
        "id": "vyhiwnzSDm-W"
      },
      "execution_count": null,
      "outputs": []
    },
    {
      "cell_type": "code",
      "source": [
        "plot_kde(lectures_df, 'tags', hue=None, title=None)"
      ],
      "metadata": {
        "id": "x-d1PELiDs2_"
      },
      "execution_count": null,
      "outputs": []
    },
    {
      "cell_type": "markdown",
      "source": [
        "### part and type_of"
      ],
      "metadata": {
        "id": "HbWmNMRwCke0"
      }
    },
    {
      "cell_type": "code",
      "source": [
        "plot_bar(lectures_df, x='part', y=None, title=None)"
      ],
      "metadata": {
        "id": "qiQoNkfpDazu"
      },
      "execution_count": null,
      "outputs": []
    },
    {
      "cell_type": "code",
      "source": [
        "plot_bar(lectures_df, x='type_of', y=None, title=None)"
      ],
      "metadata": {
        "id": "c8uG_3nzDj2a"
      },
      "execution_count": null,
      "outputs": []
    },
    {
      "cell_type": "markdown",
      "source": [
        "## Correlation"
      ],
      "metadata": {
        "id": "vMLYAC-5BSPM"
      }
    },
    {
      "cell_type": "markdown",
      "source": [
        "### Functions"
      ],
      "metadata": {
        "id": "BzAUj3E2Bbsp"
      }
    },
    {
      "cell_type": "code",
      "source": [
        "def plot_heatmap(data, annot=True, cmap=\"viridis\", title=None, xlabel=None, ylabel=None):\n",
        "    \"\"\"\n",
        "    Creates a customizable heatmap.\n",
        "\n",
        "    Parameters:\n",
        "    - data: DataFrame or 2D array to visualize as heatmap.\n",
        "    - annot: Whether to annotate cells with values (default=True).\n",
        "    - cmap: Colormap name or object (default=\"viridis\").\n",
        "    - title: Optional title for the plot.\n",
        "    - xlabel: Optional x-axis label.\n",
        "    - ylabel: Optional y-axis label.\n",
        "    \"\"\"\n",
        "    plt.figure(figsize=(8, 5)) # Create a 'canvas' to draw the plot onto\n",
        "    # plt.figure(figsize=figsize) - alternate code if parameter given in function call\n",
        "\n",
        "    # Create the heatmap\n",
        "    heatmap = sns.heatmap(data, annot=annot, cmap=cmap)\n",
        "\n",
        "    # Custom labels and title\n",
        "    if xlabel:\n",
        "        plt.xlabel(xlabel) # horizontal line label\n",
        "    if ylabel:\n",
        "        plt.ylabel(ylabel) # vertical line label\n",
        "    if title:\n",
        "        plt.title(title) # add title to plot if provided in function call\n",
        "\n",
        "    plt.tight_layout() # adjusts the plot padding to ensure all labels fit within the figure without being cut off\n",
        "    plt.show() # display plot\n",
        "\n",
        "    return heatmap # return the heatmap object for further customization if needed\n",
        "\n",
        "# Example usage:\n",
        "# plot_heatmap(df.corr())                             # Correlation heatmap\n",
        "# plot_heatmap(pivot_table, cmap=\"YlOrRd\", fmt=\".0f\") # Custom colored heatmap\n",
        "# mask = np.triu(np.ones_like(df.corr(), dtype=bool)) # Upper triangle mask\n",
        "# plot_heatmap(df.corr(), mask=mask, cmap=\"coolwarm\") # Masked heatmap\n",
        "\n",
        "    # additional parameters\n",
        "    # center=None, robust=False, mask=None, figsize=(10, 8), vmin=None, vmax=None, fmt=\".2f\", linewidths=0, cbar=True\n",
        "    \"\"\"\n",
        "    Parameters:\n",
        "    - center: Value to center the colormap at (useful for diverging data).\n",
        "    - robust: If True, compute colormap bounds from robust percentiles.\n",
        "    - mask: Boolean array or DataFrame to mask cells (True = hidden).\n",
        "    - figsize: Tuple defining the figure size (default=(10,8)).\n",
        "    - vmin, vmax: Limits for the colormap.\n",
        "    - fmt: String formatting for annotations.\n",
        "    - linewidths: Width of lines between cells.\n",
        "    - cbar: Whether to draw a colorbar.\n",
        "    \"\"\""
      ],
      "metadata": {
        "id": "OiZJ-JVWScrb"
      },
      "execution_count": null,
      "outputs": []
    },
    {
      "cell_type": "markdown",
      "source": [
        "### Heat map"
      ],
      "metadata": {
        "id": "fk4SF8ATBcQ1"
      }
    },
    {
      "cell_type": "code",
      "source": [],
      "metadata": {
        "id": "k716fQcvHxE0"
      },
      "execution_count": null,
      "outputs": []
    },
    {
      "cell_type": "markdown",
      "source": [
        "## Target variable = answered_correctly"
      ],
      "metadata": {
        "id": "JuFIXHtDHqDo"
      }
    },
    {
      "cell_type": "code",
      "source": [],
      "metadata": {
        "id": "ovBo2kDdB9Ic"
      },
      "execution_count": null,
      "outputs": []
    },
    {
      "cell_type": "markdown",
      "source": [
        "# Feature engineering"
      ],
      "metadata": {
        "id": "rAm_BSnGcpM7"
      }
    },
    {
      "cell_type": "code",
      "source": [],
      "metadata": {
        "id": "BkMS2pU3cobK"
      },
      "execution_count": null,
      "outputs": []
    },
    {
      "cell_type": "markdown",
      "source": [
        "## Missing values"
      ],
      "metadata": {
        "id": "FZFAPvEScvsj"
      }
    },
    {
      "cell_type": "markdown",
      "source": [
        "### train.pkl.gzip"
      ],
      "metadata": {
        "id": "PWKP7BSno5FA"
      }
    },
    {
      "cell_type": "code",
      "source": [
        "missing_values = train_df.isna().sum().to_frame('missing_values')\n",
        "missing_values"
      ],
      "metadata": {
        "colab": {
          "base_uri": "https://localhost:8080/",
          "height": 363
        },
        "id": "7qheP2wrc5SW",
        "outputId": "10e3349e-484a-4978-b360-0456ec23a434"
      },
      "execution_count": null,
      "outputs": [
        {
          "output_type": "execute_result",
          "data": {
            "text/plain": [
              "                                missing_values\n",
              "row_id                                       0\n",
              "timestamp                                    0\n",
              "user_id                                      0\n",
              "content_id                                   0\n",
              "content_type_id                              0\n",
              "task_container_id                            0\n",
              "user_answer                                  0\n",
              "answered_correctly                           0\n",
              "prior_question_elapsed_time            2351538\n",
              "prior_question_had_explanation          392506"
            ],
            "text/html": [
              "\n",
              "  <div id=\"df-d3044dd1-233b-4f54-ac96-59b109aa3c6a\" class=\"colab-df-container\">\n",
              "    <div>\n",
              "<style scoped>\n",
              "    .dataframe tbody tr th:only-of-type {\n",
              "        vertical-align: middle;\n",
              "    }\n",
              "\n",
              "    .dataframe tbody tr th {\n",
              "        vertical-align: top;\n",
              "    }\n",
              "\n",
              "    .dataframe thead th {\n",
              "        text-align: right;\n",
              "    }\n",
              "</style>\n",
              "<table border=\"1\" class=\"dataframe\">\n",
              "  <thead>\n",
              "    <tr style=\"text-align: right;\">\n",
              "      <th></th>\n",
              "      <th>missing_values</th>\n",
              "    </tr>\n",
              "  </thead>\n",
              "  <tbody>\n",
              "    <tr>\n",
              "      <th>row_id</th>\n",
              "      <td>0</td>\n",
              "    </tr>\n",
              "    <tr>\n",
              "      <th>timestamp</th>\n",
              "      <td>0</td>\n",
              "    </tr>\n",
              "    <tr>\n",
              "      <th>user_id</th>\n",
              "      <td>0</td>\n",
              "    </tr>\n",
              "    <tr>\n",
              "      <th>content_id</th>\n",
              "      <td>0</td>\n",
              "    </tr>\n",
              "    <tr>\n",
              "      <th>content_type_id</th>\n",
              "      <td>0</td>\n",
              "    </tr>\n",
              "    <tr>\n",
              "      <th>task_container_id</th>\n",
              "      <td>0</td>\n",
              "    </tr>\n",
              "    <tr>\n",
              "      <th>user_answer</th>\n",
              "      <td>0</td>\n",
              "    </tr>\n",
              "    <tr>\n",
              "      <th>answered_correctly</th>\n",
              "      <td>0</td>\n",
              "    </tr>\n",
              "    <tr>\n",
              "      <th>prior_question_elapsed_time</th>\n",
              "      <td>2351538</td>\n",
              "    </tr>\n",
              "    <tr>\n",
              "      <th>prior_question_had_explanation</th>\n",
              "      <td>392506</td>\n",
              "    </tr>\n",
              "  </tbody>\n",
              "</table>\n",
              "</div>\n",
              "    <div class=\"colab-df-buttons\">\n",
              "\n",
              "  <div class=\"colab-df-container\">\n",
              "    <button class=\"colab-df-convert\" onclick=\"convertToInteractive('df-d3044dd1-233b-4f54-ac96-59b109aa3c6a')\"\n",
              "            title=\"Convert this dataframe to an interactive table.\"\n",
              "            style=\"display:none;\">\n",
              "\n",
              "  <svg xmlns=\"http://www.w3.org/2000/svg\" height=\"24px\" viewBox=\"0 -960 960 960\">\n",
              "    <path d=\"M120-120v-720h720v720H120Zm60-500h600v-160H180v160Zm220 220h160v-160H400v160Zm0 220h160v-160H400v160ZM180-400h160v-160H180v160Zm440 0h160v-160H620v160ZM180-180h160v-160H180v160Zm440 0h160v-160H620v160Z\"/>\n",
              "  </svg>\n",
              "    </button>\n",
              "\n",
              "  <style>\n",
              "    .colab-df-container {\n",
              "      display:flex;\n",
              "      gap: 12px;\n",
              "    }\n",
              "\n",
              "    .colab-df-convert {\n",
              "      background-color: #E8F0FE;\n",
              "      border: none;\n",
              "      border-radius: 50%;\n",
              "      cursor: pointer;\n",
              "      display: none;\n",
              "      fill: #1967D2;\n",
              "      height: 32px;\n",
              "      padding: 0 0 0 0;\n",
              "      width: 32px;\n",
              "    }\n",
              "\n",
              "    .colab-df-convert:hover {\n",
              "      background-color: #E2EBFA;\n",
              "      box-shadow: 0px 1px 2px rgba(60, 64, 67, 0.3), 0px 1px 3px 1px rgba(60, 64, 67, 0.15);\n",
              "      fill: #174EA6;\n",
              "    }\n",
              "\n",
              "    .colab-df-buttons div {\n",
              "      margin-bottom: 4px;\n",
              "    }\n",
              "\n",
              "    [theme=dark] .colab-df-convert {\n",
              "      background-color: #3B4455;\n",
              "      fill: #D2E3FC;\n",
              "    }\n",
              "\n",
              "    [theme=dark] .colab-df-convert:hover {\n",
              "      background-color: #434B5C;\n",
              "      box-shadow: 0px 1px 3px 1px rgba(0, 0, 0, 0.15);\n",
              "      filter: drop-shadow(0px 1px 2px rgba(0, 0, 0, 0.3));\n",
              "      fill: #FFFFFF;\n",
              "    }\n",
              "  </style>\n",
              "\n",
              "    <script>\n",
              "      const buttonEl =\n",
              "        document.querySelector('#df-d3044dd1-233b-4f54-ac96-59b109aa3c6a button.colab-df-convert');\n",
              "      buttonEl.style.display =\n",
              "        google.colab.kernel.accessAllowed ? 'block' : 'none';\n",
              "\n",
              "      async function convertToInteractive(key) {\n",
              "        const element = document.querySelector('#df-d3044dd1-233b-4f54-ac96-59b109aa3c6a');\n",
              "        const dataTable =\n",
              "          await google.colab.kernel.invokeFunction('convertToInteractive',\n",
              "                                                    [key], {});\n",
              "        if (!dataTable) return;\n",
              "\n",
              "        const docLinkHtml = 'Like what you see? Visit the ' +\n",
              "          '<a target=\"_blank\" href=https://colab.research.google.com/notebooks/data_table.ipynb>data table notebook</a>'\n",
              "          + ' to learn more about interactive tables.';\n",
              "        element.innerHTML = '';\n",
              "        dataTable['output_type'] = 'display_data';\n",
              "        await google.colab.output.renderOutput(dataTable, element);\n",
              "        const docLink = document.createElement('div');\n",
              "        docLink.innerHTML = docLinkHtml;\n",
              "        element.appendChild(docLink);\n",
              "      }\n",
              "    </script>\n",
              "  </div>\n",
              "\n",
              "\n",
              "<div id=\"df-4c072475-892a-44ef-8580-380db3fdca1d\">\n",
              "  <button class=\"colab-df-quickchart\" onclick=\"quickchart('df-4c072475-892a-44ef-8580-380db3fdca1d')\"\n",
              "            title=\"Suggest charts\"\n",
              "            style=\"display:none;\">\n",
              "\n",
              "<svg xmlns=\"http://www.w3.org/2000/svg\" height=\"24px\"viewBox=\"0 0 24 24\"\n",
              "     width=\"24px\">\n",
              "    <g>\n",
              "        <path d=\"M19 3H5c-1.1 0-2 .9-2 2v14c0 1.1.9 2 2 2h14c1.1 0 2-.9 2-2V5c0-1.1-.9-2-2-2zM9 17H7v-7h2v7zm4 0h-2V7h2v10zm4 0h-2v-4h2v4z\"/>\n",
              "    </g>\n",
              "</svg>\n",
              "  </button>\n",
              "\n",
              "<style>\n",
              "  .colab-df-quickchart {\n",
              "      --bg-color: #E8F0FE;\n",
              "      --fill-color: #1967D2;\n",
              "      --hover-bg-color: #E2EBFA;\n",
              "      --hover-fill-color: #174EA6;\n",
              "      --disabled-fill-color: #AAA;\n",
              "      --disabled-bg-color: #DDD;\n",
              "  }\n",
              "\n",
              "  [theme=dark] .colab-df-quickchart {\n",
              "      --bg-color: #3B4455;\n",
              "      --fill-color: #D2E3FC;\n",
              "      --hover-bg-color: #434B5C;\n",
              "      --hover-fill-color: #FFFFFF;\n",
              "      --disabled-bg-color: #3B4455;\n",
              "      --disabled-fill-color: #666;\n",
              "  }\n",
              "\n",
              "  .colab-df-quickchart {\n",
              "    background-color: var(--bg-color);\n",
              "    border: none;\n",
              "    border-radius: 50%;\n",
              "    cursor: pointer;\n",
              "    display: none;\n",
              "    fill: var(--fill-color);\n",
              "    height: 32px;\n",
              "    padding: 0;\n",
              "    width: 32px;\n",
              "  }\n",
              "\n",
              "  .colab-df-quickchart:hover {\n",
              "    background-color: var(--hover-bg-color);\n",
              "    box-shadow: 0 1px 2px rgba(60, 64, 67, 0.3), 0 1px 3px 1px rgba(60, 64, 67, 0.15);\n",
              "    fill: var(--button-hover-fill-color);\n",
              "  }\n",
              "\n",
              "  .colab-df-quickchart-complete:disabled,\n",
              "  .colab-df-quickchart-complete:disabled:hover {\n",
              "    background-color: var(--disabled-bg-color);\n",
              "    fill: var(--disabled-fill-color);\n",
              "    box-shadow: none;\n",
              "  }\n",
              "\n",
              "  .colab-df-spinner {\n",
              "    border: 2px solid var(--fill-color);\n",
              "    border-color: transparent;\n",
              "    border-bottom-color: var(--fill-color);\n",
              "    animation:\n",
              "      spin 1s steps(1) infinite;\n",
              "  }\n",
              "\n",
              "  @keyframes spin {\n",
              "    0% {\n",
              "      border-color: transparent;\n",
              "      border-bottom-color: var(--fill-color);\n",
              "      border-left-color: var(--fill-color);\n",
              "    }\n",
              "    20% {\n",
              "      border-color: transparent;\n",
              "      border-left-color: var(--fill-color);\n",
              "      border-top-color: var(--fill-color);\n",
              "    }\n",
              "    30% {\n",
              "      border-color: transparent;\n",
              "      border-left-color: var(--fill-color);\n",
              "      border-top-color: var(--fill-color);\n",
              "      border-right-color: var(--fill-color);\n",
              "    }\n",
              "    40% {\n",
              "      border-color: transparent;\n",
              "      border-right-color: var(--fill-color);\n",
              "      border-top-color: var(--fill-color);\n",
              "    }\n",
              "    60% {\n",
              "      border-color: transparent;\n",
              "      border-right-color: var(--fill-color);\n",
              "    }\n",
              "    80% {\n",
              "      border-color: transparent;\n",
              "      border-right-color: var(--fill-color);\n",
              "      border-bottom-color: var(--fill-color);\n",
              "    }\n",
              "    90% {\n",
              "      border-color: transparent;\n",
              "      border-bottom-color: var(--fill-color);\n",
              "    }\n",
              "  }\n",
              "</style>\n",
              "\n",
              "  <script>\n",
              "    async function quickchart(key) {\n",
              "      const quickchartButtonEl =\n",
              "        document.querySelector('#' + key + ' button');\n",
              "      quickchartButtonEl.disabled = true;  // To prevent multiple clicks.\n",
              "      quickchartButtonEl.classList.add('colab-df-spinner');\n",
              "      try {\n",
              "        const charts = await google.colab.kernel.invokeFunction(\n",
              "            'suggestCharts', [key], {});\n",
              "      } catch (error) {\n",
              "        console.error('Error during call to suggestCharts:', error);\n",
              "      }\n",
              "      quickchartButtonEl.classList.remove('colab-df-spinner');\n",
              "      quickchartButtonEl.classList.add('colab-df-quickchart-complete');\n",
              "    }\n",
              "    (() => {\n",
              "      let quickchartButtonEl =\n",
              "        document.querySelector('#df-4c072475-892a-44ef-8580-380db3fdca1d button');\n",
              "      quickchartButtonEl.style.display =\n",
              "        google.colab.kernel.accessAllowed ? 'block' : 'none';\n",
              "    })();\n",
              "  </script>\n",
              "</div>\n",
              "\n",
              "  <div id=\"id_a1476df0-9adc-403d-bc98-fd617ad11963\">\n",
              "    <style>\n",
              "      .colab-df-generate {\n",
              "        background-color: #E8F0FE;\n",
              "        border: none;\n",
              "        border-radius: 50%;\n",
              "        cursor: pointer;\n",
              "        display: none;\n",
              "        fill: #1967D2;\n",
              "        height: 32px;\n",
              "        padding: 0 0 0 0;\n",
              "        width: 32px;\n",
              "      }\n",
              "\n",
              "      .colab-df-generate:hover {\n",
              "        background-color: #E2EBFA;\n",
              "        box-shadow: 0px 1px 2px rgba(60, 64, 67, 0.3), 0px 1px 3px 1px rgba(60, 64, 67, 0.15);\n",
              "        fill: #174EA6;\n",
              "      }\n",
              "\n",
              "      [theme=dark] .colab-df-generate {\n",
              "        background-color: #3B4455;\n",
              "        fill: #D2E3FC;\n",
              "      }\n",
              "\n",
              "      [theme=dark] .colab-df-generate:hover {\n",
              "        background-color: #434B5C;\n",
              "        box-shadow: 0px 1px 3px 1px rgba(0, 0, 0, 0.15);\n",
              "        filter: drop-shadow(0px 1px 2px rgba(0, 0, 0, 0.3));\n",
              "        fill: #FFFFFF;\n",
              "      }\n",
              "    </style>\n",
              "    <button class=\"colab-df-generate\" onclick=\"generateWithVariable('missing_values')\"\n",
              "            title=\"Generate code using this dataframe.\"\n",
              "            style=\"display:none;\">\n",
              "\n",
              "  <svg xmlns=\"http://www.w3.org/2000/svg\" height=\"24px\"viewBox=\"0 0 24 24\"\n",
              "       width=\"24px\">\n",
              "    <path d=\"M7,19H8.4L18.45,9,17,7.55,7,17.6ZM5,21V16.75L18.45,3.32a2,2,0,0,1,2.83,0l1.4,1.43a1.91,1.91,0,0,1,.58,1.4,1.91,1.91,0,0,1-.58,1.4L9.25,21ZM18.45,9,17,7.55Zm-12,3A5.31,5.31,0,0,0,4.9,8.1,5.31,5.31,0,0,0,1,6.5,5.31,5.31,0,0,0,4.9,4.9,5.31,5.31,0,0,0,6.5,1,5.31,5.31,0,0,0,8.1,4.9,5.31,5.31,0,0,0,12,6.5,5.46,5.46,0,0,0,6.5,12Z\"/>\n",
              "  </svg>\n",
              "    </button>\n",
              "    <script>\n",
              "      (() => {\n",
              "      const buttonEl =\n",
              "        document.querySelector('#id_a1476df0-9adc-403d-bc98-fd617ad11963 button.colab-df-generate');\n",
              "      buttonEl.style.display =\n",
              "        google.colab.kernel.accessAllowed ? 'block' : 'none';\n",
              "\n",
              "      buttonEl.onclick = () => {\n",
              "        google.colab.notebook.generateWithVariable('missing_values');\n",
              "      }\n",
              "      })();\n",
              "    </script>\n",
              "  </div>\n",
              "\n",
              "    </div>\n",
              "  </div>\n"
            ],
            "application/vnd.google.colaboratory.intrinsic+json": {
              "type": "dataframe",
              "variable_name": "missing_values",
              "summary": "{\n  \"name\": \"missing_values\",\n  \"rows\": 10,\n  \"fields\": [\n    {\n      \"column\": \"missing_values\",\n      \"properties\": {\n        \"dtype\": \"number\",\n        \"std\": 740181,\n        \"min\": 0,\n        \"max\": 2351538,\n        \"num_unique_values\": 3,\n        \"samples\": [\n          0,\n          2351538,\n          392506\n        ],\n        \"semantic_type\": \"\",\n        \"description\": \"\"\n      }\n    }\n  ]\n}"
            }
          },
          "metadata": {},
          "execution_count": 38
        }
      ]
    },
    {
      "cell_type": "markdown",
      "source": [
        "### questions.csv"
      ],
      "metadata": {
        "id": "t_zLVKvjpENv"
      }
    },
    {
      "cell_type": "code",
      "source": [
        "missing_values = questions_df.isna().sum().to_frame('missing_values')\n",
        "missing_values"
      ],
      "metadata": {
        "colab": {
          "base_uri": "https://localhost:8080/",
          "height": 206
        },
        "id": "YokewP22dM4w",
        "outputId": "d75c08b1-7fe8-46b5-8645-9ae044746272"
      },
      "execution_count": null,
      "outputs": [
        {
          "output_type": "execute_result",
          "data": {
            "text/plain": [
              "                missing_values\n",
              "question_id                  0\n",
              "bundle_id                    0\n",
              "correct_answer               0\n",
              "part                         0\n",
              "tags                         1"
            ],
            "text/html": [
              "\n",
              "  <div id=\"df-10a43e45-aebb-44b9-9469-3d92fa0e3031\" class=\"colab-df-container\">\n",
              "    <div>\n",
              "<style scoped>\n",
              "    .dataframe tbody tr th:only-of-type {\n",
              "        vertical-align: middle;\n",
              "    }\n",
              "\n",
              "    .dataframe tbody tr th {\n",
              "        vertical-align: top;\n",
              "    }\n",
              "\n",
              "    .dataframe thead th {\n",
              "        text-align: right;\n",
              "    }\n",
              "</style>\n",
              "<table border=\"1\" class=\"dataframe\">\n",
              "  <thead>\n",
              "    <tr style=\"text-align: right;\">\n",
              "      <th></th>\n",
              "      <th>missing_values</th>\n",
              "    </tr>\n",
              "  </thead>\n",
              "  <tbody>\n",
              "    <tr>\n",
              "      <th>question_id</th>\n",
              "      <td>0</td>\n",
              "    </tr>\n",
              "    <tr>\n",
              "      <th>bundle_id</th>\n",
              "      <td>0</td>\n",
              "    </tr>\n",
              "    <tr>\n",
              "      <th>correct_answer</th>\n",
              "      <td>0</td>\n",
              "    </tr>\n",
              "    <tr>\n",
              "      <th>part</th>\n",
              "      <td>0</td>\n",
              "    </tr>\n",
              "    <tr>\n",
              "      <th>tags</th>\n",
              "      <td>1</td>\n",
              "    </tr>\n",
              "  </tbody>\n",
              "</table>\n",
              "</div>\n",
              "    <div class=\"colab-df-buttons\">\n",
              "\n",
              "  <div class=\"colab-df-container\">\n",
              "    <button class=\"colab-df-convert\" onclick=\"convertToInteractive('df-10a43e45-aebb-44b9-9469-3d92fa0e3031')\"\n",
              "            title=\"Convert this dataframe to an interactive table.\"\n",
              "            style=\"display:none;\">\n",
              "\n",
              "  <svg xmlns=\"http://www.w3.org/2000/svg\" height=\"24px\" viewBox=\"0 -960 960 960\">\n",
              "    <path d=\"M120-120v-720h720v720H120Zm60-500h600v-160H180v160Zm220 220h160v-160H400v160Zm0 220h160v-160H400v160ZM180-400h160v-160H180v160Zm440 0h160v-160H620v160ZM180-180h160v-160H180v160Zm440 0h160v-160H620v160Z\"/>\n",
              "  </svg>\n",
              "    </button>\n",
              "\n",
              "  <style>\n",
              "    .colab-df-container {\n",
              "      display:flex;\n",
              "      gap: 12px;\n",
              "    }\n",
              "\n",
              "    .colab-df-convert {\n",
              "      background-color: #E8F0FE;\n",
              "      border: none;\n",
              "      border-radius: 50%;\n",
              "      cursor: pointer;\n",
              "      display: none;\n",
              "      fill: #1967D2;\n",
              "      height: 32px;\n",
              "      padding: 0 0 0 0;\n",
              "      width: 32px;\n",
              "    }\n",
              "\n",
              "    .colab-df-convert:hover {\n",
              "      background-color: #E2EBFA;\n",
              "      box-shadow: 0px 1px 2px rgba(60, 64, 67, 0.3), 0px 1px 3px 1px rgba(60, 64, 67, 0.15);\n",
              "      fill: #174EA6;\n",
              "    }\n",
              "\n",
              "    .colab-df-buttons div {\n",
              "      margin-bottom: 4px;\n",
              "    }\n",
              "\n",
              "    [theme=dark] .colab-df-convert {\n",
              "      background-color: #3B4455;\n",
              "      fill: #D2E3FC;\n",
              "    }\n",
              "\n",
              "    [theme=dark] .colab-df-convert:hover {\n",
              "      background-color: #434B5C;\n",
              "      box-shadow: 0px 1px 3px 1px rgba(0, 0, 0, 0.15);\n",
              "      filter: drop-shadow(0px 1px 2px rgba(0, 0, 0, 0.3));\n",
              "      fill: #FFFFFF;\n",
              "    }\n",
              "  </style>\n",
              "\n",
              "    <script>\n",
              "      const buttonEl =\n",
              "        document.querySelector('#df-10a43e45-aebb-44b9-9469-3d92fa0e3031 button.colab-df-convert');\n",
              "      buttonEl.style.display =\n",
              "        google.colab.kernel.accessAllowed ? 'block' : 'none';\n",
              "\n",
              "      async function convertToInteractive(key) {\n",
              "        const element = document.querySelector('#df-10a43e45-aebb-44b9-9469-3d92fa0e3031');\n",
              "        const dataTable =\n",
              "          await google.colab.kernel.invokeFunction('convertToInteractive',\n",
              "                                                    [key], {});\n",
              "        if (!dataTable) return;\n",
              "\n",
              "        const docLinkHtml = 'Like what you see? Visit the ' +\n",
              "          '<a target=\"_blank\" href=https://colab.research.google.com/notebooks/data_table.ipynb>data table notebook</a>'\n",
              "          + ' to learn more about interactive tables.';\n",
              "        element.innerHTML = '';\n",
              "        dataTable['output_type'] = 'display_data';\n",
              "        await google.colab.output.renderOutput(dataTable, element);\n",
              "        const docLink = document.createElement('div');\n",
              "        docLink.innerHTML = docLinkHtml;\n",
              "        element.appendChild(docLink);\n",
              "      }\n",
              "    </script>\n",
              "  </div>\n",
              "\n",
              "\n",
              "<div id=\"df-f129c0bf-1e87-4249-821b-f093a6d99acb\">\n",
              "  <button class=\"colab-df-quickchart\" onclick=\"quickchart('df-f129c0bf-1e87-4249-821b-f093a6d99acb')\"\n",
              "            title=\"Suggest charts\"\n",
              "            style=\"display:none;\">\n",
              "\n",
              "<svg xmlns=\"http://www.w3.org/2000/svg\" height=\"24px\"viewBox=\"0 0 24 24\"\n",
              "     width=\"24px\">\n",
              "    <g>\n",
              "        <path d=\"M19 3H5c-1.1 0-2 .9-2 2v14c0 1.1.9 2 2 2h14c1.1 0 2-.9 2-2V5c0-1.1-.9-2-2-2zM9 17H7v-7h2v7zm4 0h-2V7h2v10zm4 0h-2v-4h2v4z\"/>\n",
              "    </g>\n",
              "</svg>\n",
              "  </button>\n",
              "\n",
              "<style>\n",
              "  .colab-df-quickchart {\n",
              "      --bg-color: #E8F0FE;\n",
              "      --fill-color: #1967D2;\n",
              "      --hover-bg-color: #E2EBFA;\n",
              "      --hover-fill-color: #174EA6;\n",
              "      --disabled-fill-color: #AAA;\n",
              "      --disabled-bg-color: #DDD;\n",
              "  }\n",
              "\n",
              "  [theme=dark] .colab-df-quickchart {\n",
              "      --bg-color: #3B4455;\n",
              "      --fill-color: #D2E3FC;\n",
              "      --hover-bg-color: #434B5C;\n",
              "      --hover-fill-color: #FFFFFF;\n",
              "      --disabled-bg-color: #3B4455;\n",
              "      --disabled-fill-color: #666;\n",
              "  }\n",
              "\n",
              "  .colab-df-quickchart {\n",
              "    background-color: var(--bg-color);\n",
              "    border: none;\n",
              "    border-radius: 50%;\n",
              "    cursor: pointer;\n",
              "    display: none;\n",
              "    fill: var(--fill-color);\n",
              "    height: 32px;\n",
              "    padding: 0;\n",
              "    width: 32px;\n",
              "  }\n",
              "\n",
              "  .colab-df-quickchart:hover {\n",
              "    background-color: var(--hover-bg-color);\n",
              "    box-shadow: 0 1px 2px rgba(60, 64, 67, 0.3), 0 1px 3px 1px rgba(60, 64, 67, 0.15);\n",
              "    fill: var(--button-hover-fill-color);\n",
              "  }\n",
              "\n",
              "  .colab-df-quickchart-complete:disabled,\n",
              "  .colab-df-quickchart-complete:disabled:hover {\n",
              "    background-color: var(--disabled-bg-color);\n",
              "    fill: var(--disabled-fill-color);\n",
              "    box-shadow: none;\n",
              "  }\n",
              "\n",
              "  .colab-df-spinner {\n",
              "    border: 2px solid var(--fill-color);\n",
              "    border-color: transparent;\n",
              "    border-bottom-color: var(--fill-color);\n",
              "    animation:\n",
              "      spin 1s steps(1) infinite;\n",
              "  }\n",
              "\n",
              "  @keyframes spin {\n",
              "    0% {\n",
              "      border-color: transparent;\n",
              "      border-bottom-color: var(--fill-color);\n",
              "      border-left-color: var(--fill-color);\n",
              "    }\n",
              "    20% {\n",
              "      border-color: transparent;\n",
              "      border-left-color: var(--fill-color);\n",
              "      border-top-color: var(--fill-color);\n",
              "    }\n",
              "    30% {\n",
              "      border-color: transparent;\n",
              "      border-left-color: var(--fill-color);\n",
              "      border-top-color: var(--fill-color);\n",
              "      border-right-color: var(--fill-color);\n",
              "    }\n",
              "    40% {\n",
              "      border-color: transparent;\n",
              "      border-right-color: var(--fill-color);\n",
              "      border-top-color: var(--fill-color);\n",
              "    }\n",
              "    60% {\n",
              "      border-color: transparent;\n",
              "      border-right-color: var(--fill-color);\n",
              "    }\n",
              "    80% {\n",
              "      border-color: transparent;\n",
              "      border-right-color: var(--fill-color);\n",
              "      border-bottom-color: var(--fill-color);\n",
              "    }\n",
              "    90% {\n",
              "      border-color: transparent;\n",
              "      border-bottom-color: var(--fill-color);\n",
              "    }\n",
              "  }\n",
              "</style>\n",
              "\n",
              "  <script>\n",
              "    async function quickchart(key) {\n",
              "      const quickchartButtonEl =\n",
              "        document.querySelector('#' + key + ' button');\n",
              "      quickchartButtonEl.disabled = true;  // To prevent multiple clicks.\n",
              "      quickchartButtonEl.classList.add('colab-df-spinner');\n",
              "      try {\n",
              "        const charts = await google.colab.kernel.invokeFunction(\n",
              "            'suggestCharts', [key], {});\n",
              "      } catch (error) {\n",
              "        console.error('Error during call to suggestCharts:', error);\n",
              "      }\n",
              "      quickchartButtonEl.classList.remove('colab-df-spinner');\n",
              "      quickchartButtonEl.classList.add('colab-df-quickchart-complete');\n",
              "    }\n",
              "    (() => {\n",
              "      let quickchartButtonEl =\n",
              "        document.querySelector('#df-f129c0bf-1e87-4249-821b-f093a6d99acb button');\n",
              "      quickchartButtonEl.style.display =\n",
              "        google.colab.kernel.accessAllowed ? 'block' : 'none';\n",
              "    })();\n",
              "  </script>\n",
              "</div>\n",
              "\n",
              "  <div id=\"id_4f316d69-6d05-4cd9-93f2-66c9035f3345\">\n",
              "    <style>\n",
              "      .colab-df-generate {\n",
              "        background-color: #E8F0FE;\n",
              "        border: none;\n",
              "        border-radius: 50%;\n",
              "        cursor: pointer;\n",
              "        display: none;\n",
              "        fill: #1967D2;\n",
              "        height: 32px;\n",
              "        padding: 0 0 0 0;\n",
              "        width: 32px;\n",
              "      }\n",
              "\n",
              "      .colab-df-generate:hover {\n",
              "        background-color: #E2EBFA;\n",
              "        box-shadow: 0px 1px 2px rgba(60, 64, 67, 0.3), 0px 1px 3px 1px rgba(60, 64, 67, 0.15);\n",
              "        fill: #174EA6;\n",
              "      }\n",
              "\n",
              "      [theme=dark] .colab-df-generate {\n",
              "        background-color: #3B4455;\n",
              "        fill: #D2E3FC;\n",
              "      }\n",
              "\n",
              "      [theme=dark] .colab-df-generate:hover {\n",
              "        background-color: #434B5C;\n",
              "        box-shadow: 0px 1px 3px 1px rgba(0, 0, 0, 0.15);\n",
              "        filter: drop-shadow(0px 1px 2px rgba(0, 0, 0, 0.3));\n",
              "        fill: #FFFFFF;\n",
              "      }\n",
              "    </style>\n",
              "    <button class=\"colab-df-generate\" onclick=\"generateWithVariable('missing_values')\"\n",
              "            title=\"Generate code using this dataframe.\"\n",
              "            style=\"display:none;\">\n",
              "\n",
              "  <svg xmlns=\"http://www.w3.org/2000/svg\" height=\"24px\"viewBox=\"0 0 24 24\"\n",
              "       width=\"24px\">\n",
              "    <path d=\"M7,19H8.4L18.45,9,17,7.55,7,17.6ZM5,21V16.75L18.45,3.32a2,2,0,0,1,2.83,0l1.4,1.43a1.91,1.91,0,0,1,.58,1.4,1.91,1.91,0,0,1-.58,1.4L9.25,21ZM18.45,9,17,7.55Zm-12,3A5.31,5.31,0,0,0,4.9,8.1,5.31,5.31,0,0,0,1,6.5,5.31,5.31,0,0,0,4.9,4.9,5.31,5.31,0,0,0,6.5,1,5.31,5.31,0,0,0,8.1,4.9,5.31,5.31,0,0,0,12,6.5,5.46,5.46,0,0,0,6.5,12Z\"/>\n",
              "  </svg>\n",
              "    </button>\n",
              "    <script>\n",
              "      (() => {\n",
              "      const buttonEl =\n",
              "        document.querySelector('#id_4f316d69-6d05-4cd9-93f2-66c9035f3345 button.colab-df-generate');\n",
              "      buttonEl.style.display =\n",
              "        google.colab.kernel.accessAllowed ? 'block' : 'none';\n",
              "\n",
              "      buttonEl.onclick = () => {\n",
              "        google.colab.notebook.generateWithVariable('missing_values');\n",
              "      }\n",
              "      })();\n",
              "    </script>\n",
              "  </div>\n",
              "\n",
              "    </div>\n",
              "  </div>\n"
            ],
            "application/vnd.google.colaboratory.intrinsic+json": {
              "type": "dataframe",
              "variable_name": "missing_values",
              "summary": "{\n  \"name\": \"missing_values\",\n  \"rows\": 5,\n  \"fields\": [\n    {\n      \"column\": \"missing_values\",\n      \"properties\": {\n        \"dtype\": \"number\",\n        \"std\": 0,\n        \"min\": 0,\n        \"max\": 1,\n        \"num_unique_values\": 2,\n        \"samples\": [\n          1,\n          0\n        ],\n        \"semantic_type\": \"\",\n        \"description\": \"\"\n      }\n    }\n  ]\n}"
            }
          },
          "metadata": {},
          "execution_count": 65
        }
      ]
    },
    {
      "cell_type": "code",
      "source": [
        "missing_tag_row = questions_df[questions_df['tags'].isnull()]\n",
        "missing_tag_row"
      ],
      "metadata": {
        "colab": {
          "base_uri": "https://localhost:8080/",
          "height": 89
        },
        "id": "wXb8Sz4npWO2",
        "outputId": "f5b0a656-bd41-4fd4-ebd3-dc774242cbd6"
      },
      "execution_count": null,
      "outputs": [
        {
          "output_type": "execute_result",
          "data": {
            "text/plain": [
              "       question_id  bundle_id  correct_answer  part tags\n",
              "10033        10033      10033               2     6  NaN"
            ],
            "text/html": [
              "\n",
              "  <div id=\"df-6c65c2af-bc32-472a-b2a6-e4294f68e54f\" class=\"colab-df-container\">\n",
              "    <div>\n",
              "<style scoped>\n",
              "    .dataframe tbody tr th:only-of-type {\n",
              "        vertical-align: middle;\n",
              "    }\n",
              "\n",
              "    .dataframe tbody tr th {\n",
              "        vertical-align: top;\n",
              "    }\n",
              "\n",
              "    .dataframe thead th {\n",
              "        text-align: right;\n",
              "    }\n",
              "</style>\n",
              "<table border=\"1\" class=\"dataframe\">\n",
              "  <thead>\n",
              "    <tr style=\"text-align: right;\">\n",
              "      <th></th>\n",
              "      <th>question_id</th>\n",
              "      <th>bundle_id</th>\n",
              "      <th>correct_answer</th>\n",
              "      <th>part</th>\n",
              "      <th>tags</th>\n",
              "    </tr>\n",
              "  </thead>\n",
              "  <tbody>\n",
              "    <tr>\n",
              "      <th>10033</th>\n",
              "      <td>10033</td>\n",
              "      <td>10033</td>\n",
              "      <td>2</td>\n",
              "      <td>6</td>\n",
              "      <td>NaN</td>\n",
              "    </tr>\n",
              "  </tbody>\n",
              "</table>\n",
              "</div>\n",
              "    <div class=\"colab-df-buttons\">\n",
              "\n",
              "  <div class=\"colab-df-container\">\n",
              "    <button class=\"colab-df-convert\" onclick=\"convertToInteractive('df-6c65c2af-bc32-472a-b2a6-e4294f68e54f')\"\n",
              "            title=\"Convert this dataframe to an interactive table.\"\n",
              "            style=\"display:none;\">\n",
              "\n",
              "  <svg xmlns=\"http://www.w3.org/2000/svg\" height=\"24px\" viewBox=\"0 -960 960 960\">\n",
              "    <path d=\"M120-120v-720h720v720H120Zm60-500h600v-160H180v160Zm220 220h160v-160H400v160Zm0 220h160v-160H400v160ZM180-400h160v-160H180v160Zm440 0h160v-160H620v160ZM180-180h160v-160H180v160Zm440 0h160v-160H620v160Z\"/>\n",
              "  </svg>\n",
              "    </button>\n",
              "\n",
              "  <style>\n",
              "    .colab-df-container {\n",
              "      display:flex;\n",
              "      gap: 12px;\n",
              "    }\n",
              "\n",
              "    .colab-df-convert {\n",
              "      background-color: #E8F0FE;\n",
              "      border: none;\n",
              "      border-radius: 50%;\n",
              "      cursor: pointer;\n",
              "      display: none;\n",
              "      fill: #1967D2;\n",
              "      height: 32px;\n",
              "      padding: 0 0 0 0;\n",
              "      width: 32px;\n",
              "    }\n",
              "\n",
              "    .colab-df-convert:hover {\n",
              "      background-color: #E2EBFA;\n",
              "      box-shadow: 0px 1px 2px rgba(60, 64, 67, 0.3), 0px 1px 3px 1px rgba(60, 64, 67, 0.15);\n",
              "      fill: #174EA6;\n",
              "    }\n",
              "\n",
              "    .colab-df-buttons div {\n",
              "      margin-bottom: 4px;\n",
              "    }\n",
              "\n",
              "    [theme=dark] .colab-df-convert {\n",
              "      background-color: #3B4455;\n",
              "      fill: #D2E3FC;\n",
              "    }\n",
              "\n",
              "    [theme=dark] .colab-df-convert:hover {\n",
              "      background-color: #434B5C;\n",
              "      box-shadow: 0px 1px 3px 1px rgba(0, 0, 0, 0.15);\n",
              "      filter: drop-shadow(0px 1px 2px rgba(0, 0, 0, 0.3));\n",
              "      fill: #FFFFFF;\n",
              "    }\n",
              "  </style>\n",
              "\n",
              "    <script>\n",
              "      const buttonEl =\n",
              "        document.querySelector('#df-6c65c2af-bc32-472a-b2a6-e4294f68e54f button.colab-df-convert');\n",
              "      buttonEl.style.display =\n",
              "        google.colab.kernel.accessAllowed ? 'block' : 'none';\n",
              "\n",
              "      async function convertToInteractive(key) {\n",
              "        const element = document.querySelector('#df-6c65c2af-bc32-472a-b2a6-e4294f68e54f');\n",
              "        const dataTable =\n",
              "          await google.colab.kernel.invokeFunction('convertToInteractive',\n",
              "                                                    [key], {});\n",
              "        if (!dataTable) return;\n",
              "\n",
              "        const docLinkHtml = 'Like what you see? Visit the ' +\n",
              "          '<a target=\"_blank\" href=https://colab.research.google.com/notebooks/data_table.ipynb>data table notebook</a>'\n",
              "          + ' to learn more about interactive tables.';\n",
              "        element.innerHTML = '';\n",
              "        dataTable['output_type'] = 'display_data';\n",
              "        await google.colab.output.renderOutput(dataTable, element);\n",
              "        const docLink = document.createElement('div');\n",
              "        docLink.innerHTML = docLinkHtml;\n",
              "        element.appendChild(docLink);\n",
              "      }\n",
              "    </script>\n",
              "  </div>\n",
              "\n",
              "\n",
              "  <div id=\"id_dc415a69-b361-4a93-9563-03ac92a04f4a\">\n",
              "    <style>\n",
              "      .colab-df-generate {\n",
              "        background-color: #E8F0FE;\n",
              "        border: none;\n",
              "        border-radius: 50%;\n",
              "        cursor: pointer;\n",
              "        display: none;\n",
              "        fill: #1967D2;\n",
              "        height: 32px;\n",
              "        padding: 0 0 0 0;\n",
              "        width: 32px;\n",
              "      }\n",
              "\n",
              "      .colab-df-generate:hover {\n",
              "        background-color: #E2EBFA;\n",
              "        box-shadow: 0px 1px 2px rgba(60, 64, 67, 0.3), 0px 1px 3px 1px rgba(60, 64, 67, 0.15);\n",
              "        fill: #174EA6;\n",
              "      }\n",
              "\n",
              "      [theme=dark] .colab-df-generate {\n",
              "        background-color: #3B4455;\n",
              "        fill: #D2E3FC;\n",
              "      }\n",
              "\n",
              "      [theme=dark] .colab-df-generate:hover {\n",
              "        background-color: #434B5C;\n",
              "        box-shadow: 0px 1px 3px 1px rgba(0, 0, 0, 0.15);\n",
              "        filter: drop-shadow(0px 1px 2px rgba(0, 0, 0, 0.3));\n",
              "        fill: #FFFFFF;\n",
              "      }\n",
              "    </style>\n",
              "    <button class=\"colab-df-generate\" onclick=\"generateWithVariable('missing_tag_row')\"\n",
              "            title=\"Generate code using this dataframe.\"\n",
              "            style=\"display:none;\">\n",
              "\n",
              "  <svg xmlns=\"http://www.w3.org/2000/svg\" height=\"24px\"viewBox=\"0 0 24 24\"\n",
              "       width=\"24px\">\n",
              "    <path d=\"M7,19H8.4L18.45,9,17,7.55,7,17.6ZM5,21V16.75L18.45,3.32a2,2,0,0,1,2.83,0l1.4,1.43a1.91,1.91,0,0,1,.58,1.4,1.91,1.91,0,0,1-.58,1.4L9.25,21ZM18.45,9,17,7.55Zm-12,3A5.31,5.31,0,0,0,4.9,8.1,5.31,5.31,0,0,0,1,6.5,5.31,5.31,0,0,0,4.9,4.9,5.31,5.31,0,0,0,6.5,1,5.31,5.31,0,0,0,8.1,4.9,5.31,5.31,0,0,0,12,6.5,5.46,5.46,0,0,0,6.5,12Z\"/>\n",
              "  </svg>\n",
              "    </button>\n",
              "    <script>\n",
              "      (() => {\n",
              "      const buttonEl =\n",
              "        document.querySelector('#id_dc415a69-b361-4a93-9563-03ac92a04f4a button.colab-df-generate');\n",
              "      buttonEl.style.display =\n",
              "        google.colab.kernel.accessAllowed ? 'block' : 'none';\n",
              "\n",
              "      buttonEl.onclick = () => {\n",
              "        google.colab.notebook.generateWithVariable('missing_tag_row');\n",
              "      }\n",
              "      })();\n",
              "    </script>\n",
              "  </div>\n",
              "\n",
              "    </div>\n",
              "  </div>\n"
            ],
            "application/vnd.google.colaboratory.intrinsic+json": {
              "type": "dataframe",
              "variable_name": "missing_tag_row",
              "repr_error": "0"
            }
          },
          "metadata": {},
          "execution_count": 64
        }
      ]
    },
    {
      "cell_type": "markdown",
      "source": [
        "Only 1 missing value for the 'tags' variable - at this size of a dataset, the entire row can probably be deleted, however, as the question_id is related to the same variable in the main dataset, it's important to check what is the reprasentation of this particular question in that dataset.\n"
      ],
      "metadata": {
        "id": "TrW7bKfxpnSm"
      }
    },
    {
      "cell_type": "code",
      "source": [
        "missing_question_id = missing_tag_row['question_id'].iloc[0]  # Extract the question_id\n",
        "question_id_counts = train_df[train_df['content_id'] == missing_question_id].shape[0]\n",
        "\n",
        "print(f\"Occurrences of question_id {missing_question_id}: {question_id_counts}\")"
      ],
      "metadata": {
        "colab": {
          "base_uri": "https://localhost:8080/"
        },
        "id": "sHvw2I6vpOR-",
        "outputId": "7d8a783d-418c-41ca-da41-28801384770e"
      },
      "execution_count": null,
      "outputs": [
        {
          "output_type": "stream",
          "name": "stdout",
          "text": [
            "Occurrences of question_id 10033: 1\n"
          ]
        }
      ]
    },
    {
      "cell_type": "markdown",
      "source": [
        "why are the two codes below not working?"
      ],
      "metadata": {
        "id": "3yO6pBKRthap"
      }
    },
    {
      "cell_type": "code",
      "source": [
        "question_id_counts = train_df.query('content_id == 10033 and answered_correctly != -1').shape[0]"
      ],
      "metadata": {
        "colab": {
          "base_uri": "https://localhost:8080/"
        },
        "id": "6B6Ph5JDwYxm",
        "outputId": "303a0222-173e-43dc-c792-0329f239bd44"
      },
      "execution_count": null,
      "outputs": [
        {
          "output_type": "execute_result",
          "data": {
            "text/plain": [
              "1"
            ]
          },
          "metadata": {},
          "execution_count": 76
        }
      ]
    },
    {
      "cell_type": "code",
      "source": [
        "row = train_df.loc[train_df['content_id'] == 10033]\n",
        "print(row)"
      ],
      "metadata": {
        "colab": {
          "base_uri": "https://localhost:8080/"
        },
        "id": "AxlCZGMauuUN",
        "outputId": "9a8e3941-0c05-4c73-91f4-8065b0baeb1b"
      },
      "execution_count": null,
      "outputs": [
        {
          "output_type": "stream",
          "name": "stdout",
          "text": [
            "            row_id   timestamp     user_id  content_id  content_type_id  \\\n",
            "62750278  62750278  1286282597  1333688829       10033            False   \n",
            "\n",
            "          task_container_id  user_answer  answered_correctly  \\\n",
            "62750278               1127            2                   1   \n",
            "\n",
            "          prior_question_elapsed_time  prior_question_had_explanation  \n",
            "62750278                      35000.0                            True  \n"
          ]
        }
      ]
    },
    {
      "cell_type": "markdown",
      "source": [
        "The question_id 10033 is only found once across the whole train.pkl.gzip dataset with 101+ million rows so it's safe to say we can delete that row from question.csv."
      ],
      "metadata": {
        "id": "L_wGakeYrCcT"
      }
    },
    {
      "cell_type": "code",
      "source": [
        "questions_df = questions_df.dropna(subset=['tags'])  # Drop rows with missing 'tags'"
      ],
      "metadata": {
        "id": "NFshcHyfqw4G"
      },
      "execution_count": null,
      "outputs": []
    },
    {
      "cell_type": "markdown",
      "source": [
        "## Outliers"
      ],
      "metadata": {
        "id": "ETnl_BNVc0EX"
      }
    },
    {
      "cell_type": "code",
      "source": [],
      "metadata": {
        "id": "pRWZ05gbc6hf"
      },
      "execution_count": null,
      "outputs": []
    }
  ]
}